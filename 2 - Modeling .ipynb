{
 "cells": [
  {
   "cell_type": "markdown",
   "metadata": {},
   "source": [
    "# Importing necessary libraries"
   ]
  },
  {
   "cell_type": "code",
   "execution_count": 1,
   "metadata": {
    "ExecuteTime": {
     "end_time": "2021-01-27T20:57:32.001732Z",
     "start_time": "2021-01-27T20:57:29.083932Z"
    }
   },
   "outputs": [
    {
     "name": "stderr",
     "output_type": "stream",
     "text": [
      "Using TensorFlow backend.\n"
     ]
    }
   ],
   "source": [
    "import pandas as pd\n",
    "import numpy as np\n",
    "import matplotlib.pyplot as plt\n",
    "%matplotlib inline\n",
    "import seaborn as sns\n",
    "sns.set_style('darkgrid')\n",
    "import warnings\n",
    "warnings.filterwarnings('ignore')\n",
    "import statsmodels.api as sm\n",
    "import itertools\n",
    "\n",
    "#LSTM modeling libraries\n",
    "from sklearn.preprocessing import MinMaxScaler\n",
    "from sklearn.metrics import mean_squared_error\n",
    "from keras.models import Sequential\n",
    "from keras.layers import LSTM\n",
    "from keras.layers import Dense\n",
    "from keras.layers import Bidirectional\n",
    "from keras.layers import Dropout"
   ]
  },
  {
   "cell_type": "code",
   "execution_count": 2,
   "metadata": {
    "ExecuteTime": {
     "end_time": "2021-01-27T20:57:32.039201Z",
     "start_time": "2021-01-27T20:57:32.003963Z"
    }
   },
   "outputs": [
    {
     "data": {
      "text/html": [
       "<div>\n",
       "<style scoped>\n",
       "    .dataframe tbody tr th:only-of-type {\n",
       "        vertical-align: middle;\n",
       "    }\n",
       "\n",
       "    .dataframe tbody tr th {\n",
       "        vertical-align: top;\n",
       "    }\n",
       "\n",
       "    .dataframe thead th {\n",
       "        text-align: right;\n",
       "    }\n",
       "</style>\n",
       "<table border=\"1\" class=\"dataframe\">\n",
       "  <thead>\n",
       "    <tr style=\"text-align: right;\">\n",
       "      <th></th>\n",
       "      <th>year</th>\n",
       "      <th>acousticness</th>\n",
       "      <th>danceability</th>\n",
       "      <th>duration_ms</th>\n",
       "      <th>energy</th>\n",
       "      <th>loudness</th>\n",
       "      <th>instrumentalness</th>\n",
       "      <th>liveness</th>\n",
       "      <th>speechiness</th>\n",
       "      <th>tempo</th>\n",
       "      <th>valence</th>\n",
       "      <th>popularity</th>\n",
       "      <th>key</th>\n",
       "    </tr>\n",
       "  </thead>\n",
       "  <tbody>\n",
       "    <tr>\n",
       "      <td>95</td>\n",
       "      <td>2016</td>\n",
       "      <td>0.1530</td>\n",
       "      <td>0.6130</td>\n",
       "      <td>215440.0</td>\n",
       "      <td>0.6180</td>\n",
       "      <td>-6.6090</td>\n",
       "      <td>0.000002</td>\n",
       "      <td>0.121</td>\n",
       "      <td>0.05760</td>\n",
       "      <td>119.9060</td>\n",
       "      <td>0.4090</td>\n",
       "      <td>61.0</td>\n",
       "      <td>0</td>\n",
       "    </tr>\n",
       "    <tr>\n",
       "      <td>96</td>\n",
       "      <td>2017</td>\n",
       "      <td>0.1720</td>\n",
       "      <td>0.6400</td>\n",
       "      <td>209132.0</td>\n",
       "      <td>0.6085</td>\n",
       "      <td>-6.8080</td>\n",
       "      <td>0.000002</td>\n",
       "      <td>0.125</td>\n",
       "      <td>0.06240</td>\n",
       "      <td>117.2825</td>\n",
       "      <td>0.4065</td>\n",
       "      <td>64.0</td>\n",
       "      <td>1</td>\n",
       "    </tr>\n",
       "    <tr>\n",
       "      <td>97</td>\n",
       "      <td>2018</td>\n",
       "      <td>0.1710</td>\n",
       "      <td>0.6870</td>\n",
       "      <td>199560.0</td>\n",
       "      <td>0.6030</td>\n",
       "      <td>-6.3720</td>\n",
       "      <td>0.000000</td>\n",
       "      <td>0.120</td>\n",
       "      <td>0.06975</td>\n",
       "      <td>121.1435</td>\n",
       "      <td>0.4390</td>\n",
       "      <td>66.0</td>\n",
       "      <td>1</td>\n",
       "    </tr>\n",
       "    <tr>\n",
       "      <td>98</td>\n",
       "      <td>2019</td>\n",
       "      <td>0.1785</td>\n",
       "      <td>0.6790</td>\n",
       "      <td>194044.0</td>\n",
       "      <td>0.6200</td>\n",
       "      <td>-6.3295</td>\n",
       "      <td>0.000000</td>\n",
       "      <td>0.118</td>\n",
       "      <td>0.06840</td>\n",
       "      <td>118.0425</td>\n",
       "      <td>0.4690</td>\n",
       "      <td>68.5</td>\n",
       "      <td>1</td>\n",
       "    </tr>\n",
       "    <tr>\n",
       "      <td>99</td>\n",
       "      <td>2020</td>\n",
       "      <td>0.1490</td>\n",
       "      <td>0.6925</td>\n",
       "      <td>193467.0</td>\n",
       "      <td>0.6265</td>\n",
       "      <td>-6.3330</td>\n",
       "      <td>0.000000</td>\n",
       "      <td>0.122</td>\n",
       "      <td>0.08310</td>\n",
       "      <td>121.9415</td>\n",
       "      <td>0.4850</td>\n",
       "      <td>68.0</td>\n",
       "      <td>1</td>\n",
       "    </tr>\n",
       "  </tbody>\n",
       "</table>\n",
       "</div>"
      ],
      "text/plain": [
       "    year  acousticness  danceability  duration_ms  energy  loudness  \\\n",
       "95  2016        0.1530        0.6130     215440.0  0.6180   -6.6090   \n",
       "96  2017        0.1720        0.6400     209132.0  0.6085   -6.8080   \n",
       "97  2018        0.1710        0.6870     199560.0  0.6030   -6.3720   \n",
       "98  2019        0.1785        0.6790     194044.0  0.6200   -6.3295   \n",
       "99  2020        0.1490        0.6925     193467.0  0.6265   -6.3330   \n",
       "\n",
       "    instrumentalness  liveness  speechiness     tempo  valence  popularity  \\\n",
       "95          0.000002     0.121      0.05760  119.9060   0.4090        61.0   \n",
       "96          0.000002     0.125      0.06240  117.2825   0.4065        64.0   \n",
       "97          0.000000     0.120      0.06975  121.1435   0.4390        66.0   \n",
       "98          0.000000     0.118      0.06840  118.0425   0.4690        68.5   \n",
       "99          0.000000     0.122      0.08310  121.9415   0.4850        68.0   \n",
       "\n",
       "    key  \n",
       "95    0  \n",
       "96    1  \n",
       "97    1  \n",
       "98    1  \n",
       "99    1  "
      ]
     },
     "execution_count": 2,
     "metadata": {},
     "output_type": "execute_result"
    }
   ],
   "source": [
    "yearly_df = pd.read_csv('Datasets/yearly_merged.csv')\n",
    "yearly_df.tail()"
   ]
  },
  {
   "cell_type": "code",
   "execution_count": 3,
   "metadata": {
    "ExecuteTime": {
     "end_time": "2021-01-27T20:57:32.047253Z",
     "start_time": "2021-01-27T20:57:32.041257Z"
    }
   },
   "outputs": [
    {
     "data": {
      "text/plain": [
       "0     1921\n",
       "1     1922\n",
       "2     1923\n",
       "3     1924\n",
       "4     1925\n",
       "      ... \n",
       "95    2016\n",
       "96    2017\n",
       "97    2018\n",
       "98    2019\n",
       "99    2020\n",
       "Name: year, Length: 100, dtype: int64"
      ]
     },
     "execution_count": 3,
     "metadata": {},
     "output_type": "execute_result"
    }
   ],
   "source": [
    "yearly_df['year']"
   ]
  },
  {
   "cell_type": "markdown",
   "metadata": {},
   "source": [
    "Let's now convert our year column to datetime format and set it as the index."
   ]
  },
  {
   "cell_type": "code",
   "execution_count": 4,
   "metadata": {
    "ExecuteTime": {
     "end_time": "2021-01-27T20:57:32.071389Z",
     "start_time": "2021-01-27T20:57:32.049033Z"
    },
    "scrolled": true
   },
   "outputs": [
    {
     "data": {
      "text/html": [
       "<div>\n",
       "<style scoped>\n",
       "    .dataframe tbody tr th:only-of-type {\n",
       "        vertical-align: middle;\n",
       "    }\n",
       "\n",
       "    .dataframe tbody tr th {\n",
       "        vertical-align: top;\n",
       "    }\n",
       "\n",
       "    .dataframe thead th {\n",
       "        text-align: right;\n",
       "    }\n",
       "</style>\n",
       "<table border=\"1\" class=\"dataframe\">\n",
       "  <thead>\n",
       "    <tr style=\"text-align: right;\">\n",
       "      <th></th>\n",
       "      <th>acousticness</th>\n",
       "      <th>danceability</th>\n",
       "      <th>duration_ms</th>\n",
       "      <th>energy</th>\n",
       "      <th>loudness</th>\n",
       "      <th>instrumentalness</th>\n",
       "      <th>liveness</th>\n",
       "      <th>speechiness</th>\n",
       "      <th>tempo</th>\n",
       "      <th>valence</th>\n",
       "      <th>popularity</th>\n",
       "      <th>key</th>\n",
       "    </tr>\n",
       "    <tr>\n",
       "      <th>year</th>\n",
       "      <th></th>\n",
       "      <th></th>\n",
       "      <th></th>\n",
       "      <th></th>\n",
       "      <th></th>\n",
       "      <th></th>\n",
       "      <th></th>\n",
       "      <th></th>\n",
       "      <th></th>\n",
       "      <th></th>\n",
       "      <th></th>\n",
       "      <th></th>\n",
       "    </tr>\n",
       "  </thead>\n",
       "  <tbody>\n",
       "    <tr>\n",
       "      <td>1921-01-01</td>\n",
       "      <td>0.990</td>\n",
       "      <td>0.4115</td>\n",
       "      <td>178040.0</td>\n",
       "      <td>0.2205</td>\n",
       "      <td>-16.0000</td>\n",
       "      <td>0.0287</td>\n",
       "      <td>0.1655</td>\n",
       "      <td>0.04595</td>\n",
       "      <td>92.1440</td>\n",
       "      <td>0.4545</td>\n",
       "      <td>0.0</td>\n",
       "      <td>7</td>\n",
       "    </tr>\n",
       "    <tr>\n",
       "      <td>1922-01-01</td>\n",
       "      <td>0.994</td>\n",
       "      <td>0.4895</td>\n",
       "      <td>168053.5</td>\n",
       "      <td>0.2010</td>\n",
       "      <td>-18.6210</td>\n",
       "      <td>0.3245</td>\n",
       "      <td>0.1575</td>\n",
       "      <td>0.06665</td>\n",
       "      <td>89.6905</td>\n",
       "      <td>0.5490</td>\n",
       "      <td>0.0</td>\n",
       "      <td>10</td>\n",
       "    </tr>\n",
       "    <tr>\n",
       "      <td>1923-01-01</td>\n",
       "      <td>0.992</td>\n",
       "      <td>0.5765</td>\n",
       "      <td>180347.0</td>\n",
       "      <td>0.2465</td>\n",
       "      <td>-13.9605</td>\n",
       "      <td>0.2180</td>\n",
       "      <td>0.1725</td>\n",
       "      <td>0.06775</td>\n",
       "      <td>108.3805</td>\n",
       "      <td>0.6115</td>\n",
       "      <td>4.0</td>\n",
       "      <td>0</td>\n",
       "    </tr>\n",
       "    <tr>\n",
       "      <td>1924-01-01</td>\n",
       "      <td>0.994</td>\n",
       "      <td>0.5650</td>\n",
       "      <td>173786.5</td>\n",
       "      <td>0.3250</td>\n",
       "      <td>-13.8420</td>\n",
       "      <td>0.8440</td>\n",
       "      <td>0.1855</td>\n",
       "      <td>0.06550</td>\n",
       "      <td>118.3225</td>\n",
       "      <td>0.6995</td>\n",
       "      <td>0.0</td>\n",
       "      <td>10</td>\n",
       "    </tr>\n",
       "    <tr>\n",
       "      <td>1925-01-01</td>\n",
       "      <td>0.989</td>\n",
       "      <td>0.5750</td>\n",
       "      <td>179360.0</td>\n",
       "      <td>0.2390</td>\n",
       "      <td>-13.5520</td>\n",
       "      <td>0.1740</td>\n",
       "      <td>0.1550</td>\n",
       "      <td>0.07560</td>\n",
       "      <td>114.0380</td>\n",
       "      <td>0.6590</td>\n",
       "      <td>0.0</td>\n",
       "      <td>5</td>\n",
       "    </tr>\n",
       "  </tbody>\n",
       "</table>\n",
       "</div>"
      ],
      "text/plain": [
       "            acousticness  danceability  duration_ms  energy  loudness  \\\n",
       "year                                                                    \n",
       "1921-01-01         0.990        0.4115     178040.0  0.2205  -16.0000   \n",
       "1922-01-01         0.994        0.4895     168053.5  0.2010  -18.6210   \n",
       "1923-01-01         0.992        0.5765     180347.0  0.2465  -13.9605   \n",
       "1924-01-01         0.994        0.5650     173786.5  0.3250  -13.8420   \n",
       "1925-01-01         0.989        0.5750     179360.0  0.2390  -13.5520   \n",
       "\n",
       "            instrumentalness  liveness  speechiness     tempo  valence  \\\n",
       "year                                                                     \n",
       "1921-01-01            0.0287    0.1655      0.04595   92.1440   0.4545   \n",
       "1922-01-01            0.3245    0.1575      0.06665   89.6905   0.5490   \n",
       "1923-01-01            0.2180    0.1725      0.06775  108.3805   0.6115   \n",
       "1924-01-01            0.8440    0.1855      0.06550  118.3225   0.6995   \n",
       "1925-01-01            0.1740    0.1550      0.07560  114.0380   0.6590   \n",
       "\n",
       "            popularity  key  \n",
       "year                         \n",
       "1921-01-01         0.0    7  \n",
       "1922-01-01         0.0   10  \n",
       "1923-01-01         4.0    0  \n",
       "1924-01-01         0.0   10  \n",
       "1925-01-01         0.0    5  "
      ]
     },
     "execution_count": 4,
     "metadata": {},
     "output_type": "execute_result"
    }
   ],
   "source": [
    "yearly_df['year'] = pd.to_datetime(yearly_df['year'], format='%Y')\n",
    "yearly_df.set_index('year', inplace=True) \n",
    "yearly_df.head()"
   ]
  },
  {
   "cell_type": "code",
   "execution_count": 5,
   "metadata": {
    "ExecuteTime": {
     "end_time": "2021-01-27T20:57:32.088899Z",
     "start_time": "2021-01-27T20:57:32.072680Z"
    }
   },
   "outputs": [
    {
     "data": {
      "text/html": [
       "<div>\n",
       "<style scoped>\n",
       "    .dataframe tbody tr th:only-of-type {\n",
       "        vertical-align: middle;\n",
       "    }\n",
       "\n",
       "    .dataframe tbody tr th {\n",
       "        vertical-align: top;\n",
       "    }\n",
       "\n",
       "    .dataframe thead th {\n",
       "        text-align: right;\n",
       "    }\n",
       "</style>\n",
       "<table border=\"1\" class=\"dataframe\">\n",
       "  <thead>\n",
       "    <tr style=\"text-align: right;\">\n",
       "      <th></th>\n",
       "      <th>acousticness</th>\n",
       "      <th>danceability</th>\n",
       "      <th>duration_ms</th>\n",
       "      <th>energy</th>\n",
       "      <th>loudness</th>\n",
       "      <th>instrumentalness</th>\n",
       "      <th>liveness</th>\n",
       "      <th>speechiness</th>\n",
       "      <th>tempo</th>\n",
       "      <th>valence</th>\n",
       "      <th>popularity</th>\n",
       "      <th>key</th>\n",
       "    </tr>\n",
       "    <tr>\n",
       "      <th>year</th>\n",
       "      <th></th>\n",
       "      <th></th>\n",
       "      <th></th>\n",
       "      <th></th>\n",
       "      <th></th>\n",
       "      <th></th>\n",
       "      <th></th>\n",
       "      <th></th>\n",
       "      <th></th>\n",
       "      <th></th>\n",
       "      <th></th>\n",
       "      <th></th>\n",
       "    </tr>\n",
       "  </thead>\n",
       "  <tbody>\n",
       "    <tr>\n",
       "      <td>1921-01-01</td>\n",
       "      <td>0.9900</td>\n",
       "      <td>0.4115</td>\n",
       "      <td>178040.0</td>\n",
       "      <td>0.2205</td>\n",
       "      <td>-16.0000</td>\n",
       "      <td>0.028700</td>\n",
       "      <td>0.1655</td>\n",
       "      <td>0.04595</td>\n",
       "      <td>92.1440</td>\n",
       "      <td>0.4545</td>\n",
       "      <td>0.0</td>\n",
       "      <td>7</td>\n",
       "    </tr>\n",
       "    <tr>\n",
       "      <td>1922-01-01</td>\n",
       "      <td>0.9940</td>\n",
       "      <td>0.4895</td>\n",
       "      <td>168053.5</td>\n",
       "      <td>0.2010</td>\n",
       "      <td>-18.6210</td>\n",
       "      <td>0.324500</td>\n",
       "      <td>0.1575</td>\n",
       "      <td>0.06665</td>\n",
       "      <td>89.6905</td>\n",
       "      <td>0.5490</td>\n",
       "      <td>0.0</td>\n",
       "      <td>10</td>\n",
       "    </tr>\n",
       "    <tr>\n",
       "      <td>1923-01-01</td>\n",
       "      <td>0.9920</td>\n",
       "      <td>0.5765</td>\n",
       "      <td>180347.0</td>\n",
       "      <td>0.2465</td>\n",
       "      <td>-13.9605</td>\n",
       "      <td>0.218000</td>\n",
       "      <td>0.1725</td>\n",
       "      <td>0.06775</td>\n",
       "      <td>108.3805</td>\n",
       "      <td>0.6115</td>\n",
       "      <td>4.0</td>\n",
       "      <td>0</td>\n",
       "    </tr>\n",
       "    <tr>\n",
       "      <td>1924-01-01</td>\n",
       "      <td>0.9940</td>\n",
       "      <td>0.5650</td>\n",
       "      <td>173786.5</td>\n",
       "      <td>0.3250</td>\n",
       "      <td>-13.8420</td>\n",
       "      <td>0.844000</td>\n",
       "      <td>0.1855</td>\n",
       "      <td>0.06550</td>\n",
       "      <td>118.3225</td>\n",
       "      <td>0.6995</td>\n",
       "      <td>0.0</td>\n",
       "      <td>10</td>\n",
       "    </tr>\n",
       "    <tr>\n",
       "      <td>1925-01-01</td>\n",
       "      <td>0.9890</td>\n",
       "      <td>0.5750</td>\n",
       "      <td>179360.0</td>\n",
       "      <td>0.2390</td>\n",
       "      <td>-13.5520</td>\n",
       "      <td>0.174000</td>\n",
       "      <td>0.1550</td>\n",
       "      <td>0.07560</td>\n",
       "      <td>114.0380</td>\n",
       "      <td>0.6590</td>\n",
       "      <td>0.0</td>\n",
       "      <td>5</td>\n",
       "    </tr>\n",
       "    <tr>\n",
       "      <td>...</td>\n",
       "      <td>...</td>\n",
       "      <td>...</td>\n",
       "      <td>...</td>\n",
       "      <td>...</td>\n",
       "      <td>...</td>\n",
       "      <td>...</td>\n",
       "      <td>...</td>\n",
       "      <td>...</td>\n",
       "      <td>...</td>\n",
       "      <td>...</td>\n",
       "      <td>...</td>\n",
       "      <td>...</td>\n",
       "    </tr>\n",
       "    <tr>\n",
       "      <td>2016-01-01</td>\n",
       "      <td>0.1530</td>\n",
       "      <td>0.6130</td>\n",
       "      <td>215440.0</td>\n",
       "      <td>0.6180</td>\n",
       "      <td>-6.6090</td>\n",
       "      <td>0.000002</td>\n",
       "      <td>0.1210</td>\n",
       "      <td>0.05760</td>\n",
       "      <td>119.9060</td>\n",
       "      <td>0.4090</td>\n",
       "      <td>61.0</td>\n",
       "      <td>0</td>\n",
       "    </tr>\n",
       "    <tr>\n",
       "      <td>2017-01-01</td>\n",
       "      <td>0.1720</td>\n",
       "      <td>0.6400</td>\n",
       "      <td>209132.0</td>\n",
       "      <td>0.6085</td>\n",
       "      <td>-6.8080</td>\n",
       "      <td>0.000002</td>\n",
       "      <td>0.1250</td>\n",
       "      <td>0.06240</td>\n",
       "      <td>117.2825</td>\n",
       "      <td>0.4065</td>\n",
       "      <td>64.0</td>\n",
       "      <td>1</td>\n",
       "    </tr>\n",
       "    <tr>\n",
       "      <td>2018-01-01</td>\n",
       "      <td>0.1710</td>\n",
       "      <td>0.6870</td>\n",
       "      <td>199560.0</td>\n",
       "      <td>0.6030</td>\n",
       "      <td>-6.3720</td>\n",
       "      <td>0.000000</td>\n",
       "      <td>0.1200</td>\n",
       "      <td>0.06975</td>\n",
       "      <td>121.1435</td>\n",
       "      <td>0.4390</td>\n",
       "      <td>66.0</td>\n",
       "      <td>1</td>\n",
       "    </tr>\n",
       "    <tr>\n",
       "      <td>2019-01-01</td>\n",
       "      <td>0.1785</td>\n",
       "      <td>0.6790</td>\n",
       "      <td>194044.0</td>\n",
       "      <td>0.6200</td>\n",
       "      <td>-6.3295</td>\n",
       "      <td>0.000000</td>\n",
       "      <td>0.1180</td>\n",
       "      <td>0.06840</td>\n",
       "      <td>118.0425</td>\n",
       "      <td>0.4690</td>\n",
       "      <td>68.5</td>\n",
       "      <td>1</td>\n",
       "    </tr>\n",
       "    <tr>\n",
       "      <td>2020-01-01</td>\n",
       "      <td>0.1490</td>\n",
       "      <td>0.6925</td>\n",
       "      <td>193467.0</td>\n",
       "      <td>0.6265</td>\n",
       "      <td>-6.3330</td>\n",
       "      <td>0.000000</td>\n",
       "      <td>0.1220</td>\n",
       "      <td>0.08310</td>\n",
       "      <td>121.9415</td>\n",
       "      <td>0.4850</td>\n",
       "      <td>68.0</td>\n",
       "      <td>1</td>\n",
       "    </tr>\n",
       "  </tbody>\n",
       "</table>\n",
       "<p>100 rows × 12 columns</p>\n",
       "</div>"
      ],
      "text/plain": [
       "            acousticness  danceability  duration_ms  energy  loudness  \\\n",
       "year                                                                    \n",
       "1921-01-01        0.9900        0.4115     178040.0  0.2205  -16.0000   \n",
       "1922-01-01        0.9940        0.4895     168053.5  0.2010  -18.6210   \n",
       "1923-01-01        0.9920        0.5765     180347.0  0.2465  -13.9605   \n",
       "1924-01-01        0.9940        0.5650     173786.5  0.3250  -13.8420   \n",
       "1925-01-01        0.9890        0.5750     179360.0  0.2390  -13.5520   \n",
       "...                  ...           ...          ...     ...       ...   \n",
       "2016-01-01        0.1530        0.6130     215440.0  0.6180   -6.6090   \n",
       "2017-01-01        0.1720        0.6400     209132.0  0.6085   -6.8080   \n",
       "2018-01-01        0.1710        0.6870     199560.0  0.6030   -6.3720   \n",
       "2019-01-01        0.1785        0.6790     194044.0  0.6200   -6.3295   \n",
       "2020-01-01        0.1490        0.6925     193467.0  0.6265   -6.3330   \n",
       "\n",
       "            instrumentalness  liveness  speechiness     tempo  valence  \\\n",
       "year                                                                     \n",
       "1921-01-01          0.028700    0.1655      0.04595   92.1440   0.4545   \n",
       "1922-01-01          0.324500    0.1575      0.06665   89.6905   0.5490   \n",
       "1923-01-01          0.218000    0.1725      0.06775  108.3805   0.6115   \n",
       "1924-01-01          0.844000    0.1855      0.06550  118.3225   0.6995   \n",
       "1925-01-01          0.174000    0.1550      0.07560  114.0380   0.6590   \n",
       "...                      ...       ...          ...       ...      ...   \n",
       "2016-01-01          0.000002    0.1210      0.05760  119.9060   0.4090   \n",
       "2017-01-01          0.000002    0.1250      0.06240  117.2825   0.4065   \n",
       "2018-01-01          0.000000    0.1200      0.06975  121.1435   0.4390   \n",
       "2019-01-01          0.000000    0.1180      0.06840  118.0425   0.4690   \n",
       "2020-01-01          0.000000    0.1220      0.08310  121.9415   0.4850   \n",
       "\n",
       "            popularity  key  \n",
       "year                         \n",
       "1921-01-01         0.0    7  \n",
       "1922-01-01         0.0   10  \n",
       "1923-01-01         4.0    0  \n",
       "1924-01-01         0.0   10  \n",
       "1925-01-01         0.0    5  \n",
       "...                ...  ...  \n",
       "2016-01-01        61.0    0  \n",
       "2017-01-01        64.0    1  \n",
       "2018-01-01        66.0    1  \n",
       "2019-01-01        68.5    1  \n",
       "2020-01-01        68.0    1  \n",
       "\n",
       "[100 rows x 12 columns]"
      ]
     },
     "execution_count": 5,
     "metadata": {},
     "output_type": "execute_result"
    }
   ],
   "source": [
    "\n",
    "yearly_df"
   ]
  },
  {
   "cell_type": "code",
   "execution_count": 6,
   "metadata": {
    "ExecuteTime": {
     "end_time": "2021-01-27T20:57:32.520922Z",
     "start_time": "2021-01-27T20:57:32.090123Z"
    }
   },
   "outputs": [
    {
     "data": {
      "image/png": "[encoded data removed]",
      "text/plain": [
       "<Figure size 1296x720 with 1 Axes>"
      ]
     },
     "metadata": {
      "needs_background": "light"
     },
     "output_type": "display_data"
    }
   ],
   "source": [
    "yearly_df.acousticness.plot(figsize = (18,10))\n",
    "plt.xlabel('Median Acousticness', fontsize=14)\n",
    "plt.ylabel('Year', fontsize=14)\n",
    "plt.savefig('Images/acousticness_time.png');"
   ]
  },
  {
   "cell_type": "markdown",
   "metadata": {},
   "source": [
    "Let's take a look at the rolling mean and standard deviation of acousticness, using a window of 6 steps (6 years)."
   ]
  },
  {
   "cell_type": "code",
   "execution_count": 7,
   "metadata": {
    "ExecuteTime": {
     "end_time": "2021-01-27T20:57:32.712855Z",
     "start_time": "2021-01-27T20:57:32.523093Z"
    },
    "scrolled": false
   },
   "outputs": [
    {
     "data": {
      "image/png": "[encoded data removed]",
      "text/plain": [
       "<Figure size 1008x504 with 1 Axes>"
      ]
     },
     "metadata": {
      "needs_background": "light"
     },
     "output_type": "display_data"
    }
   ],
   "source": [
    "roll_mean = yearly_df.acousticness.rolling(window=6, center=False).mean()\n",
    "roll_std = yearly_df.acousticness.rolling(window=6, center=False).std()\n",
    "\n",
    "fig = plt.figure(figsize=(14,7))\n",
    "plt.plot(roll_std, color='black', label = 'Rolling Std')\n",
    "plt.plot(roll_mean, color='blue', label = 'Rolling Mean')\n",
    "plt.legend(loc='best')\n",
    "plt.title('Rolling mean and std Over Time', size=14)\n",
    "plt.show(block=False)"
   ]
  },
  {
   "cell_type": "markdown",
   "metadata": {},
   "source": [
    "The rolling average is as expected, with total acousticness in heavy decline during 60's, 70's and 80's. The standard deviation shows greater volatility during this time."
   ]
  },
  {
   "cell_type": "markdown",
   "metadata": {},
   "source": [
    "Let's now decompose acousticness just to see what the residuals are like."
   ]
  },
  {
   "cell_type": "code",
   "execution_count": 8,
   "metadata": {
    "ExecuteTime": {
     "end_time": "2021-01-27T20:57:33.673316Z",
     "start_time": "2021-01-27T20:57:32.714784Z"
    },
    "scrolled": false
   },
   "outputs": [
    {
     "data": {
      "image/png": "[encoded data removed]",
      "text/plain": [
       "<Figure size 864x576 with 4 Axes>"
      ]
     },
     "metadata": {
      "needs_background": "light"
     },
     "output_type": "display_data"
    }
   ],
   "source": [
    "# Import and apply seasonal_decompose()\n",
    "from statsmodels.tsa.seasonal import seasonal_decompose\n",
    "decomposition = seasonal_decompose(yearly_df.acousticness)\n",
    "\n",
    "# Gather the trend, seasonality, and residuals \n",
    "trend = decomposition.trend\n",
    "seasonal = decomposition.seasonal\n",
    "residual = decomposition.resid\n",
    "\n",
    "# Plot gathered statistics\n",
    "plt.figure(figsize=(12,8))\n",
    "plt.subplot(411)\n",
    "plt.plot(yearly_df.acousticness, label='Original', color='blue')\n",
    "plt.legend(loc='best')\n",
    "plt.subplot(412)\n",
    "plt.plot(trend, label='Trend', color='blue')\n",
    "plt.legend(loc='best')\n",
    "plt.subplot(413)\n",
    "plt.plot(seasonal,label='Seasonality', color='blue')\n",
    "plt.legend(loc='best')\n",
    "plt.subplot(414)\n",
    "plt.plot(residual, label='Residuals', color='blue')\n",
    "plt.legend(loc='best')\n",
    "plt.tight_layout()\n",
    "plt.savefig('Acousticness_decomposition.png')"
   ]
  },
  {
   "cell_type": "markdown",
   "metadata": {},
   "source": [
    "Residuals are completely absent. This could be due to the fact that we only have yearly data points."
   ]
  },
  {
   "cell_type": "markdown",
   "metadata": {},
   "source": [
    "Let's now make our trend stationary and get plots for the ACF and PACF. "
   ]
  },
  {
   "cell_type": "code",
   "execution_count": 9,
   "metadata": {
    "ExecuteTime": {
     "end_time": "2021-01-27T20:57:33.680387Z",
     "start_time": "2021-01-27T20:57:33.675112Z"
    }
   },
   "outputs": [
    {
     "data": {
      "text/plain": [
       "year\n",
       "1921-01-01    0.9900\n",
       "1922-01-01    0.9940\n",
       "1923-01-01    0.9920\n",
       "1924-01-01    0.9940\n",
       "1925-01-01    0.9890\n",
       "               ...  \n",
       "2016-01-01    0.1530\n",
       "2017-01-01    0.1720\n",
       "2018-01-01    0.1710\n",
       "2019-01-01    0.1785\n",
       "2020-01-01    0.1490\n",
       "Name: acousticness, Length: 100, dtype: float64"
      ]
     },
     "execution_count": 9,
     "metadata": {},
     "output_type": "execute_result"
    }
   ],
   "source": [
    "yearly_df.acousticness"
   ]
  },
  {
   "cell_type": "code",
   "execution_count": 10,
   "metadata": {
    "ExecuteTime": {
     "end_time": "2021-01-27T20:57:33.686618Z",
     "start_time": "2021-01-27T20:57:33.681742Z"
    },
    "scrolled": true
   },
   "outputs": [
    {
     "data": {
      "text/plain": [
       "year\n",
       "1922-01-01    0.0040\n",
       "1923-01-01   -0.0020\n",
       "1924-01-01    0.0020\n",
       "1925-01-01   -0.0050\n",
       "1926-01-01    0.0030\n",
       "               ...  \n",
       "2016-01-01    0.0330\n",
       "2017-01-01    0.0190\n",
       "2018-01-01   -0.0010\n",
       "2019-01-01    0.0075\n",
       "2020-01-01   -0.0295\n",
       "Name: acousticness, Length: 99, dtype: float64"
      ]
     },
     "execution_count": 10,
     "metadata": {},
     "output_type": "execute_result"
    }
   ],
   "source": [
    "data_diff = yearly_df.acousticness.diff().dropna() #1-lag differencing, notice the start year\n",
    "data_diff"
   ]
  },
  {
   "cell_type": "code",
   "execution_count": 11,
   "metadata": {
    "ExecuteTime": {
     "end_time": "2021-01-27T20:57:34.000069Z",
     "start_time": "2021-01-27T20:57:33.687681Z"
    },
    "scrolled": false
   },
   "outputs": [
    {
     "data": {
      "image/png": "[encoded data removed]",
      "text/plain": [
       "<Figure size 576x216 with 1 Axes>"
      ]
     },
     "metadata": {
      "needs_background": "light"
     },
     "output_type": "display_data"
    }
   ],
   "source": [
    "# Plot the ACF, shows us how many MA terms are required to remove any autocorrelation in the stationarized series.\n",
    "from statsmodels.graphics.tsaplots import plot_acf\n",
    "fig, ax = plt.subplots(figsize=(8,3))\n",
    "plot_acf(data_diff,ax=ax, lags=20)\n",
    "plt.savefig('Images/ACF_acousticness.png');"
   ]
  },
  {
   "cell_type": "markdown",
   "metadata": {},
   "source": [
    "MA seems to be 1."
   ]
  },
  {
   "cell_type": "markdown",
   "metadata": {},
   "source": [
    "we initially take the order of AR term to be equal to as many lags that crosses the significance limit in the PACF plot"
   ]
  },
  {
   "cell_type": "code",
   "execution_count": 12,
   "metadata": {
    "ExecuteTime": {
     "end_time": "2021-01-27T20:57:34.271467Z",
     "start_time": "2021-01-27T20:57:34.002142Z"
    },
    "scrolled": false
   },
   "outputs": [
    {
     "data": {
      "image/png": "[encoded data removed]",
      "text/plain": [
       "<Figure size 576x216 with 1 Axes>"
      ]
     },
     "metadata": {
      "needs_background": "light"
     },
     "output_type": "display_data"
    }
   ],
   "source": [
    "# Plot the PACF\n",
    "from statsmodels.graphics.tsaplots import plot_pacf\n",
    "fig, ax = plt.subplots(figsize=(8,3))\n",
    "plot_pacf(data_diff,ax=ax, lags=20)\n",
    "plt.savefig('Images/PACF_acousticness.png');"
   ]
  },
  {
   "cell_type": "markdown",
   "metadata": {},
   "source": [
    "AR for our differenced data seems to be 1."
   ]
  },
  {
   "cell_type": "markdown",
   "metadata": {},
   "source": [
    "# Baseline Model (ARIMA)\n",
    "As there is no seaonality because our data is yearly, we will leave out the seasonality portion of the SARIMA model."
   ]
  },
  {
   "cell_type": "code",
   "execution_count": 13,
   "metadata": {
    "ExecuteTime": {
     "end_time": "2021-01-27T20:57:34.275757Z",
     "start_time": "2021-01-27T20:57:34.273080Z"
    }
   },
   "outputs": [],
   "source": [
    "# Let's set the p, d and q parameters to take any value between 0 and 2\n",
    "p = d = q = range(0, 3)\n",
    "\n",
    "\n",
    "# Generate all different combinations of p, q and q triplets\n",
    "pdq = list(itertools.product(p, d, q))"
   ]
  },
  {
   "cell_type": "code",
   "execution_count": 14,
   "metadata": {
    "ExecuteTime": {
     "end_time": "2021-01-27T20:57:35.406567Z",
     "start_time": "2021-01-27T20:57:34.277437Z"
    }
   },
   "outputs": [
    {
     "name": "stdout",
     "output_type": "stream",
     "text": [
      "ARIMA (0, 0, 0) : AIC Calculated =197.8299228950407\n",
      "ARIMA (0, 0, 1) : AIC Calculated =68.29260070893079\n",
      "ARIMA (0, 0, 2) : AIC Calculated =-42.65550451839651\n",
      "ARIMA (0, 1, 0) : AIC Calculated =-427.05966527244937\n",
      "ARIMA (0, 1, 1) : AIC Calculated =-423.8660853219406\n",
      "ARIMA (0, 1, 2) : AIC Calculated =-421.9185352745262\n",
      "ARIMA (0, 2, 0) : AIC Calculated =-383.9978379490176\n",
      "ARIMA (0, 2, 1) : AIC Calculated =-431.00915595075935\n",
      "ARIMA (0, 2, 2) : AIC Calculated =-423.64127707525313\n",
      "ARIMA (1, 0, 0) : AIC Calculated =-439.3140562327019\n",
      "ARIMA (1, 0, 1) : AIC Calculated =-434.7111062963007\n",
      "ARIMA (1, 0, 2) : AIC Calculated =-431.5385633725217\n",
      "ARIMA (1, 1, 0) : AIC Calculated =-431.80674441164655\n",
      "ARIMA (1, 1, 1) : AIC Calculated =-436.2438081655385\n",
      "ARIMA (1, 1, 2) : AIC Calculated =-429.0003291537753\n",
      "ARIMA (1, 2, 0) : AIC Calculated =-417.55815675252103\n",
      "ARIMA (1, 2, 1) : AIC Calculated =-428.93936785393464\n",
      "ARIMA (1, 2, 2) : AIC Calculated =-423.03557644736225\n",
      "ARIMA (2, 0, 0) : AIC Calculated =-436.11399781564535\n",
      "ARIMA (2, 0, 1) : AIC Calculated =-442.6852596803425\n",
      "ARIMA (2, 0, 2) : AIC Calculated =-435.034838009344\n",
      "ARIMA (2, 1, 0) : AIC Calculated =-433.1670581476843\n",
      "ARIMA (2, 1, 1) : AIC Calculated =-434.25311849427686\n",
      "ARIMA (2, 1, 2) : AIC Calculated =-428.4400417414763\n",
      "ARIMA (2, 2, 0) : AIC Calculated =-417.4210811573589\n",
      "ARIMA (2, 2, 1) : AIC Calculated =-427.2900539620208\n",
      "ARIMA (2, 2, 2) : AIC Calculated =-421.3817720245066\n"
     ]
    }
   ],
   "source": [
    "ans = []\n",
    "for comb in pdq:\n",
    "    try:\n",
    "        mod = sm.tsa.statespace.SARIMAX(yearly_df.acousticness,\n",
    "                                        order=comb,\n",
    "                                        enforce_stationarity=False,\n",
    "                                        enforce_invertibility=False)\n",
    "\n",
    "        output = mod.fit()\n",
    "        ans.append([comb, output.aic])\n",
    "        print('ARIMA {} : AIC Calculated ={}'.format(comb, output.aic))\n",
    "    except:\n",
    "        continue"
   ]
  },
  {
   "cell_type": "code",
   "execution_count": 15,
   "metadata": {
    "ExecuteTime": {
     "end_time": "2021-01-27T20:57:35.415279Z",
     "start_time": "2021-01-27T20:57:35.408881Z"
    }
   },
   "outputs": [
    {
     "data": {
      "text/plain": [
       "pdq    (2, 0, 1)\n",
       "aic     -442.685\n",
       "Name: 19, dtype: object"
      ]
     },
     "execution_count": 15,
     "metadata": {},
     "output_type": "execute_result"
    }
   ],
   "source": [
    "ans_df = pd.DataFrame(ans, columns=['pdq', 'aic'])\n",
    "ans_df.loc[ans_df['aic'].idxmin()]"
   ]
  },
  {
   "cell_type": "code",
   "execution_count": 16,
   "metadata": {
    "ExecuteTime": {
     "end_time": "2021-01-27T20:57:35.508508Z",
     "start_time": "2021-01-27T20:57:35.416732Z"
    }
   },
   "outputs": [
    {
     "name": "stdout",
     "output_type": "stream",
     "text": [
      "==============================================================================\n",
      "                 coef    std err          z      P>|z|      [0.025      0.975]\n",
      "------------------------------------------------------------------------------\n",
      "ar.L1          1.9216      0.057     33.846      0.000       1.810       2.033\n",
      "ar.L2         -0.9232      0.055    -16.642      0.000      -1.032      -0.814\n",
      "ma.L1         -1.2214      0.143     -8.546      0.000      -1.502      -0.941\n",
      "sigma2         0.0004      0.000      3.675      0.000       0.000       0.001\n",
      "==============================================================================\n"
     ]
    }
   ],
   "source": [
    "#Plug the optimal parameter values into a new SARIMAX model\n",
    "ARIMA_MODEL = sm.tsa.statespace.SARIMAX(yearly_df.acousticness, \n",
    "                                        order=(2, 0, 1),  \n",
    "                                        enforce_stationarity=False, \n",
    "                                        enforce_invertibility=False)\n",
    "\n",
    "# Fit the model and print results\n",
    "output = ARIMA_MODEL.fit()\n",
    "\n",
    "print(output.summary().tables[1])"
   ]
  },
  {
   "cell_type": "markdown",
   "metadata": {},
   "source": [
    "P-values in check on first try! Very good."
   ]
  },
  {
   "cell_type": "code",
   "execution_count": 17,
   "metadata": {
    "ExecuteTime": {
     "end_time": "2021-01-27T20:57:36.423483Z",
     "start_time": "2021-01-27T20:57:35.510106Z"
    }
   },
   "outputs": [
    {
     "data": {
      "image/png": "[encoded data removed]",
      "text/plain": [
       "<Figure size 720x720 with 4 Axes>"
      ]
     },
     "metadata": {
      "needs_background": "light"
     },
     "output_type": "display_data"
    }
   ],
   "source": [
    "output.plot_diagnostics(figsize=(10, 10))\n",
    "plt.show()"
   ]
  },
  {
   "cell_type": "markdown",
   "metadata": {},
   "source": [
    "Our summary plots show that we have a little ways to go in order for our data's KDE curve to fit that of a normal distribution. Same shape, but a little condensed in the middle. Let's see what our RMSE is for this model."
   ]
  },
  {
   "cell_type": "code",
   "execution_count": 18,
   "metadata": {
    "ExecuteTime": {
     "end_time": "2021-01-27T20:57:36.439778Z",
     "start_time": "2021-01-27T20:57:36.424754Z"
    },
    "scrolled": true
   },
   "outputs": [
    {
     "name": "stdout",
     "output_type": "stream",
     "text": [
      "The Root Mean Squared Error of our forecasts is 0.02161\n"
     ]
    }
   ],
   "source": [
    "pred = output.get_prediction(start=pd.to_datetime('2015-01-01'), dynamic=False)\n",
    "pred_conf = pred.conf_int()\n",
    "\n",
    "# Get the real and predicted values\n",
    "acousticness_forecasted = pred.predicted_mean             #series\n",
    "acousticness_truth = yearly_df.acousticness['2015-01-01':].T.squeeze()  #slicing the list and squeezing to a series also\n",
    "\n",
    "# Compute the root mean square error\n",
    "rmse = np.sqrt(((acousticness_forecasted - acousticness_truth) ** 2).mean())\n",
    "print('The Root Mean Squared Error of our forecasts is {}'.format(round(rmse, 5)))"
   ]
  },
  {
   "cell_type": "markdown",
   "metadata": {
    "ExecuteTime": {
     "end_time": "2020-10-15T17:31:41.162474Z",
     "start_time": "2020-10-15T17:31:41.158387Z"
    }
   },
   "source": [
    "0.02 is not too bad. Let's see if we can alter the RMSE by sliding the test set backwards to 2010 (for our model's validation)."
   ]
  },
  {
   "cell_type": "code",
   "execution_count": 19,
   "metadata": {
    "ExecuteTime": {
     "end_time": "2021-01-27T20:57:36.449938Z",
     "start_time": "2021-01-27T20:57:36.441061Z"
    }
   },
   "outputs": [
    {
     "name": "stdout",
     "output_type": "stream",
     "text": [
      "The Root Mean Squared Error of our forecasts is 0.01725\n"
     ]
    }
   ],
   "source": [
    "pred = output.get_prediction(start=pd.to_datetime('2010-01-01'), dynamic=False)\n",
    "pred_conf = pred.conf_int()\n",
    "\n",
    "# Get the real and predicted values\n",
    "acousticness_forecasted = pred.predicted_mean             #series\n",
    "acousticness_truth = yearly_df.acousticness['2010-01-01':].T.squeeze()  #slicing the list and squeezing to a series also\n",
    "\n",
    "# Compute the root mean square error\n",
    "rmse = np.sqrt(((acousticness_forecasted - acousticness_truth) ** 2).mean())\n",
    "print('The Root Mean Squared Error of our forecasts is {}'.format(round(rmse, 5)))"
   ]
  },
  {
   "cell_type": "markdown",
   "metadata": {},
   "source": [
    "Decent reduction in RMSE for testing on less of the data."
   ]
  },
  {
   "cell_type": "markdown",
   "metadata": {},
   "source": [
    "## Log values"
   ]
  },
  {
   "cell_type": "markdown",
   "metadata": {},
   "source": [
    "Let's try the taking the logarithm of our data and running the model again using the same parameter range."
   ]
  },
  {
   "cell_type": "code",
   "execution_count": 20,
   "metadata": {
    "ExecuteTime": {
     "end_time": "2021-01-27T20:57:36.454719Z",
     "start_time": "2021-01-27T20:57:36.451685Z"
    }
   },
   "outputs": [],
   "source": [
    "log_acousticness = np.log(yearly_df.acousticness)"
   ]
  },
  {
   "cell_type": "code",
   "execution_count": 21,
   "metadata": {
    "ExecuteTime": {
     "end_time": "2021-01-27T20:57:36.459356Z",
     "start_time": "2021-01-27T20:57:36.456212Z"
    }
   },
   "outputs": [],
   "source": [
    "# Let's set the p, d and q parameters to take any value between 0 and 2\n",
    "p = d = q = range(0, 3)\n",
    "\n",
    "# Generate all different combinations of p, q and q triplets\n",
    "pdq = list(itertools.product(p, d, q))"
   ]
  },
  {
   "cell_type": "code",
   "execution_count": 22,
   "metadata": {
    "ExecuteTime": {
     "end_time": "2021-01-27T20:57:37.517095Z",
     "start_time": "2021-01-27T20:57:36.463001Z"
    },
    "scrolled": true
   },
   "outputs": [
    {
     "name": "stdout",
     "output_type": "stream",
     "text": [
      "ARIMA (0, 0, 0) : AIC Calculated =339.9627555807098\n",
      "ARIMA (0, 0, 1) : AIC Calculated =217.8338879833271\n",
      "ARIMA (0, 0, 2) : AIC Calculated =120.47555185855174\n",
      "ARIMA (0, 1, 0) : AIC Calculated =-173.8695310047128\n",
      "ARIMA (0, 1, 1) : AIC Calculated =-169.18456732468243\n",
      "ARIMA (0, 1, 2) : AIC Calculated =-172.26634549739535\n",
      "ARIMA (0, 2, 0) : AIC Calculated =-109.72166331702994\n",
      "ARIMA (0, 2, 1) : AIC Calculated =-167.5699052886636\n",
      "ARIMA (0, 2, 2) : AIC Calculated =-163.1042229674745\n",
      "ARIMA (1, 0, 0) : AIC Calculated =-175.74676302260968\n",
      "ARIMA (1, 0, 1) : AIC Calculated =-170.980259189975\n",
      "ARIMA (1, 0, 2) : AIC Calculated =-173.63488676670886\n",
      "ARIMA (1, 1, 0) : AIC Calculated =-172.04586005476418\n",
      "ARIMA (1, 1, 1) : AIC Calculated =-171.0143994944153\n",
      "ARIMA (1, 1, 2) : AIC Calculated =-173.5882325961216\n",
      "ARIMA (1, 2, 0) : AIC Calculated =-160.39250362828128\n",
      "ARIMA (1, 2, 1) : AIC Calculated =-165.9266739331269\n",
      "ARIMA (1, 2, 2) : AIC Calculated =-166.47415522032446\n",
      "ARIMA (2, 0, 0) : AIC Calculated =-171.00833748629012\n",
      "ARIMA (2, 0, 1) : AIC Calculated =-169.20353467375372\n",
      "ARIMA (2, 0, 2) : AIC Calculated =-174.6062434491439\n",
      "ARIMA (2, 1, 0) : AIC Calculated =-178.56463453495442\n",
      "ARIMA (2, 1, 1) : AIC Calculated =-177.37999151395135\n",
      "ARIMA (2, 1, 2) : AIC Calculated =-173.4123703857576\n",
      "ARIMA (2, 2, 0) : AIC Calculated =-158.03839605334178\n",
      "ARIMA (2, 2, 1) : AIC Calculated =-171.08879896948247\n",
      "ARIMA (2, 2, 2) : AIC Calculated =-168.4621166013842\n"
     ]
    }
   ],
   "source": [
    "ans = []\n",
    "for comb in pdq:\n",
    "    try:\n",
    "        mod = sm.tsa.statespace.SARIMAX(log_acousticness,\n",
    "                                        order=comb,\n",
    "                                        enforce_stationarity=False,\n",
    "                                        enforce_invertibility=False)\n",
    "\n",
    "        output = mod.fit()\n",
    "        ans.append([comb, output.aic])\n",
    "        print('ARIMA {} : AIC Calculated ={}'.format(comb, output.aic))\n",
    "    except:\n",
    "        continue"
   ]
  },
  {
   "cell_type": "code",
   "execution_count": 23,
   "metadata": {
    "ExecuteTime": {
     "end_time": "2021-01-27T20:57:37.525652Z",
     "start_time": "2021-01-27T20:57:37.519615Z"
    }
   },
   "outputs": [
    {
     "data": {
      "text/plain": [
       "pdq    (2, 1, 0)\n",
       "aic     -178.565\n",
       "Name: 21, dtype: object"
      ]
     },
     "execution_count": 23,
     "metadata": {},
     "output_type": "execute_result"
    }
   ],
   "source": [
    "ans_df = pd.DataFrame(ans, columns=['pdq', 'aic'])\n",
    "ans_df.loc[ans_df['aic'].idxmin()]"
   ]
  },
  {
   "cell_type": "code",
   "execution_count": 24,
   "metadata": {
    "ExecuteTime": {
     "end_time": "2021-01-27T20:57:37.550663Z",
     "start_time": "2021-01-27T20:57:37.527187Z"
    },
    "scrolled": true
   },
   "outputs": [
    {
     "name": "stdout",
     "output_type": "stream",
     "text": [
      "==============================================================================\n",
      "                 coef    std err          z      P>|z|      [0.025      0.975]\n",
      "------------------------------------------------------------------------------\n",
      "ar.L1          0.0257      0.085      0.302      0.763      -0.141       0.193\n",
      "ar.L2          0.3380      0.075      4.535      0.000       0.192       0.484\n",
      "sigma2         0.0087      0.001      8.838      0.000       0.007       0.011\n",
      "==============================================================================\n"
     ]
    }
   ],
   "source": [
    "#Plug the optimal parameter values into a new SARIMAX model\n",
    "ARIMA_MODEL = sm.tsa.statespace.SARIMAX(log_acousticness, \n",
    "                                        order=(2, 1, 0),  \n",
    "                                        enforce_stationarity=False, \n",
    "                                        enforce_invertibility=False)\n",
    "\n",
    "# Fit the model and print results\n",
    "output = ARIMA_MODEL.fit()\n",
    "\n",
    "print(output.summary().tables[1])"
   ]
  },
  {
   "cell_type": "code",
   "execution_count": 25,
   "metadata": {
    "ExecuteTime": {
     "end_time": "2021-01-27T20:57:38.458180Z",
     "start_time": "2021-01-27T20:57:37.551764Z"
    },
    "scrolled": false
   },
   "outputs": [
    {
     "data": {
      "image/png": "[encoded data removed]",
      "text/plain": [
       "<Figure size 720x720 with 4 Axes>"
      ]
     },
     "metadata": {
      "needs_background": "light"
     },
     "output_type": "display_data"
    }
   ],
   "source": [
    "output.plot_diagnostics(figsize=(10, 10))\n",
    "plt.show()"
   ]
  },
  {
   "cell_type": "code",
   "execution_count": 26,
   "metadata": {
    "ExecuteTime": {
     "end_time": "2021-01-27T20:57:38.468668Z",
     "start_time": "2021-01-27T20:57:38.459860Z"
    }
   },
   "outputs": [
    {
     "name": "stdout",
     "output_type": "stream",
     "text": [
      "The Root Mean Squared Error of our forecasts is 0.01581\n"
     ]
    }
   ],
   "source": [
    "pred = output.get_prediction(start=pd.to_datetime('2010-01-01'), dynamic=False)\n",
    "pred_conf = pred.conf_int()\n",
    "\n",
    "# Get the real and predicted values\n",
    "acousticness_forecasted = np.exp(pred.predicted_mean )            #series\n",
    "acousticness_truth = yearly_df.acousticness['2010-01-01':].T.squeeze()  #slicing the list and squeezing to a series also\n",
    "\n",
    "# Compute the root mean square error\n",
    "rmse = np.sqrt(((acousticness_forecasted - acousticness_truth) ** 2).mean())\n",
    "print('The Root Mean Squared Error of our forecasts is {}'.format(round(rmse, 5)))"
   ]
  },
  {
   "cell_type": "markdown",
   "metadata": {},
   "source": [
    "RMSE is a bit lower here, despite our Q-Q residuals being a bit more off."
   ]
  },
  {
   "cell_type": "markdown",
   "metadata": {},
   "source": [
    "## differenced data"
   ]
  },
  {
   "cell_type": "code",
   "execution_count": 27,
   "metadata": {
    "ExecuteTime": {
     "end_time": "2021-01-27T20:57:39.668217Z",
     "start_time": "2021-01-27T20:57:38.470021Z"
    },
    "scrolled": true
   },
   "outputs": [
    {
     "name": "stdout",
     "output_type": "stream",
     "text": [
      "ARIMA (0, 0, 0) : AIC Calculated =-427.0596603919106\n",
      "ARIMA (0, 0, 1) : AIC Calculated =-423.84205111233234\n",
      "ARIMA (0, 0, 2) : AIC Calculated =-421.86196228406675\n",
      "ARIMA (0, 1, 0) : AIC Calculated =-383.9978379785258\n",
      "ARIMA (0, 1, 1) : AIC Calculated =-430.7701239860368\n",
      "ARIMA (0, 1, 2) : AIC Calculated =-423.3756353613856\n",
      "ARIMA (0, 2, 0) : AIC Calculated =-270.79613470859897\n",
      "ARIMA (0, 2, 1) : AIC Calculated =-368.6177726399038\n",
      "ARIMA (0, 2, 2) : AIC Calculated =-411.7954220549195\n",
      "ARIMA (1, 0, 0) : AIC Calculated =-431.8067444116465\n",
      "ARIMA (1, 0, 1) : AIC Calculated =-435.7597977248665\n",
      "ARIMA (1, 0, 2) : AIC Calculated =-428.46728524829285\n",
      "ARIMA (1, 1, 0) : AIC Calculated =-417.55815633807293\n",
      "ARIMA (1, 1, 1) : AIC Calculated =-428.9393685434568\n",
      "ARIMA (1, 1, 2) : AIC Calculated =-422.74677678622845\n",
      "ARIMA (1, 2, 0) : AIC Calculated =-337.9075310080594\n",
      "ARIMA (1, 2, 1) : AIC Calculated =-401.0331218486727\n",
      "ARIMA (1, 2, 2) : AIC Calculated =-410.1767632940044\n",
      "ARIMA (2, 0, 0) : AIC Calculated =-433.1670580963847\n",
      "ARIMA (2, 0, 1) : AIC Calculated =-434.253125451571\n",
      "ARIMA (2, 0, 2) : AIC Calculated =-428.2132833058039\n",
      "ARIMA (2, 1, 0) : AIC Calculated =-417.4210809293848\n",
      "ARIMA (2, 1, 1) : AIC Calculated =-427.29005144784924\n",
      "ARIMA (2, 1, 2) : AIC Calculated =-421.38176144251304\n",
      "ARIMA (2, 2, 0) : AIC Calculated =-352.7394657456722\n",
      "ARIMA (2, 2, 1) : AIC Calculated =-405.4612140991472\n",
      "ARIMA (2, 2, 2) : AIC Calculated =-407.6443495854652\n"
     ]
    }
   ],
   "source": [
    "ans = []\n",
    "for comb in pdq:\n",
    "    try:\n",
    "        mod = sm.tsa.statespace.SARIMAX(data_diff,\n",
    "                                        order=comb,\n",
    "                                        enforce_stationarity=False,\n",
    "                                        enforce_invertibility=False)\n",
    "\n",
    "        output = mod.fit()\n",
    "        ans.append([comb, output.aic])\n",
    "        print('ARIMA {} : AIC Calculated ={}'.format(comb, output.aic))\n",
    "    except:\n",
    "        continue"
   ]
  },
  {
   "cell_type": "code",
   "execution_count": 28,
   "metadata": {
    "ExecuteTime": {
     "end_time": "2021-01-27T20:57:39.676419Z",
     "start_time": "2021-01-27T20:57:39.669919Z"
    }
   },
   "outputs": [
    {
     "data": {
      "text/plain": [
       "pdq    (1, 0, 1)\n",
       "aic      -435.76\n",
       "Name: 10, dtype: object"
      ]
     },
     "execution_count": 28,
     "metadata": {},
     "output_type": "execute_result"
    }
   ],
   "source": [
    "ans_df = pd.DataFrame(ans, columns=['pdq', 'aic'])\n",
    "ans_df.loc[ans_df['aic'].idxmin()]"
   ]
  },
  {
   "cell_type": "code",
   "execution_count": 29,
   "metadata": {
    "ExecuteTime": {
     "end_time": "2021-01-27T20:57:39.728749Z",
     "start_time": "2021-01-27T20:57:39.677569Z"
    }
   },
   "outputs": [
    {
     "name": "stdout",
     "output_type": "stream",
     "text": [
      "==============================================================================\n",
      "                 coef    std err          z      P>|z|      [0.025      0.975]\n",
      "------------------------------------------------------------------------------\n",
      "ar.L1          0.9469      0.038     24.728      0.000       0.872       1.022\n",
      "ma.L1         -0.7971      0.083     -9.655      0.000      -0.959      -0.635\n",
      "sigma2         0.0006   5.88e-05     10.364      0.000       0.000       0.001\n",
      "==============================================================================\n"
     ]
    }
   ],
   "source": [
    "#Plug the optimal parameter values into a new SARIMAX model\n",
    "ARIMA_MODEL = sm.tsa.statespace.SARIMAX(data_diff, \n",
    "                                        order=(1, 0, 1),  \n",
    "                                        enforce_stationarity=False, \n",
    "                                        enforce_invertibility=False)\n",
    "\n",
    "# Fit the model and print results\n",
    "output = ARIMA_MODEL.fit()\n",
    "\n",
    "print(output.summary().tables[1])"
   ]
  },
  {
   "cell_type": "code",
   "execution_count": 30,
   "metadata": {
    "ExecuteTime": {
     "end_time": "2021-01-27T20:57:40.534677Z",
     "start_time": "2021-01-27T20:57:39.730562Z"
    }
   },
   "outputs": [
    {
     "data": {
      "image/png": "[encoded data removed]",
      "text/plain": [
       "<Figure size 720x720 with 4 Axes>"
      ]
     },
     "metadata": {
      "needs_background": "light"
     },
     "output_type": "display_data"
    }
   ],
   "source": [
    "output.plot_diagnostics(figsize=(10, 10))\n",
    "plt.show()"
   ]
  },
  {
   "cell_type": "code",
   "execution_count": 31,
   "metadata": {
    "ExecuteTime": {
     "end_time": "2021-01-27T20:57:40.544207Z",
     "start_time": "2021-01-27T20:57:40.536343Z"
    }
   },
   "outputs": [
    {
     "name": "stdout",
     "output_type": "stream",
     "text": [
      "The Root Mean Squared Error of our forecasts is 0.01722\n"
     ]
    }
   ],
   "source": [
    "pred = output.get_prediction(start=pd.to_datetime('2010-01-01'), dynamic=False)\n",
    "pred_conf = pred.conf_int()\n",
    "\n",
    "# Get the real and predicted values\n",
    "acousticness_forecasted = pred.predicted_mean            #series\n",
    "acousticness_truth = data_diff['2010-01-01':]  #slicing the list and squeezing to a series also\n",
    "\n",
    "# Compute the root mean square error\n",
    "rmse = np.sqrt(((acousticness_forecasted - acousticness_truth) ** 2).mean())\n",
    "print('The Root Mean Squared Error of our forecasts is {}'.format(round(rmse, 5)))"
   ]
  },
  {
   "cell_type": "markdown",
   "metadata": {},
   "source": [
    "Differenced data seems to be doing well.\n",
    "*Note it is not required to input differenced data into the ARIMA model, because it does the differencing for you.*"
   ]
  },
  {
   "cell_type": "markdown",
   "metadata": {},
   "source": [
    "# LSTM Modeling"
   ]
  },
  {
   "cell_type": "markdown",
   "metadata": {},
   "source": [
    "*split_sequence function and guidance obtained from https://machinelearningmastery.com/how-to-develop-lstm-models-for-time-series-forecasting/ and others."
   ]
  },
  {
   "cell_type": "code",
   "execution_count": 32,
   "metadata": {
    "ExecuteTime": {
     "end_time": "2021-01-27T20:57:40.549145Z",
     "start_time": "2021-01-27T20:57:40.546268Z"
    }
   },
   "outputs": [],
   "source": [
    "# Splitting our data into a training set and testing set\n",
    "\n",
    "train=yearly_df.acousticness[:90] # 90/100 = 90% split \n",
    "test=yearly_df.acousticness[90:]"
   ]
  },
  {
   "cell_type": "markdown",
   "metadata": {},
   "source": [
    "*Note:* We tried the train/test split at 80% and received worse results"
   ]
  },
  {
   "cell_type": "markdown",
   "metadata": {},
   "source": [
    "### Prepping the time sequence for modeling\n",
    "Here we will define a function that splits our data into a sequence of specified steps. This is because the (Long Short Term Memory) model will use a certain number of steps in the past for each future prediction."
   ]
  },
  {
   "cell_type": "code",
   "execution_count": 33,
   "metadata": {
    "ExecuteTime": {
     "end_time": "2021-01-27T20:57:40.553897Z",
     "start_time": "2021-01-27T20:57:40.550290Z"
    }
   },
   "outputs": [],
   "source": [
    "def split_sequence(sequence, n_steps):\n",
    "    X, y = [], []\n",
    "    for i in range(len(sequence)):\n",
    "        # find the end of this pattern\n",
    "        end_ix = i + n_steps\n",
    "        # check if we are beyond the sequence\n",
    "        if end_ix > len(sequence)-1:\n",
    "            break\n",
    "        # gather input and output parts of the pattern\n",
    "        seq_x, seq_y = sequence[i:end_ix], sequence[end_ix]\n",
    "        X.append(seq_x)\n",
    "        y.append(seq_y)\n",
    "    return np.array(X), np.array(y)"
   ]
  },
  {
   "cell_type": "markdown",
   "metadata": {},
   "source": [
    "Now we will split our acousticness sequence, with each output step having 3 input steps."
   ]
  },
  {
   "cell_type": "code",
   "execution_count": 34,
   "metadata": {
    "ExecuteTime": {
     "end_time": "2021-01-27T20:57:40.867858Z",
     "start_time": "2021-01-27T20:57:40.555524Z"
    },
    "scrolled": true
   },
   "outputs": [
    {
     "name": "stdout",
     "output_type": "stream",
     "text": [
      "[[0.99 ]\n",
      " [0.994]\n",
      " [0.992]] 0.994\n",
      "[[0.994]\n",
      " [0.992]\n",
      " [0.994]] 0.989\n",
      "[[0.992]\n",
      " [0.994]\n",
      " [0.989]] 0.992\n",
      "[[0.994]\n",
      " [0.989]\n",
      " [0.992]] 0.992\n",
      "[[0.989]\n",
      " [0.992]\n",
      " [0.992]] 0.992\n",
      "[[0.992]\n",
      " [0.992]\n",
      " [0.992]] 0.991\n",
      "[[0.992]\n",
      " [0.992]\n",
      " [0.991]] 0.988\n",
      "[[0.992]\n",
      " [0.991]\n",
      " [0.988]] 0.985\n",
      "[[0.991]\n",
      " [0.988]\n",
      " [0.985]] 0.973\n",
      "[[0.988]\n",
      " [0.985]\n",
      " [0.973]] 0.97\n",
      "[[0.985]\n",
      " [0.973]\n",
      " [0.97 ]] 0.974\n",
      "[[0.973]\n",
      " [0.97 ]\n",
      " [0.974]] 0.965\n",
      "[[0.97 ]\n",
      " [0.974]\n",
      " [0.965]] 0.961\n",
      "[[0.974]\n",
      " [0.965]\n",
      " [0.961]] 0.952\n",
      "[[0.965]\n",
      " [0.961]\n",
      " [0.952]] 0.975\n",
      "[[0.961]\n",
      " [0.952]\n",
      " [0.975]] 0.966\n",
      "[[0.952]\n",
      " [0.975]\n",
      " [0.966]] 0.982\n",
      "[[0.975]\n",
      " [0.966]\n",
      " [0.982]] 0.981\n",
      "[[0.966]\n",
      " [0.982]\n",
      " [0.981]] 0.976\n",
      "[[0.982]\n",
      " [0.981]\n",
      " [0.976]] 0.975\n",
      "[[0.981]\n",
      " [0.976]\n",
      " [0.975]] 0.984\n",
      "[[0.976]\n",
      " [0.975]\n",
      " [0.984]] 0.973\n",
      "[[0.975]\n",
      " [0.984]\n",
      " [0.973]] 0.9835\n",
      "[[0.984 ]\n",
      " [0.973 ]\n",
      " [0.9835]] 0.971\n",
      "[[0.973 ]\n",
      " [0.9835]\n",
      " [0.971 ]] 0.969\n",
      "[[0.9835]\n",
      " [0.971 ]\n",
      " [0.969 ]] 0.961\n",
      "[[0.971]\n",
      " [0.969]\n",
      " [0.961]] 0.96\n",
      "[[0.969]\n",
      " [0.961]\n",
      " [0.96 ]] 0.968\n",
      "[[0.961]\n",
      " [0.96 ]\n",
      " [0.968]] 0.962\n",
      "[[0.96 ]\n",
      " [0.968]\n",
      " [0.962]] 0.958\n",
      "[[0.968]\n",
      " [0.962]\n",
      " [0.958]] 0.928\n",
      "[[0.962]\n",
      " [0.958]\n",
      " [0.928]] 0.908\n",
      "[[0.958]\n",
      " [0.928]\n",
      " [0.908]] 0.8735\n",
      "[[0.928 ]\n",
      " [0.908 ]\n",
      " [0.8735]] 0.846\n",
      "[[0.908 ]\n",
      " [0.8735]\n",
      " [0.846 ]] 0.831\n",
      "[[0.8735]\n",
      " [0.846 ]\n",
      " [0.831 ]] 0.835\n",
      "[[0.846]\n",
      " [0.831]\n",
      " [0.835]] 0.8009999999999999\n",
      "[[0.831]\n",
      " [0.835]\n",
      " [0.801]] 0.792\n",
      "[[0.835]\n",
      " [0.801]\n",
      " [0.792]] 0.773\n",
      "[[0.801]\n",
      " [0.792]\n",
      " [0.773]] 0.7865\n",
      "[[0.792 ]\n",
      " [0.773 ]\n",
      " [0.7865]] 0.7595000000000001\n",
      "[[0.773 ]\n",
      " [0.7865]\n",
      " [0.7595]] 0.684\n",
      "[[0.7865]\n",
      " [0.7595]\n",
      " [0.684 ]] 0.564\n",
      "[[0.7595]\n",
      " [0.684 ]\n",
      " [0.564 ]] 0.556\n",
      "[[0.684]\n",
      " [0.564]\n",
      " [0.556]] 0.516\n",
      "[[0.564]\n",
      " [0.556]\n",
      " [0.516]] 0.4465\n",
      "[[0.556 ]\n",
      " [0.516 ]\n",
      " [0.4465]] 0.443\n",
      "[[0.516 ]\n",
      " [0.4465]\n",
      " [0.443 ]] 0.4365000000000001\n",
      "[[0.4465]\n",
      " [0.443 ]\n",
      " [0.4365]] 0.4625\n",
      "[[0.443 ]\n",
      " [0.4365]\n",
      " [0.4625]] 0.388\n",
      "[[0.4365]\n",
      " [0.4625]\n",
      " [0.388 ]] 0.438\n",
      "[[0.4625]\n",
      " [0.388 ]\n",
      " [0.438 ]] 0.394\n",
      "[[0.388]\n",
      " [0.438]\n",
      " [0.394]] 0.3075\n",
      "[[0.438 ]\n",
      " [0.394 ]\n",
      " [0.3075]] 0.249\n",
      "[[0.394 ]\n",
      " [0.3075]\n",
      " [0.249 ]] 0.2305\n",
      "[[0.3075]\n",
      " [0.249 ]\n",
      " [0.2305]] 0.162\n",
      "[[0.249 ]\n",
      " [0.2305]\n",
      " [0.162 ]] 0.174\n",
      "[[0.2305]\n",
      " [0.162 ]\n",
      " [0.174 ]] 0.17\n",
      "[[0.162]\n",
      " [0.174]\n",
      " [0.17 ]] 0.1515\n",
      "[[0.174 ]\n",
      " [0.17  ]\n",
      " [0.1515]] 0.1265\n",
      "[[0.17  ]\n",
      " [0.1515]\n",
      " [0.1265]] 0.127\n",
      "[[0.1515]\n",
      " [0.1265]\n",
      " [0.127 ]] 0.158\n",
      "[[0.1265]\n",
      " [0.127 ]\n",
      " [0.158 ]] 0.14250000000000002\n",
      "[[0.127 ]\n",
      " [0.158 ]\n",
      " [0.1425]] 0.163\n",
      "[[0.158 ]\n",
      " [0.1425]\n",
      " [0.163 ]] 0.154\n",
      "[[0.1425]\n",
      " [0.163 ]\n",
      " [0.154 ]] 0.172\n",
      "[[0.163]\n",
      " [0.154]\n",
      " [0.172]] 0.17800000000000002\n",
      "[[0.154]\n",
      " [0.172]\n",
      " [0.178]] 0.193\n",
      "[[0.172]\n",
      " [0.178]\n",
      " [0.193]] 0.19\n",
      "[[0.178]\n",
      " [0.193]\n",
      " [0.19 ]] 0.166\n",
      "[[0.193]\n",
      " [0.19 ]\n",
      " [0.166]] 0.1525\n",
      "[[0.19  ]\n",
      " [0.166 ]\n",
      " [0.1525]] 0.16399999999999998\n",
      "[[0.166 ]\n",
      " [0.1525]\n",
      " [0.164 ]] 0.1705\n",
      "[[0.1525]\n",
      " [0.164 ]\n",
      " [0.1705]] 0.161\n",
      "[[0.164 ]\n",
      " [0.1705]\n",
      " [0.161 ]] 0.149\n",
      "[[0.1705]\n",
      " [0.161 ]\n",
      " [0.149 ]] 0.1395\n",
      "[[0.161 ]\n",
      " [0.149 ]\n",
      " [0.1395]] 0.14800000000000002\n",
      "[[0.149 ]\n",
      " [0.1395]\n",
      " [0.148 ]] 0.142\n",
      "[[0.1395]\n",
      " [0.148 ]\n",
      " [0.142 ]] 0.149\n",
      "[[0.148]\n",
      " [0.142]\n",
      " [0.149]] 0.119\n",
      "[[0.142]\n",
      " [0.149]\n",
      " [0.119]] 0.132\n",
      "[[0.149]\n",
      " [0.119]\n",
      " [0.132]] 0.111\n",
      "[[0.119]\n",
      " [0.132]\n",
      " [0.111]] 0.133\n",
      "[[0.132]\n",
      " [0.111]\n",
      " [0.133]] 0.105\n",
      "[[0.111]\n",
      " [0.133]\n",
      " [0.105]] 0.109\n",
      "[[0.133]\n",
      " [0.105]\n",
      " [0.109]] 0.106\n",
      "[[0.105]\n",
      " [0.109]\n",
      " [0.106]] 0.103\n"
     ]
    },
    {
     "ename": "IndexError",
     "evalue": "index 87 is out of bounds for axis 0 with size 87",
     "output_type": "error",
     "traceback": [
      "\u001b[0;31m---------------------------------------------------------------------------\u001b[0m",
      "\u001b[0;31mIndexError\u001b[0m                                Traceback (most recent call last)",
      "\u001b[0;32m<ipython-input-34-38bed5941434>\u001b[0m in \u001b[0;36m<module>\u001b[0;34m\u001b[0m\n\u001b[1;32m     22\u001b[0m \u001b[0;31m# print the data sequence with steps:\u001b[0m\u001b[0;34m\u001b[0m\u001b[0;34m\u001b[0m\u001b[0;34m\u001b[0m\u001b[0m\n\u001b[1;32m     23\u001b[0m \u001b[0;32mfor\u001b[0m \u001b[0mi\u001b[0m \u001b[0;32min\u001b[0m \u001b[0mrange\u001b[0m\u001b[0;34m(\u001b[0m\u001b[0mlen\u001b[0m\u001b[0;34m(\u001b[0m\u001b[0mX\u001b[0m\u001b[0;34m)\u001b[0m\u001b[0;34m)\u001b[0m\u001b[0;34m:\u001b[0m\u001b[0;34m\u001b[0m\u001b[0;34m\u001b[0m\u001b[0m\n\u001b[0;32m---> 24\u001b[0;31m         \u001b[0mprint\u001b[0m\u001b[0;34m(\u001b[0m\u001b[0mX_train\u001b[0m\u001b[0;34m[\u001b[0m\u001b[0mi\u001b[0m\u001b[0;34m]\u001b[0m\u001b[0;34m,\u001b[0m \u001b[0my_train\u001b[0m\u001b[0;34m[\u001b[0m\u001b[0mi\u001b[0m\u001b[0;34m]\u001b[0m\u001b[0;34m)\u001b[0m\u001b[0;34m\u001b[0m\u001b[0;34m\u001b[0m\u001b[0m\n\u001b[0m",
      "\u001b[0;31mIndexError\u001b[0m: index 87 is out of bounds for axis 0 with size 87"
     ]
    }
   ],
   "source": [
    "# define input sequence\n",
    "train_seq = list(train)\n",
    "test_seq = list(test)\n",
    "raw_seq = yearly_df.acousticness\n",
    "\n",
    "# choose a number of time steps\n",
    "n_steps = 3      #5 steps and 2 steps received worse results\n",
    "\n",
    "# split into samples\n",
    "X, y = split_sequence(raw_seq, n_steps)\n",
    "X_train, y_train = split_sequence(train_seq, n_steps)\n",
    "X_test, y_test = split_sequence(test_seq, n_steps) \n",
    "\n",
    "n_features = 1\n",
    "\n",
    "# #reshape from [samples, timesteps] into [samples, timesteps, features]\n",
    "X = X.reshape((X.shape[0], X.shape[1], n_features))\n",
    "X_train = X_train.reshape((X_train.shape[0], X_train.shape[1], n_features))\n",
    "X_test = X_test.reshape((X_test.shape[0], X_test.shape[1], n_features))\n",
    "\n",
    "\n",
    "# print the data sequence with steps:\n",
    "for i in range(len(X)):\n",
    "\tprint(X_train[i], y_train[i])"
   ]
  },
  {
   "cell_type": "markdown",
   "metadata": {
    "ExecuteTime": {
     "end_time": "2020-10-15T18:37:30.366810Z",
     "start_time": "2020-10-15T18:37:30.364453Z"
    }
   },
   "source": [
    "## Baseline (Vanilla) LSTM "
   ]
  },
  {
   "cell_type": "markdown",
   "metadata": {},
   "source": [
    "As our dataset is already normalized, we don't have to worry about that. \n",
    "\n",
    "We will just instantiate an LSTM model and add 1 hidden dense layer, and then compile our layers using Mean Squared Error as the loss function to optimize."
   ]
  },
  {
   "cell_type": "code",
   "execution_count": 35,
   "metadata": {
    "ExecuteTime": {
     "end_time": "2021-01-27T21:03:40.731606Z",
     "start_time": "2021-01-27T21:03:40.559508Z"
    }
   },
   "outputs": [],
   "source": [
    "model = Sequential()\n",
    "model.add(LSTM(50, activation='relu', input_shape=(n_steps, n_features)))\n",
    "model.add(Dense(1))\n",
    "model.compile(optimizer='adam', loss='mse')"
   ]
  },
  {
   "cell_type": "markdown",
   "metadata": {},
   "source": [
    "Now we will fit the model on our training data and use a validation split of 20/80 on this same training data as well to see how the MSE converges over epochs."
   ]
  },
  {
   "cell_type": "code",
   "execution_count": 36,
   "metadata": {
    "ExecuteTime": {
     "end_time": "2021-01-27T21:03:45.202278Z",
     "start_time": "2021-01-27T21:03:42.852245Z"
    }
   },
   "outputs": [
    {
     "name": "stdout",
     "output_type": "stream",
     "text": [
      "Train on 78 samples, validate on 9 samples\n",
      "Epoch 1/100\n",
      "78/78 [==============================] - 0s 6ms/step - loss: 0.4059 - val_loss: 0.0087\n",
      "Epoch 2/100\n",
      "78/78 [==============================] - 0s 170us/step - loss: 0.3711 - val_loss: 0.0063\n",
      "Epoch 3/100\n",
      "78/78 [==============================] - 0s 156us/step - loss: 0.3383 - val_loss: 0.0045\n",
      "Epoch 4/100\n",
      "78/78 [==============================] - 0s 154us/step - loss: 0.3055 - val_loss: 0.0031\n",
      "Epoch 5/100\n",
      "78/78 [==============================] - 0s 176us/step - loss: 0.2780 - val_loss: 0.0020\n",
      "Epoch 6/100\n",
      "78/78 [==============================] - 0s 166us/step - loss: 0.2505 - val_loss: 0.0011\n",
      "Epoch 7/100\n",
      "78/78 [==============================] - 0s 169us/step - loss: 0.2249 - val_loss: 4.4534e-04\n",
      "Epoch 8/100\n",
      "78/78 [==============================] - 0s 192us/step - loss: 0.1993 - val_loss: 1.7645e-04\n",
      "Epoch 9/100\n",
      "78/78 [==============================] - 0s 160us/step - loss: 0.1745 - val_loss: 3.2286e-04\n",
      "Epoch 10/100\n",
      "78/78 [==============================] - 0s 160us/step - loss: 0.1499 - val_loss: 9.5372e-04\n",
      "Epoch 11/100\n",
      "78/78 [==============================] - 0s 161us/step - loss: 0.1271 - val_loss: 0.0022\n",
      "Epoch 12/100\n",
      "78/78 [==============================] - 0s 196us/step - loss: 0.1060 - val_loss: 0.0040\n",
      "Epoch 13/100\n",
      "78/78 [==============================] - 0s 187us/step - loss: 0.0854 - val_loss: 0.0065\n",
      "Epoch 14/100\n",
      "78/78 [==============================] - 0s 158us/step - loss: 0.0672 - val_loss: 0.0097\n",
      "Epoch 15/100\n",
      "78/78 [==============================] - 0s 160us/step - loss: 0.0505 - val_loss: 0.0135\n",
      "Epoch 16/100\n",
      "78/78 [==============================] - 0s 162us/step - loss: 0.0373 - val_loss: 0.0180\n",
      "Epoch 17/100\n",
      "78/78 [==============================] - 0s 141us/step - loss: 0.0266 - val_loss: 0.0229\n",
      "Epoch 18/100\n",
      "78/78 [==============================] - 0s 168us/step - loss: 0.0195 - val_loss: 0.0280\n",
      "Epoch 19/100\n",
      "78/78 [==============================] - 0s 148us/step - loss: 0.0154 - val_loss: 0.0328\n",
      "Epoch 20/100\n",
      "78/78 [==============================] - 0s 141us/step - loss: 0.0141 - val_loss: 0.0368\n",
      "Epoch 21/100\n",
      "78/78 [==============================] - 0s 180us/step - loss: 0.0140 - val_loss: 0.0393\n",
      "Epoch 22/100\n",
      "78/78 [==============================] - 0s 135us/step - loss: 0.0148 - val_loss: 0.0404\n",
      "Epoch 23/100\n",
      "78/78 [==============================] - 0s 156us/step - loss: 0.0153 - val_loss: 0.0400\n",
      "Epoch 24/100\n",
      "78/78 [==============================] - 0s 176us/step - loss: 0.0151 - val_loss: 0.0383\n",
      "Epoch 25/100\n",
      "78/78 [==============================] - 0s 135us/step - loss: 0.0143 - val_loss: 0.0360\n",
      "Epoch 26/100\n",
      "78/78 [==============================] - 0s 140us/step - loss: 0.0132 - val_loss: 0.0334\n",
      "Epoch 27/100\n",
      "78/78 [==============================] - 0s 190us/step - loss: 0.0123 - val_loss: 0.0309\n",
      "Epoch 28/100\n",
      "78/78 [==============================] - 0s 152us/step - loss: 0.0118 - val_loss: 0.0286\n",
      "Epoch 29/100\n",
      "78/78 [==============================] - 0s 132us/step - loss: 0.0112 - val_loss: 0.0269\n",
      "Epoch 30/100\n",
      "78/78 [==============================] - 0s 204us/step - loss: 0.0109 - val_loss: 0.0255\n",
      "Epoch 31/100\n",
      "78/78 [==============================] - 0s 143us/step - loss: 0.0107 - val_loss: 0.0243\n",
      "Epoch 32/100\n",
      "78/78 [==============================] - 0s 149us/step - loss: 0.0104 - val_loss: 0.0235\n",
      "Epoch 33/100\n",
      "78/78 [==============================] - 0s 187us/step - loss: 0.0101 - val_loss: 0.0229\n",
      "Epoch 34/100\n",
      "78/78 [==============================] - 0s 132us/step - loss: 0.0097 - val_loss: 0.0222\n",
      "Epoch 35/100\n",
      "78/78 [==============================] - 0s 139us/step - loss: 0.0094 - val_loss: 0.0216\n",
      "Epoch 36/100\n",
      "78/78 [==============================] - 0s 179us/step - loss: 0.0091 - val_loss: 0.0211\n",
      "Epoch 37/100\n",
      "78/78 [==============================] - 0s 131us/step - loss: 0.0087 - val_loss: 0.0206\n",
      "Epoch 38/100\n",
      "78/78 [==============================] - 0s 137us/step - loss: 0.0084 - val_loss: 0.0201\n",
      "Epoch 39/100\n",
      "78/78 [==============================] - 0s 168us/step - loss: 0.0082 - val_loss: 0.0196\n",
      "Epoch 40/100\n",
      "78/78 [==============================] - 0s 147us/step - loss: 0.0079 - val_loss: 0.0190\n",
      "Epoch 41/100\n",
      "78/78 [==============================] - 0s 146us/step - loss: 0.0076 - val_loss: 0.0184\n",
      "Epoch 42/100\n",
      "78/78 [==============================] - 0s 174us/step - loss: 0.0073 - val_loss: 0.0176\n",
      "Epoch 43/100\n",
      "78/78 [==============================] - 0s 146us/step - loss: 0.0071 - val_loss: 0.0168\n",
      "Epoch 44/100\n",
      "78/78 [==============================] - 0s 139us/step - loss: 0.0068 - val_loss: 0.0161\n",
      "Epoch 45/100\n",
      "78/78 [==============================] - 0s 167us/step - loss: 0.0066 - val_loss: 0.0154\n",
      "Epoch 46/100\n",
      "78/78 [==============================] - 0s 197us/step - loss: 0.0063 - val_loss: 0.0147\n",
      "Epoch 47/100\n",
      "78/78 [==============================] - 0s 152us/step - loss: 0.0061 - val_loss: 0.0140\n",
      "Epoch 48/100\n",
      "78/78 [==============================] - 0s 144us/step - loss: 0.0059 - val_loss: 0.0134\n",
      "Epoch 49/100\n",
      "78/78 [==============================] - 0s 145us/step - loss: 0.0056 - val_loss: 0.0128\n",
      "Epoch 50/100\n",
      "78/78 [==============================] - 0s 177us/step - loss: 0.0054 - val_loss: 0.0122\n",
      "Epoch 51/100\n",
      "78/78 [==============================] - 0s 154us/step - loss: 0.0052 - val_loss: 0.0117\n",
      "Epoch 52/100\n",
      "78/78 [==============================] - 0s 142us/step - loss: 0.0050 - val_loss: 0.0113\n",
      "Epoch 53/100\n",
      "78/78 [==============================] - 0s 178us/step - loss: 0.0048 - val_loss: 0.0108\n",
      "Epoch 54/100\n",
      "78/78 [==============================] - 0s 131us/step - loss: 0.0046 - val_loss: 0.0103\n",
      "Epoch 55/100\n",
      "78/78 [==============================] - 0s 157us/step - loss: 0.0044 - val_loss: 0.0098\n",
      "Epoch 56/100\n",
      "78/78 [==============================] - 0s 140us/step - loss: 0.0043 - val_loss: 0.0094\n",
      "Epoch 57/100\n",
      "78/78 [==============================] - 0s 168us/step - loss: 0.0041 - val_loss: 0.0089\n",
      "Epoch 58/100\n",
      "78/78 [==============================] - 0s 152us/step - loss: 0.0039 - val_loss: 0.0085\n",
      "Epoch 59/100\n",
      "78/78 [==============================] - 0s 153us/step - loss: 0.0038 - val_loss: 0.0081\n",
      "Epoch 60/100\n",
      "78/78 [==============================] - 0s 194us/step - loss: 0.0036 - val_loss: 0.0077\n",
      "Epoch 61/100\n",
      "78/78 [==============================] - 0s 180us/step - loss: 0.0035 - val_loss: 0.0073\n",
      "Epoch 62/100\n",
      "78/78 [==============================] - 0s 163us/step - loss: 0.0033 - val_loss: 0.0069\n",
      "Epoch 63/100\n",
      "78/78 [==============================] - 0s 156us/step - loss: 0.0032 - val_loss: 0.0066\n",
      "Epoch 64/100\n",
      "78/78 [==============================] - 0s 147us/step - loss: 0.0031 - val_loss: 0.0063\n",
      "Epoch 65/100\n",
      "78/78 [==============================] - 0s 433us/step - loss: 0.0029 - val_loss: 0.0060\n",
      "Epoch 66/100\n",
      "78/78 [==============================] - 0s 152us/step - loss: 0.0028 - val_loss: 0.0057\n",
      "Epoch 67/100\n",
      "78/78 [==============================] - 0s 139us/step - loss: 0.0027 - val_loss: 0.0054\n",
      "Epoch 68/100\n",
      "78/78 [==============================] - 0s 152us/step - loss: 0.0026 - val_loss: 0.0051\n",
      "Epoch 69/100\n",
      "78/78 [==============================] - 0s 152us/step - loss: 0.0025 - val_loss: 0.0047\n",
      "Epoch 70/100\n",
      "78/78 [==============================] - 0s 155us/step - loss: 0.0024 - val_loss: 0.0045\n",
      "Epoch 71/100\n",
      "78/78 [==============================] - 0s 151us/step - loss: 0.0023 - val_loss: 0.0042\n",
      "Epoch 72/100\n",
      "78/78 [==============================] - 0s 143us/step - loss: 0.0022 - val_loss: 0.0040\n",
      "Epoch 73/100\n",
      "78/78 [==============================] - 0s 172us/step - loss: 0.0021 - val_loss: 0.0038\n",
      "Epoch 74/100\n",
      "78/78 [==============================] - 0s 161us/step - loss: 0.0021 - val_loss: 0.0036\n",
      "Epoch 75/100\n",
      "78/78 [==============================] - 0s 173us/step - loss: 0.0020 - val_loss: 0.0034\n",
      "Epoch 76/100\n",
      "78/78 [==============================] - 0s 181us/step - loss: 0.0019 - val_loss: 0.0032\n",
      "Epoch 77/100\n",
      "78/78 [==============================] - 0s 170us/step - loss: 0.0018 - val_loss: 0.0030\n",
      "Epoch 78/100\n",
      "78/78 [==============================] - 0s 169us/step - loss: 0.0018 - val_loss: 0.0029\n",
      "Epoch 79/100\n",
      "78/78 [==============================] - 0s 167us/step - loss: 0.0017 - val_loss: 0.0027\n",
      "Epoch 80/100\n",
      "78/78 [==============================] - 0s 167us/step - loss: 0.0017 - val_loss: 0.0026\n"
     ]
    },
    {
     "name": "stdout",
     "output_type": "stream",
     "text": [
      "Epoch 81/100\n",
      "78/78 [==============================] - 0s 162us/step - loss: 0.0016 - val_loss: 0.0024\n",
      "Epoch 82/100\n",
      "78/78 [==============================] - 0s 156us/step - loss: 0.0016 - val_loss: 0.0024\n",
      "Epoch 83/100\n",
      "78/78 [==============================] - 0s 161us/step - loss: 0.0015 - val_loss: 0.0022\n",
      "Epoch 84/100\n",
      "78/78 [==============================] - 0s 156us/step - loss: 0.0015 - val_loss: 0.0021\n",
      "Epoch 85/100\n",
      "78/78 [==============================] - 0s 159us/step - loss: 0.0014 - val_loss: 0.0020\n",
      "Epoch 86/100\n",
      "78/78 [==============================] - 0s 156us/step - loss: 0.0014 - val_loss: 0.0019\n",
      "Epoch 87/100\n",
      "78/78 [==============================] - 0s 156us/step - loss: 0.0014 - val_loss: 0.0018\n",
      "Epoch 88/100\n",
      "78/78 [==============================] - 0s 169us/step - loss: 0.0013 - val_loss: 0.0017\n",
      "Epoch 89/100\n",
      "78/78 [==============================] - 0s 161us/step - loss: 0.0013 - val_loss: 0.0016\n",
      "Epoch 90/100\n",
      "78/78 [==============================] - 0s 156us/step - loss: 0.0013 - val_loss: 0.0015\n",
      "Epoch 91/100\n",
      "78/78 [==============================] - 0s 157us/step - loss: 0.0012 - val_loss: 0.0014\n",
      "Epoch 92/100\n",
      "78/78 [==============================] - 0s 162us/step - loss: 0.0012 - val_loss: 0.0014\n",
      "Epoch 93/100\n",
      "78/78 [==============================] - 0s 163us/step - loss: 0.0012 - val_loss: 0.0013\n",
      "Epoch 94/100\n",
      "78/78 [==============================] - 0s 167us/step - loss: 0.0012 - val_loss: 0.0012\n",
      "Epoch 95/100\n",
      "78/78 [==============================] - 0s 159us/step - loss: 0.0011 - val_loss: 0.0012\n",
      "Epoch 96/100\n",
      "78/78 [==============================] - 0s 158us/step - loss: 0.0011 - val_loss: 0.0011\n",
      "Epoch 97/100\n",
      "78/78 [==============================] - 0s 158us/step - loss: 0.0011 - val_loss: 0.0011\n",
      "Epoch 98/100\n",
      "78/78 [==============================] - 0s 158us/step - loss: 0.0011 - val_loss: 0.0010\n",
      "Epoch 99/100\n",
      "78/78 [==============================] - 0s 176us/step - loss: 0.0011 - val_loss: 9.4870e-04\n",
      "Epoch 100/100\n",
      "78/78 [==============================] - 0s 164us/step - loss: 0.0011 - val_loss: 8.8936e-04\n"
     ]
    }
   ],
   "source": [
    "#fit the model on our training data\n",
    "result1=model.fit(X_train, y_train, epochs=100, validation_split=0.10)"
   ]
  },
  {
   "cell_type": "markdown",
   "metadata": {},
   "source": [
    "Great, model trained. Now let's test this model's predicting ability on our unseen test data and get the Root Mean Squared Error."
   ]
  },
  {
   "cell_type": "code",
   "execution_count": 37,
   "metadata": {
    "ExecuteTime": {
     "end_time": "2021-01-27T21:06:35.545553Z",
     "start_time": "2021-01-27T21:06:35.540504Z"
    }
   },
   "outputs": [
    {
     "name": "stdout",
     "output_type": "stream",
     "text": [
      "_________________________________________________________________\n",
      "Layer (type)                 Output Shape              Param #   \n",
      "=================================================================\n",
      "lstm_1 (LSTM)                (None, 50)                10400     \n",
      "_________________________________________________________________\n",
      "dense_1 (Dense)              (None, 1)                 51        \n",
      "=================================================================\n",
      "Total params: 10,451\n",
      "Trainable params: 10,451\n",
      "Non-trainable params: 0\n",
      "_________________________________________________________________\n"
     ]
    }
   ],
   "source": [
    "model.summary()"
   ]
  },
  {
   "cell_type": "code",
   "execution_count": 38,
   "metadata": {
    "ExecuteTime": {
     "end_time": "2021-01-27T21:06:36.172909Z",
     "start_time": "2021-01-27T21:06:36.105185Z"
    }
   },
   "outputs": [],
   "source": [
    "yhat = model.predict(X_test)"
   ]
  },
  {
   "cell_type": "code",
   "execution_count": 39,
   "metadata": {
    "ExecuteTime": {
     "end_time": "2021-01-27T21:06:36.480773Z",
     "start_time": "2021-01-27T21:06:36.475601Z"
    },
    "scrolled": true
   },
   "outputs": [
    {
     "name": "stdout",
     "output_type": "stream",
     "text": [
      "Baseline MSE: 0.00037491624304423403\n",
      "Baseline RMSE: 0.019362754014969927\n"
     ]
    }
   ],
   "source": [
    "rmse = np.sqrt(mean_squared_error(y_test, yhat))\n",
    "print('Baseline MSE:', mean_squared_error(y_test, yhat))\n",
    "print('Baseline RMSE:', rmse)"
   ]
  },
  {
   "cell_type": "markdown",
   "metadata": {},
   "source": [
    "OK, we have a decent baseline RMSE. Let's now define a function for visualizing the validation loss over epochs."
   ]
  },
  {
   "cell_type": "code",
   "execution_count": 57,
   "metadata": {
    "ExecuteTime": {
     "end_time": "2021-01-27T21:28:50.881146Z",
     "start_time": "2021-01-27T21:28:50.876805Z"
    }
   },
   "outputs": [],
   "source": [
    "def visualize_training_results(results):\n",
    "    history = results.history\n",
    "    plt.figure()\n",
    "    plt.plot(history['val_loss'])\n",
    "    plt.plot(history['loss'])\n",
    "    plt.legend(['validation loss', 'train loss'])\n",
    "    plt.title('Loss (MSE)')\n",
    "    plt.xlabel('Epochs')\n",
    "    plt.ylabel('loss (MSE)')\n",
    "    plt.show()"
   ]
  },
  {
   "cell_type": "code",
   "execution_count": 58,
   "metadata": {
    "ExecuteTime": {
     "end_time": "2021-01-27T21:28:52.586727Z",
     "start_time": "2021-01-27T21:28:52.332254Z"
    },
    "scrolled": true
   },
   "outputs": [
    {
     "data": {
      "image/png": "[encoded data removed]",
      "text/plain": [
       "<Figure size 432x288 with 1 Axes>"
      ]
     },
     "metadata": {
      "needs_background": "light"
     },
     "output_type": "display_data"
    }
   ],
   "source": [
    "visualize_training_results(result1)"
   ]
  },
  {
   "cell_type": "markdown",
   "metadata": {},
   "source": [
    "Our validation loss (MSE) converges at about 50 epochs.\n",
    "\n",
    "One thing to note here is that LSTM modeling is very powerful when tuned so we will try and improve on this and see if we can do better than our ARIMA model."
   ]
  },
  {
   "cell_type": "markdown",
   "metadata": {},
   "source": [
    "Let's plot the predictions our model made against the true values."
   ]
  },
  {
   "cell_type": "code",
   "execution_count": null,
   "metadata": {
    "ExecuteTime": {
     "end_time": "2021-01-27T20:57:40.880480Z",
     "start_time": "2021-01-27T20:57:28.508Z"
    }
   },
   "outputs": [],
   "source": [
    "fig,ax=plt.subplots(figsize=(20,12))\n",
    "\n",
    "plt.plot(train)\n",
    "plt.plot(test)\n",
    "plt.plot(test.index[3:], yhat) #predictions\n",
    "\n",
    "\n",
    "# preds is series, need to attribute values to the datetime of test set"
   ]
  },
  {
   "cell_type": "markdown",
   "metadata": {},
   "source": [
    "## Stacking LSTM Layers\n",
    "Let's see if adding hidden layers will improve the RMSE of our model's predictions. Let's also lower the number of training epochs to 60, as it is likely, again, the convergence will happen before that.\n",
    "\n",
    "The ouput sequence shape of this extra LSTM layer needs to match the input of the next, so we will set the 'return_sequences' parameter to true."
   ]
  },
  {
   "cell_type": "code",
   "execution_count": null,
   "metadata": {
    "ExecuteTime": {
     "end_time": "2021-01-27T20:57:40.881436Z",
     "start_time": "2021-01-27T20:57:28.511Z"
    },
    "scrolled": true
   },
   "outputs": [],
   "source": [
    "model2 = Sequential()\n",
    "model2.add(LSTM(50, activation='relu', return_sequences=True, input_shape=(n_steps, n_features)))  \n",
    "model2.add(LSTM(25, activation='relu'))\n",
    "model2.add(Dense(1))\n",
    "# model2.add(Dropout(0.1))  #Dropout penalizes a more-complex model. It made our RMSE much worse here\n",
    "model2.compile(optimizer='adam', loss='mse')\n",
    "\n",
    "result2 = model2.fit(X_train, y_train, epochs=60, validation_split=(0.1))\n",
    "\n",
    "yhat2 = model2.predict(X_test)\n",
    "print('\\n')\n",
    "rmse = np.sqrt(mean_squared_error(y_test, yhat2))\n",
    "print('Baseline MSE:', mean_squared_error(y_test, yhat2))\n",
    "print('Baseline RMSE:', rmse)"
   ]
  },
  {
   "cell_type": "markdown",
   "metadata": {},
   "source": [
    "Now our results for each run of the model vary slightly, due to the stochastic nature of the algorithm. This considered, the extra layer seems to have improved the model."
   ]
  },
  {
   "cell_type": "code",
   "execution_count": null,
   "metadata": {
    "ExecuteTime": {
     "end_time": "2021-01-27T20:57:40.882303Z",
     "start_time": "2021-01-27T20:57:28.514Z"
    },
    "scrolled": true
   },
   "outputs": [],
   "source": [
    "visualize_training_results(result2)"
   ]
  },
  {
   "cell_type": "markdown",
   "metadata": {},
   "source": [
    "One thing noticed here, is the convergence is happening earlier."
   ]
  },
  {
   "cell_type": "markdown",
   "metadata": {},
   "source": [
    "## Bidirectional LSTM\n",
    "Bidirectional modeling will learn the input sequences both forwards and backwards and then combine both learnings."
   ]
  },
  {
   "cell_type": "code",
   "execution_count": null,
   "metadata": {
    "ExecuteTime": {
     "end_time": "2021-01-27T20:57:40.883177Z",
     "start_time": "2021-01-27T20:57:28.517Z"
    },
    "scrolled": true
   },
   "outputs": [],
   "source": [
    "model3 = Sequential()\n",
    "model3.add(Bidirectional(LSTM(50, activation='relu'), input_shape=(n_steps, n_features)))\n",
    "model3.add(Dense(1))\n",
    "model3.compile(optimizer='adam', loss='mse')\n",
    "\n",
    "result3 = model3.fit(X_train, y_train, epochs=60, validation_split=(0.1))\n",
    "\n",
    "yhat3 = model3.predict(X_test)\n",
    "\n",
    "rmse = np.sqrt(mean_squared_error(y_test, yhat3))\n",
    "print('\\n')\n",
    "print('MSE:', mean_squared_error(y_test, yhat3))\n",
    "print('RMSE:', rmse)\n",
    "\n",
    "visualize_training_results(result3)"
   ]
  },
  {
   "cell_type": "markdown",
   "metadata": {},
   "source": [
    "RMSE worse here. Let's refer back to the first two LSTM models."
   ]
  },
  {
   "cell_type": "markdown",
   "metadata": {},
   "source": [
    "## Stationary Data for LSTM*\n",
    "Although not necessary for LSTMs, it could make the model's job easier by feeding it differenced data. Let's use the differenced acousticness values that we used for our intial ARIMA modeling."
   ]
  },
  {
   "cell_type": "code",
   "execution_count": 70,
   "metadata": {
    "ExecuteTime": {
     "end_time": "2021-01-27T21:45:12.980694Z",
     "start_time": "2021-01-27T21:45:12.974541Z"
    },
    "scrolled": false
   },
   "outputs": [
    {
     "data": {
      "text/plain": [
       "year\n",
       "1922-01-01    0.0040\n",
       "1923-01-01   -0.0020\n",
       "1924-01-01    0.0020\n",
       "1925-01-01   -0.0050\n",
       "1926-01-01    0.0030\n",
       "               ...  \n",
       "2016-01-01    0.0330\n",
       "2017-01-01    0.0190\n",
       "2018-01-01   -0.0010\n",
       "2019-01-01    0.0075\n",
       "2020-01-01   -0.0295\n",
       "Name: acousticness, Length: 99, dtype: float64"
      ]
     },
     "execution_count": 70,
     "metadata": {},
     "output_type": "execute_result"
    }
   ],
   "source": [
    "data_diff"
   ]
  },
  {
   "cell_type": "code",
   "execution_count": 71,
   "metadata": {
    "ExecuteTime": {
     "end_time": "2021-01-27T21:45:14.787506Z",
     "start_time": "2021-01-27T21:45:14.781302Z"
    },
    "scrolled": true
   },
   "outputs": [],
   "source": [
    "train=data_diff[:90] \n",
    "test=data_diff[90:]\n",
    "\n",
    "# define input sequence\n",
    "train_seq = list(train)\n",
    "test_seq = list(test)\n",
    "\n",
    "# choose a number of time steps\n",
    "n_steps = 5      #here 3 and 2 steps received worse results\n",
    "\n",
    "# split into samples\n",
    "X_train, y_train = split_sequence(train_seq, n_steps)\n",
    "X_test, y_test = split_sequence(test_seq, n_steps) \n",
    "\n",
    "n_features = 1\n",
    "\n",
    "# #reshape from [samples, timesteps] into [samples, timesteps, features]\n",
    "X_train = X_train.reshape((X_train.shape[0], X_train.shape[1], n_features))\n",
    "X_test = X_test.reshape((X_test.shape[0], X_test.shape[1], n_features))\n",
    "\n",
    "\n",
    "# print the data sequence with steps:\n",
    "# for i in range(len(X_train)):\n",
    "# \tprint(X_train[i], y_train[i])"
   ]
  },
  {
   "cell_type": "code",
   "execution_count": 72,
   "metadata": {
    "ExecuteTime": {
     "end_time": "2021-01-27T21:45:23.712374Z",
     "start_time": "2021-01-27T21:45:19.480190Z"
    },
    "scrolled": true
   },
   "outputs": [
    {
     "name": "stdout",
     "output_type": "stream",
     "text": [
      "Train on 68 samples, validate on 17 samples\n",
      "Epoch 1/200\n",
      "68/68 [==============================] - 1s 20ms/step - loss: 9.4230e-04 - val_loss: 2.0870e-04\n",
      "Epoch 2/200\n",
      "68/68 [==============================] - 0s 112us/step - loss: 8.4001e-04 - val_loss: 2.7769e-04\n",
      "Epoch 3/200\n",
      "68/68 [==============================] - 0s 96us/step - loss: 7.9477e-04 - val_loss: 3.9137e-04\n",
      "Epoch 4/200\n",
      "68/68 [==============================] - 0s 94us/step - loss: 8.2405e-04 - val_loss: 4.5569e-04\n",
      "Epoch 5/200\n",
      "68/68 [==============================] - 0s 94us/step - loss: 8.5268e-04 - val_loss: 4.4503e-04\n",
      "Epoch 6/200\n",
      "68/68 [==============================] - 0s 99us/step - loss: 8.4640e-04 - val_loss: 3.9094e-04\n",
      "Epoch 7/200\n",
      "68/68 [==============================] - 0s 98us/step - loss: 8.2018e-04 - val_loss: 3.2806e-04\n",
      "Epoch 8/200\n",
      "68/68 [==============================] - 0s 118us/step - loss: 7.9562e-04 - val_loss: 2.7453e-04\n",
      "Epoch 9/200\n",
      "68/68 [==============================] - 0s 98us/step - loss: 7.8362e-04 - val_loss: 2.4009e-04\n",
      "Epoch 10/200\n",
      "68/68 [==============================] - 0s 109us/step - loss: 7.8587e-04 - val_loss: 2.2307e-04\n",
      "Epoch 11/200\n",
      "68/68 [==============================] - 0s 105us/step - loss: 7.9507e-04 - val_loss: 2.1694e-04\n",
      "Epoch 12/200\n",
      "68/68 [==============================] - 0s 123us/step - loss: 8.0205e-04 - val_loss: 2.1649e-04\n",
      "Epoch 13/200\n",
      "68/68 [==============================] - 0s 108us/step - loss: 8.0150e-04 - val_loss: 2.2001e-04\n",
      "Epoch 14/200\n",
      "68/68 [==============================] - 0s 101us/step - loss: 7.9388e-04 - val_loss: 2.2847e-04\n",
      "Epoch 15/200\n",
      "68/68 [==============================] - 0s 103us/step - loss: 7.8335e-04 - val_loss: 2.4305e-04\n",
      "Epoch 16/200\n",
      "68/68 [==============================] - 0s 104us/step - loss: 7.7468e-04 - val_loss: 2.6314e-04\n",
      "Epoch 17/200\n",
      "68/68 [==============================] - 0s 114us/step - loss: 7.7089e-04 - val_loss: 2.8557e-04\n",
      "Epoch 18/200\n",
      "68/68 [==============================] - 0s 115us/step - loss: 7.7204e-04 - val_loss: 3.0447e-04\n",
      "Epoch 19/200\n",
      "68/68 [==============================] - 0s 106us/step - loss: 7.7550e-04 - val_loss: 3.1496e-04\n",
      "Epoch 20/200\n",
      "68/68 [==============================] - 0s 95us/step - loss: 7.7784e-04 - val_loss: 3.1435e-04\n",
      "Epoch 21/200\n",
      "68/68 [==============================] - 0s 111us/step - loss: 7.7688e-04 - val_loss: 3.0381e-04\n",
      "Epoch 22/200\n",
      "68/68 [==============================] - 0s 107us/step - loss: 7.7280e-04 - val_loss: 2.8740e-04\n",
      "Epoch 23/200\n",
      "68/68 [==============================] - 0s 113us/step - loss: 7.6769e-04 - val_loss: 2.6958e-04\n",
      "Epoch 24/200\n",
      "68/68 [==============================] - 0s 118us/step - loss: 7.6378e-04 - val_loss: 2.5407e-04\n",
      "Epoch 25/200\n",
      "68/68 [==============================] - 0s 103us/step - loss: 7.6233e-04 - val_loss: 2.4271e-04\n",
      "Epoch 26/200\n",
      "68/68 [==============================] - 0s 112us/step - loss: 7.6307e-04 - val_loss: 2.3609e-04\n",
      "Epoch 27/200\n",
      "68/68 [==============================] - 0s 119us/step - loss: 7.6452e-04 - val_loss: 2.3345e-04\n",
      "Epoch 28/200\n",
      "68/68 [==============================] - 0s 102us/step - loss: 7.6508e-04 - val_loss: 2.3412e-04\n",
      "Epoch 29/200\n",
      "68/68 [==============================] - 0s 116us/step - loss: 7.6398e-04 - val_loss: 2.3778e-04\n",
      "Epoch 30/200\n",
      "68/68 [==============================] - 0s 114us/step - loss: 7.6160e-04 - val_loss: 2.4414e-04\n",
      "Epoch 31/200\n",
      "68/68 [==============================] - 0s 100us/step - loss: 7.5912e-04 - val_loss: 2.5263e-04\n",
      "Epoch 32/200\n",
      "68/68 [==============================] - 0s 112us/step - loss: 7.5759e-04 - val_loss: 2.6197e-04\n",
      "Epoch 33/200\n",
      "68/68 [==============================] - 0s 109us/step - loss: 7.5738e-04 - val_loss: 2.6997e-04\n",
      "Epoch 34/200\n",
      "68/68 [==============================] - 0s 96us/step - loss: 7.5803e-04 - val_loss: 2.7457e-04\n",
      "Epoch 35/200\n",
      "68/68 [==============================] - 0s 98us/step - loss: 7.5857e-04 - val_loss: 2.7463e-04\n",
      "Epoch 36/200\n",
      "68/68 [==============================] - 0s 97us/step - loss: 7.5830e-04 - val_loss: 2.7051e-04\n",
      "Epoch 37/200\n",
      "68/68 [==============================] - 0s 108us/step - loss: 7.5719e-04 - val_loss: 2.6368e-04\n",
      "Epoch 38/200\n",
      "68/68 [==============================] - 0s 98us/step - loss: 7.5584e-04 - val_loss: 2.5609e-04\n",
      "Epoch 39/200\n",
      "68/68 [==============================] - 0s 98us/step - loss: 7.5492e-04 - val_loss: 2.4938e-04\n",
      "Epoch 40/200\n",
      "68/68 [==============================] - 0s 97us/step - loss: 7.5474e-04 - val_loss: 2.4470e-04\n",
      "Epoch 41/200\n",
      "68/68 [==============================] - 0s 100us/step - loss: 7.5507e-04 - val_loss: 2.4229e-04\n",
      "Epoch 42/200\n",
      "68/68 [==============================] - 0s 100us/step - loss: 7.5535e-04 - val_loss: 2.4214e-04\n",
      "Epoch 43/200\n",
      "68/68 [==============================] - 0s 106us/step - loss: 7.5518e-04 - val_loss: 2.4402e-04\n",
      "Epoch 44/200\n",
      "68/68 [==============================] - 0s 139us/step - loss: 7.5456e-04 - val_loss: 2.4756e-04\n",
      "Epoch 45/200\n",
      "68/68 [==============================] - 0s 111us/step - loss: 7.5384e-04 - val_loss: 2.5215e-04\n",
      "Epoch 46/200\n",
      "68/68 [==============================] - 0s 88us/step - loss: 7.5339e-04 - val_loss: 2.5690e-04\n",
      "Epoch 47/200\n",
      "68/68 [==============================] - 0s 114us/step - loss: 7.5335e-04 - val_loss: 2.6061e-04\n",
      "Epoch 48/200\n",
      "68/68 [==============================] - 0s 113us/step - loss: 7.5352e-04 - val_loss: 2.6234e-04\n",
      "Epoch 49/200\n",
      "68/68 [==============================] - 0s 119us/step - loss: 7.5358e-04 - val_loss: 2.6180e-04\n",
      "Epoch 50/200\n",
      "68/68 [==============================] - 0s 103us/step - loss: 7.5337e-04 - val_loss: 2.5935e-04\n",
      "Epoch 51/200\n",
      "68/68 [==============================] - 0s 92us/step - loss: 7.5295e-04 - val_loss: 2.5589e-04\n",
      "Epoch 52/200\n",
      "68/68 [==============================] - 0s 92us/step - loss: 7.5256e-04 - val_loss: 2.5240e-04\n",
      "Epoch 53/200\n",
      "68/68 [==============================] - 0s 126us/step - loss: 7.5238e-04 - val_loss: 2.4965e-04\n",
      "Epoch 54/200\n",
      "68/68 [==============================] - 0s 105us/step - loss: 7.5238e-04 - val_loss: 2.4815e-04\n",
      "Epoch 55/200\n",
      "68/68 [==============================] - 0s 100us/step - loss: 7.5241e-04 - val_loss: 2.4801e-04\n",
      "Epoch 56/200\n",
      "68/68 [==============================] - 0s 96us/step - loss: 7.5232e-04 - val_loss: 2.4916e-04\n",
      "Epoch 57/200\n",
      "68/68 [==============================] - 0s 109us/step - loss: 7.5208e-04 - val_loss: 2.5131e-04\n",
      "Epoch 58/200\n",
      "68/68 [==============================] - 0s 98us/step - loss: 7.5179e-04 - val_loss: 2.5400e-04\n",
      "Epoch 59/200\n",
      "68/68 [==============================] - 0s 93us/step - loss: 7.5159e-04 - val_loss: 2.5663e-04\n",
      "Epoch 60/200\n",
      "68/68 [==============================] - 0s 121us/step - loss: 7.5150e-04 - val_loss: 2.5858e-04\n",
      "Epoch 61/200\n",
      "68/68 [==============================] - 0s 103us/step - loss: 7.5147e-04 - val_loss: 2.5943e-04\n",
      "Epoch 62/200\n",
      "68/68 [==============================] - 0s 89us/step - loss: 7.5139e-04 - val_loss: 2.5910e-04\n",
      "Epoch 63/200\n",
      "68/68 [==============================] - 0s 107us/step - loss: 7.5123e-04 - val_loss: 2.5782e-04\n",
      "Epoch 64/200\n",
      "68/68 [==============================] - 0s 99us/step - loss: 7.5101e-04 - val_loss: 2.5611e-04\n",
      "Epoch 65/200\n",
      "68/68 [==============================] - 0s 97us/step - loss: 7.5083e-04 - val_loss: 2.5449e-04\n",
      "Epoch 66/200\n",
      "68/68 [==============================] - 0s 107us/step - loss: 7.5072e-04 - val_loss: 2.5336e-04\n",
      "Epoch 67/200\n",
      "68/68 [==============================] - 0s 112us/step - loss: 7.5064e-04 - val_loss: 2.5297e-04\n",
      "Epoch 68/200\n",
      "68/68 [==============================] - 0s 105us/step - loss: 7.5056e-04 - val_loss: 2.5338e-04\n",
      "Epoch 69/200\n",
      "68/68 [==============================] - 0s 111us/step - loss: 7.5043e-04 - val_loss: 2.5447e-04\n",
      "Epoch 70/200\n",
      "68/68 [==============================] - 0s 92us/step - loss: 7.5026e-04 - val_loss: 2.5599e-04\n",
      "Epoch 71/200\n",
      "68/68 [==============================] - 0s 105us/step - loss: 7.5011e-04 - val_loss: 2.5761e-04\n",
      "Epoch 72/200\n",
      "68/68 [==============================] - 0s 91us/step - loss: 7.4999e-04 - val_loss: 2.5896e-04\n",
      "Epoch 73/200\n",
      "68/68 [==============================] - 0s 100us/step - loss: 7.4990e-04 - val_loss: 2.5976e-04\n",
      "Epoch 74/200\n",
      "68/68 [==============================] - 0s 98us/step - loss: 7.4981e-04 - val_loss: 2.5990e-04\n",
      "Epoch 75/200\n",
      "68/68 [==============================] - 0s 116us/step - loss: 7.4969e-04 - val_loss: 2.5946e-04\n"
     ]
    },
    {
     "name": "stdout",
     "output_type": "stream",
     "text": [
      "Epoch 76/200\n",
      "68/68 [==============================] - 0s 114us/step - loss: 7.4956e-04 - val_loss: 2.5868e-04\n",
      "Epoch 77/200\n",
      "68/68 [==============================] - 0s 114us/step - loss: 7.4943e-04 - val_loss: 2.5784e-04\n",
      "Epoch 78/200\n",
      "68/68 [==============================] - 0s 105us/step - loss: 7.4932e-04 - val_loss: 2.5722e-04\n",
      "Epoch 79/200\n",
      "68/68 [==============================] - 0s 97us/step - loss: 7.4923e-04 - val_loss: 2.5699e-04\n",
      "Epoch 80/200\n",
      "68/68 [==============================] - 0s 98us/step - loss: 7.4913e-04 - val_loss: 2.5723e-04\n",
      "Epoch 81/200\n",
      "68/68 [==============================] - 0s 99us/step - loss: 7.4903e-04 - val_loss: 2.5787e-04\n",
      "Epoch 82/200\n",
      "68/68 [==============================] - 0s 104us/step - loss: 7.4891e-04 - val_loss: 2.5878e-04\n",
      "Epoch 83/200\n",
      "68/68 [==============================] - 0s 143us/step - loss: 7.4879e-04 - val_loss: 2.5976e-04\n",
      "Epoch 84/200\n",
      "68/68 [==============================] - 0s 160us/step - loss: 7.4869e-04 - val_loss: 2.6059e-04\n",
      "Epoch 85/200\n",
      "68/68 [==============================] - 0s 139us/step - loss: 7.4859e-04 - val_loss: 2.6110e-04\n",
      "Epoch 86/200\n",
      "68/68 [==============================] - 0s 111us/step - loss: 7.4850e-04 - val_loss: 2.6125e-04\n",
      "Epoch 87/200\n",
      "68/68 [==============================] - 0s 111us/step - loss: 7.4840e-04 - val_loss: 2.6106e-04\n",
      "Epoch 88/200\n",
      "68/68 [==============================] - 0s 106us/step - loss: 7.4829e-04 - val_loss: 2.6068e-04\n",
      "Epoch 89/200\n",
      "68/68 [==============================] - 0s 109us/step - loss: 7.4818e-04 - val_loss: 2.6027e-04\n",
      "Epoch 90/200\n",
      "68/68 [==============================] - 0s 104us/step - loss: 7.4808e-04 - val_loss: 2.5999e-04\n",
      "Epoch 91/200\n",
      "68/68 [==============================] - 0s 93us/step - loss: 7.4799e-04 - val_loss: 2.5995e-04\n",
      "Epoch 92/200\n",
      "68/68 [==============================] - 0s 98us/step - loss: 7.4789e-04 - val_loss: 2.6018e-04\n",
      "Epoch 93/200\n",
      "68/68 [==============================] - 0s 93us/step - loss: 7.4779e-04 - val_loss: 2.6064e-04\n",
      "Epoch 94/200\n",
      "68/68 [==============================] - 0s 94us/step - loss: 7.4768e-04 - val_loss: 2.6123e-04\n",
      "Epoch 95/200\n",
      "68/68 [==============================] - 0s 95us/step - loss: 7.4758e-04 - val_loss: 2.6182e-04\n",
      "Epoch 96/200\n",
      "68/68 [==============================] - 0s 101us/step - loss: 7.4748e-04 - val_loss: 2.6229e-04\n",
      "Epoch 97/200\n",
      "68/68 [==============================] - 0s 109us/step - loss: 7.4738e-04 - val_loss: 2.6256e-04\n",
      "Epoch 98/200\n",
      "68/68 [==============================] - 0s 104us/step - loss: 7.4728e-04 - val_loss: 2.6261e-04\n",
      "Epoch 99/200\n",
      "68/68 [==============================] - 0s 104us/step - loss: 7.4718e-04 - val_loss: 2.6250e-04\n",
      "Epoch 100/200\n",
      "68/68 [==============================] - 0s 100us/step - loss: 7.4708e-04 - val_loss: 2.6230e-04\n",
      "Epoch 101/200\n",
      "68/68 [==============================] - 0s 99us/step - loss: 7.4697e-04 - val_loss: 2.6214e-04\n",
      "Epoch 102/200\n",
      "68/68 [==============================] - 0s 101us/step - loss: 7.4687e-04 - val_loss: 2.6210e-04\n",
      "Epoch 103/200\n",
      "68/68 [==============================] - 0s 96us/step - loss: 7.4677e-04 - val_loss: 2.6221e-04\n",
      "Epoch 104/200\n",
      "68/68 [==============================] - 0s 105us/step - loss: 7.4667e-04 - val_loss: 2.6247e-04\n",
      "Epoch 105/200\n",
      "68/68 [==============================] - 0s 98us/step - loss: 7.4656e-04 - val_loss: 2.6284e-04\n",
      "Epoch 106/200\n",
      "68/68 [==============================] - 0s 94us/step - loss: 7.4646e-04 - val_loss: 2.6324e-04\n",
      "Epoch 107/200\n",
      "68/68 [==============================] - 0s 92us/step - loss: 7.4635e-04 - val_loss: 2.6359e-04\n",
      "Epoch 108/200\n",
      "68/68 [==============================] - 0s 110us/step - loss: 7.4625e-04 - val_loss: 2.6383e-04\n",
      "Epoch 109/200\n",
      "68/68 [==============================] - 0s 111us/step - loss: 7.4614e-04 - val_loss: 2.6393e-04\n",
      "Epoch 110/200\n",
      "68/68 [==============================] - 0s 104us/step - loss: 7.4603e-04 - val_loss: 2.6393e-04\n",
      "Epoch 111/200\n",
      "68/68 [==============================] - 0s 109us/step - loss: 7.4592e-04 - val_loss: 2.6387e-04\n",
      "Epoch 112/200\n",
      "68/68 [==============================] - 0s 94us/step - loss: 7.4581e-04 - val_loss: 2.6382e-04\n",
      "Epoch 113/200\n",
      "68/68 [==============================] - 0s 101us/step - loss: 7.4570e-04 - val_loss: 2.6383e-04\n",
      "Epoch 114/200\n",
      "68/68 [==============================] - 0s 99us/step - loss: 7.4559e-04 - val_loss: 2.6395e-04\n",
      "Epoch 115/200\n",
      "68/68 [==============================] - 0s 130us/step - loss: 7.4548e-04 - val_loss: 2.6416e-04\n",
      "Epoch 116/200\n",
      "68/68 [==============================] - 0s 102us/step - loss: 7.4536e-04 - val_loss: 2.6444e-04\n",
      "Epoch 117/200\n",
      "68/68 [==============================] - 0s 103us/step - loss: 7.4525e-04 - val_loss: 2.6473e-04\n",
      "Epoch 118/200\n",
      "68/68 [==============================] - 0s 106us/step - loss: 7.4513e-04 - val_loss: 2.6498e-04\n",
      "Epoch 119/200\n",
      "68/68 [==============================] - 0s 99us/step - loss: 7.4501e-04 - val_loss: 2.6516e-04\n",
      "Epoch 120/200\n",
      "68/68 [==============================] - 0s 114us/step - loss: 7.4489e-04 - val_loss: 2.6526e-04\n",
      "Epoch 121/200\n",
      "68/68 [==============================] - 0s 109us/step - loss: 7.4477e-04 - val_loss: 2.6530e-04\n",
      "Epoch 122/200\n",
      "68/68 [==============================] - 0s 103us/step - loss: 7.4465e-04 - val_loss: 2.6531e-04\n",
      "Epoch 123/200\n",
      "68/68 [==============================] - 0s 96us/step - loss: 7.4452e-04 - val_loss: 2.6535e-04\n",
      "Epoch 124/200\n",
      "68/68 [==============================] - 0s 103us/step - loss: 7.4440e-04 - val_loss: 2.6544e-04\n",
      "Epoch 125/200\n",
      "68/68 [==============================] - 0s 113us/step - loss: 7.4427e-04 - val_loss: 2.6559e-04\n",
      "Epoch 126/200\n",
      "68/68 [==============================] - 0s 132us/step - loss: 7.4414e-04 - val_loss: 2.6580e-04\n",
      "Epoch 127/200\n",
      "68/68 [==============================] - 0s 102us/step - loss: 7.4401e-04 - val_loss: 2.6604e-04\n",
      "Epoch 128/200\n",
      "68/68 [==============================] - 0s 113us/step - loss: 7.4388e-04 - val_loss: 2.6626e-04\n",
      "Epoch 129/200\n",
      "68/68 [==============================] - 0s 108us/step - loss: 7.4374e-04 - val_loss: 2.6645e-04\n",
      "Epoch 130/200\n",
      "68/68 [==============================] - 0s 110us/step - loss: 7.4360e-04 - val_loss: 2.6658e-04\n",
      "Epoch 131/200\n",
      "68/68 [==============================] - 0s 122us/step - loss: 7.4346e-04 - val_loss: 2.6667e-04\n",
      "Epoch 132/200\n",
      "68/68 [==============================] - 0s 101us/step - loss: 7.4332e-04 - val_loss: 2.6674e-04\n",
      "Epoch 133/200\n",
      "68/68 [==============================] - 0s 108us/step - loss: 7.4318e-04 - val_loss: 2.6682e-04\n",
      "Epoch 134/200\n",
      "68/68 [==============================] - 0s 105us/step - loss: 7.4303e-04 - val_loss: 2.6693e-04\n",
      "Epoch 135/200\n",
      "68/68 [==============================] - 0s 100us/step - loss: 7.4288e-04 - val_loss: 2.6708e-04\n",
      "Epoch 136/200\n",
      "68/68 [==============================] - 0s 109us/step - loss: 7.4273e-04 - val_loss: 2.6727e-04\n",
      "Epoch 137/200\n",
      "68/68 [==============================] - 0s 123us/step - loss: 7.4257e-04 - val_loss: 2.6748e-04\n",
      "Epoch 138/200\n",
      "68/68 [==============================] - 0s 96us/step - loss: 7.4242e-04 - val_loss: 2.6768e-04\n",
      "Epoch 139/200\n",
      "68/68 [==============================] - 0s 153us/step - loss: 7.4226e-04 - val_loss: 2.6785e-04\n",
      "Epoch 140/200\n",
      "68/68 [==============================] - 0s 99us/step - loss: 7.4210e-04 - val_loss: 2.6799e-04\n",
      "Epoch 141/200\n",
      "68/68 [==============================] - 0s 99us/step - loss: 7.4193e-04 - val_loss: 2.6810e-04\n",
      "Epoch 142/200\n",
      "68/68 [==============================] - 0s 102us/step - loss: 7.4176e-04 - val_loss: 2.6821e-04\n",
      "Epoch 143/200\n",
      "68/68 [==============================] - 0s 93us/step - loss: 7.4159e-04 - val_loss: 2.6832e-04\n",
      "Epoch 144/200\n",
      "68/68 [==============================] - 0s 98us/step - loss: 7.4142e-04 - val_loss: 2.6846e-04\n",
      "Epoch 145/200\n",
      "68/68 [==============================] - 0s 93us/step - loss: 7.4124e-04 - val_loss: 2.6864e-04\n",
      "Epoch 146/200\n",
      "68/68 [==============================] - 0s 98us/step - loss: 7.4106e-04 - val_loss: 2.6883e-04\n",
      "Epoch 147/200\n",
      "68/68 [==============================] - 0s 101us/step - loss: 7.4087e-04 - val_loss: 2.6903e-04\n",
      "Epoch 148/200\n",
      "68/68 [==============================] - 0s 113us/step - loss: 7.4069e-04 - val_loss: 2.6921e-04\n",
      "Epoch 149/200\n",
      "68/68 [==============================] - 0s 110us/step - loss: 7.4049e-04 - val_loss: 2.6937e-04\n",
      "Epoch 150/200\n",
      "68/68 [==============================] - 0s 102us/step - loss: 7.4030e-04 - val_loss: 2.6951e-04\n"
     ]
    },
    {
     "name": "stdout",
     "output_type": "stream",
     "text": [
      "Epoch 151/200\n",
      "68/68 [==============================] - 0s 104us/step - loss: 7.4010e-04 - val_loss: 2.6964e-04\n",
      "Epoch 152/200\n",
      "68/68 [==============================] - 0s 90us/step - loss: 7.3990e-04 - val_loss: 2.6978e-04\n",
      "Epoch 153/200\n",
      "68/68 [==============================] - 0s 84us/step - loss: 7.3969e-04 - val_loss: 2.6994e-04\n",
      "Epoch 154/200\n",
      "68/68 [==============================] - 0s 83us/step - loss: 7.3948e-04 - val_loss: 2.7012e-04\n",
      "Epoch 155/200\n",
      "68/68 [==============================] - 0s 85us/step - loss: 7.3927e-04 - val_loss: 2.7032e-04\n",
      "Epoch 156/200\n",
      "68/68 [==============================] - 0s 82us/step - loss: 7.3905e-04 - val_loss: 2.7052e-04\n",
      "Epoch 157/200\n",
      "68/68 [==============================] - 0s 88us/step - loss: 7.3883e-04 - val_loss: 2.7071e-04\n",
      "Epoch 158/200\n",
      "68/68 [==============================] - 0s 136us/step - loss: 7.3860e-04 - val_loss: 2.7088e-04\n",
      "Epoch 159/200\n",
      "68/68 [==============================] - 0s 92us/step - loss: 7.3837e-04 - val_loss: 2.7103e-04\n",
      "Epoch 160/200\n",
      "68/68 [==============================] - 0s 94us/step - loss: 7.3814e-04 - val_loss: 2.7119e-04\n",
      "Epoch 161/200\n",
      "68/68 [==============================] - 0s 90us/step - loss: 7.3790e-04 - val_loss: 2.7136e-04\n",
      "Epoch 162/200\n",
      "68/68 [==============================] - 0s 85us/step - loss: 7.3765e-04 - val_loss: 2.7155e-04\n",
      "Epoch 163/200\n",
      "68/68 [==============================] - 0s 83us/step - loss: 7.3741e-04 - val_loss: 2.7175e-04\n",
      "Epoch 164/200\n",
      "68/68 [==============================] - 0s 80us/step - loss: 7.3715e-04 - val_loss: 2.7197e-04\n",
      "Epoch 165/200\n",
      "68/68 [==============================] - 0s 137us/step - loss: 7.3690e-04 - val_loss: 2.7217e-04\n",
      "Epoch 166/200\n",
      "68/68 [==============================] - 0s 94us/step - loss: 7.3663e-04 - val_loss: 2.7236e-04\n",
      "Epoch 167/200\n",
      "68/68 [==============================] - 0s 85us/step - loss: 7.3637e-04 - val_loss: 2.7255e-04\n",
      "Epoch 168/200\n",
      "68/68 [==============================] - 0s 83us/step - loss: 7.3610e-04 - val_loss: 2.7273e-04\n",
      "Epoch 169/200\n",
      "68/68 [==============================] - 0s 79us/step - loss: 7.3582e-04 - val_loss: 2.7293e-04\n",
      "Epoch 170/200\n",
      "68/68 [==============================] - 0s 102us/step - loss: 7.3554e-04 - val_loss: 2.7314e-04\n",
      "Epoch 171/200\n",
      "68/68 [==============================] - 0s 129us/step - loss: 7.3525e-04 - val_loss: 2.7336e-04\n",
      "Epoch 172/200\n",
      "68/68 [==============================] - 0s 81us/step - loss: 7.3496e-04 - val_loss: 2.7359e-04\n",
      "Epoch 173/200\n",
      "68/68 [==============================] - 0s 91us/step - loss: 7.3467e-04 - val_loss: 2.7381e-04\n",
      "Epoch 174/200\n",
      "68/68 [==============================] - 0s 85us/step - loss: 7.3437e-04 - val_loss: 2.7403e-04\n",
      "Epoch 175/200\n",
      "68/68 [==============================] - 0s 82us/step - loss: 7.3407e-04 - val_loss: 2.7424e-04\n",
      "Epoch 176/200\n",
      "68/68 [==============================] - 0s 117us/step - loss: 7.3376e-04 - val_loss: 2.7445e-04\n",
      "Epoch 177/200\n",
      "68/68 [==============================] - 0s 90us/step - loss: 7.3344e-04 - val_loss: 2.7468e-04\n",
      "Epoch 178/200\n",
      "68/68 [==============================] - 0s 90us/step - loss: 7.3313e-04 - val_loss: 2.7493e-04\n",
      "Epoch 179/200\n",
      "68/68 [==============================] - 0s 79us/step - loss: 7.3280e-04 - val_loss: 2.7517e-04\n",
      "Epoch 180/200\n",
      "68/68 [==============================] - 0s 87us/step - loss: 7.3248e-04 - val_loss: 2.7542e-04\n",
      "Epoch 181/200\n",
      "68/68 [==============================] - 0s 90us/step - loss: 7.3214e-04 - val_loss: 2.7566e-04\n",
      "Epoch 182/200\n",
      "68/68 [==============================] - 0s 122us/step - loss: 7.3181e-04 - val_loss: 2.7589e-04\n",
      "Epoch 183/200\n",
      "68/68 [==============================] - 0s 88us/step - loss: 7.3147e-04 - val_loss: 2.7614e-04\n",
      "Epoch 184/200\n",
      "68/68 [==============================] - 0s 89us/step - loss: 7.3112e-04 - val_loss: 2.7639e-04\n",
      "Epoch 185/200\n",
      "68/68 [==============================] - 0s 92us/step - loss: 7.3077e-04 - val_loss: 2.7666e-04\n",
      "Epoch 186/200\n",
      "68/68 [==============================] - 0s 82us/step - loss: 7.3042e-04 - val_loss: 2.7693e-04\n",
      "Epoch 187/200\n",
      "68/68 [==============================] - 0s 98us/step - loss: 7.3006e-04 - val_loss: 2.7719e-04\n",
      "Epoch 188/200\n",
      "68/68 [==============================] - 0s 129us/step - loss: 7.2970e-04 - val_loss: 2.7745e-04\n",
      "Epoch 189/200\n",
      "68/68 [==============================] - 0s 87us/step - loss: 7.2934e-04 - val_loss: 2.7771e-04\n",
      "Epoch 190/200\n",
      "68/68 [==============================] - 0s 109us/step - loss: 7.2897e-04 - val_loss: 2.7798e-04\n",
      "Epoch 191/200\n",
      "68/68 [==============================] - 0s 91us/step - loss: 7.2861e-04 - val_loss: 2.7826e-04\n",
      "Epoch 192/200\n",
      "68/68 [==============================] - 0s 109us/step - loss: 7.2823e-04 - val_loss: 2.7854e-04\n",
      "Epoch 193/200\n",
      "68/68 [==============================] - 0s 104us/step - loss: 7.2786e-04 - val_loss: 2.7882e-04\n",
      "Epoch 194/200\n",
      "68/68 [==============================] - 0s 111us/step - loss: 7.2748e-04 - val_loss: 2.7909e-04\n",
      "Epoch 195/200\n",
      "68/68 [==============================] - 0s 109us/step - loss: 7.2710e-04 - val_loss: 2.7937e-04\n",
      "Epoch 196/200\n",
      "68/68 [==============================] - 0s 114us/step - loss: 7.2672e-04 - val_loss: 2.7965e-04\n",
      "Epoch 197/200\n",
      "68/68 [==============================] - 0s 100us/step - loss: 7.2634e-04 - val_loss: 2.7994e-04\n",
      "Epoch 198/200\n",
      "68/68 [==============================] - 0s 92us/step - loss: 7.2596e-04 - val_loss: 2.8023e-04\n",
      "Epoch 199/200\n",
      "68/68 [==============================] - 0s 93us/step - loss: 7.2558e-04 - val_loss: 2.8052e-04\n",
      "Epoch 200/200\n",
      "68/68 [==============================] - 0s 101us/step - loss: 7.2519e-04 - val_loss: 2.8080e-04\n",
      "\n",
      "\n",
      "Baseline MSE: 0.0002443587811831674\n",
      "Baseline RMSE: 0.01563197943905913\n",
      "\n",
      "\n"
     ]
    },
    {
     "data": {
      "image/png": "[encoded data removed]",
      "text/plain": [
       "<Figure size 432x288 with 1 Axes>"
      ]
     },
     "metadata": {
      "needs_background": "light"
     },
     "output_type": "display_data"
    }
   ],
   "source": [
    "model4 = Sequential()\n",
    "model4.add(LSTM(50, activation='linear', input_shape=(n_steps, n_features)))\n",
    "model4.add(Dense(1))\n",
    "model4.compile(optimizer='adam', loss='mse')\n",
    "\n",
    "result4 = model4.fit(X_train, y_train, batch_size=100, epochs=200, validation_split=(0.2))\n",
    "\n",
    "yhat4 = model4.predict(X_test)\n",
    "print('\\n')\n",
    "rmse = np.sqrt(mean_squared_error(y_test, yhat4))\n",
    "print('Baseline MSE:', mean_squared_error(y_test, yhat4))\n",
    "print('Baseline RMSE:', rmse)\n",
    "print('\\n')\n",
    "visualize_training_results(result4)"
   ]
  },
  {
   "cell_type": "markdown",
   "metadata": {},
   "source": [
    "It seems differenced data is making a difference! (No pun intended). The RMSE on average is slightly lower than our best performing LSTM model thus far. However is it not quite better than our best ARIMA model, still.\n",
    "\n",
    "As far as model validation, our validation set is actually performing better than the training set. If it were the opposite, our model would be overfitting, however we are ok here I believe.\n",
    "\n",
    "With activation set to 'linear' instead of 'relu', we were able to get slightly better results."
   ]
  },
  {
   "cell_type": "markdown",
   "metadata": {},
   "source": [
    "*This validation loss is also exhibiting signs of overfitness. Let's stop the epochs at 100.*"
   ]
  },
  {
   "cell_type": "markdown",
   "metadata": {},
   "source": [
    "As each prediction for this model takes 5 previous steps to generate, there is a 5-step space in between our testing data and our prediction data. For this reason we will plot only the y_test values (5-step sequenced test data) against our prediction."
   ]
  },
  {
   "cell_type": "code",
   "execution_count": null,
   "metadata": {
    "ExecuteTime": {
     "end_time": "2021-01-27T20:57:40.886701Z",
     "start_time": "2021-01-27T20:57:28.529Z"
    },
    "scrolled": false
   },
   "outputs": [],
   "source": [
    "fig,ax=plt.subplots(figsize=(20,12))\n",
    "\n",
    "plt.plot(train)\n",
    "plt.plot(test, label='Actual')\n",
    "plt.plot(test.index[5:], yhat4, label='Predictions') #predictions\n",
    "plt.legend(loc='best')\n"
   ]
  },
  {
   "cell_type": "markdown",
   "metadata": {},
   "source": [
    "As this model had the best RMSE we will go with this, however the predictions are not looking exceptional here."
   ]
  },
  {
   "cell_type": "markdown",
   "metadata": {},
   "source": [
    "# Forecasting Future Values\n",
    "## acousticness\n",
    "We will now be using our best performing LSTM model to forecast the values for acousticness, 5 years into the future."
   ]
  },
  {
   "cell_type": "code",
   "execution_count": null,
   "metadata": {
    "ExecuteTime": {
     "end_time": "2021-01-27T20:57:40.887602Z",
     "start_time": "2021-01-27T20:57:28.532Z"
    }
   },
   "outputs": [],
   "source": [
    "def split_sequence(sequence, n_steps):\n",
    "    X, y = [], []\n",
    "    for i in range(len(sequence)):\n",
    "        # find the end of this pattern\n",
    "        end_ix = i + n_steps\n",
    "        # check if we are beyond the sequence\n",
    "        if end_ix > len(sequence)-1:\n",
    "            break\n",
    "        # gather input and output parts of the pattern\n",
    "        seq_x, seq_y = sequence[i:end_ix], sequence[end_ix]\n",
    "        X.append(seq_x)\n",
    "        y.append(seq_y)\n",
    "    return np.array(X), np.array(y)"
   ]
  },
  {
   "cell_type": "code",
   "execution_count": null,
   "metadata": {
    "ExecuteTime": {
     "end_time": "2021-01-27T20:57:40.888617Z",
     "start_time": "2021-01-27T20:57:28.535Z"
    },
    "scrolled": true
   },
   "outputs": [],
   "source": [
    "data_diff.tail()"
   ]
  },
  {
   "cell_type": "code",
   "execution_count": null,
   "metadata": {
    "ExecuteTime": {
     "end_time": "2021-01-27T20:57:40.889466Z",
     "start_time": "2021-01-27T20:57:28.538Z"
    }
   },
   "outputs": [],
   "source": [
    "data_diff.tail().values"
   ]
  },
  {
   "cell_type": "markdown",
   "metadata": {},
   "source": [
    "Now we will run an if/else loop that will take our last 5 years (for 5 step predictions) to predict the next value. This new value while be appended to a list and the oldest value will be filtered out, leaving a new 5 years (steps) to predict the next year, and so on."
   ]
  },
  {
   "cell_type": "code",
   "execution_count": null,
   "metadata": {
    "ExecuteTime": {
     "end_time": "2021-01-27T20:57:40.890417Z",
     "start_time": "2021-01-27T20:57:28.541Z"
    }
   },
   "outputs": [],
   "source": [
    "# predict values for next 5 years\n",
    "x_input = data_diff.tail().values #last 5 values of the dataset\n",
    "temp_input=list(x_input)\n",
    "lst_output=[]\n",
    "i=0\n",
    "# x_input = x_input.reshape((1, n_steps, n_features))\n",
    "while(i<5):  #5 years\n",
    "    \n",
    "    if(len(temp_input)>5):  #5 steps\n",
    "        x_input=np.array(temp_input[1:])\n",
    "        print(\"Year {} input: {}\".format(i,x_input))\n",
    "        #print(x_input)\n",
    "        x_input = x_input.reshape((1, n_steps, n_features))\n",
    "        #print(x_input)\n",
    "        yhat = model4.predict(x_input, verbose=0)\n",
    "        print(\"Year {} output: {}\".format(i,yhat))\n",
    "        print('\\n')\n",
    "        temp_input.append(yhat[0][0])\n",
    "        temp_input=temp_input[1:]\n",
    "        #print(temp_input)\n",
    "        lst_output.append(yhat[0][0])\n",
    "        i=i+1\n",
    "    else:\n",
    "        x_input = x_input.reshape((1, n_steps, n_features))\n",
    "        yhat = model4.predict(x_input, verbose=0)\n",
    "        print(yhat[0])\n",
    "        temp_input.append(yhat[0][0])\n",
    "        lst_output.append(yhat[0][0])\n",
    "        i=i+1\n",
    "    \n",
    "\n",
    "print(lst_output)"
   ]
  },
  {
   "cell_type": "markdown",
   "metadata": {},
   "source": [
    "Creating y-axis values for our 5 future dates:"
   ]
  },
  {
   "cell_type": "code",
   "execution_count": null,
   "metadata": {
    "ExecuteTime": {
     "end_time": "2021-01-27T20:57:40.891588Z",
     "start_time": "2021-01-27T20:57:28.544Z"
    }
   },
   "outputs": [],
   "source": [
    "future_years = [2021, 2022, 2023, 2024, 2025]\n",
    "future_years = pd.to_datetime(future_years, format='%Y')\n",
    "future_years"
   ]
  },
  {
   "cell_type": "markdown",
   "metadata": {
    "ExecuteTime": {
     "end_time": "2020-10-26T14:20:47.665279Z",
     "start_time": "2020-10-26T14:20:47.662927Z"
    }
   },
   "source": [
    "# Visualizing Future Values \n",
    "## differenced acousticness"
   ]
  },
  {
   "cell_type": "code",
   "execution_count": null,
   "metadata": {
    "ExecuteTime": {
     "end_time": "2021-01-27T20:57:40.892639Z",
     "start_time": "2021-01-27T20:57:28.547Z"
    },
    "scrolled": false
   },
   "outputs": [],
   "source": [
    "fig,ax=plt.subplots(figsize=(20,12))\n",
    "\n",
    "# plt.plot(train)\n",
    "# plt.plot(test)\n",
    "plt.plot(test.index[5:], yhat4, label='Predictions') #predictions\n",
    "plt.plot(test.index[5:], y_test, label='Actual')\n",
    "plt.plot(future_years, lst_output, label='Forecast')\n",
    "\n",
    "plt.legend(loc='best', fontsize='x-large')"
   ]
  },
  {
   "cell_type": "markdown",
   "metadata": {},
   "source": [
    "Great now we do have our forecasted values for acousticness, however this is still the differenced data and we will need to see the forecasted values in our original scale. For this, we will revert back to the original scale by getting the cumulative sum of the differenced data."
   ]
  },
  {
   "cell_type": "code",
   "execution_count": null,
   "metadata": {
    "ExecuteTime": {
     "end_time": "2021-01-27T20:57:40.893953Z",
     "start_time": "2021-01-27T20:57:28.550Z"
    }
   },
   "outputs": [],
   "source": [
    "lst_output"
   ]
  },
  {
   "cell_type": "code",
   "execution_count": null,
   "metadata": {
    "ExecuteTime": {
     "end_time": "2021-01-27T20:57:40.895369Z",
     "start_time": "2021-01-27T20:57:28.552Z"
    }
   },
   "outputs": [],
   "source": [
    "yearly_df.acousticness.iloc[-1]"
   ]
  },
  {
   "cell_type": "markdown",
   "metadata": {},
   "source": [
    "Now in order to rescale the differenced forecast, we will need the last value from the original dataset to add the cumulative sums to. So we are inserting that last value to the beginning of the forecasted list."
   ]
  },
  {
   "cell_type": "code",
   "execution_count": null,
   "metadata": {
    "ExecuteTime": {
     "end_time": "2021-01-27T20:57:40.896805Z",
     "start_time": "2021-01-27T20:57:28.555Z"
    }
   },
   "outputs": [],
   "source": [
    "lst_output.insert(0,yearly_df.acousticness.iloc[-1])"
   ]
  },
  {
   "cell_type": "code",
   "execution_count": null,
   "metadata": {
    "ExecuteTime": {
     "end_time": "2021-01-27T20:57:40.898229Z",
     "start_time": "2021-01-27T20:57:28.558Z"
    }
   },
   "outputs": [],
   "source": [
    "lst_output"
   ]
  },
  {
   "cell_type": "code",
   "execution_count": null,
   "metadata": {
    "ExecuteTime": {
     "end_time": "2021-01-27T20:57:40.899454Z",
     "start_time": "2021-01-27T20:57:28.560Z"
    },
    "scrolled": true
   },
   "outputs": [],
   "source": [
    "rescaled_forecast = np.cumsum(lst_output)\n",
    "rescaled_forecast[1:]"
   ]
  },
  {
   "cell_type": "markdown",
   "metadata": {},
   "source": [
    "## Rescaled Forecast, acousticness"
   ]
  },
  {
   "cell_type": "markdown",
   "metadata": {},
   "source": [
    "Now let's clean up our forecast values, by organized them into a new dataframe. We can then add the forecasts for all features into this one dataframe."
   ]
  },
  {
   "cell_type": "code",
   "execution_count": null,
   "metadata": {
    "ExecuteTime": {
     "end_time": "2021-01-27T20:57:40.900531Z",
     "start_time": "2021-01-27T20:57:28.564Z"
    },
    "scrolled": true
   },
   "outputs": [],
   "source": [
    "forecast_df = pd.DataFrame(index=future_years)\n",
    "forecast_df.index.name = 'future_years'\n",
    "forecast_df"
   ]
  },
  {
   "cell_type": "code",
   "execution_count": null,
   "metadata": {
    "ExecuteTime": {
     "end_time": "2021-01-27T20:57:40.901653Z",
     "start_time": "2021-01-27T20:57:28.567Z"
    }
   },
   "outputs": [],
   "source": [
    "forecast_df['acousticness'] = rescaled_forecast[1:]\n",
    "forecast_df"
   ]
  },
  {
   "cell_type": "code",
   "execution_count": null,
   "metadata": {
    "ExecuteTime": {
     "end_time": "2021-01-27T20:57:40.902763Z",
     "start_time": "2021-01-27T20:57:28.569Z"
    },
    "scrolled": false
   },
   "outputs": [],
   "source": [
    "fig,ax=plt.subplots(figsize=(20,12))\n",
    "\n",
    "plt.plot(yearly_df.acousticness, label='Actual')\n",
    "plt.plot(forecast_df.acousticness, label='Forecast')\n",
    "\n",
    "plt.legend(loc='best')"
   ]
  },
  {
   "cell_type": "markdown",
   "metadata": {},
   "source": [
    "# Entire Model Consolidation\n",
    "We will now try and consolidate our entire best model and forecasting loop into a singular function, which we can apply to the rest of the features for forecasting."
   ]
  },
  {
   "cell_type": "code",
   "execution_count": null,
   "metadata": {
    "ExecuteTime": {
     "end_time": "2021-01-27T20:57:40.904040Z",
     "start_time": "2021-01-27T20:57:28.572Z"
    }
   },
   "outputs": [],
   "source": [
    "def run_model(df):\n",
    "    \n",
    "    '''Runs an LSTM model with 5 steps, linear activation, and one dense layer\n",
    "    on a date-time-indexed dataframe. \n",
    "    \n",
    "    Takes a dataframe, differences it by 1-lag and splits into 90/10 train/test\n",
    "    split. Then splits training and test sets into sequences required by the \n",
    "    model of 5 input steps and 1 output step. \n",
    "    \n",
    "    Model is trained using 20% validation taken from the training set, and \n",
    "    tested on unseen test set. (Differenced) Predictions are then forecasted \n",
    "    5 steps into the future and \"undifferenced\" using np.cumsum of the original\n",
    "    dataset's last value.\n",
    "    \n",
    "    Inputs: dataframe with a date-time index.\n",
    "    \n",
    "    Outputs: RMSE, loss function curve, and updated forecast dataframe with\n",
    "             predicted values.\n",
    "    '''\n",
    "    \n",
    "    #difference the column's data\n",
    "    differenced_df = df.diff().dropna()\n",
    "    \n",
    "    #split df for train/test\n",
    "    train=differenced_df[:90] \n",
    "    test=differenced_df[90:]\n",
    "    \n",
    "    # define input sequence\n",
    "    train_seq = list(train)\n",
    "    test_seq = list(test)\n",
    "    n_steps = 5\n",
    "    \n",
    "    # split into samples\n",
    "    X_train, y_train = split_sequence(train_seq, n_steps)\n",
    "    X_test, y_test = split_sequence(test_seq, n_steps)\n",
    "    n_features = 1\n",
    "    \n",
    "    #reshape from [samples, timesteps] into [samples, timesteps, features]\n",
    "    X_train = X_train.reshape((X_train.shape[0], X_train.shape[1], n_features))\n",
    "    X_test = X_test.reshape((X_test.shape[0], X_test.shape[1], n_features))\n",
    "    \n",
    "    #instatiate model and add layers\n",
    "    model = Sequential()\n",
    "    model.add(LSTM(50, activation='linear', input_shape=(n_steps, n_features)))\n",
    "    model.add(Dense(1))\n",
    "    model.compile(optimizer='adam', loss='mse')\n",
    "    \n",
    "    #fit model with 20% validation split *of the training data*\n",
    "    result = model.fit(X_train, y_train, batch_size=100, epochs=200, \n",
    "                       validation_split=(0.2), verbose=0)\n",
    "    \n",
    "    #predict y values with test data\n",
    "    yhat = model.predict(X_test)\n",
    "    rmse = np.sqrt(mean_squared_error(y_test, yhat))\n",
    "    print('RMSE:', rmse)\n",
    "    visualize_training_results(result)\n",
    "    print('\\n')\n",
    "    \n",
    "    #forecast future values\n",
    "    x_input = differenced_df.tail().values\n",
    "    temp_input=list(x_input)\n",
    "    lst_output=[]\n",
    "    i=0\n",
    "    \n",
    "    while(i<5):  #5 years\n",
    "        if(len(temp_input)>5):  #5 steps\n",
    "            x_input=np.array(temp_input[1:])\n",
    "            x_input = x_input.reshape((1, n_steps, n_features))\n",
    "            yhat = model.predict(x_input, verbose=0)\n",
    "            temp_input.append(yhat[0][0])\n",
    "            temp_input=temp_input[1:]\n",
    "            lst_output.append(yhat[0][0])\n",
    "            i=i+1\n",
    "        \n",
    "        else:\n",
    "            x_input = x_input.reshape((1, n_steps, n_features))\n",
    "            yhat = model.predict(x_input, verbose=0)\n",
    "            temp_input.append(yhat[0][0])\n",
    "            lst_output.append(yhat[0][0])\n",
    "            i=i+1\n",
    "            \n",
    "    # invert differencing of forecasts\n",
    "    lst_output.insert(0, df.iloc[-1])    \n",
    "    rescaled_forecast = np.cumsum(lst_output)\n",
    "    rescaled_forecast = rescaled_forecast[1:]\n",
    "    return rescaled_forecast"
   ]
  },
  {
   "cell_type": "markdown",
   "metadata": {},
   "source": [
    "# All Features Forecasting"
   ]
  },
  {
   "cell_type": "markdown",
   "metadata": {},
   "source": [
    "## danceability"
   ]
  },
  {
   "cell_type": "code",
   "execution_count": null,
   "metadata": {
    "ExecuteTime": {
     "end_time": "2021-01-27T20:57:40.905073Z",
     "start_time": "2021-01-27T20:57:28.576Z"
    },
    "scrolled": false
   },
   "outputs": [],
   "source": [
    "rescaled_forecast = run_model(yearly_df.danceability)\n",
    "rescaled_forecast\n",
    "forecast_df['danceability'] = rescaled_forecast\n",
    "forecast_df"
   ]
  },
  {
   "cell_type": "markdown",
   "metadata": {},
   "source": [
    "## duration_ms"
   ]
  },
  {
   "cell_type": "code",
   "execution_count": null,
   "metadata": {
    "ExecuteTime": {
     "end_time": "2021-01-27T20:57:40.906460Z",
     "start_time": "2021-01-27T20:57:28.580Z"
    },
    "scrolled": false
   },
   "outputs": [],
   "source": [
    "rescaled_forecast = run_model(yearly_df.duration_ms)\n",
    "rescaled_forecast\n",
    "forecast_df['duration_ms'] = rescaled_forecast\n",
    "forecast_df"
   ]
  },
  {
   "cell_type": "markdown",
   "metadata": {},
   "source": [
    "## energy"
   ]
  },
  {
   "cell_type": "code",
   "execution_count": null,
   "metadata": {
    "ExecuteTime": {
     "end_time": "2021-01-27T20:57:40.907829Z",
     "start_time": "2021-01-27T20:57:28.583Z"
    },
    "scrolled": false
   },
   "outputs": [],
   "source": [
    "rescaled_forecast = run_model(yearly_df.energy)\n",
    "rescaled_forecast\n",
    "forecast_df['energy'] = rescaled_forecast\n",
    "forecast_df"
   ]
  },
  {
   "cell_type": "markdown",
   "metadata": {},
   "source": [
    "## loudness"
   ]
  },
  {
   "cell_type": "code",
   "execution_count": null,
   "metadata": {
    "ExecuteTime": {
     "end_time": "2021-01-27T20:57:40.908830Z",
     "start_time": "2021-01-27T20:57:28.586Z"
    },
    "scrolled": false
   },
   "outputs": [],
   "source": [
    "rescaled_forecast = run_model(yearly_df.loudness)\n",
    "rescaled_forecast\n",
    "forecast_df['loudness'] = rescaled_forecast\n",
    "forecast_df"
   ]
  },
  {
   "cell_type": "markdown",
   "metadata": {},
   "source": [
    "## instrumentalness"
   ]
  },
  {
   "cell_type": "code",
   "execution_count": null,
   "metadata": {
    "ExecuteTime": {
     "end_time": "2021-01-27T20:57:40.910201Z",
     "start_time": "2021-01-27T20:57:28.589Z"
    }
   },
   "outputs": [],
   "source": [
    "yearly_df.instrumentalness.tail(20)"
   ]
  },
  {
   "cell_type": "code",
   "execution_count": null,
   "metadata": {
    "ExecuteTime": {
     "end_time": "2021-01-27T20:57:40.911298Z",
     "start_time": "2021-01-27T20:57:28.592Z"
    },
    "scrolled": false
   },
   "outputs": [],
   "source": [
    "rescaled_forecast = run_model(yearly_df.instrumentalness)\n",
    "rescaled_forecast\n",
    "forecast_df['instrumentalness'] = rescaled_forecast\n",
    "forecast_df"
   ]
  },
  {
   "cell_type": "markdown",
   "metadata": {},
   "source": [
    "Note: Another very odd prediction. The values for the last 10 years at least were <0.001, so not sure why the model is predicting a sudden rise in 'instrumentalness'."
   ]
  },
  {
   "cell_type": "markdown",
   "metadata": {},
   "source": [
    "## liveness"
   ]
  },
  {
   "cell_type": "code",
   "execution_count": null,
   "metadata": {
    "ExecuteTime": {
     "end_time": "2021-01-27T20:57:40.912528Z",
     "start_time": "2021-01-27T20:57:28.596Z"
    },
    "scrolled": true
   },
   "outputs": [],
   "source": [
    "rescaled_forecast = run_model(yearly_df.liveness)\n",
    "rescaled_forecast\n",
    "forecast_df['liveness'] = rescaled_forecast\n",
    "forecast_df"
   ]
  },
  {
   "cell_type": "markdown",
   "metadata": {},
   "source": [
    "## speechiness"
   ]
  },
  {
   "cell_type": "code",
   "execution_count": null,
   "metadata": {
    "ExecuteTime": {
     "end_time": "2021-01-27T20:57:40.913481Z",
     "start_time": "2021-01-27T20:57:28.599Z"
    }
   },
   "outputs": [],
   "source": [
    "rescaled_forecast = run_model(yearly_df.speechiness)\n",
    "rescaled_forecast\n",
    "forecast_df['speechiness'] = rescaled_forecast\n",
    "forecast_df"
   ]
  },
  {
   "cell_type": "markdown",
   "metadata": {},
   "source": [
    "## tempo"
   ]
  },
  {
   "cell_type": "code",
   "execution_count": null,
   "metadata": {
    "ExecuteTime": {
     "end_time": "2021-01-27T20:57:40.914270Z",
     "start_time": "2021-01-27T20:57:28.603Z"
    }
   },
   "outputs": [],
   "source": [
    "rescaled_forecast = run_model(yearly_df.tempo)\n",
    "rescaled_forecast\n",
    "forecast_df['tempo'] = rescaled_forecast\n",
    "forecast_df"
   ]
  },
  {
   "cell_type": "markdown",
   "metadata": {
    "ExecuteTime": {
     "end_time": "2020-10-26T16:20:59.663509Z",
     "start_time": "2020-10-26T16:20:59.660988Z"
    }
   },
   "source": [
    "## valence"
   ]
  },
  {
   "cell_type": "code",
   "execution_count": null,
   "metadata": {
    "ExecuteTime": {
     "end_time": "2021-01-27T20:57:40.915123Z",
     "start_time": "2021-01-27T20:57:28.606Z"
    },
    "scrolled": false
   },
   "outputs": [],
   "source": [
    "rescaled_forecast = run_model(yearly_df.valence)\n",
    "rescaled_forecast\n",
    "forecast_df['valence'] = rescaled_forecast\n",
    "forecast_df"
   ]
  },
  {
   "cell_type": "markdown",
   "metadata": {},
   "source": [
    "## popularity"
   ]
  },
  {
   "cell_type": "code",
   "execution_count": null,
   "metadata": {
    "ExecuteTime": {
     "end_time": "2021-01-27T20:57:40.915973Z",
     "start_time": "2021-01-27T20:57:28.610Z"
    },
    "scrolled": false
   },
   "outputs": [],
   "source": [
    "rescaled_forecast = run_model(yearly_df.popularity)\n",
    "rescaled_forecast\n",
    "forecast_df['popularity'] = rescaled_forecast\n",
    "forecast_df"
   ]
  },
  {
   "cell_type": "markdown",
   "metadata": {},
   "source": [
    "## key"
   ]
  },
  {
   "cell_type": "markdown",
   "metadata": {},
   "source": [
    "Key is difficult as it is really a categorical feature, for which we took the mode of each year for our yearly_df dataset. This is causing our loss function for Mean Squared Error to look haywire, as the model is predicting decimal values in between the 'key' values which are only whole integers. \n",
    "This model needs some improving for sure, but as the 5-year prediction gives us a value very close to 0, we will assume the median key in 2025 will just be 0."
   ]
  },
  {
   "cell_type": "code",
   "execution_count": null,
   "metadata": {
    "ExecuteTime": {
     "end_time": "2021-01-27T20:57:40.917105Z",
     "start_time": "2021-01-27T20:57:28.614Z"
    },
    "scrolled": false
   },
   "outputs": [],
   "source": [
    "rescaled_forecast = run_model(yearly_df.key)\n",
    "rescaled_forecast\n",
    "forecast_df['key'] = rescaled_forecast\n",
    "forecast_df"
   ]
  },
  {
   "cell_type": "code",
   "execution_count": null,
   "metadata": {
    "ExecuteTime": {
     "end_time": "2021-01-27T20:57:40.917903Z",
     "start_time": "2021-01-27T20:57:28.618Z"
    }
   },
   "outputs": [],
   "source": [
    "forecast_df.to_csv(r'Datasets/forecast_df.csv', index = False);"
   ]
  },
  {
   "cell_type": "code",
   "execution_count": null,
   "metadata": {
    "ExecuteTime": {
     "end_time": "2021-01-27T20:57:40.918646Z",
     "start_time": "2021-01-27T20:57:28.620Z"
    },
    "scrolled": true
   },
   "outputs": [],
   "source": [
    "forecast_df"
   ]
  },
  {
   "cell_type": "markdown",
   "metadata": {},
   "source": [
    "## Visualizing all future features"
   ]
  },
  {
   "cell_type": "markdown",
   "metadata": {},
   "source": [
    "Let's plot some forecast predictions against their true values."
   ]
  },
  {
   "cell_type": "code",
   "execution_count": null,
   "metadata": {
    "ExecuteTime": {
     "end_time": "2021-01-27T20:57:40.919482Z",
     "start_time": "2021-01-27T20:57:28.625Z"
    },
    "scrolled": false
   },
   "outputs": [],
   "source": [
    "fig,ax=plt.subplots(figsize=(20,12))\n",
    "\n",
    "#actual values\n",
    "ax.plot(yearly_df.acousticness, label='Actual Acousticness')\n",
    "ax.plot(yearly_df.danceability, label='Actual Danceability')\n",
    "ax.plot(yearly_df.energy, label='Actual Energy')\n",
    "ax.plot(yearly_df.instrumentalness, label='Actual Instrumentalness')\n",
    "ax.plot(yearly_df.liveness, label='Actual Liveness')\n",
    "ax.plot(yearly_df.valence, label='Actual Valence')\n",
    "ax.plot(yearly_df.speechiness, label='Actual Speechiness')\n",
    "\n",
    "#predicted values\n",
    "ax.plot(forecast_df.acousticness, label='Acousticness Forecast')\n",
    "ax.plot(forecast_df.danceability, label='Danceability Forecast')\n",
    "ax.plot(forecast_df.energy, label='Energy Forecast')\n",
    "ax.plot(forecast_df.instrumentalness, label='Instrumentalness Forecast')\n",
    "ax.plot(forecast_df.liveness, label='Liveness Forecast')\n",
    "ax.plot(forecast_df.valence, label='Valence Forecast')\n",
    "ax.plot(forecast_df.speechiness, label='Speechiness Forecast')\n",
    "\n",
    "# labels\n",
    "plt.xlabel('Year', size=14)\n",
    "plt.ylabel('Value (normalized)', size=14)\n",
    "plt.legend(loc='best', fontsize='x-large', ncol=2)\n",
    "plt.savefig('Images/forecasted_normalized_features.png');"
   ]
  },
  {
   "cell_type": "markdown",
   "metadata": {},
   "source": [
    "Loudness forecast:"
   ]
  },
  {
   "cell_type": "code",
   "execution_count": null,
   "metadata": {
    "ExecuteTime": {
     "end_time": "2021-01-27T20:57:40.920594Z",
     "start_time": "2021-01-27T20:57:28.628Z"
    }
   },
   "outputs": [],
   "source": [
    "fig,ax=plt.subplots(figsize=(20,12))\n",
    "ax.plot(yearly_df.loudness, label='Actual loudness')\n",
    "ax.plot(forecast_df.loudness, label='Actual loudness')\n",
    "plt.xlabel('Year', size=14)\n",
    "plt.ylabel('Value', size=14)\n",
    "plt.legend(loc='best');"
   ]
  },
  {
   "cell_type": "markdown",
   "metadata": {},
   "source": [
    "Tempo Forecast:"
   ]
  },
  {
   "cell_type": "code",
   "execution_count": null,
   "metadata": {
    "ExecuteTime": {
     "end_time": "2021-01-27T20:57:40.921460Z",
     "start_time": "2021-01-27T20:57:28.631Z"
    },
    "scrolled": false
   },
   "outputs": [],
   "source": [
    "fig,ax=plt.subplots(figsize=(20,12))\n",
    "ax.plot(yearly_df.tempo, label='Actual tempo ')\n",
    "ax.plot(forecast_df.tempo, label='Forecast')\n",
    "plt.xlabel('Year', size=14)\n",
    "plt.ylabel('Value', size=14)\n",
    "plt.legend(loc='best');"
   ]
  },
  {
   "cell_type": "markdown",
   "metadata": {},
   "source": [
    "Popularity:"
   ]
  },
  {
   "cell_type": "code",
   "execution_count": null,
   "metadata": {
    "ExecuteTime": {
     "end_time": "2021-01-27T20:57:40.922260Z",
     "start_time": "2021-01-27T20:57:28.633Z"
    },
    "scrolled": false
   },
   "outputs": [],
   "source": [
    "fig,ax=plt.subplots(figsize=(20,12))\n",
    "ax.plot(yearly_df.popularity, label='Actual popularity')\n",
    "ax.plot(forecast_df.popularity, label='Forecasted popularity')\n",
    "plt.xlabel('Year', size=14)\n",
    "plt.ylabel('Value', size=14)\n",
    "plt.legend(loc='best');"
   ]
  },
  {
   "cell_type": "markdown",
   "metadata": {},
   "source": [
    "After having thought for some time, I am questioning if 'popularity' should even be relevant as it is a function of the amount of streams per time, which clearly takes account a factor of the ever-growing user base of Spotify. Basically, as time goes on, there will obviously be songs that are listened to more than in the past."
   ]
  },
  {
   "cell_type": "markdown",
   "metadata": {},
   "source": [
    "# Conclusions\n",
    "We have successfully forecasted each of our features. So what do they tell us? Our model predicts that by 2025, the average (median) song will possess the following characteristics:\n",
    "\n",
    "Tempo will have increased to back around 122.2 BPM.\n",
    "Loudness will have continued to rebound, and reach a median of nearly -6db. (quite loud!)\n",
    "Instrumentalness in songs could possibly have made a comeback, increasing from 0. \n",
    "Speechiness (vocals/spoken words) will have plateaued.\n",
    "Acousticness will be much lower again, down to 0.08.\n",
    "Average Popularity will continue to grow.\n",
    "Valence (positivity/happiness) will have dipped and plateaued at 0.455.\n",
    "Energy will continue to rebound and hit 0.649.\n",
    "Danceability will more or less plateau as well, only rising by a small fraction to 0.697. In otherwords, peak danceability is here to stay for the next 5 years.\n",
    "\n",
    "\n",
    "\n",
    "\n"
   ]
  },
  {
   "cell_type": "markdown",
   "metadata": {},
   "source": [
    "*Extra Notes:*"
   ]
  },
  {
   "cell_type": "markdown",
   "metadata": {},
   "source": [
    "After subsequent research, it is often suggested that simple time series, with less data points, do better with ARIMA modeling, while LSTM models are potentially better and more efficiently performing with very complex time series.\n",
    "\n",
    "This considered we were able to obtain a decent RMSE for each feature with LSTM modeling, using stationarized data, for our final forecasting."
   ]
  },
  {
   "cell_type": "markdown",
   "metadata": {},
   "source": [
    "# APPENDIX\n"
   ]
  },
  {
   "cell_type": "markdown",
   "metadata": {},
   "source": [
    "In this post-project section, I will be trying other methods to further validate my model. (as per recommendation of mock technical interviewer (Senior Data Scientist, Washington Post)). \n",
    "\n",
    "## Greater test value range in training/testing\n",
    "One particular recommendation was to train my best model on a wider range of values in relation to the range of the data. So instead of a 0.2 validation split where the value range of the test set is also only about 10%, I will train using a wider range of 40% validation."
   ]
  },
  {
   "cell_type": "code",
   "execution_count": 93,
   "metadata": {
    "ExecuteTime": {
     "end_time": "2021-01-27T22:49:41.841981Z",
     "start_time": "2021-01-27T22:49:41.836005Z"
    },
    "scrolled": true
   },
   "outputs": [
    {
     "data": {
      "text/plain": [
       "year\n",
       "1971-01-01    0.4365\n",
       "1972-01-01    0.4625\n",
       "1973-01-01    0.3880\n",
       "1974-01-01    0.4380\n",
       "1975-01-01    0.3940\n",
       "1976-01-01    0.3075\n",
       "1977-01-01    0.2490\n",
       "1978-01-01    0.2305\n",
       "1979-01-01    0.1620\n",
       "1980-01-01    0.1740\n",
       "1981-01-01    0.1700\n",
       "1982-01-01    0.1515\n",
       "1983-01-01    0.1265\n",
       "1984-01-01    0.1270\n",
       "1985-01-01    0.1580\n",
       "1986-01-01    0.1425\n",
       "1987-01-01    0.1630\n",
       "1988-01-01    0.1540\n",
       "1989-01-01    0.1720\n",
       "1990-01-01    0.1780\n",
       "1991-01-01    0.1930\n",
       "1992-01-01    0.1900\n",
       "1993-01-01    0.1660\n",
       "1994-01-01    0.1525\n",
       "1995-01-01    0.1640\n",
       "1996-01-01    0.1705\n",
       "1997-01-01    0.1610\n",
       "1998-01-01    0.1490\n",
       "1999-01-01    0.1395\n",
       "2000-01-01    0.1480\n",
       "2001-01-01    0.1420\n",
       "2002-01-01    0.1490\n",
       "2003-01-01    0.1190\n",
       "2004-01-01    0.1320\n",
       "2005-01-01    0.1110\n",
       "2006-01-01    0.1330\n",
       "2007-01-01    0.1050\n",
       "2008-01-01    0.1090\n",
       "2009-01-01    0.1060\n",
       "2010-01-01    0.1030\n",
       "2011-01-01    0.0869\n",
       "2012-01-01    0.0838\n",
       "2013-01-01    0.0912\n",
       "2014-01-01    0.1015\n",
       "2015-01-01    0.1200\n",
       "2016-01-01    0.1530\n",
       "2017-01-01    0.1720\n",
       "2018-01-01    0.1710\n",
       "2019-01-01    0.1785\n",
       "2020-01-01    0.1490\n",
       "Name: acousticness, dtype: float64"
      ]
     },
     "execution_count": 93,
     "metadata": {},
     "output_type": "execute_result"
    }
   ],
   "source": [
    "yearly_df.acousticness[50:]"
   ]
  },
  {
   "cell_type": "code",
   "execution_count": 97,
   "metadata": {
    "ExecuteTime": {
     "end_time": "2021-01-27T22:50:59.268375Z",
     "start_time": "2021-01-27T22:50:59.264599Z"
    }
   },
   "outputs": [
    {
     "name": "stdout",
     "output_type": "stream",
     "text": [
      "0.4365000000000001\n",
      "0.193\n"
     ]
    }
   ],
   "source": [
    "print(yearly_df.acousticness[50])\n",
    "print(yearly_df.acousticness[70])"
   ]
  },
  {
   "cell_type": "code",
   "execution_count": 96,
   "metadata": {
    "ExecuteTime": {
     "end_time": "2021-01-27T22:50:27.167927Z",
     "start_time": "2021-01-27T22:50:27.163472Z"
    }
   },
   "outputs": [
    {
     "data": {
      "text/plain": [
       "0.2435000000000001"
      ]
     },
     "execution_count": 96,
     "metadata": {},
     "output_type": "execute_result"
    }
   ],
   "source": [
    "yearly_df.acousticness[50] - yearly_df.acousticness[70]"
   ]
  },
  {
   "cell_type": "code",
   "execution_count": 85,
   "metadata": {
    "ExecuteTime": {
     "end_time": "2021-01-27T22:47:19.824256Z",
     "start_time": "2021-01-27T22:47:19.818420Z"
    },
    "scrolled": true
   },
   "outputs": [
    {
     "data": {
      "text/plain": [
       "year\n",
       "1922-01-01    0.0040\n",
       "1923-01-01   -0.0020\n",
       "1924-01-01    0.0020\n",
       "1925-01-01   -0.0050\n",
       "1926-01-01    0.0030\n",
       "               ...  \n",
       "2016-01-01    0.0330\n",
       "2017-01-01    0.0190\n",
       "2018-01-01   -0.0010\n",
       "2019-01-01    0.0075\n",
       "2020-01-01   -0.0295\n",
       "Name: acousticness, Length: 99, dtype: float64"
      ]
     },
     "execution_count": 85,
     "metadata": {},
     "output_type": "execute_result"
    }
   ],
   "source": [
    "data_diff"
   ]
  },
  {
   "cell_type": "code",
   "execution_count": 76,
   "metadata": {
    "ExecuteTime": {
     "end_time": "2021-01-27T22:38:19.027576Z",
     "start_time": "2021-01-27T22:38:19.020991Z"
    }
   },
   "outputs": [],
   "source": [
    "train=data_diff[:70] \n",
    "test=data_diff[70:]\n",
    "\n",
    "# define input sequence\n",
    "train_seq = list(train)\n",
    "test_seq = list(test)\n",
    "\n",
    "# choose a number of time steps\n",
    "n_steps = 5      #here 3 and 2 steps received worse results\n",
    "\n",
    "# split into samples\n",
    "X_train, y_train = split_sequence(train_seq, n_steps)\n",
    "X_test, y_test = split_sequence(test_seq, n_steps) \n",
    "\n",
    "n_features = 1\n",
    "\n",
    "# #reshape from [samples, timesteps] into [samples, timesteps, features]\n",
    "X_train = X_train.reshape((X_train.shape[0], X_train.shape[1], n_features))\n",
    "X_test = X_test.reshape((X_test.shape[0], X_test.shape[1], n_features))\n",
    "\n",
    "\n",
    "# print the data sequence with steps:\n",
    "# for i in range(len(X_train)):\n",
    "# \tprint(X_train[i], y_train[i])"
   ]
  },
  {
   "cell_type": "code",
   "execution_count": 77,
   "metadata": {
    "ExecuteTime": {
     "end_time": "2021-01-27T22:38:23.715851Z",
     "start_time": "2021-01-27T22:38:19.475103Z"
    },
    "scrolled": true
   },
   "outputs": [
    {
     "name": "stdout",
     "output_type": "stream",
     "text": [
      "Train on 45 samples, validate on 20 samples\n",
      "Epoch 1/200\n",
      "45/45 [==============================] - 1s 31ms/step - loss: 7.1146e-04 - val_loss: 0.0014\n",
      "Epoch 2/200\n",
      "45/45 [==============================] - 0s 171us/step - loss: 6.0569e-04 - val_loss: 0.0013\n",
      "Epoch 3/200\n",
      "45/45 [==============================] - 0s 148us/step - loss: 5.7854e-04 - val_loss: 0.0014\n",
      "Epoch 4/200\n",
      "45/45 [==============================] - 0s 153us/step - loss: 5.9344e-04 - val_loss: 0.0014\n",
      "Epoch 5/200\n",
      "45/45 [==============================] - 0s 141us/step - loss: 6.1550e-04 - val_loss: 0.0014\n",
      "Epoch 6/200\n",
      "45/45 [==============================] - 0s 145us/step - loss: 6.1493e-04 - val_loss: 0.0014\n",
      "Epoch 7/200\n",
      "45/45 [==============================] - 0s 160us/step - loss: 5.9772e-04 - val_loss: 0.0014\n",
      "Epoch 8/200\n",
      "45/45 [==============================] - 0s 160us/step - loss: 5.7778e-04 - val_loss: 0.0013\n",
      "Epoch 9/200\n",
      "45/45 [==============================] - 0s 149us/step - loss: 5.6615e-04 - val_loss: 0.0013\n",
      "Epoch 10/200\n",
      "45/45 [==============================] - 0s 166us/step - loss: 5.6532e-04 - val_loss: 0.0013\n",
      "Epoch 11/200\n",
      "45/45 [==============================] - 0s 168us/step - loss: 5.7090e-04 - val_loss: 0.0013\n",
      "Epoch 12/200\n",
      "45/45 [==============================] - 0s 164us/step - loss: 5.7583e-04 - val_loss: 0.0013\n",
      "Epoch 13/200\n",
      "45/45 [==============================] - 0s 162us/step - loss: 5.7534e-04 - val_loss: 0.0013\n",
      "Epoch 14/200\n",
      "45/45 [==============================] - 0s 135us/step - loss: 5.6915e-04 - val_loss: 0.0013\n",
      "Epoch 15/200\n",
      "45/45 [==============================] - 0s 137us/step - loss: 5.6033e-04 - val_loss: 0.0013\n",
      "Epoch 16/200\n",
      "45/45 [==============================] - 0s 145us/step - loss: 5.5278e-04 - val_loss: 0.0013\n",
      "Epoch 17/200\n",
      "45/45 [==============================] - 0s 142us/step - loss: 5.4919e-04 - val_loss: 0.0013\n",
      "Epoch 18/200\n",
      "45/45 [==============================] - 0s 146us/step - loss: 5.4959e-04 - val_loss: 0.0014\n",
      "Epoch 19/200\n",
      "45/45 [==============================] - 0s 155us/step - loss: 5.5168e-04 - val_loss: 0.0014\n",
      "Epoch 20/200\n",
      "45/45 [==============================] - 0s 164us/step - loss: 5.5251e-04 - val_loss: 0.0014\n",
      "Epoch 21/200\n",
      "45/45 [==============================] - 0s 157us/step - loss: 5.5043e-04 - val_loss: 0.0014\n",
      "Epoch 22/200\n",
      "45/45 [==============================] - 0s 143us/step - loss: 5.4597e-04 - val_loss: 0.0013\n",
      "Epoch 23/200\n",
      "45/45 [==============================] - 0s 156us/step - loss: 5.4122e-04 - val_loss: 0.0013\n",
      "Epoch 24/200\n",
      "45/45 [==============================] - 0s 157us/step - loss: 5.3808e-04 - val_loss: 0.0013\n",
      "Epoch 25/200\n",
      "45/45 [==============================] - 0s 133us/step - loss: 5.3723e-04 - val_loss: 0.0013\n",
      "Epoch 26/200\n",
      "45/45 [==============================] - 0s 156us/step - loss: 5.3785e-04 - val_loss: 0.0013\n",
      "Epoch 27/200\n",
      "45/45 [==============================] - 0s 159us/step - loss: 5.3828e-04 - val_loss: 0.0013\n",
      "Epoch 28/200\n",
      "45/45 [==============================] - 0s 148us/step - loss: 5.3728e-04 - val_loss: 0.0013\n",
      "Epoch 29/200\n",
      "45/45 [==============================] - 0s 124us/step - loss: 5.3484e-04 - val_loss: 0.0013\n",
      "Epoch 30/200\n",
      "45/45 [==============================] - 0s 138us/step - loss: 5.3206e-04 - val_loss: 0.0013\n",
      "Epoch 31/200\n",
      "45/45 [==============================] - 0s 185us/step - loss: 5.3015e-04 - val_loss: 0.0014\n",
      "Epoch 32/200\n",
      "45/45 [==============================] - 0s 163us/step - loss: 5.2964e-04 - val_loss: 0.0014\n",
      "Epoch 33/200\n",
      "45/45 [==============================] - 0s 170us/step - loss: 5.2997e-04 - val_loss: 0.0014\n",
      "Epoch 34/200\n",
      "45/45 [==============================] - 0s 142us/step - loss: 5.3005e-04 - val_loss: 0.0014\n",
      "Epoch 35/200\n",
      "45/45 [==============================] - 0s 160us/step - loss: 5.2919e-04 - val_loss: 0.0014\n",
      "Epoch 36/200\n",
      "45/45 [==============================] - 0s 203us/step - loss: 5.2761e-04 - val_loss: 0.0014\n",
      "Epoch 37/200\n",
      "45/45 [==============================] - 0s 129us/step - loss: 5.2617e-04 - val_loss: 0.0014\n",
      "Epoch 38/200\n",
      "45/45 [==============================] - 0s 179us/step - loss: 5.2554e-04 - val_loss: 0.0014\n",
      "Epoch 39/200\n",
      "45/45 [==============================] - 0s 147us/step - loss: 5.2565e-04 - val_loss: 0.0014\n",
      "Epoch 40/200\n",
      "45/45 [==============================] - 0s 205us/step - loss: 5.2586e-04 - val_loss: 0.0014\n",
      "Epoch 41/200\n",
      "45/45 [==============================] - 0s 169us/step - loss: 5.2554e-04 - val_loss: 0.0014\n",
      "Epoch 42/200\n",
      "45/45 [==============================] - 0s 137us/step - loss: 5.2470e-04 - val_loss: 0.0014\n",
      "Epoch 43/200\n",
      "45/45 [==============================] - 0s 212us/step - loss: 5.2385e-04 - val_loss: 0.0014\n",
      "Epoch 44/200\n",
      "45/45 [==============================] - 0s 136us/step - loss: 5.2349e-04 - val_loss: 0.0014\n",
      "Epoch 45/200\n",
      "45/45 [==============================] - 0s 168us/step - loss: 5.2360e-04 - val_loss: 0.0014\n",
      "Epoch 46/200\n",
      "45/45 [==============================] - 0s 147us/step - loss: 5.2375e-04 - val_loss: 0.0014\n",
      "Epoch 47/200\n",
      "45/45 [==============================] - 0s 158us/step - loss: 5.2355e-04 - val_loss: 0.0014\n",
      "Epoch 48/200\n",
      "45/45 [==============================] - 0s 153us/step - loss: 5.2304e-04 - val_loss: 0.0014\n",
      "Epoch 49/200\n",
      "45/45 [==============================] - 0s 133us/step - loss: 5.2259e-04 - val_loss: 0.0014\n",
      "Epoch 50/200\n",
      "45/45 [==============================] - 0s 158us/step - loss: 5.2247e-04 - val_loss: 0.0014\n",
      "Epoch 51/200\n",
      "45/45 [==============================] - 0s 133us/step - loss: 5.2258e-04 - val_loss: 0.0014\n",
      "Epoch 52/200\n",
      "45/45 [==============================] - 0s 137us/step - loss: 5.2259e-04 - val_loss: 0.0014\n",
      "Epoch 53/200\n",
      "45/45 [==============================] - 0s 160us/step - loss: 5.2235e-04 - val_loss: 0.0014\n",
      "Epoch 54/200\n",
      "45/45 [==============================] - 0s 141us/step - loss: 5.2200e-04 - val_loss: 0.0014\n",
      "Epoch 55/200\n",
      "45/45 [==============================] - 0s 150us/step - loss: 5.2178e-04 - val_loss: 0.0014\n",
      "Epoch 56/200\n",
      "45/45 [==============================] - 0s 133us/step - loss: 5.2175e-04 - val_loss: 0.0014\n",
      "Epoch 57/200\n",
      "45/45 [==============================] - 0s 135us/step - loss: 5.2175e-04 - val_loss: 0.0014\n",
      "Epoch 58/200\n",
      "45/45 [==============================] - 0s 173us/step - loss: 5.2162e-04 - val_loss: 0.0014\n",
      "Epoch 59/200\n",
      "45/45 [==============================] - 0s 131us/step - loss: 5.2137e-04 - val_loss: 0.0014\n",
      "Epoch 60/200\n",
      "45/45 [==============================] - 0s 144us/step - loss: 5.2113e-04 - val_loss: 0.0014\n",
      "Epoch 61/200\n",
      "45/45 [==============================] - 0s 137us/step - loss: 5.2101e-04 - val_loss: 0.0014\n",
      "Epoch 62/200\n",
      "45/45 [==============================] - 0s 120us/step - loss: 5.2096e-04 - val_loss: 0.0014\n",
      "Epoch 63/200\n",
      "45/45 [==============================] - 0s 150us/step - loss: 5.2086e-04 - val_loss: 0.0014\n",
      "Epoch 64/200\n",
      "45/45 [==============================] - 0s 167us/step - loss: 5.2066e-04 - val_loss: 0.0014\n",
      "Epoch 65/200\n",
      "45/45 [==============================] - 0s 181us/step - loss: 5.2045e-04 - val_loss: 0.0014\n",
      "Epoch 66/200\n",
      "45/45 [==============================] - 0s 139us/step - loss: 5.2030e-04 - val_loss: 0.0014\n",
      "Epoch 67/200\n",
      "45/45 [==============================] - 0s 142us/step - loss: 5.2020e-04 - val_loss: 0.0014\n",
      "Epoch 68/200\n",
      "45/45 [==============================] - 0s 128us/step - loss: 5.2010e-04 - val_loss: 0.0014\n",
      "Epoch 69/200\n",
      "45/45 [==============================] - 0s 122us/step - loss: 5.1994e-04 - val_loss: 0.0014\n",
      "Epoch 70/200\n",
      "45/45 [==============================] - 0s 165us/step - loss: 5.1977e-04 - val_loss: 0.0014\n",
      "Epoch 71/200\n",
      "45/45 [==============================] - 0s 123us/step - loss: 5.1961e-04 - val_loss: 0.0014\n",
      "Epoch 72/200\n",
      "45/45 [==============================] - 0s 127us/step - loss: 5.1951e-04 - val_loss: 0.0014\n",
      "Epoch 73/200\n",
      "45/45 [==============================] - 0s 164us/step - loss: 5.1940e-04 - val_loss: 0.0014\n",
      "Epoch 74/200\n",
      "45/45 [==============================] - 0s 129us/step - loss: 5.1927e-04 - val_loss: 0.0014\n",
      "Epoch 75/200\n",
      "45/45 [==============================] - 0s 139us/step - loss: 5.1913e-04 - val_loss: 0.0014\n",
      "Epoch 76/200\n",
      "45/45 [==============================] - 0s 167us/step - loss: 5.1899e-04 - val_loss: 0.0014\n",
      "Epoch 77/200\n",
      "45/45 [==============================] - 0s 117us/step - loss: 5.1888e-04 - val_loss: 0.0014\n"
     ]
    },
    {
     "name": "stdout",
     "output_type": "stream",
     "text": [
      "Epoch 78/200\n",
      "45/45 [==============================] - 0s 143us/step - loss: 5.1878e-04 - val_loss: 0.0014\n",
      "Epoch 79/200\n",
      "45/45 [==============================] - 0s 163us/step - loss: 5.1867e-04 - val_loss: 0.0014\n",
      "Epoch 80/200\n",
      "45/45 [==============================] - 0s 151us/step - loss: 5.1855e-04 - val_loss: 0.0014\n",
      "Epoch 81/200\n",
      "45/45 [==============================] - 0s 151us/step - loss: 5.1843e-04 - val_loss: 0.0014\n",
      "Epoch 82/200\n",
      "45/45 [==============================] - 0s 150us/step - loss: 5.1832e-04 - val_loss: 0.0014\n",
      "Epoch 83/200\n",
      "45/45 [==============================] - 0s 142us/step - loss: 5.1823e-04 - val_loss: 0.0014\n",
      "Epoch 84/200\n",
      "45/45 [==============================] - 0s 139us/step - loss: 5.1813e-04 - val_loss: 0.0014\n",
      "Epoch 85/200\n",
      "45/45 [==============================] - 0s 140us/step - loss: 5.1802e-04 - val_loss: 0.0014\n",
      "Epoch 86/200\n",
      "45/45 [==============================] - 0s 155us/step - loss: 5.1791e-04 - val_loss: 0.0014\n",
      "Epoch 87/200\n",
      "45/45 [==============================] - 0s 150us/step - loss: 5.1781e-04 - val_loss: 0.0014\n",
      "Epoch 88/200\n",
      "45/45 [==============================] - 0s 151us/step - loss: 5.1772e-04 - val_loss: 0.0014\n",
      "Epoch 89/200\n",
      "45/45 [==============================] - 0s 152us/step - loss: 5.1763e-04 - val_loss: 0.0014\n",
      "Epoch 90/200\n",
      "45/45 [==============================] - 0s 140us/step - loss: 5.1753e-04 - val_loss: 0.0014\n",
      "Epoch 91/200\n",
      "45/45 [==============================] - 0s 146us/step - loss: 5.1743e-04 - val_loss: 0.0014\n",
      "Epoch 92/200\n",
      "45/45 [==============================] - 0s 149us/step - loss: 5.1734e-04 - val_loss: 0.0014\n",
      "Epoch 93/200\n",
      "45/45 [==============================] - 0s 150us/step - loss: 5.1725e-04 - val_loss: 0.0014\n",
      "Epoch 94/200\n",
      "45/45 [==============================] - 0s 144us/step - loss: 5.1716e-04 - val_loss: 0.0014\n",
      "Epoch 95/200\n",
      "45/45 [==============================] - 0s 142us/step - loss: 5.1707e-04 - val_loss: 0.0014\n",
      "Epoch 96/200\n",
      "45/45 [==============================] - 0s 138us/step - loss: 5.1698e-04 - val_loss: 0.0014\n",
      "Epoch 97/200\n",
      "45/45 [==============================] - 0s 142us/step - loss: 5.1690e-04 - val_loss: 0.0014\n",
      "Epoch 98/200\n",
      "45/45 [==============================] - 0s 149us/step - loss: 5.1681e-04 - val_loss: 0.0014\n",
      "Epoch 99/200\n",
      "45/45 [==============================] - 0s 158us/step - loss: 5.1673e-04 - val_loss: 0.0014\n",
      "Epoch 100/200\n",
      "45/45 [==============================] - 0s 152us/step - loss: 5.1665e-04 - val_loss: 0.0014\n",
      "Epoch 101/200\n",
      "45/45 [==============================] - 0s 152us/step - loss: 5.1656e-04 - val_loss: 0.0014\n",
      "Epoch 102/200\n",
      "45/45 [==============================] - 0s 145us/step - loss: 5.1648e-04 - val_loss: 0.0014\n",
      "Epoch 103/200\n",
      "45/45 [==============================] - 0s 160us/step - loss: 5.1641e-04 - val_loss: 0.0014\n",
      "Epoch 104/200\n",
      "45/45 [==============================] - 0s 153us/step - loss: 5.1633e-04 - val_loss: 0.0014\n",
      "Epoch 105/200\n",
      "45/45 [==============================] - 0s 148us/step - loss: 5.1625e-04 - val_loss: 0.0014\n",
      "Epoch 106/200\n",
      "45/45 [==============================] - 0s 153us/step - loss: 5.1618e-04 - val_loss: 0.0014\n",
      "Epoch 107/200\n",
      "45/45 [==============================] - 0s 155us/step - loss: 5.1610e-04 - val_loss: 0.0014\n",
      "Epoch 108/200\n",
      "45/45 [==============================] - 0s 146us/step - loss: 5.1603e-04 - val_loss: 0.0014\n",
      "Epoch 109/200\n",
      "45/45 [==============================] - 0s 152us/step - loss: 5.1596e-04 - val_loss: 0.0014\n",
      "Epoch 110/200\n",
      "45/45 [==============================] - 0s 172us/step - loss: 5.1589e-04 - val_loss: 0.0014\n",
      "Epoch 111/200\n",
      "45/45 [==============================] - 0s 151us/step - loss: 5.1582e-04 - val_loss: 0.0014\n",
      "Epoch 112/200\n",
      "45/45 [==============================] - 0s 166us/step - loss: 5.1575e-04 - val_loss: 0.0014\n",
      "Epoch 113/200\n",
      "45/45 [==============================] - 0s 152us/step - loss: 5.1569e-04 - val_loss: 0.0014\n",
      "Epoch 114/200\n",
      "45/45 [==============================] - 0s 161us/step - loss: 5.1562e-04 - val_loss: 0.0014\n",
      "Epoch 115/200\n",
      "45/45 [==============================] - 0s 154us/step - loss: 5.1556e-04 - val_loss: 0.0014\n",
      "Epoch 116/200\n",
      "45/45 [==============================] - 0s 154us/step - loss: 5.1550e-04 - val_loss: 0.0014\n",
      "Epoch 117/200\n",
      "45/45 [==============================] - 0s 163us/step - loss: 5.1544e-04 - val_loss: 0.0014\n",
      "Epoch 118/200\n",
      "45/45 [==============================] - 0s 157us/step - loss: 5.1538e-04 - val_loss: 0.0014\n",
      "Epoch 119/200\n",
      "45/45 [==============================] - 0s 150us/step - loss: 5.1532e-04 - val_loss: 0.0014\n",
      "Epoch 120/200\n",
      "45/45 [==============================] - 0s 158us/step - loss: 5.1526e-04 - val_loss: 0.0014\n",
      "Epoch 121/200\n",
      "45/45 [==============================] - 0s 168us/step - loss: 5.1520e-04 - val_loss: 0.0014\n",
      "Epoch 122/200\n",
      "45/45 [==============================] - 0s 159us/step - loss: 5.1515e-04 - val_loss: 0.0014\n",
      "Epoch 123/200\n",
      "45/45 [==============================] - 0s 171us/step - loss: 5.1509e-04 - val_loss: 0.0014\n",
      "Epoch 124/200\n",
      "45/45 [==============================] - 0s 156us/step - loss: 5.1504e-04 - val_loss: 0.0014\n",
      "Epoch 125/200\n",
      "45/45 [==============================] - 0s 164us/step - loss: 5.1498e-04 - val_loss: 0.0014\n",
      "Epoch 126/200\n",
      "45/45 [==============================] - 0s 149us/step - loss: 5.1493e-04 - val_loss: 0.0014\n",
      "Epoch 127/200\n",
      "45/45 [==============================] - 0s 145us/step - loss: 5.1488e-04 - val_loss: 0.0014\n",
      "Epoch 128/200\n",
      "45/45 [==============================] - 0s 152us/step - loss: 5.1483e-04 - val_loss: 0.0014\n",
      "Epoch 129/200\n",
      "45/45 [==============================] - 0s 142us/step - loss: 5.1478e-04 - val_loss: 0.0014\n",
      "Epoch 130/200\n",
      "45/45 [==============================] - 0s 157us/step - loss: 5.1474e-04 - val_loss: 0.0014\n",
      "Epoch 131/200\n",
      "45/45 [==============================] - 0s 151us/step - loss: 5.1469e-04 - val_loss: 0.0014\n",
      "Epoch 132/200\n",
      "45/45 [==============================] - 0s 147us/step - loss: 5.1464e-04 - val_loss: 0.0014\n",
      "Epoch 133/200\n",
      "45/45 [==============================] - 0s 155us/step - loss: 5.1460e-04 - val_loss: 0.0014\n",
      "Epoch 134/200\n",
      "45/45 [==============================] - 0s 150us/step - loss: 5.1456e-04 - val_loss: 0.0014\n",
      "Epoch 135/200\n",
      "45/45 [==============================] - 0s 154us/step - loss: 5.1451e-04 - val_loss: 0.0014\n",
      "Epoch 136/200\n",
      "45/45 [==============================] - 0s 142us/step - loss: 5.1447e-04 - val_loss: 0.0014\n",
      "Epoch 137/200\n",
      "45/45 [==============================] - 0s 158us/step - loss: 5.1443e-04 - val_loss: 0.0014\n",
      "Epoch 138/200\n",
      "45/45 [==============================] - 0s 151us/step - loss: 5.1439e-04 - val_loss: 0.0014\n",
      "Epoch 139/200\n",
      "45/45 [==============================] - 0s 152us/step - loss: 5.1435e-04 - val_loss: 0.0014\n",
      "Epoch 140/200\n",
      "45/45 [==============================] - 0s 149us/step - loss: 5.1431e-04 - val_loss: 0.0014\n",
      "Epoch 141/200\n",
      "45/45 [==============================] - 0s 161us/step - loss: 5.1427e-04 - val_loss: 0.0014\n",
      "Epoch 142/200\n",
      "45/45 [==============================] - 0s 144us/step - loss: 5.1424e-04 - val_loss: 0.0014\n",
      "Epoch 143/200\n",
      "45/45 [==============================] - 0s 149us/step - loss: 5.1420e-04 - val_loss: 0.0014\n",
      "Epoch 144/200\n",
      "45/45 [==============================] - 0s 142us/step - loss: 5.1417e-04 - val_loss: 0.0014\n",
      "Epoch 145/200\n",
      "45/45 [==============================] - 0s 151us/step - loss: 5.1413e-04 - val_loss: 0.0014\n",
      "Epoch 146/200\n",
      "45/45 [==============================] - 0s 134us/step - loss: 5.1410e-04 - val_loss: 0.0014\n",
      "Epoch 147/200\n",
      "45/45 [==============================] - 0s 160us/step - loss: 5.1407e-04 - val_loss: 0.0014\n",
      "Epoch 148/200\n",
      "45/45 [==============================] - 0s 129us/step - loss: 5.1404e-04 - val_loss: 0.0014\n",
      "Epoch 149/200\n",
      "45/45 [==============================] - 0s 120us/step - loss: 5.1400e-04 - val_loss: 0.0014\n",
      "Epoch 150/200\n",
      "45/45 [==============================] - 0s 187us/step - loss: 5.1397e-04 - val_loss: 0.0014\n",
      "Epoch 151/200\n",
      "45/45 [==============================] - 0s 127us/step - loss: 5.1395e-04 - val_loss: 0.0014\n",
      "Epoch 152/200\n",
      "45/45 [==============================] - 0s 135us/step - loss: 5.1392e-04 - val_loss: 0.0014\n",
      "Epoch 153/200\n",
      "45/45 [==============================] - 0s 165us/step - loss: 5.1389e-04 - val_loss: 0.0014\n",
      "Epoch 154/200\n",
      "45/45 [==============================] - 0s 143us/step - loss: 5.1386e-04 - val_loss: 0.0014\n"
     ]
    },
    {
     "name": "stdout",
     "output_type": "stream",
     "text": [
      "Epoch 155/200\n",
      "45/45 [==============================] - 0s 166us/step - loss: 5.1383e-04 - val_loss: 0.0014\n",
      "Epoch 156/200\n",
      "45/45 [==============================] - 0s 125us/step - loss: 5.1381e-04 - val_loss: 0.0014\n",
      "Epoch 157/200\n",
      "45/45 [==============================] - 0s 126us/step - loss: 5.1378e-04 - val_loss: 0.0014\n",
      "Epoch 158/200\n",
      "45/45 [==============================] - 0s 154us/step - loss: 5.1376e-04 - val_loss: 0.0014\n",
      "Epoch 159/200\n",
      "45/45 [==============================] - 0s 144us/step - loss: 5.1373e-04 - val_loss: 0.0014\n",
      "Epoch 160/200\n",
      "45/45 [==============================] - 0s 151us/step - loss: 5.1371e-04 - val_loss: 0.0014\n",
      "Epoch 161/200\n",
      "45/45 [==============================] - 0s 138us/step - loss: 5.1369e-04 - val_loss: 0.0014\n",
      "Epoch 162/200\n",
      "45/45 [==============================] - 0s 130us/step - loss: 5.1367e-04 - val_loss: 0.0014\n",
      "Epoch 163/200\n",
      "45/45 [==============================] - 0s 143us/step - loss: 5.1364e-04 - val_loss: 0.0014\n",
      "Epoch 164/200\n",
      "45/45 [==============================] - 0s 131us/step - loss: 5.1362e-04 - val_loss: 0.0014\n",
      "Epoch 165/200\n",
      "45/45 [==============================] - 0s 149us/step - loss: 5.1360e-04 - val_loss: 0.0014\n",
      "Epoch 166/200\n",
      "45/45 [==============================] - 0s 127us/step - loss: 5.1358e-04 - val_loss: 0.0014\n",
      "Epoch 167/200\n",
      "45/45 [==============================] - 0s 165us/step - loss: 5.1356e-04 - val_loss: 0.0014\n",
      "Epoch 168/200\n",
      "45/45 [==============================] - 0s 148us/step - loss: 5.1354e-04 - val_loss: 0.0014\n",
      "Epoch 169/200\n",
      "45/45 [==============================] - 0s 190us/step - loss: 5.1353e-04 - val_loss: 0.0014\n",
      "Epoch 170/200\n",
      "45/45 [==============================] - 0s 148us/step - loss: 5.1351e-04 - val_loss: 0.0014\n",
      "Epoch 171/200\n",
      "45/45 [==============================] - 0s 153us/step - loss: 5.1349e-04 - val_loss: 0.0014\n",
      "Epoch 172/200\n",
      "45/45 [==============================] - 0s 143us/step - loss: 5.1347e-04 - val_loss: 0.0014\n",
      "Epoch 173/200\n",
      "45/45 [==============================] - 0s 141us/step - loss: 5.1346e-04 - val_loss: 0.0014\n",
      "Epoch 174/200\n",
      "45/45 [==============================] - 0s 156us/step - loss: 5.1344e-04 - val_loss: 0.0014\n",
      "Epoch 175/200\n",
      "45/45 [==============================] - 0s 135us/step - loss: 5.1343e-04 - val_loss: 0.0014\n",
      "Epoch 176/200\n",
      "45/45 [==============================] - 0s 162us/step - loss: 5.1341e-04 - val_loss: 0.0014\n",
      "Epoch 177/200\n",
      "45/45 [==============================] - 0s 137us/step - loss: 5.1340e-04 - val_loss: 0.0014\n",
      "Epoch 178/200\n",
      "45/45 [==============================] - 0s 136us/step - loss: 5.1338e-04 - val_loss: 0.0014\n",
      "Epoch 179/200\n",
      "45/45 [==============================] - 0s 153us/step - loss: 5.1337e-04 - val_loss: 0.0014\n",
      "Epoch 180/200\n",
      "45/45 [==============================] - 0s 132us/step - loss: 5.1335e-04 - val_loss: 0.0014\n",
      "Epoch 181/200\n",
      "45/45 [==============================] - 0s 158us/step - loss: 5.1334e-04 - val_loss: 0.0014\n",
      "Epoch 182/200\n",
      "45/45 [==============================] - 0s 127us/step - loss: 5.1333e-04 - val_loss: 0.0014\n",
      "Epoch 183/200\n",
      "45/45 [==============================] - 0s 164us/step - loss: 5.1332e-04 - val_loss: 0.0014\n",
      "Epoch 184/200\n",
      "45/45 [==============================] - 0s 149us/step - loss: 5.1330e-04 - val_loss: 0.0014\n",
      "Epoch 185/200\n",
      "45/45 [==============================] - 0s 124us/step - loss: 5.1329e-04 - val_loss: 0.0014\n",
      "Epoch 186/200\n",
      "45/45 [==============================] - 0s 161us/step - loss: 5.1328e-04 - val_loss: 0.0014\n",
      "Epoch 187/200\n",
      "45/45 [==============================] - 0s 142us/step - loss: 5.1327e-04 - val_loss: 0.0014\n",
      "Epoch 188/200\n",
      "45/45 [==============================] - 0s 151us/step - loss: 5.1326e-04 - val_loss: 0.0014\n",
      "Epoch 189/200\n",
      "45/45 [==============================] - 0s 154us/step - loss: 5.1325e-04 - val_loss: 0.0014\n",
      "Epoch 190/200\n",
      "45/45 [==============================] - 0s 149us/step - loss: 5.1324e-04 - val_loss: 0.0014\n",
      "Epoch 191/200\n",
      "45/45 [==============================] - 0s 153us/step - loss: 5.1323e-04 - val_loss: 0.0014\n",
      "Epoch 192/200\n",
      "45/45 [==============================] - 0s 158us/step - loss: 5.1322e-04 - val_loss: 0.0014\n",
      "Epoch 193/200\n",
      "45/45 [==============================] - 0s 136us/step - loss: 5.1321e-04 - val_loss: 0.0014\n",
      "Epoch 194/200\n",
      "45/45 [==============================] - 0s 130us/step - loss: 5.1320e-04 - val_loss: 0.0014\n",
      "Epoch 195/200\n",
      "45/45 [==============================] - 0s 155us/step - loss: 5.1319e-04 - val_loss: 0.0014\n",
      "Epoch 196/200\n",
      "45/45 [==============================] - 0s 166us/step - loss: 5.1318e-04 - val_loss: 0.0014\n",
      "Epoch 197/200\n",
      "45/45 [==============================] - 0s 143us/step - loss: 5.1317e-04 - val_loss: 0.0014\n",
      "Epoch 198/200\n",
      "45/45 [==============================] - 0s 139us/step - loss: 5.1317e-04 - val_loss: 0.0014\n",
      "Epoch 199/200\n",
      "45/45 [==============================] - 0s 138us/step - loss: 5.1316e-04 - val_loss: 0.0014\n",
      "Epoch 200/200\n",
      "45/45 [==============================] - 0s 163us/step - loss: 5.1315e-04 - val_loss: 0.0014\n",
      "\n",
      "\n",
      "Baseline MSE: 0.0003084078585082857\n",
      "Baseline RMSE: 0.017561544878178733\n",
      "\n",
      "\n"
     ]
    },
    {
     "data": {
      "image/png": "[encoded data removed]",
      "text/plain": [
       "<Figure size 432x288 with 1 Axes>"
      ]
     },
     "metadata": {
      "needs_background": "light"
     },
     "output_type": "display_data"
    }
   ],
   "source": [
    "appmodel = Sequential()\n",
    "appmodel.add(LSTM(50, activation='linear', input_shape=(n_steps, n_features)))\n",
    "appmodel.add(Dense(1))\n",
    "appmodel.compile(optimizer='adam', loss='mse')\n",
    "\n",
    "appmodelresult = appmodel.fit(X_train, y_train, batch_size=100, epochs=200, validation_split=(0.3))\n",
    "\n",
    "yhat5 = appmodel.predict(X_test)\n",
    "print('\\n')\n",
    "rmse = np.sqrt(mean_squared_error(y_test, yhat5))\n",
    "print('Baseline MSE:', mean_squared_error(y_test, yhat5))\n",
    "print('Baseline RMSE:', rmse)\n",
    "print('\\n')\n",
    "visualize_training_results(appmodelresult)"
   ]
  },
  {
   "cell_type": "markdown",
   "metadata": {},
   "source": [
    "As the validation loss is higher than, and never converges with the training loss, our model is underfit. Let's try training for more time/epochs."
   ]
  },
  {
   "cell_type": "code",
   "execution_count": 79,
   "metadata": {
    "ExecuteTime": {
     "end_time": "2021-01-27T22:38:53.410498Z",
     "start_time": "2021-01-27T22:38:46.815847Z"
    }
   },
   "outputs": [
    {
     "name": "stdout",
     "output_type": "stream",
     "text": [
      "Train on 45 samples, validate on 20 samples\n",
      "Epoch 1/500\n",
      "45/45 [==============================] - 2s 34ms/step - loss: 8.0585e-04 - val_loss: 0.0014\n",
      "Epoch 2/500\n",
      "45/45 [==============================] - 0s 162us/step - loss: 6.6337e-04 - val_loss: 0.0014\n",
      "Epoch 3/500\n",
      "45/45 [==============================] - 0s 155us/step - loss: 6.2754e-04 - val_loss: 0.0014\n",
      "Epoch 4/500\n",
      "45/45 [==============================] - 0s 161us/step - loss: 6.5166e-04 - val_loss: 0.0014\n",
      "Epoch 5/500\n",
      "45/45 [==============================] - 0s 152us/step - loss: 6.7488e-04 - val_loss: 0.0014\n",
      "Epoch 6/500\n",
      "45/45 [==============================] - 0s 158us/step - loss: 6.6813e-04 - val_loss: 0.0014\n",
      "Epoch 7/500\n",
      "45/45 [==============================] - 0s 169us/step - loss: 6.4260e-04 - val_loss: 0.0014\n",
      "Epoch 8/500\n",
      "45/45 [==============================] - 0s 167us/step - loss: 6.1764e-04 - val_loss: 0.0013\n",
      "Epoch 9/500\n",
      "45/45 [==============================] - 0s 169us/step - loss: 6.0341e-04 - val_loss: 0.0013\n",
      "Epoch 10/500\n",
      "45/45 [==============================] - 0s 172us/step - loss: 6.0227e-04 - val_loss: 0.0013\n",
      "Epoch 11/500\n",
      "45/45 [==============================] - 0s 176us/step - loss: 6.0827e-04 - val_loss: 0.0014\n",
      "Epoch 12/500\n",
      "45/45 [==============================] - 0s 214us/step - loss: 6.1310e-04 - val_loss: 0.0014\n",
      "Epoch 13/500\n",
      "45/45 [==============================] - 0s 182us/step - loss: 6.1147e-04 - val_loss: 0.0013\n",
      "Epoch 14/500\n",
      "45/45 [==============================] - 0s 177us/step - loss: 6.0321e-04 - val_loss: 0.0013\n",
      "Epoch 15/500\n",
      "45/45 [==============================] - 0s 162us/step - loss: 5.9177e-04 - val_loss: 0.0013\n",
      "Epoch 16/500\n",
      "45/45 [==============================] - 0s 184us/step - loss: 5.8168e-04 - val_loss: 0.0013\n",
      "Epoch 17/500\n",
      "45/45 [==============================] - 0s 173us/step - loss: 5.7592e-04 - val_loss: 0.0013\n",
      "Epoch 18/500\n",
      "45/45 [==============================] - 0s 170us/step - loss: 5.7484e-04 - val_loss: 0.0013\n",
      "Epoch 19/500\n",
      "45/45 [==============================] - 0s 158us/step - loss: 5.7633e-04 - val_loss: 0.0014\n",
      "Epoch 20/500\n",
      "45/45 [==============================] - 0s 158us/step - loss: 5.7719e-04 - val_loss: 0.0014\n",
      "Epoch 21/500\n",
      "45/45 [==============================] - 0s 190us/step - loss: 5.7519e-04 - val_loss: 0.0014\n",
      "Epoch 22/500\n",
      "45/45 [==============================] - 0s 165us/step - loss: 5.7030e-04 - val_loss: 0.0013\n",
      "Epoch 23/500\n",
      "45/45 [==============================] - 0s 155us/step - loss: 5.6410e-04 - val_loss: 0.0013\n",
      "Epoch 24/500\n",
      "45/45 [==============================] - 0s 175us/step - loss: 5.5893e-04 - val_loss: 0.0013\n",
      "Epoch 25/500\n",
      "45/45 [==============================] - 0s 281us/step - loss: 5.5607e-04 - val_loss: 0.0013\n",
      "Epoch 26/500\n",
      "45/45 [==============================] - 0s 236us/step - loss: 5.5542e-04 - val_loss: 0.0013\n",
      "Epoch 27/500\n",
      "45/45 [==============================] - 0s 188us/step - loss: 5.5563e-04 - val_loss: 0.0013\n",
      "Epoch 28/500\n",
      "45/45 [==============================] - 0s 168us/step - loss: 5.5510e-04 - val_loss: 0.0013\n",
      "Epoch 29/500\n",
      "45/45 [==============================] - 0s 289us/step - loss: 5.5298e-04 - val_loss: 0.0013\n",
      "Epoch 30/500\n",
      "45/45 [==============================] - 0s 198us/step - loss: 5.4965e-04 - val_loss: 0.0013\n",
      "Epoch 31/500\n",
      "45/45 [==============================] - 0s 186us/step - loss: 5.4626e-04 - val_loss: 0.0013\n",
      "Epoch 32/500\n",
      "45/45 [==============================] - 0s 171us/step - loss: 5.4392e-04 - val_loss: 0.0013\n",
      "Epoch 33/500\n",
      "45/45 [==============================] - 0s 184us/step - loss: 5.4300e-04 - val_loss: 0.0013\n",
      "Epoch 34/500\n",
      "45/45 [==============================] - 0s 187us/step - loss: 5.4288e-04 - val_loss: 0.0014\n",
      "Epoch 35/500\n",
      "45/45 [==============================] - 0s 179us/step - loss: 5.4253e-04 - val_loss: 0.0014\n",
      "Epoch 36/500\n",
      "45/45 [==============================] - 0s 214us/step - loss: 5.4130e-04 - val_loss: 0.0014\n",
      "Epoch 37/500\n",
      "45/45 [==============================] - 0s 178us/step - loss: 5.3932e-04 - val_loss: 0.0014\n",
      "Epoch 38/500\n",
      "45/45 [==============================] - 0s 265us/step - loss: 5.3735e-04 - val_loss: 0.0013\n",
      "Epoch 39/500\n",
      "45/45 [==============================] - 0s 187us/step - loss: 5.3609e-04 - val_loss: 0.0013\n",
      "Epoch 40/500\n",
      "45/45 [==============================] - 0s 252us/step - loss: 5.3567e-04 - val_loss: 0.0013\n",
      "Epoch 41/500\n",
      "45/45 [==============================] - 0s 250us/step - loss: 5.3559e-04 - val_loss: 0.0013\n",
      "Epoch 42/500\n",
      "45/45 [==============================] - 0s 261us/step - loss: 5.3519e-04 - val_loss: 0.0013\n",
      "Epoch 43/500\n",
      "45/45 [==============================] - 0s 192us/step - loss: 5.3422e-04 - val_loss: 0.0014\n",
      "Epoch 44/500\n",
      "45/45 [==============================] - 0s 175us/step - loss: 5.3301e-04 - val_loss: 0.0014\n",
      "Epoch 45/500\n",
      "45/45 [==============================] - 0s 176us/step - loss: 5.3209e-04 - val_loss: 0.0014\n",
      "Epoch 46/500\n",
      "45/45 [==============================] - 0s 232us/step - loss: 5.3171e-04 - val_loss: 0.0014\n",
      "Epoch 47/500\n",
      "45/45 [==============================] - 0s 151us/step - loss: 5.3166e-04 - val_loss: 0.0014\n",
      "Epoch 48/500\n",
      "45/45 [==============================] - 0s 156us/step - loss: 5.3149e-04 - val_loss: 0.0014\n",
      "Epoch 49/500\n",
      "45/45 [==============================] - 0s 170us/step - loss: 5.3098e-04 - val_loss: 0.0014\n",
      "Epoch 50/500\n",
      "45/45 [==============================] - 0s 175us/step - loss: 5.3027e-04 - val_loss: 0.0014\n",
      "Epoch 51/500\n",
      "45/45 [==============================] - 0s 171us/step - loss: 5.2972e-04 - val_loss: 0.0014\n",
      "Epoch 52/500\n",
      "45/45 [==============================] - 0s 148us/step - loss: 5.2951e-04 - val_loss: 0.0014\n",
      "Epoch 53/500\n",
      "45/45 [==============================] - 0s 164us/step - loss: 5.2947e-04 - val_loss: 0.0014\n",
      "Epoch 54/500\n",
      "45/45 [==============================] - 0s 155us/step - loss: 5.2933e-04 - val_loss: 0.0014\n",
      "Epoch 55/500\n",
      "45/45 [==============================] - 0s 168us/step - loss: 5.2896e-04 - val_loss: 0.0014\n",
      "Epoch 56/500\n",
      "45/45 [==============================] - 0s 203us/step - loss: 5.2852e-04 - val_loss: 0.0014\n",
      "Epoch 57/500\n",
      "45/45 [==============================] - 0s 179us/step - loss: 5.2820e-04 - val_loss: 0.0014\n",
      "Epoch 58/500\n",
      "45/45 [==============================] - 0s 166us/step - loss: 5.2807e-04 - val_loss: 0.0014\n",
      "Epoch 59/500\n",
      "45/45 [==============================] - 0s 204us/step - loss: 5.2799e-04 - val_loss: 0.0014\n",
      "Epoch 60/500\n",
      "45/45 [==============================] - 0s 185us/step - loss: 5.2780e-04 - val_loss: 0.0014\n",
      "Epoch 61/500\n",
      "45/45 [==============================] - 0s 151us/step - loss: 5.2748e-04 - val_loss: 0.0014\n",
      "Epoch 62/500\n",
      "45/45 [==============================] - 0s 178us/step - loss: 5.2717e-04 - val_loss: 0.0014\n",
      "Epoch 63/500\n",
      "45/45 [==============================] - 0s 144us/step - loss: 5.2697e-04 - val_loss: 0.0014\n",
      "Epoch 64/500\n",
      "45/45 [==============================] - 0s 139us/step - loss: 5.2684e-04 - val_loss: 0.0014\n",
      "Epoch 65/500\n",
      "45/45 [==============================] - 0s 151us/step - loss: 5.2668e-04 - val_loss: 0.0014\n",
      "Epoch 66/500\n",
      "45/45 [==============================] - 0s 152us/step - loss: 5.2645e-04 - val_loss: 0.0014\n",
      "Epoch 67/500\n",
      "45/45 [==============================] - 0s 172us/step - loss: 5.2617e-04 - val_loss: 0.0014\n",
      "Epoch 68/500\n",
      "45/45 [==============================] - 0s 175us/step - loss: 5.2593e-04 - val_loss: 0.0014\n",
      "Epoch 69/500\n",
      "45/45 [==============================] - 0s 177us/step - loss: 5.2576e-04 - val_loss: 0.0014\n",
      "Epoch 70/500\n",
      "45/45 [==============================] - 0s 162us/step - loss: 5.2560e-04 - val_loss: 0.0014\n",
      "Epoch 71/500\n",
      "45/45 [==============================] - 0s 168us/step - loss: 5.2539e-04 - val_loss: 0.0014\n",
      "Epoch 72/500\n",
      "45/45 [==============================] - 0s 218us/step - loss: 5.2515e-04 - val_loss: 0.0014\n",
      "Epoch 73/500\n",
      "45/45 [==============================] - 0s 136us/step - loss: 5.2492e-04 - val_loss: 0.0014\n",
      "Epoch 74/500\n",
      "45/45 [==============================] - 0s 147us/step - loss: 5.2473e-04 - val_loss: 0.0014\n",
      "Epoch 75/500\n",
      "45/45 [==============================] - 0s 171us/step - loss: 5.2456e-04 - val_loss: 0.0014\n",
      "Epoch 76/500\n",
      "45/45 [==============================] - 0s 135us/step - loss: 5.2438e-04 - val_loss: 0.0014\n",
      "Epoch 77/500\n",
      "45/45 [==============================] - 0s 194us/step - loss: 5.2417e-04 - val_loss: 0.0014\n"
     ]
    },
    {
     "name": "stdout",
     "output_type": "stream",
     "text": [
      "Epoch 78/500\n",
      "45/45 [==============================] - 0s 153us/step - loss: 5.2395e-04 - val_loss: 0.0014\n",
      "Epoch 79/500\n",
      "45/45 [==============================] - 0s 179us/step - loss: 5.2376e-04 - val_loss: 0.0014\n",
      "Epoch 80/500\n",
      "45/45 [==============================] - 0s 166us/step - loss: 5.2359e-04 - val_loss: 0.0014\n",
      "Epoch 81/500\n",
      "45/45 [==============================] - 0s 168us/step - loss: 5.2342e-04 - val_loss: 0.0014\n",
      "Epoch 82/500\n",
      "45/45 [==============================] - 0s 180us/step - loss: 5.2324e-04 - val_loss: 0.0014\n",
      "Epoch 83/500\n",
      "45/45 [==============================] - 0s 190us/step - loss: 5.2305e-04 - val_loss: 0.0014\n",
      "Epoch 84/500\n",
      "45/45 [==============================] - 0s 175us/step - loss: 5.2287e-04 - val_loss: 0.0014\n",
      "Epoch 85/500\n",
      "45/45 [==============================] - 0s 142us/step - loss: 5.2270e-04 - val_loss: 0.0014\n",
      "Epoch 86/500\n",
      "45/45 [==============================] - 0s 132us/step - loss: 5.2255e-04 - val_loss: 0.0014\n",
      "Epoch 87/500\n",
      "45/45 [==============================] - 0s 141us/step - loss: 5.2238e-04 - val_loss: 0.0014\n",
      "Epoch 88/500\n",
      "45/45 [==============================] - 0s 141us/step - loss: 5.2221e-04 - val_loss: 0.0014\n",
      "Epoch 89/500\n",
      "45/45 [==============================] - 0s 146us/step - loss: 5.2204e-04 - val_loss: 0.0014\n",
      "Epoch 90/500\n",
      "45/45 [==============================] - 0s 130us/step - loss: 5.2189e-04 - val_loss: 0.0014\n",
      "Epoch 91/500\n",
      "45/45 [==============================] - 0s 142us/step - loss: 5.2174e-04 - val_loss: 0.0014\n",
      "Epoch 92/500\n",
      "45/45 [==============================] - 0s 122us/step - loss: 5.2158e-04 - val_loss: 0.0014\n",
      "Epoch 93/500\n",
      "45/45 [==============================] - 0s 139us/step - loss: 5.2143e-04 - val_loss: 0.0014\n",
      "Epoch 94/500\n",
      "45/45 [==============================] - 0s 149us/step - loss: 5.2128e-04 - val_loss: 0.0014\n",
      "Epoch 95/500\n",
      "45/45 [==============================] - 0s 136us/step - loss: 5.2113e-04 - val_loss: 0.0014\n",
      "Epoch 96/500\n",
      "45/45 [==============================] - 0s 138us/step - loss: 5.2099e-04 - val_loss: 0.0014\n",
      "Epoch 97/500\n",
      "45/45 [==============================] - 0s 131us/step - loss: 5.2085e-04 - val_loss: 0.0014\n",
      "Epoch 98/500\n",
      "45/45 [==============================] - 0s 151us/step - loss: 5.2070e-04 - val_loss: 0.0014\n",
      "Epoch 99/500\n",
      "45/45 [==============================] - 0s 137us/step - loss: 5.2056e-04 - val_loss: 0.0014\n",
      "Epoch 100/500\n",
      "45/45 [==============================] - 0s 168us/step - loss: 5.2043e-04 - val_loss: 0.0014\n",
      "Epoch 101/500\n",
      "45/45 [==============================] - 0s 136us/step - loss: 5.2029e-04 - val_loss: 0.0014\n",
      "Epoch 102/500\n",
      "45/45 [==============================] - 0s 136us/step - loss: 5.2016e-04 - val_loss: 0.0014\n",
      "Epoch 103/500\n",
      "45/45 [==============================] - 0s 151us/step - loss: 5.2003e-04 - val_loss: 0.0014\n",
      "Epoch 104/500\n",
      "45/45 [==============================] - 0s 123us/step - loss: 5.1989e-04 - val_loss: 0.0014\n",
      "Epoch 105/500\n",
      "45/45 [==============================] - 0s 150us/step - loss: 5.1977e-04 - val_loss: 0.0014\n",
      "Epoch 106/500\n",
      "45/45 [==============================] - 0s 136us/step - loss: 5.1964e-04 - val_loss: 0.0014\n",
      "Epoch 107/500\n",
      "45/45 [==============================] - 0s 143us/step - loss: 5.1952e-04 - val_loss: 0.0014\n",
      "Epoch 108/500\n",
      "45/45 [==============================] - 0s 148us/step - loss: 5.1939e-04 - val_loss: 0.0014\n",
      "Epoch 109/500\n",
      "45/45 [==============================] - 0s 134us/step - loss: 5.1927e-04 - val_loss: 0.0014\n",
      "Epoch 110/500\n",
      "45/45 [==============================] - 0s 137us/step - loss: 5.1915e-04 - val_loss: 0.0014\n",
      "Epoch 111/500\n",
      "45/45 [==============================] - 0s 127us/step - loss: 5.1903e-04 - val_loss: 0.0014\n",
      "Epoch 112/500\n",
      "45/45 [==============================] - 0s 157us/step - loss: 5.1891e-04 - val_loss: 0.0014\n",
      "Epoch 113/500\n",
      "45/45 [==============================] - 0s 132us/step - loss: 5.1880e-04 - val_loss: 0.0014\n",
      "Epoch 114/500\n",
      "45/45 [==============================] - 0s 144us/step - loss: 5.1869e-04 - val_loss: 0.0014\n",
      "Epoch 115/500\n",
      "45/45 [==============================] - 0s 154us/step - loss: 5.1857e-04 - val_loss: 0.0014\n",
      "Epoch 116/500\n",
      "45/45 [==============================] - 0s 139us/step - loss: 5.1846e-04 - val_loss: 0.0014\n",
      "Epoch 117/500\n",
      "45/45 [==============================] - 0s 150us/step - loss: 5.1835e-04 - val_loss: 0.0014\n",
      "Epoch 118/500\n",
      "45/45 [==============================] - 0s 123us/step - loss: 5.1825e-04 - val_loss: 0.0014\n",
      "Epoch 119/500\n",
      "45/45 [==============================] - 0s 147us/step - loss: 5.1814e-04 - val_loss: 0.0014\n",
      "Epoch 120/500\n",
      "45/45 [==============================] - 0s 144us/step - loss: 5.1804e-04 - val_loss: 0.0014\n",
      "Epoch 121/500\n",
      "45/45 [==============================] - 0s 180us/step - loss: 5.1794e-04 - val_loss: 0.0014\n",
      "Epoch 122/500\n",
      "45/45 [==============================] - 0s 140us/step - loss: 5.1784e-04 - val_loss: 0.0014\n",
      "Epoch 123/500\n",
      "45/45 [==============================] - 0s 150us/step - loss: 5.1774e-04 - val_loss: 0.0014\n",
      "Epoch 124/500\n",
      "45/45 [==============================] - 0s 162us/step - loss: 5.1764e-04 - val_loss: 0.0014\n",
      "Epoch 125/500\n",
      "45/45 [==============================] - 0s 136us/step - loss: 5.1754e-04 - val_loss: 0.0014\n",
      "Epoch 126/500\n",
      "45/45 [==============================] - 0s 149us/step - loss: 5.1745e-04 - val_loss: 0.0014\n",
      "Epoch 127/500\n",
      "45/45 [==============================] - 0s 141us/step - loss: 5.1736e-04 - val_loss: 0.0014\n",
      "Epoch 128/500\n",
      "45/45 [==============================] - 0s 174us/step - loss: 5.1726e-04 - val_loss: 0.0014\n",
      "Epoch 129/500\n",
      "45/45 [==============================] - 0s 133us/step - loss: 5.1717e-04 - val_loss: 0.0014\n",
      "Epoch 130/500\n",
      "45/45 [==============================] - 0s 146us/step - loss: 5.1708e-04 - val_loss: 0.0014\n",
      "Epoch 131/500\n",
      "45/45 [==============================] - 0s 138us/step - loss: 5.1700e-04 - val_loss: 0.0014\n",
      "Epoch 132/500\n",
      "45/45 [==============================] - 0s 148us/step - loss: 5.1691e-04 - val_loss: 0.0014\n",
      "Epoch 133/500\n",
      "45/45 [==============================] - 0s 146us/step - loss: 5.1683e-04 - val_loss: 0.0014\n",
      "Epoch 134/500\n",
      "45/45 [==============================] - 0s 149us/step - loss: 5.1674e-04 - val_loss: 0.0014\n",
      "Epoch 135/500\n",
      "45/45 [==============================] - 0s 153us/step - loss: 5.1666e-04 - val_loss: 0.0014\n",
      "Epoch 136/500\n",
      "45/45 [==============================] - 0s 131us/step - loss: 5.1658e-04 - val_loss: 0.0014\n",
      "Epoch 137/500\n",
      "45/45 [==============================] - 0s 151us/step - loss: 5.1650e-04 - val_loss: 0.0014\n",
      "Epoch 138/500\n",
      "45/45 [==============================] - 0s 166us/step - loss: 5.1643e-04 - val_loss: 0.0014\n",
      "Epoch 139/500\n",
      "45/45 [==============================] - 0s 148us/step - loss: 5.1635e-04 - val_loss: 0.0014\n",
      "Epoch 140/500\n",
      "45/45 [==============================] - 0s 138us/step - loss: 5.1627e-04 - val_loss: 0.0014\n",
      "Epoch 141/500\n",
      "45/45 [==============================] - 0s 153us/step - loss: 5.1620e-04 - val_loss: 0.0014\n",
      "Epoch 142/500\n",
      "45/45 [==============================] - 0s 168us/step - loss: 5.1613e-04 - val_loss: 0.0014\n",
      "Epoch 143/500\n",
      "45/45 [==============================] - 0s 142us/step - loss: 5.1606e-04 - val_loss: 0.0014\n",
      "Epoch 144/500\n",
      "45/45 [==============================] - 0s 151us/step - loss: 5.1599e-04 - val_loss: 0.0014\n",
      "Epoch 145/500\n",
      "45/45 [==============================] - 0s 150us/step - loss: 5.1592e-04 - val_loss: 0.0014\n",
      "Epoch 146/500\n",
      "45/45 [==============================] - 0s 149us/step - loss: 5.1585e-04 - val_loss: 0.0014\n",
      "Epoch 147/500\n",
      "45/45 [==============================] - 0s 144us/step - loss: 5.1578e-04 - val_loss: 0.0014\n",
      "Epoch 148/500\n",
      "45/45 [==============================] - 0s 147us/step - loss: 5.1572e-04 - val_loss: 0.0014\n",
      "Epoch 149/500\n",
      "45/45 [==============================] - 0s 150us/step - loss: 5.1566e-04 - val_loss: 0.0014\n",
      "Epoch 150/500\n",
      "45/45 [==============================] - 0s 159us/step - loss: 5.1559e-04 - val_loss: 0.0014\n",
      "Epoch 151/500\n",
      "45/45 [==============================] - 0s 155us/step - loss: 5.1553e-04 - val_loss: 0.0014\n",
      "Epoch 152/500\n",
      "45/45 [==============================] - 0s 143us/step - loss: 5.1547e-04 - val_loss: 0.0014\n",
      "Epoch 153/500\n",
      "45/45 [==============================] - 0s 153us/step - loss: 5.1541e-04 - val_loss: 0.0014\n",
      "Epoch 154/500\n",
      "45/45 [==============================] - 0s 155us/step - loss: 5.1535e-04 - val_loss: 0.0014\n"
     ]
    },
    {
     "name": "stdout",
     "output_type": "stream",
     "text": [
      "Epoch 155/500\n",
      "45/45 [==============================] - 0s 151us/step - loss: 5.1530e-04 - val_loss: 0.0014\n",
      "Epoch 156/500\n",
      "45/45 [==============================] - 0s 149us/step - loss: 5.1524e-04 - val_loss: 0.0014\n",
      "Epoch 157/500\n",
      "45/45 [==============================] - 0s 156us/step - loss: 5.1518e-04 - val_loss: 0.0014\n",
      "Epoch 158/500\n",
      "45/45 [==============================] - 0s 149us/step - loss: 5.1513e-04 - val_loss: 0.0014\n",
      "Epoch 159/500\n",
      "45/45 [==============================] - 0s 156us/step - loss: 5.1508e-04 - val_loss: 0.0014\n",
      "Epoch 160/500\n",
      "45/45 [==============================] - 0s 137us/step - loss: 5.1503e-04 - val_loss: 0.0014\n",
      "Epoch 161/500\n",
      "45/45 [==============================] - 0s 142us/step - loss: 5.1497e-04 - val_loss: 0.0014\n",
      "Epoch 162/500\n",
      "45/45 [==============================] - 0s 164us/step - loss: 5.1493e-04 - val_loss: 0.0014\n",
      "Epoch 163/500\n",
      "45/45 [==============================] - 0s 156us/step - loss: 5.1488e-04 - val_loss: 0.0014\n",
      "Epoch 164/500\n",
      "45/45 [==============================] - 0s 143us/step - loss: 5.1483e-04 - val_loss: 0.0014\n",
      "Epoch 165/500\n",
      "45/45 [==============================] - 0s 142us/step - loss: 5.1478e-04 - val_loss: 0.0014\n",
      "Epoch 166/500\n",
      "45/45 [==============================] - 0s 152us/step - loss: 5.1474e-04 - val_loss: 0.0014\n",
      "Epoch 167/500\n",
      "45/45 [==============================] - 0s 145us/step - loss: 5.1469e-04 - val_loss: 0.0014\n",
      "Epoch 168/500\n",
      "45/45 [==============================] - 0s 152us/step - loss: 5.1465e-04 - val_loss: 0.0014\n",
      "Epoch 169/500\n",
      "45/45 [==============================] - 0s 153us/step - loss: 5.1460e-04 - val_loss: 0.0014\n",
      "Epoch 170/500\n",
      "45/45 [==============================] - 0s 149us/step - loss: 5.1456e-04 - val_loss: 0.0014\n",
      "Epoch 171/500\n",
      "45/45 [==============================] - 0s 148us/step - loss: 5.1452e-04 - val_loss: 0.0014\n",
      "Epoch 172/500\n",
      "45/45 [==============================] - 0s 161us/step - loss: 5.1448e-04 - val_loss: 0.0014\n",
      "Epoch 173/500\n",
      "45/45 [==============================] - 0s 159us/step - loss: 5.1444e-04 - val_loss: 0.0014\n",
      "Epoch 174/500\n",
      "45/45 [==============================] - 0s 159us/step - loss: 5.1440e-04 - val_loss: 0.0014\n",
      "Epoch 175/500\n",
      "45/45 [==============================] - 0s 148us/step - loss: 5.1436e-04 - val_loss: 0.0014\n",
      "Epoch 176/500\n",
      "45/45 [==============================] - 0s 160us/step - loss: 5.1432e-04 - val_loss: 0.0014\n",
      "Epoch 177/500\n",
      "45/45 [==============================] - 0s 143us/step - loss: 5.1429e-04 - val_loss: 0.0014\n",
      "Epoch 178/500\n",
      "45/45 [==============================] - 0s 148us/step - loss: 5.1425e-04 - val_loss: 0.0014\n",
      "Epoch 179/500\n",
      "45/45 [==============================] - 0s 159us/step - loss: 5.1422e-04 - val_loss: 0.0014\n",
      "Epoch 180/500\n",
      "45/45 [==============================] - 0s 160us/step - loss: 5.1418e-04 - val_loss: 0.0014\n",
      "Epoch 181/500\n",
      "45/45 [==============================] - 0s 155us/step - loss: 5.1415e-04 - val_loss: 0.0014\n",
      "Epoch 182/500\n",
      "45/45 [==============================] - 0s 148us/step - loss: 5.1412e-04 - val_loss: 0.0014\n",
      "Epoch 183/500\n",
      "45/45 [==============================] - 0s 138us/step - loss: 5.1409e-04 - val_loss: 0.0014\n",
      "Epoch 184/500\n",
      "45/45 [==============================] - 0s 159us/step - loss: 5.1405e-04 - val_loss: 0.0014\n",
      "Epoch 185/500\n",
      "45/45 [==============================] - 0s 156us/step - loss: 5.1402e-04 - val_loss: 0.0014\n",
      "Epoch 186/500\n",
      "45/45 [==============================] - 0s 134us/step - loss: 5.1399e-04 - val_loss: 0.0014\n",
      "Epoch 187/500\n",
      "45/45 [==============================] - 0s 162us/step - loss: 5.1397e-04 - val_loss: 0.0014\n",
      "Epoch 188/500\n",
      "45/45 [==============================] - 0s 145us/step - loss: 5.1394e-04 - val_loss: 0.0014\n",
      "Epoch 189/500\n",
      "45/45 [==============================] - 0s 148us/step - loss: 5.1391e-04 - val_loss: 0.0014\n",
      "Epoch 190/500\n",
      "45/45 [==============================] - 0s 159us/step - loss: 5.1388e-04 - val_loss: 0.0014\n",
      "Epoch 191/500\n",
      "45/45 [==============================] - 0s 141us/step - loss: 5.1386e-04 - val_loss: 0.0014\n",
      "Epoch 192/500\n",
      "45/45 [==============================] - 0s 170us/step - loss: 5.1383e-04 - val_loss: 0.0014\n",
      "Epoch 193/500\n",
      "45/45 [==============================] - 0s 137us/step - loss: 5.1380e-04 - val_loss: 0.0014\n",
      "Epoch 194/500\n",
      "45/45 [==============================] - 0s 153us/step - loss: 5.1378e-04 - val_loss: 0.0014\n",
      "Epoch 195/500\n",
      "45/45 [==============================] - 0s 130us/step - loss: 5.1375e-04 - val_loss: 0.0014\n",
      "Epoch 196/500\n",
      "45/45 [==============================] - 0s 167us/step - loss: 5.1373e-04 - val_loss: 0.0014\n",
      "Epoch 197/500\n",
      "45/45 [==============================] - 0s 137us/step - loss: 5.1371e-04 - val_loss: 0.0014\n",
      "Epoch 198/500\n",
      "45/45 [==============================] - 0s 161us/step - loss: 5.1369e-04 - val_loss: 0.0014\n",
      "Epoch 199/500\n",
      "45/45 [==============================] - 0s 144us/step - loss: 5.1366e-04 - val_loss: 0.0014\n",
      "Epoch 200/500\n",
      "45/45 [==============================] - 0s 146us/step - loss: 5.1364e-04 - val_loss: 0.0014\n",
      "Epoch 201/500\n",
      "45/45 [==============================] - 0s 154us/step - loss: 5.1362e-04 - val_loss: 0.0014\n",
      "Epoch 202/500\n",
      "45/45 [==============================] - 0s 142us/step - loss: 5.1360e-04 - val_loss: 0.0014\n",
      "Epoch 203/500\n",
      "45/45 [==============================] - 0s 138us/step - loss: 5.1358e-04 - val_loss: 0.0014\n",
      "Epoch 204/500\n",
      "45/45 [==============================] - 0s 129us/step - loss: 5.1356e-04 - val_loss: 0.0014\n",
      "Epoch 205/500\n",
      "45/45 [==============================] - 0s 157us/step - loss: 5.1354e-04 - val_loss: 0.0014\n",
      "Epoch 206/500\n",
      "45/45 [==============================] - 0s 142us/step - loss: 5.1352e-04 - val_loss: 0.0014\n",
      "Epoch 207/500\n",
      "45/45 [==============================] - 0s 138us/step - loss: 5.1350e-04 - val_loss: 0.0014\n",
      "Epoch 208/500\n",
      "45/45 [==============================] - 0s 150us/step - loss: 5.1349e-04 - val_loss: 0.0014\n",
      "Epoch 209/500\n",
      "45/45 [==============================] - 0s 122us/step - loss: 5.1347e-04 - val_loss: 0.0014\n",
      "Epoch 210/500\n",
      "45/45 [==============================] - 0s 149us/step - loss: 5.1345e-04 - val_loss: 0.0014\n",
      "Epoch 211/500\n",
      "45/45 [==============================] - 0s 128us/step - loss: 5.1344e-04 - val_loss: 0.0014\n",
      "Epoch 212/500\n",
      "45/45 [==============================] - 0s 148us/step - loss: 5.1342e-04 - val_loss: 0.0014\n",
      "Epoch 213/500\n",
      "45/45 [==============================] - 0s 143us/step - loss: 5.1340e-04 - val_loss: 0.0014\n",
      "Epoch 214/500\n",
      "45/45 [==============================] - 0s 150us/step - loss: 5.1339e-04 - val_loss: 0.0014\n",
      "Epoch 215/500\n",
      "45/45 [==============================] - 0s 143us/step - loss: 5.1337e-04 - val_loss: 0.0014\n",
      "Epoch 216/500\n",
      "45/45 [==============================] - 0s 122us/step - loss: 5.1336e-04 - val_loss: 0.0014\n",
      "Epoch 217/500\n",
      "45/45 [==============================] - 0s 166us/step - loss: 5.1335e-04 - val_loss: 0.0014\n",
      "Epoch 218/500\n",
      "45/45 [==============================] - 0s 133us/step - loss: 5.1333e-04 - val_loss: 0.0014\n",
      "Epoch 219/500\n",
      "45/45 [==============================] - 0s 144us/step - loss: 5.1332e-04 - val_loss: 0.0014\n",
      "Epoch 220/500\n",
      "45/45 [==============================] - 0s 144us/step - loss: 5.1331e-04 - val_loss: 0.0014\n",
      "Epoch 221/500\n",
      "45/45 [==============================] - 0s 123us/step - loss: 5.1329e-04 - val_loss: 0.0014\n",
      "Epoch 222/500\n",
      "45/45 [==============================] - 0s 144us/step - loss: 5.1328e-04 - val_loss: 0.0014\n",
      "Epoch 223/500\n",
      "45/45 [==============================] - 0s 144us/step - loss: 5.1327e-04 - val_loss: 0.0014\n",
      "Epoch 224/500\n",
      "45/45 [==============================] - 0s 135us/step - loss: 5.1326e-04 - val_loss: 0.0014\n",
      "Epoch 225/500\n",
      "45/45 [==============================] - 0s 140us/step - loss: 5.1324e-04 - val_loss: 0.0014\n",
      "Epoch 226/500\n",
      "45/45 [==============================] - 0s 135us/step - loss: 5.1323e-04 - val_loss: 0.0014\n",
      "Epoch 227/500\n",
      "45/45 [==============================] - 0s 147us/step - loss: 5.1322e-04 - val_loss: 0.0014\n",
      "Epoch 228/500\n",
      "45/45 [==============================] - 0s 149us/step - loss: 5.1321e-04 - val_loss: 0.0014\n",
      "Epoch 229/500\n",
      "45/45 [==============================] - 0s 145us/step - loss: 5.1320e-04 - val_loss: 0.0014\n",
      "Epoch 230/500\n",
      "45/45 [==============================] - 0s 119us/step - loss: 5.1319e-04 - val_loss: 0.0014\n",
      "Epoch 231/500\n",
      "45/45 [==============================] - 0s 179us/step - loss: 5.1318e-04 - val_loss: 0.0014\n"
     ]
    },
    {
     "name": "stdout",
     "output_type": "stream",
     "text": [
      "Epoch 232/500\n",
      "45/45 [==============================] - 0s 144us/step - loss: 5.1317e-04 - val_loss: 0.0014\n",
      "Epoch 233/500\n",
      "45/45 [==============================] - 0s 158us/step - loss: 5.1316e-04 - val_loss: 0.0014\n",
      "Epoch 234/500\n",
      "45/45 [==============================] - 0s 150us/step - loss: 5.1315e-04 - val_loss: 0.0014\n",
      "Epoch 235/500\n",
      "45/45 [==============================] - 0s 160us/step - loss: 5.1314e-04 - val_loss: 0.0014\n",
      "Epoch 236/500\n",
      "45/45 [==============================] - 0s 142us/step - loss: 5.1313e-04 - val_loss: 0.0014\n",
      "Epoch 237/500\n",
      "45/45 [==============================] - 0s 141us/step - loss: 5.1312e-04 - val_loss: 0.0014\n",
      "Epoch 238/500\n",
      "45/45 [==============================] - 0s 161us/step - loss: 5.1311e-04 - val_loss: 0.0014\n",
      "Epoch 239/500\n",
      "45/45 [==============================] - 0s 140us/step - loss: 5.1311e-04 - val_loss: 0.0014\n",
      "Epoch 240/500\n",
      "45/45 [==============================] - 0s 152us/step - loss: 5.1310e-04 - val_loss: 0.0014\n",
      "Epoch 241/500\n",
      "45/45 [==============================] - 0s 150us/step - loss: 5.1309e-04 - val_loss: 0.0014\n",
      "Epoch 242/500\n",
      "45/45 [==============================] - 0s 133us/step - loss: 5.1308e-04 - val_loss: 0.0014\n",
      "Epoch 243/500\n",
      "45/45 [==============================] - 0s 141us/step - loss: 5.1307e-04 - val_loss: 0.0014\n",
      "Epoch 244/500\n",
      "45/45 [==============================] - 0s 133us/step - loss: 5.1307e-04 - val_loss: 0.0014\n",
      "Epoch 245/500\n",
      "45/45 [==============================] - 0s 154us/step - loss: 5.1306e-04 - val_loss: 0.0014\n",
      "Epoch 246/500\n",
      "45/45 [==============================] - 0s 156us/step - loss: 5.1305e-04 - val_loss: 0.0014\n",
      "Epoch 247/500\n",
      "45/45 [==============================] - 0s 146us/step - loss: 5.1304e-04 - val_loss: 0.0014\n",
      "Epoch 248/500\n",
      "45/45 [==============================] - 0s 141us/step - loss: 5.1304e-04 - val_loss: 0.0014\n",
      "Epoch 249/500\n",
      "45/45 [==============================] - 0s 126us/step - loss: 5.1303e-04 - val_loss: 0.0014\n",
      "Epoch 250/500\n",
      "45/45 [==============================] - 0s 132us/step - loss: 5.1302e-04 - val_loss: 0.0014\n",
      "Epoch 251/500\n",
      "45/45 [==============================] - 0s 138us/step - loss: 5.1302e-04 - val_loss: 0.0014\n",
      "Epoch 252/500\n",
      "45/45 [==============================] - 0s 144us/step - loss: 5.1301e-04 - val_loss: 0.0014\n",
      "Epoch 253/500\n",
      "45/45 [==============================] - 0s 157us/step - loss: 5.1300e-04 - val_loss: 0.0014\n",
      "Epoch 254/500\n",
      "45/45 [==============================] - 0s 138us/step - loss: 5.1300e-04 - val_loss: 0.0014\n",
      "Epoch 255/500\n",
      "45/45 [==============================] - 0s 148us/step - loss: 5.1299e-04 - val_loss: 0.0014\n",
      "Epoch 256/500\n",
      "45/45 [==============================] - 0s 161us/step - loss: 5.1299e-04 - val_loss: 0.0014\n",
      "Epoch 257/500\n",
      "45/45 [==============================] - 0s 141us/step - loss: 5.1298e-04 - val_loss: 0.0014\n",
      "Epoch 258/500\n",
      "45/45 [==============================] - 0s 150us/step - loss: 5.1297e-04 - val_loss: 0.0014\n",
      "Epoch 259/500\n",
      "45/45 [==============================] - 0s 132us/step - loss: 5.1297e-04 - val_loss: 0.0014\n",
      "Epoch 260/500\n",
      "45/45 [==============================] - 0s 166us/step - loss: 5.1296e-04 - val_loss: 0.0014\n",
      "Epoch 261/500\n",
      "45/45 [==============================] - 0s 128us/step - loss: 5.1296e-04 - val_loss: 0.0014\n",
      "Epoch 262/500\n",
      "45/45 [==============================] - 0s 156us/step - loss: 5.1295e-04 - val_loss: 0.0014\n",
      "Epoch 263/500\n",
      "45/45 [==============================] - 0s 145us/step - loss: 5.1295e-04 - val_loss: 0.0014\n",
      "Epoch 264/500\n",
      "45/45 [==============================] - 0s 131us/step - loss: 5.1294e-04 - val_loss: 0.0014\n",
      "Epoch 265/500\n",
      "45/45 [==============================] - 0s 163us/step - loss: 5.1293e-04 - val_loss: 0.0014\n",
      "Epoch 266/500\n",
      "45/45 [==============================] - 0s 147us/step - loss: 5.1293e-04 - val_loss: 0.0014\n",
      "Epoch 267/500\n",
      "45/45 [==============================] - 0s 186us/step - loss: 5.1292e-04 - val_loss: 0.0014\n",
      "Epoch 268/500\n",
      "45/45 [==============================] - 0s 137us/step - loss: 5.1292e-04 - val_loss: 0.0014\n",
      "Epoch 269/500\n",
      "45/45 [==============================] - 0s 146us/step - loss: 5.1291e-04 - val_loss: 0.0014\n",
      "Epoch 270/500\n",
      "45/45 [==============================] - 0s 204us/step - loss: 5.1291e-04 - val_loss: 0.0014\n",
      "Epoch 271/500\n",
      "45/45 [==============================] - 0s 155us/step - loss: 5.1290e-04 - val_loss: 0.0014\n",
      "Epoch 272/500\n",
      "45/45 [==============================] - 0s 151us/step - loss: 5.1290e-04 - val_loss: 0.0014\n",
      "Epoch 273/500\n",
      "45/45 [==============================] - 0s 149us/step - loss: 5.1289e-04 - val_loss: 0.0014\n",
      "Epoch 274/500\n",
      "45/45 [==============================] - 0s 141us/step - loss: 5.1289e-04 - val_loss: 0.0014\n",
      "Epoch 275/500\n",
      "45/45 [==============================] - 0s 150us/step - loss: 5.1288e-04 - val_loss: 0.0014\n",
      "Epoch 276/500\n",
      "45/45 [==============================] - 0s 145us/step - loss: 5.1288e-04 - val_loss: 0.0014\n",
      "Epoch 277/500\n",
      "45/45 [==============================] - 0s 147us/step - loss: 5.1288e-04 - val_loss: 0.0014\n",
      "Epoch 278/500\n",
      "45/45 [==============================] - 0s 152us/step - loss: 5.1287e-04 - val_loss: 0.0014\n",
      "Epoch 279/500\n",
      "45/45 [==============================] - 0s 155us/step - loss: 5.1287e-04 - val_loss: 0.0014\n",
      "Epoch 280/500\n",
      "45/45 [==============================] - 0s 145us/step - loss: 5.1286e-04 - val_loss: 0.0014\n",
      "Epoch 281/500\n",
      "45/45 [==============================] - 0s 149us/step - loss: 5.1286e-04 - val_loss: 0.0014\n",
      "Epoch 282/500\n",
      "45/45 [==============================] - 0s 167us/step - loss: 5.1285e-04 - val_loss: 0.0014\n",
      "Epoch 283/500\n",
      "45/45 [==============================] - 0s 153us/step - loss: 5.1285e-04 - val_loss: 0.0014\n",
      "Epoch 284/500\n",
      "45/45 [==============================] - 0s 170us/step - loss: 5.1284e-04 - val_loss: 0.0014\n",
      "Epoch 285/500\n",
      "45/45 [==============================] - 0s 153us/step - loss: 5.1284e-04 - val_loss: 0.0014\n",
      "Epoch 286/500\n",
      "45/45 [==============================] - 0s 152us/step - loss: 5.1283e-04 - val_loss: 0.0014\n",
      "Epoch 287/500\n",
      "45/45 [==============================] - 0s 154us/step - loss: 5.1283e-04 - val_loss: 0.0014\n",
      "Epoch 288/500\n",
      "45/45 [==============================] - 0s 147us/step - loss: 5.1283e-04 - val_loss: 0.0014\n",
      "Epoch 289/500\n",
      "45/45 [==============================] - 0s 169us/step - loss: 5.1282e-04 - val_loss: 0.0014\n",
      "Epoch 290/500\n",
      "45/45 [==============================] - 0s 149us/step - loss: 5.1282e-04 - val_loss: 0.0014\n",
      "Epoch 291/500\n",
      "45/45 [==============================] - 0s 149us/step - loss: 5.1281e-04 - val_loss: 0.0014\n",
      "Epoch 292/500\n",
      "45/45 [==============================] - 0s 131us/step - loss: 5.1281e-04 - val_loss: 0.0014\n",
      "Epoch 293/500\n",
      "45/45 [==============================] - 0s 138us/step - loss: 5.1280e-04 - val_loss: 0.0014\n",
      "Epoch 294/500\n",
      "45/45 [==============================] - 0s 152us/step - loss: 5.1280e-04 - val_loss: 0.0014\n",
      "Epoch 295/500\n",
      "45/45 [==============================] - 0s 169us/step - loss: 5.1280e-04 - val_loss: 0.0014\n",
      "Epoch 296/500\n",
      "45/45 [==============================] - 0s 142us/step - loss: 5.1279e-04 - val_loss: 0.0014\n",
      "Epoch 297/500\n",
      "45/45 [==============================] - 0s 124us/step - loss: 5.1279e-04 - val_loss: 0.0014\n",
      "Epoch 298/500\n",
      "45/45 [==============================] - 0s 160us/step - loss: 5.1278e-04 - val_loss: 0.0014\n",
      "Epoch 299/500\n",
      "45/45 [==============================] - 0s 143us/step - loss: 5.1278e-04 - val_loss: 0.0014\n",
      "Epoch 300/500\n",
      "45/45 [==============================] - 0s 157us/step - loss: 5.1277e-04 - val_loss: 0.0014\n",
      "Epoch 301/500\n",
      "45/45 [==============================] - 0s 137us/step - loss: 5.1277e-04 - val_loss: 0.0014\n",
      "Epoch 302/500\n",
      "45/45 [==============================] - 0s 146us/step - loss: 5.1277e-04 - val_loss: 0.0014\n",
      "Epoch 303/500\n",
      "45/45 [==============================] - 0s 136us/step - loss: 5.1276e-04 - val_loss: 0.0014\n",
      "Epoch 304/500\n",
      "45/45 [==============================] - 0s 134us/step - loss: 5.1276e-04 - val_loss: 0.0014\n",
      "Epoch 305/500\n",
      "45/45 [==============================] - 0s 151us/step - loss: 5.1275e-04 - val_loss: 0.0014\n",
      "Epoch 306/500\n",
      "45/45 [==============================] - 0s 126us/step - loss: 5.1275e-04 - val_loss: 0.0014\n",
      "Epoch 307/500\n",
      "45/45 [==============================] - 0s 143us/step - loss: 5.1275e-04 - val_loss: 0.0014\n",
      "Epoch 308/500\n",
      "45/45 [==============================] - 0s 139us/step - loss: 5.1274e-04 - val_loss: 0.0014\n"
     ]
    },
    {
     "name": "stdout",
     "output_type": "stream",
     "text": [
      "Epoch 309/500\n",
      "45/45 [==============================] - 0s 139us/step - loss: 5.1274e-04 - val_loss: 0.0014\n",
      "Epoch 310/500\n",
      "45/45 [==============================] - 0s 149us/step - loss: 5.1273e-04 - val_loss: 0.0014\n",
      "Epoch 311/500\n",
      "45/45 [==============================] - 0s 140us/step - loss: 5.1273e-04 - val_loss: 0.0014\n",
      "Epoch 312/500\n",
      "45/45 [==============================] - 0s 149us/step - loss: 5.1272e-04 - val_loss: 0.0014\n",
      "Epoch 313/500\n",
      "45/45 [==============================] - 0s 148us/step - loss: 5.1272e-04 - val_loss: 0.0014\n",
      "Epoch 314/500\n",
      "45/45 [==============================] - 0s 138us/step - loss: 5.1272e-04 - val_loss: 0.0014\n",
      "Epoch 315/500\n",
      "45/45 [==============================] - 0s 145us/step - loss: 5.1271e-04 - val_loss: 0.0014\n",
      "Epoch 316/500\n",
      "45/45 [==============================] - 0s 155us/step - loss: 5.1271e-04 - val_loss: 0.0014\n",
      "Epoch 317/500\n",
      "45/45 [==============================] - 0s 133us/step - loss: 5.1270e-04 - val_loss: 0.0014\n",
      "Epoch 318/500\n",
      "45/45 [==============================] - 0s 148us/step - loss: 5.1270e-04 - val_loss: 0.0014\n",
      "Epoch 319/500\n",
      "45/45 [==============================] - 0s 136us/step - loss: 5.1269e-04 - val_loss: 0.0014\n",
      "Epoch 320/500\n",
      "45/45 [==============================] - 0s 112us/step - loss: 5.1269e-04 - val_loss: 0.0014\n",
      "Epoch 321/500\n",
      "45/45 [==============================] - 0s 124us/step - loss: 5.1269e-04 - val_loss: 0.0014\n",
      "Epoch 322/500\n",
      "45/45 [==============================] - 0s 143us/step - loss: 5.1268e-04 - val_loss: 0.0014\n",
      "Epoch 323/500\n",
      "45/45 [==============================] - 0s 132us/step - loss: 5.1268e-04 - val_loss: 0.0014\n",
      "Epoch 324/500\n",
      "45/45 [==============================] - 0s 134us/step - loss: 5.1267e-04 - val_loss: 0.0014\n",
      "Epoch 325/500\n",
      "45/45 [==============================] - 0s 158us/step - loss: 5.1267e-04 - val_loss: 0.0014\n",
      "Epoch 326/500\n",
      "45/45 [==============================] - 0s 164us/step - loss: 5.1266e-04 - val_loss: 0.0014\n",
      "Epoch 327/500\n",
      "45/45 [==============================] - 0s 128us/step - loss: 5.1266e-04 - val_loss: 0.0014\n",
      "Epoch 328/500\n",
      "45/45 [==============================] - 0s 149us/step - loss: 5.1266e-04 - val_loss: 0.0014\n",
      "Epoch 329/500\n",
      "45/45 [==============================] - 0s 132us/step - loss: 5.1265e-04 - val_loss: 0.0014\n",
      "Epoch 330/500\n",
      "45/45 [==============================] - 0s 131us/step - loss: 5.1265e-04 - val_loss: 0.0014\n",
      "Epoch 331/500\n",
      "45/45 [==============================] - 0s 144us/step - loss: 5.1264e-04 - val_loss: 0.0014\n",
      "Epoch 332/500\n",
      "45/45 [==============================] - 0s 127us/step - loss: 5.1264e-04 - val_loss: 0.0014\n",
      "Epoch 333/500\n",
      "45/45 [==============================] - 0s 136us/step - loss: 5.1263e-04 - val_loss: 0.0014\n",
      "Epoch 334/500\n",
      "45/45 [==============================] - 0s 132us/step - loss: 5.1263e-04 - val_loss: 0.0014\n",
      "Epoch 335/500\n",
      "45/45 [==============================] - 0s 139us/step - loss: 5.1262e-04 - val_loss: 0.0014\n",
      "Epoch 336/500\n",
      "45/45 [==============================] - 0s 147us/step - loss: 5.1262e-04 - val_loss: 0.0014\n",
      "Epoch 337/500\n",
      "45/45 [==============================] - 0s 128us/step - loss: 5.1262e-04 - val_loss: 0.0014\n",
      "Epoch 338/500\n",
      "45/45 [==============================] - 0s 139us/step - loss: 5.1261e-04 - val_loss: 0.0014\n",
      "Epoch 339/500\n",
      "45/45 [==============================] - 0s 135us/step - loss: 5.1261e-04 - val_loss: 0.0014\n",
      "Epoch 340/500\n",
      "45/45 [==============================] - 0s 134us/step - loss: 5.1260e-04 - val_loss: 0.0014\n",
      "Epoch 341/500\n",
      "45/45 [==============================] - 0s 140us/step - loss: 5.1260e-04 - val_loss: 0.0014\n",
      "Epoch 342/500\n",
      "45/45 [==============================] - 0s 139us/step - loss: 5.1259e-04 - val_loss: 0.0014\n",
      "Epoch 343/500\n",
      "45/45 [==============================] - 0s 128us/step - loss: 5.1259e-04 - val_loss: 0.0014\n",
      "Epoch 344/500\n",
      "45/45 [==============================] - 0s 143us/step - loss: 5.1258e-04 - val_loss: 0.0014\n",
      "Epoch 345/500\n",
      "45/45 [==============================] - 0s 125us/step - loss: 5.1258e-04 - val_loss: 0.0014\n",
      "Epoch 346/500\n",
      "45/45 [==============================] - 0s 137us/step - loss: 5.1257e-04 - val_loss: 0.0014\n",
      "Epoch 347/500\n",
      "45/45 [==============================] - 0s 142us/step - loss: 5.1257e-04 - val_loss: 0.0014\n",
      "Epoch 348/500\n",
      "45/45 [==============================] - 0s 126us/step - loss: 5.1256e-04 - val_loss: 0.0014\n",
      "Epoch 349/500\n",
      "45/45 [==============================] - 0s 138us/step - loss: 5.1256e-04 - val_loss: 0.0014\n",
      "Epoch 350/500\n",
      "45/45 [==============================] - 0s 138us/step - loss: 5.1256e-04 - val_loss: 0.0014\n",
      "Epoch 351/500\n",
      "45/45 [==============================] - 0s 121us/step - loss: 5.1255e-04 - val_loss: 0.0014\n",
      "Epoch 352/500\n",
      "45/45 [==============================] - 0s 142us/step - loss: 5.1255e-04 - val_loss: 0.0014\n",
      "Epoch 353/500\n",
      "45/45 [==============================] - 0s 129us/step - loss: 5.1254e-04 - val_loss: 0.0014\n",
      "Epoch 354/500\n",
      "45/45 [==============================] - 0s 122us/step - loss: 5.1254e-04 - val_loss: 0.0014\n",
      "Epoch 355/500\n",
      "45/45 [==============================] - 0s 157us/step - loss: 5.1253e-04 - val_loss: 0.0014\n",
      "Epoch 356/500\n",
      "45/45 [==============================] - 0s 135us/step - loss: 5.1253e-04 - val_loss: 0.0014\n",
      "Epoch 357/500\n",
      "45/45 [==============================] - 0s 148us/step - loss: 5.1252e-04 - val_loss: 0.0014\n",
      "Epoch 358/500\n",
      "45/45 [==============================] - 0s 127us/step - loss: 5.1252e-04 - val_loss: 0.0014\n",
      "Epoch 359/500\n",
      "45/45 [==============================] - 0s 141us/step - loss: 5.1251e-04 - val_loss: 0.0014\n",
      "Epoch 360/500\n",
      "45/45 [==============================] - 0s 141us/step - loss: 5.1251e-04 - val_loss: 0.0014\n",
      "Epoch 361/500\n",
      "45/45 [==============================] - 0s 126us/step - loss: 5.1250e-04 - val_loss: 0.0014\n",
      "Epoch 362/500\n",
      "45/45 [==============================] - 0s 136us/step - loss: 5.1250e-04 - val_loss: 0.0014\n",
      "Epoch 363/500\n",
      "45/45 [==============================] - 0s 134us/step - loss: 5.1249e-04 - val_loss: 0.0014\n",
      "Epoch 364/500\n",
      "45/45 [==============================] - 0s 131us/step - loss: 5.1249e-04 - val_loss: 0.0014\n",
      "Epoch 365/500\n",
      "45/45 [==============================] - 0s 141us/step - loss: 5.1248e-04 - val_loss: 0.0014\n",
      "Epoch 366/500\n",
      "45/45 [==============================] - 0s 121us/step - loss: 5.1248e-04 - val_loss: 0.0014\n",
      "Epoch 367/500\n",
      "45/45 [==============================] - 0s 155us/step - loss: 5.1247e-04 - val_loss: 0.0014\n",
      "Epoch 368/500\n",
      "45/45 [==============================] - 0s 125us/step - loss: 5.1247e-04 - val_loss: 0.0014\n",
      "Epoch 369/500\n",
      "45/45 [==============================] - 0s 147us/step - loss: 5.1246e-04 - val_loss: 0.0014\n",
      "Epoch 370/500\n",
      "45/45 [==============================] - 0s 123us/step - loss: 5.1246e-04 - val_loss: 0.0014\n",
      "Epoch 371/500\n",
      "45/45 [==============================] - 0s 133us/step - loss: 5.1245e-04 - val_loss: 0.0014\n",
      "Epoch 372/500\n",
      "45/45 [==============================] - 0s 138us/step - loss: 5.1245e-04 - val_loss: 0.0014\n",
      "Epoch 373/500\n",
      "45/45 [==============================] - 0s 119us/step - loss: 5.1244e-04 - val_loss: 0.0014\n",
      "Epoch 374/500\n",
      "45/45 [==============================] - 0s 144us/step - loss: 5.1243e-04 - val_loss: 0.0014\n",
      "Epoch 375/500\n",
      "45/45 [==============================] - 0s 125us/step - loss: 5.1243e-04 - val_loss: 0.0014\n",
      "Epoch 376/500\n",
      "45/45 [==============================] - 0s 135us/step - loss: 5.1242e-04 - val_loss: 0.0014\n",
      "Epoch 377/500\n",
      "45/45 [==============================] - 0s 145us/step - loss: 5.1242e-04 - val_loss: 0.0014\n",
      "Epoch 378/500\n",
      "45/45 [==============================] - 0s 128us/step - loss: 5.1241e-04 - val_loss: 0.0014\n",
      "Epoch 379/500\n",
      "45/45 [==============================] - 0s 142us/step - loss: 5.1241e-04 - val_loss: 0.0014\n",
      "Epoch 380/500\n",
      "45/45 [==============================] - 0s 146us/step - loss: 5.1240e-04 - val_loss: 0.0014\n",
      "Epoch 381/500\n",
      "45/45 [==============================] - 0s 122us/step - loss: 5.1240e-04 - val_loss: 0.0014\n",
      "Epoch 382/500\n",
      "45/45 [==============================] - 0s 145us/step - loss: 5.1239e-04 - val_loss: 0.0014\n",
      "Epoch 383/500\n",
      "45/45 [==============================] - 0s 125us/step - loss: 5.1239e-04 - val_loss: 0.0014\n",
      "Epoch 384/500\n",
      "45/45 [==============================] - 0s 142us/step - loss: 5.1238e-04 - val_loss: 0.0014\n",
      "Epoch 385/500\n",
      "45/45 [==============================] - 0s 135us/step - loss: 5.1237e-04 - val_loss: 0.0014\n"
     ]
    },
    {
     "name": "stdout",
     "output_type": "stream",
     "text": [
      "Epoch 386/500\n",
      "45/45 [==============================] - 0s 149us/step - loss: 5.1237e-04 - val_loss: 0.0014\n",
      "Epoch 387/500\n",
      "45/45 [==============================] - 0s 140us/step - loss: 5.1236e-04 - val_loss: 0.0014\n",
      "Epoch 388/500\n",
      "45/45 [==============================] - 0s 157us/step - loss: 5.1236e-04 - val_loss: 0.0014\n",
      "Epoch 389/500\n",
      "45/45 [==============================] - 0s 146us/step - loss: 5.1235e-04 - val_loss: 0.0014\n",
      "Epoch 390/500\n",
      "45/45 [==============================] - 0s 135us/step - loss: 5.1235e-04 - val_loss: 0.0014\n",
      "Epoch 391/500\n",
      "45/45 [==============================] - 0s 144us/step - loss: 5.1234e-04 - val_loss: 0.0014\n",
      "Epoch 392/500\n",
      "45/45 [==============================] - 0s 126us/step - loss: 5.1233e-04 - val_loss: 0.0014\n",
      "Epoch 393/500\n",
      "45/45 [==============================] - 0s 149us/step - loss: 5.1233e-04 - val_loss: 0.0014\n",
      "Epoch 394/500\n",
      "45/45 [==============================] - 0s 121us/step - loss: 5.1232e-04 - val_loss: 0.0014\n",
      "Epoch 395/500\n",
      "45/45 [==============================] - 0s 142us/step - loss: 5.1232e-04 - val_loss: 0.0014\n",
      "Epoch 396/500\n",
      "45/45 [==============================] - 0s 148us/step - loss: 5.1231e-04 - val_loss: 0.0014\n",
      "Epoch 397/500\n",
      "45/45 [==============================] - 0s 135us/step - loss: 5.1230e-04 - val_loss: 0.0014\n",
      "Epoch 398/500\n",
      "45/45 [==============================] - 0s 148us/step - loss: 5.1230e-04 - val_loss: 0.0014\n",
      "Epoch 399/500\n",
      "45/45 [==============================] - 0s 124us/step - loss: 5.1229e-04 - val_loss: 0.0014\n",
      "Epoch 400/500\n",
      "45/45 [==============================] - 0s 145us/step - loss: 5.1229e-04 - val_loss: 0.0014\n",
      "Epoch 401/500\n",
      "45/45 [==============================] - 0s 129us/step - loss: 5.1228e-04 - val_loss: 0.0014\n",
      "Epoch 402/500\n",
      "45/45 [==============================] - 0s 142us/step - loss: 5.1227e-04 - val_loss: 0.0014\n",
      "Epoch 403/500\n",
      "45/45 [==============================] - 0s 140us/step - loss: 5.1227e-04 - val_loss: 0.0014\n",
      "Epoch 404/500\n",
      "45/45 [==============================] - 0s 132us/step - loss: 5.1226e-04 - val_loss: 0.0014\n",
      "Epoch 405/500\n",
      "45/45 [==============================] - 0s 160us/step - loss: 5.1226e-04 - val_loss: 0.0014\n",
      "Epoch 406/500\n",
      "45/45 [==============================] - 0s 122us/step - loss: 5.1225e-04 - val_loss: 0.0014\n",
      "Epoch 407/500\n",
      "45/45 [==============================] - 0s 155us/step - loss: 5.1224e-04 - val_loss: 0.0014\n",
      "Epoch 408/500\n",
      "45/45 [==============================] - 0s 139us/step - loss: 5.1224e-04 - val_loss: 0.0014\n",
      "Epoch 409/500\n",
      "45/45 [==============================] - 0s 138us/step - loss: 5.1223e-04 - val_loss: 0.0014\n",
      "Epoch 410/500\n",
      "45/45 [==============================] - 0s 130us/step - loss: 5.1222e-04 - val_loss: 0.0014\n",
      "Epoch 411/500\n",
      "45/45 [==============================] - 0s 130us/step - loss: 5.1222e-04 - val_loss: 0.0014\n",
      "Epoch 412/500\n",
      "45/45 [==============================] - 0s 142us/step - loss: 5.1221e-04 - val_loss: 0.0014\n",
      "Epoch 413/500\n",
      "45/45 [==============================] - 0s 124us/step - loss: 5.1220e-04 - val_loss: 0.0014\n",
      "Epoch 414/500\n",
      "45/45 [==============================] - 0s 145us/step - loss: 5.1220e-04 - val_loss: 0.0014\n",
      "Epoch 415/500\n",
      "45/45 [==============================] - 0s 133us/step - loss: 5.1219e-04 - val_loss: 0.0014\n",
      "Epoch 416/500\n",
      "45/45 [==============================] - 0s 129us/step - loss: 5.1218e-04 - val_loss: 0.0014\n",
      "Epoch 417/500\n",
      "45/45 [==============================] - 0s 151us/step - loss: 5.1218e-04 - val_loss: 0.0014\n",
      "Epoch 418/500\n",
      "45/45 [==============================] - 0s 122us/step - loss: 5.1217e-04 - val_loss: 0.0014\n",
      "Epoch 419/500\n",
      "45/45 [==============================] - 0s 141us/step - loss: 5.1216e-04 - val_loss: 0.0014\n",
      "Epoch 420/500\n",
      "45/45 [==============================] - 0s 142us/step - loss: 5.1216e-04 - val_loss: 0.0014\n",
      "Epoch 421/500\n",
      "45/45 [==============================] - 0s 131us/step - loss: 5.1215e-04 - val_loss: 0.0014\n",
      "Epoch 422/500\n",
      "45/45 [==============================] - 0s 135us/step - loss: 5.1214e-04 - val_loss: 0.0014\n",
      "Epoch 423/500\n",
      "45/45 [==============================] - 0s 126us/step - loss: 5.1214e-04 - val_loss: 0.0014\n",
      "Epoch 424/500\n",
      "45/45 [==============================] - 0s 155us/step - loss: 5.1213e-04 - val_loss: 0.0014\n",
      "Epoch 425/500\n",
      "45/45 [==============================] - 0s 128us/step - loss: 5.1212e-04 - val_loss: 0.0014\n",
      "Epoch 426/500\n",
      "45/45 [==============================] - 0s 145us/step - loss: 5.1212e-04 - val_loss: 0.0014\n",
      "Epoch 427/500\n",
      "45/45 [==============================] - 0s 140us/step - loss: 5.1211e-04 - val_loss: 0.0014\n",
      "Epoch 428/500\n",
      "45/45 [==============================] - 0s 134us/step - loss: 5.1210e-04 - val_loss: 0.0014\n",
      "Epoch 429/500\n",
      "45/45 [==============================] - 0s 146us/step - loss: 5.1209e-04 - val_loss: 0.0014\n",
      "Epoch 430/500\n",
      "45/45 [==============================] - 0s 125us/step - loss: 5.1209e-04 - val_loss: 0.0014\n",
      "Epoch 431/500\n",
      "45/45 [==============================] - 0s 147us/step - loss: 5.1208e-04 - val_loss: 0.0014\n",
      "Epoch 432/500\n",
      "45/45 [==============================] - 0s 122us/step - loss: 5.1207e-04 - val_loss: 0.0014\n",
      "Epoch 433/500\n",
      "45/45 [==============================] - 0s 141us/step - loss: 5.1207e-04 - val_loss: 0.0014\n",
      "Epoch 434/500\n",
      "45/45 [==============================] - 0s 146us/step - loss: 5.1206e-04 - val_loss: 0.0014\n",
      "Epoch 435/500\n",
      "45/45 [==============================] - 0s 128us/step - loss: 5.1205e-04 - val_loss: 0.0014\n",
      "Epoch 436/500\n",
      "45/45 [==============================] - 0s 148us/step - loss: 5.1204e-04 - val_loss: 0.0014\n",
      "Epoch 437/500\n",
      "45/45 [==============================] - 0s 125us/step - loss: 5.1204e-04 - val_loss: 0.0014\n",
      "Epoch 438/500\n",
      "45/45 [==============================] - 0s 148us/step - loss: 5.1203e-04 - val_loss: 0.0014\n",
      "Epoch 439/500\n",
      "45/45 [==============================] - 0s 127us/step - loss: 5.1202e-04 - val_loss: 0.0014\n",
      "Epoch 440/500\n",
      "45/45 [==============================] - 0s 132us/step - loss: 5.1201e-04 - val_loss: 0.0014\n",
      "Epoch 441/500\n",
      "45/45 [==============================] - 0s 137us/step - loss: 5.1201e-04 - val_loss: 0.0014\n",
      "Epoch 442/500\n",
      "45/45 [==============================] - 0s 131us/step - loss: 5.1200e-04 - val_loss: 0.0014\n",
      "Epoch 443/500\n",
      "45/45 [==============================] - 0s 144us/step - loss: 5.1199e-04 - val_loss: 0.0014\n",
      "Epoch 444/500\n",
      "45/45 [==============================] - 0s 125us/step - loss: 5.1198e-04 - val_loss: 0.0014\n",
      "Epoch 445/500\n",
      "45/45 [==============================] - 0s 130us/step - loss: 5.1197e-04 - val_loss: 0.0014\n",
      "Epoch 446/500\n",
      "45/45 [==============================] - 0s 143us/step - loss: 5.1197e-04 - val_loss: 0.0014\n",
      "Epoch 447/500\n",
      "45/45 [==============================] - 0s 127us/step - loss: 5.1196e-04 - val_loss: 0.0014\n",
      "Epoch 448/500\n",
      "45/45 [==============================] - 0s 145us/step - loss: 5.1195e-04 - val_loss: 0.0014\n",
      "Epoch 449/500\n",
      "45/45 [==============================] - 0s 167us/step - loss: 5.1194e-04 - val_loss: 0.0014\n",
      "Epoch 450/500\n",
      "45/45 [==============================] - 0s 167us/step - loss: 5.1193e-04 - val_loss: 0.0014\n",
      "Epoch 451/500\n",
      "45/45 [==============================] - 0s 162us/step - loss: 5.1193e-04 - val_loss: 0.0014\n",
      "Epoch 452/500\n",
      "45/45 [==============================] - 0s 152us/step - loss: 5.1192e-04 - val_loss: 0.0014\n",
      "Epoch 453/500\n",
      "45/45 [==============================] - 0s 152us/step - loss: 5.1191e-04 - val_loss: 0.0014\n",
      "Epoch 454/500\n",
      "45/45 [==============================] - 0s 161us/step - loss: 5.1190e-04 - val_loss: 0.0014\n",
      "Epoch 455/500\n",
      "45/45 [==============================] - 0s 156us/step - loss: 5.1189e-04 - val_loss: 0.0014\n",
      "Epoch 456/500\n",
      "45/45 [==============================] - 0s 183us/step - loss: 5.1188e-04 - val_loss: 0.0014\n",
      "Epoch 457/500\n",
      "45/45 [==============================] - 0s 158us/step - loss: 5.1188e-04 - val_loss: 0.0014\n",
      "Epoch 458/500\n",
      "45/45 [==============================] - 0s 152us/step - loss: 5.1187e-04 - val_loss: 0.0014\n",
      "Epoch 459/500\n",
      "45/45 [==============================] - 0s 174us/step - loss: 5.1186e-04 - val_loss: 0.0014\n",
      "Epoch 460/500\n",
      "45/45 [==============================] - 0s 146us/step - loss: 5.1185e-04 - val_loss: 0.0014\n",
      "Epoch 461/500\n",
      "45/45 [==============================] - 0s 153us/step - loss: 5.1184e-04 - val_loss: 0.0014\n",
      "Epoch 462/500\n",
      "45/45 [==============================] - 0s 157us/step - loss: 5.1183e-04 - val_loss: 0.0014\n"
     ]
    },
    {
     "name": "stdout",
     "output_type": "stream",
     "text": [
      "Epoch 463/500\n",
      "45/45 [==============================] - 0s 161us/step - loss: 5.1182e-04 - val_loss: 0.0014\n",
      "Epoch 464/500\n",
      "45/45 [==============================] - 0s 140us/step - loss: 5.1181e-04 - val_loss: 0.0014\n",
      "Epoch 465/500\n",
      "45/45 [==============================] - 0s 130us/step - loss: 5.1181e-04 - val_loss: 0.0014\n",
      "Epoch 466/500\n",
      "45/45 [==============================] - 0s 130us/step - loss: 5.1180e-04 - val_loss: 0.0014\n",
      "Epoch 467/500\n",
      "45/45 [==============================] - 0s 143us/step - loss: 5.1179e-04 - val_loss: 0.0014\n",
      "Epoch 468/500\n",
      "45/45 [==============================] - 0s 147us/step - loss: 5.1178e-04 - val_loss: 0.0014\n",
      "Epoch 469/500\n",
      "45/45 [==============================] - 0s 127us/step - loss: 5.1177e-04 - val_loss: 0.0014\n",
      "Epoch 470/500\n",
      "45/45 [==============================] - 0s 165us/step - loss: 5.1176e-04 - val_loss: 0.0014\n",
      "Epoch 471/500\n",
      "45/45 [==============================] - 0s 130us/step - loss: 5.1175e-04 - val_loss: 0.0014\n",
      "Epoch 472/500\n",
      "45/45 [==============================] - 0s 141us/step - loss: 5.1174e-04 - val_loss: 0.0014\n",
      "Epoch 473/500\n",
      "45/45 [==============================] - 0s 131us/step - loss: 5.1173e-04 - val_loss: 0.0014\n",
      "Epoch 474/500\n",
      "45/45 [==============================] - 0s 128us/step - loss: 5.1172e-04 - val_loss: 0.0014\n",
      "Epoch 475/500\n",
      "45/45 [==============================] - 0s 140us/step - loss: 5.1171e-04 - val_loss: 0.0014\n",
      "Epoch 476/500\n",
      "45/45 [==============================] - 0s 134us/step - loss: 5.1170e-04 - val_loss: 0.0014\n",
      "Epoch 477/500\n",
      "45/45 [==============================] - 0s 154us/step - loss: 5.1169e-04 - val_loss: 0.0014\n",
      "Epoch 478/500\n",
      "45/45 [==============================] - 0s 127us/step - loss: 5.1168e-04 - val_loss: 0.0014\n",
      "Epoch 479/500\n",
      "45/45 [==============================] - 0s 147us/step - loss: 5.1167e-04 - val_loss: 0.0014\n",
      "Epoch 480/500\n",
      "45/45 [==============================] - 0s 147us/step - loss: 5.1167e-04 - val_loss: 0.0014\n",
      "Epoch 481/500\n",
      "45/45 [==============================] - 0s 130us/step - loss: 5.1166e-04 - val_loss: 0.0014\n",
      "Epoch 482/500\n",
      "45/45 [==============================] - 0s 162us/step - loss: 5.1165e-04 - val_loss: 0.0014\n",
      "Epoch 483/500\n",
      "45/45 [==============================] - 0s 132us/step - loss: 5.1164e-04 - val_loss: 0.0014\n",
      "Epoch 484/500\n",
      "45/45 [==============================] - 0s 149us/step - loss: 5.1163e-04 - val_loss: 0.0014\n",
      "Epoch 485/500\n",
      "45/45 [==============================] - 0s 130us/step - loss: 5.1161e-04 - val_loss: 0.0014\n",
      "Epoch 486/500\n",
      "45/45 [==============================] - 0s 156us/step - loss: 5.1160e-04 - val_loss: 0.0014\n",
      "Epoch 487/500\n",
      "45/45 [==============================] - 0s 119us/step - loss: 5.1159e-04 - val_loss: 0.0014\n",
      "Epoch 488/500\n",
      "45/45 [==============================] - 0s 149us/step - loss: 5.1158e-04 - val_loss: 0.0014\n",
      "Epoch 489/500\n",
      "45/45 [==============================] - 0s 144us/step - loss: 5.1157e-04 - val_loss: 0.0014\n",
      "Epoch 490/500\n",
      "45/45 [==============================] - 0s 124us/step - loss: 5.1156e-04 - val_loss: 0.0014\n",
      "Epoch 491/500\n",
      "45/45 [==============================] - 0s 165us/step - loss: 5.1155e-04 - val_loss: 0.0014\n",
      "Epoch 492/500\n",
      "45/45 [==============================] - 0s 138us/step - loss: 5.1154e-04 - val_loss: 0.0014\n",
      "Epoch 493/500\n",
      "45/45 [==============================] - 0s 159us/step - loss: 5.1153e-04 - val_loss: 0.0014\n",
      "Epoch 494/500\n",
      "45/45 [==============================] - 0s 132us/step - loss: 5.1152e-04 - val_loss: 0.0014\n",
      "Epoch 495/500\n",
      "45/45 [==============================] - 0s 145us/step - loss: 5.1151e-04 - val_loss: 0.0014\n",
      "Epoch 496/500\n",
      "45/45 [==============================] - 0s 155us/step - loss: 5.1150e-04 - val_loss: 0.0014\n",
      "Epoch 497/500\n",
      "45/45 [==============================] - 0s 131us/step - loss: 5.1149e-04 - val_loss: 0.0014\n",
      "Epoch 498/500\n",
      "45/45 [==============================] - 0s 146us/step - loss: 5.1148e-04 - val_loss: 0.0014\n",
      "Epoch 499/500\n",
      "45/45 [==============================] - 0s 132us/step - loss: 5.1147e-04 - val_loss: 0.0014\n",
      "Epoch 500/500\n",
      "45/45 [==============================] - 0s 140us/step - loss: 5.1145e-04 - val_loss: 0.0014\n",
      "\n",
      "\n",
      "Baseline MSE: 0.0003041731120234838\n",
      "Baseline RMSE: 0.017440559395371577\n",
      "\n",
      "\n"
     ]
    },
    {
     "data": {
      "image/png": "[encoded data removed]",
      "text/plain": [
       "<Figure size 432x288 with 1 Axes>"
      ]
     },
     "metadata": {
      "needs_background": "light"
     },
     "output_type": "display_data"
    }
   ],
   "source": [
    "appmodel = Sequential()\n",
    "appmodel.add(LSTM(50, activation='linear', input_shape=(n_steps, n_features)))\n",
    "appmodel.add(Dense(1))\n",
    "appmodel.compile(optimizer='adam', loss='mse')\n",
    "\n",
    "appmodelresult = appmodel.fit(X_train, y_train, batch_size=100, epochs=500, validation_split=(0.3))\n",
    "\n",
    "yhat5 = appmodel.predict(X_test)\n",
    "print('\\n')\n",
    "rmse = np.sqrt(mean_squared_error(y_test, yhat5))\n",
    "print('Baseline MSE:', mean_squared_error(y_test, yhat5))\n",
    "print('Baseline RMSE:', rmse)\n",
    "print('\\n')\n",
    "visualize_training_results(appmodelresult)"
   ]
  },
  {
   "cell_type": "markdown",
   "metadata": {},
   "source": [
    "Not much difference here."
   ]
  },
  {
   "cell_type": "code",
   "execution_count": 80,
   "metadata": {
    "ExecuteTime": {
     "end_time": "2021-01-27T22:43:34.755824Z",
     "start_time": "2021-01-27T22:43:29.280070Z"
    },
    "scrolled": true
   },
   "outputs": [
    {
     "name": "stdout",
     "output_type": "stream",
     "text": [
      "Train on 55 samples, validate on 10 samples\n",
      "Epoch 1/300\n",
      "55/55 [==============================] - 2s 30ms/step - loss: 0.0011 - val_loss: 4.0111e-04\n",
      "Epoch 2/300\n",
      "55/55 [==============================] - 0s 134us/step - loss: 9.4243e-04 - val_loss: 5.6323e-04\n",
      "Epoch 3/300\n",
      "55/55 [==============================] - 0s 125us/step - loss: 8.8243e-04 - val_loss: 7.5938e-04\n",
      "Epoch 4/300\n",
      "55/55 [==============================] - 0s 109us/step - loss: 8.9907e-04 - val_loss: 8.8976e-04\n",
      "Epoch 5/300\n",
      "55/55 [==============================] - 0s 118us/step - loss: 9.3305e-04 - val_loss: 9.2543e-04\n",
      "Epoch 6/300\n",
      "55/55 [==============================] - 0s 119us/step - loss: 9.4456e-04 - val_loss: 8.7722e-04\n",
      "Epoch 7/300\n",
      "55/55 [==============================] - 0s 105us/step - loss: 9.2903e-04 - val_loss: 7.8446e-04\n",
      "Epoch 8/300\n",
      "55/55 [==============================] - 0s 113us/step - loss: 9.0286e-04 - val_loss: 6.8019e-04\n",
      "Epoch 9/300\n",
      "55/55 [==============================] - 0s 143us/step - loss: 8.8126e-04 - val_loss: 5.8683e-04\n",
      "Epoch 10/300\n",
      "55/55 [==============================] - 0s 137us/step - loss: 8.7185e-04 - val_loss: 5.1367e-04\n",
      "Epoch 11/300\n",
      "55/55 [==============================] - 0s 138us/step - loss: 8.7414e-04 - val_loss: 4.6455e-04\n",
      "Epoch 12/300\n",
      "55/55 [==============================] - 0s 136us/step - loss: 8.8251e-04 - val_loss: 4.3715e-04\n",
      "Epoch 13/300\n",
      "55/55 [==============================] - 0s 138us/step - loss: 8.8989e-04 - val_loss: 4.2774e-04\n",
      "Epoch 14/300\n",
      "55/55 [==============================] - 0s 136us/step - loss: 8.9164e-04 - val_loss: 4.3314e-04\n",
      "Epoch 15/300\n",
      "55/55 [==============================] - 0s 142us/step - loss: 8.8706e-04 - val_loss: 4.5129e-04\n",
      "Epoch 16/300\n",
      "55/55 [==============================] - 0s 126us/step - loss: 8.7851e-04 - val_loss: 4.8037e-04\n",
      "Epoch 17/300\n",
      "55/55 [==============================] - 0s 116us/step - loss: 8.6959e-04 - val_loss: 5.1765e-04\n",
      "Epoch 18/300\n",
      "55/55 [==============================] - 0s 134us/step - loss: 8.6339e-04 - val_loss: 5.5868e-04\n",
      "Epoch 19/300\n",
      "55/55 [==============================] - 0s 140us/step - loss: 8.6136e-04 - val_loss: 5.9735e-04\n",
      "Epoch 20/300\n",
      "55/55 [==============================] - 0s 129us/step - loss: 8.6290e-04 - val_loss: 6.2702e-04\n",
      "Epoch 21/300\n",
      "55/55 [==============================] - 0s 116us/step - loss: 8.6590e-04 - val_loss: 6.4243e-04\n",
      "Epoch 22/300\n",
      "55/55 [==============================] - 0s 123us/step - loss: 8.6789e-04 - val_loss: 6.4135e-04\n",
      "Epoch 23/300\n",
      "55/55 [==============================] - 0s 119us/step - loss: 8.6738e-04 - val_loss: 6.2510e-04\n",
      "Epoch 24/300\n",
      "55/55 [==============================] - 0s 137us/step - loss: 8.6441e-04 - val_loss: 5.9775e-04\n",
      "Epoch 25/300\n",
      "55/55 [==============================] - 0s 126us/step - loss: 8.6023e-04 - val_loss: 5.6473e-04\n",
      "Epoch 26/300\n",
      "55/55 [==============================] - 0s 123us/step - loss: 8.5651e-04 - val_loss: 5.3136e-04\n",
      "Epoch 27/300\n",
      "55/55 [==============================] - 0s 124us/step - loss: 8.5440e-04 - val_loss: 5.0187e-04\n",
      "Epoch 28/300\n",
      "55/55 [==============================] - 0s 133us/step - loss: 8.5413e-04 - val_loss: 4.7902e-04\n",
      "Epoch 29/300\n",
      "55/55 [==============================] - 0s 127us/step - loss: 8.5501e-04 - val_loss: 4.6396e-04\n",
      "Epoch 30/300\n",
      "55/55 [==============================] - 0s 166us/step - loss: 8.5597e-04 - val_loss: 4.5731e-04\n",
      "Epoch 31/300\n",
      "55/55 [==============================] - 0s 127us/step - loss: 8.5606e-04 - val_loss: 4.5843e-04\n",
      "Epoch 32/300\n",
      "55/55 [==============================] - 0s 134us/step - loss: 8.5497e-04 - val_loss: 4.6645e-04\n",
      "Epoch 33/300\n",
      "55/55 [==============================] - 0s 118us/step - loss: 8.5305e-04 - val_loss: 4.7968e-04\n",
      "Epoch 34/300\n",
      "55/55 [==============================] - 0s 142us/step - loss: 8.5106e-04 - val_loss: 4.9612e-04\n",
      "Epoch 35/300\n",
      "55/55 [==============================] - 0s 120us/step - loss: 8.4970e-04 - val_loss: 5.1307e-04\n",
      "Epoch 36/300\n",
      "55/55 [==============================] - 0s 127us/step - loss: 8.4924e-04 - val_loss: 5.2755e-04\n",
      "Epoch 37/300\n",
      "55/55 [==============================] - 0s 128us/step - loss: 8.4947e-04 - val_loss: 5.3690e-04\n",
      "Epoch 38/300\n",
      "55/55 [==============================] - 0s 122us/step - loss: 8.4986e-04 - val_loss: 5.3941e-04\n",
      "Epoch 39/300\n",
      "55/55 [==============================] - 0s 145us/step - loss: 8.4986e-04 - val_loss: 5.3469e-04\n",
      "Epoch 40/300\n",
      "55/55 [==============================] - 0s 129us/step - loss: 8.4926e-04 - val_loss: 5.2391e-04\n",
      "Epoch 41/300\n",
      "55/55 [==============================] - 0s 136us/step - loss: 8.4824e-04 - val_loss: 5.0944e-04\n",
      "Epoch 42/300\n",
      "55/55 [==============================] - 0s 125us/step - loss: 8.4723e-04 - val_loss: 4.9378e-04\n",
      "Epoch 43/300\n",
      "55/55 [==============================] - 0s 117us/step - loss: 8.4657e-04 - val_loss: 4.7938e-04\n",
      "Epoch 44/300\n",
      "55/55 [==============================] - 0s 139us/step - loss: 8.4638e-04 - val_loss: 4.6809e-04\n",
      "Epoch 45/300\n",
      "55/55 [==============================] - 0s 136us/step - loss: 8.4649e-04 - val_loss: 4.6104e-04\n",
      "Epoch 46/300\n",
      "55/55 [==============================] - 0s 123us/step - loss: 8.4658e-04 - val_loss: 4.5862e-04\n",
      "Epoch 47/300\n",
      "55/55 [==============================] - 0s 140us/step - loss: 8.4642e-04 - val_loss: 4.6056e-04\n",
      "Epoch 48/300\n",
      "55/55 [==============================] - 0s 125us/step - loss: 8.4597e-04 - val_loss: 4.6611e-04\n",
      "Epoch 49/300\n",
      "55/55 [==============================] - 0s 137us/step - loss: 8.4539e-04 - val_loss: 4.7385e-04\n",
      "Epoch 50/300\n",
      "55/55 [==============================] - 0s 130us/step - loss: 8.4491e-04 - val_loss: 4.8219e-04\n",
      "Epoch 51/300\n",
      "55/55 [==============================] - 0s 131us/step - loss: 8.4467e-04 - val_loss: 4.8939e-04\n",
      "Epoch 52/300\n",
      "55/55 [==============================] - 0s 133us/step - loss: 8.4463e-04 - val_loss: 4.9396e-04\n",
      "Epoch 53/300\n",
      "55/55 [==============================] - 0s 130us/step - loss: 8.4464e-04 - val_loss: 4.9499e-04\n",
      "Epoch 54/300\n",
      "55/55 [==============================] - 0s 130us/step - loss: 8.4456e-04 - val_loss: 4.9238e-04\n",
      "Epoch 55/300\n",
      "55/55 [==============================] - 0s 134us/step - loss: 8.4432e-04 - val_loss: 4.8681e-04\n",
      "Epoch 56/300\n",
      "55/55 [==============================] - 0s 138us/step - loss: 8.4398e-04 - val_loss: 4.7950e-04\n",
      "Epoch 57/300\n",
      "55/55 [==============================] - 0s 135us/step - loss: 8.4367e-04 - val_loss: 4.7192e-04\n",
      "Epoch 58/300\n",
      "55/55 [==============================] - 0s 132us/step - loss: 8.4347e-04 - val_loss: 4.6534e-04\n",
      "Epoch 59/300\n",
      "55/55 [==============================] - 0s 122us/step - loss: 8.4339e-04 - val_loss: 4.6085e-04\n",
      "Epoch 60/300\n",
      "55/55 [==============================] - 0s 155us/step - loss: 8.4334e-04 - val_loss: 4.5892e-04\n",
      "Epoch 61/300\n",
      "55/55 [==============================] - 0s 140us/step - loss: 8.4324e-04 - val_loss: 4.5956e-04\n",
      "Epoch 62/300\n",
      "55/55 [==============================] - 0s 138us/step - loss: 8.4306e-04 - val_loss: 4.6234e-04\n",
      "Epoch 63/300\n",
      "55/55 [==============================] - 0s 134us/step - loss: 8.4283e-04 - val_loss: 4.6647e-04\n",
      "Epoch 64/300\n",
      "55/55 [==============================] - 0s 135us/step - loss: 8.4261e-04 - val_loss: 4.7101e-04\n",
      "Epoch 65/300\n",
      "55/55 [==============================] - 0s 130us/step - loss: 8.4246e-04 - val_loss: 4.7485e-04\n",
      "Epoch 66/300\n",
      "55/55 [==============================] - 0s 124us/step - loss: 8.4236e-04 - val_loss: 4.7722e-04\n",
      "Epoch 67/300\n",
      "55/55 [==============================] - 0s 131us/step - loss: 8.4227e-04 - val_loss: 4.7766e-04\n",
      "Epoch 68/300\n",
      "55/55 [==============================] - 0s 118us/step - loss: 8.4215e-04 - val_loss: 4.7620e-04\n",
      "Epoch 69/300\n",
      "55/55 [==============================] - 0s 137us/step - loss: 8.4199e-04 - val_loss: 4.7328e-04\n",
      "Epoch 70/300\n",
      "55/55 [==============================] - 0s 126us/step - loss: 8.4180e-04 - val_loss: 4.6964e-04\n",
      "Epoch 71/300\n",
      "55/55 [==============================] - 0s 131us/step - loss: 8.4164e-04 - val_loss: 4.6607e-04\n",
      "Epoch 72/300\n",
      "55/55 [==============================] - 0s 126us/step - loss: 8.4150e-04 - val_loss: 4.6331e-04\n",
      "Epoch 73/300\n",
      "55/55 [==============================] - 0s 142us/step - loss: 8.4139e-04 - val_loss: 4.6180e-04\n",
      "Epoch 74/300\n",
      "55/55 [==============================] - 0s 127us/step - loss: 8.4128e-04 - val_loss: 4.6175e-04\n",
      "Epoch 75/300\n",
      "55/55 [==============================] - 0s 138us/step - loss: 8.4115e-04 - val_loss: 4.6303e-04\n"
     ]
    },
    {
     "name": "stdout",
     "output_type": "stream",
     "text": [
      "Epoch 76/300\n",
      "55/55 [==============================] - 0s 121us/step - loss: 8.4099e-04 - val_loss: 4.6521e-04\n",
      "Epoch 77/300\n",
      "55/55 [==============================] - 0s 132us/step - loss: 8.4083e-04 - val_loss: 4.6777e-04\n",
      "Epoch 78/300\n",
      "55/55 [==============================] - 0s 138us/step - loss: 8.4069e-04 - val_loss: 4.7010e-04\n",
      "Epoch 79/300\n",
      "55/55 [==============================] - 0s 135us/step - loss: 8.4057e-04 - val_loss: 4.7170e-04\n",
      "Epoch 80/300\n",
      "55/55 [==============================] - 0s 130us/step - loss: 8.4045e-04 - val_loss: 4.7227e-04\n",
      "Epoch 81/300\n",
      "55/55 [==============================] - 0s 134us/step - loss: 8.4032e-04 - val_loss: 4.7179e-04\n",
      "Epoch 82/300\n",
      "55/55 [==============================] - 0s 123us/step - loss: 8.4018e-04 - val_loss: 4.7046e-04\n",
      "Epoch 83/300\n",
      "55/55 [==============================] - 0s 134us/step - loss: 8.4003e-04 - val_loss: 4.6868e-04\n",
      "Epoch 84/300\n",
      "55/55 [==============================] - 0s 134us/step - loss: 8.3989e-04 - val_loss: 4.6694e-04\n",
      "Epoch 85/300\n",
      "55/55 [==============================] - 0s 132us/step - loss: 8.3976e-04 - val_loss: 4.6562e-04\n",
      "Epoch 86/300\n",
      "55/55 [==============================] - 0s 136us/step - loss: 8.3964e-04 - val_loss: 4.6500e-04\n",
      "Epoch 87/300\n",
      "55/55 [==============================] - 0s 135us/step - loss: 8.3951e-04 - val_loss: 4.6519e-04\n",
      "Epoch 88/300\n",
      "55/55 [==============================] - 0s 138us/step - loss: 8.3937e-04 - val_loss: 4.6607e-04\n",
      "Epoch 89/300\n",
      "55/55 [==============================] - 0s 128us/step - loss: 8.3924e-04 - val_loss: 4.6741e-04\n",
      "Epoch 90/300\n",
      "55/55 [==============================] - 0s 128us/step - loss: 8.3910e-04 - val_loss: 4.6886e-04\n",
      "Epoch 91/300\n",
      "55/55 [==============================] - 0s 130us/step - loss: 8.3896e-04 - val_loss: 4.7008e-04\n",
      "Epoch 92/300\n",
      "55/55 [==============================] - 0s 136us/step - loss: 8.3883e-04 - val_loss: 4.7083e-04\n",
      "Epoch 93/300\n",
      "55/55 [==============================] - 0s 141us/step - loss: 8.3870e-04 - val_loss: 4.7096e-04\n",
      "Epoch 94/300\n",
      "55/55 [==============================] - 0s 153us/step - loss: 8.3857e-04 - val_loss: 4.7054e-04\n",
      "Epoch 95/300\n",
      "55/55 [==============================] - 0s 137us/step - loss: 8.3843e-04 - val_loss: 4.6972e-04\n",
      "Epoch 96/300\n",
      "55/55 [==============================] - 0s 122us/step - loss: 8.3829e-04 - val_loss: 4.6876e-04\n",
      "Epoch 97/300\n",
      "55/55 [==============================] - 0s 139us/step - loss: 8.3815e-04 - val_loss: 4.6794e-04\n",
      "Epoch 98/300\n",
      "55/55 [==============================] - 0s 128us/step - loss: 8.3801e-04 - val_loss: 4.6747e-04\n",
      "Epoch 99/300\n",
      "55/55 [==============================] - 0s 122us/step - loss: 8.3788e-04 - val_loss: 4.6744e-04\n",
      "Epoch 100/300\n",
      "55/55 [==============================] - 0s 138us/step - loss: 8.3774e-04 - val_loss: 4.6784e-04\n",
      "Epoch 101/300\n",
      "55/55 [==============================] - 0s 133us/step - loss: 8.3759e-04 - val_loss: 4.6855e-04\n",
      "Epoch 102/300\n",
      "55/55 [==============================] - 0s 132us/step - loss: 8.3745e-04 - val_loss: 4.6938e-04\n",
      "Epoch 103/300\n",
      "55/55 [==============================] - 0s 140us/step - loss: 8.3730e-04 - val_loss: 4.7010e-04\n",
      "Epoch 104/300\n",
      "55/55 [==============================] - 0s 134us/step - loss: 8.3716e-04 - val_loss: 4.7055e-04\n",
      "Epoch 105/300\n",
      "55/55 [==============================] - 0s 133us/step - loss: 8.3701e-04 - val_loss: 4.7066e-04\n",
      "Epoch 106/300\n",
      "55/55 [==============================] - 0s 134us/step - loss: 8.3686e-04 - val_loss: 4.7042e-04\n",
      "Epoch 107/300\n",
      "55/55 [==============================] - 0s 136us/step - loss: 8.3671e-04 - val_loss: 4.6995e-04\n",
      "Epoch 108/300\n",
      "55/55 [==============================] - 0s 133us/step - loss: 8.3656e-04 - val_loss: 4.6940e-04\n",
      "Epoch 109/300\n",
      "55/55 [==============================] - 0s 118us/step - loss: 8.3641e-04 - val_loss: 4.6895e-04\n",
      "Epoch 110/300\n",
      "55/55 [==============================] - 0s 135us/step - loss: 8.3625e-04 - val_loss: 4.6873e-04\n",
      "Epoch 111/300\n",
      "55/55 [==============================] - 0s 127us/step - loss: 8.3609e-04 - val_loss: 4.6878e-04\n",
      "Epoch 112/300\n",
      "55/55 [==============================] - 0s 133us/step - loss: 8.3593e-04 - val_loss: 4.6908e-04\n",
      "Epoch 113/300\n",
      "55/55 [==============================] - 0s 124us/step - loss: 8.3577e-04 - val_loss: 4.6953e-04\n",
      "Epoch 114/300\n",
      "55/55 [==============================] - 0s 138us/step - loss: 8.3560e-04 - val_loss: 4.7000e-04\n",
      "Epoch 115/300\n",
      "55/55 [==============================] - 0s 139us/step - loss: 8.3543e-04 - val_loss: 4.7036e-04\n",
      "Epoch 116/300\n",
      "55/55 [==============================] - 0s 152us/step - loss: 8.3526e-04 - val_loss: 4.7052e-04\n",
      "Epoch 117/300\n",
      "55/55 [==============================] - 0s 136us/step - loss: 8.3509e-04 - val_loss: 4.7045e-04\n",
      "Epoch 118/300\n",
      "55/55 [==============================] - 0s 136us/step - loss: 8.3491e-04 - val_loss: 4.7022e-04\n",
      "Epoch 119/300\n",
      "55/55 [==============================] - 0s 134us/step - loss: 8.3473e-04 - val_loss: 4.6990e-04\n",
      "Epoch 120/300\n",
      "55/55 [==============================] - 0s 142us/step - loss: 8.3454e-04 - val_loss: 4.6962e-04\n",
      "Epoch 121/300\n",
      "55/55 [==============================] - 0s 137us/step - loss: 8.3436e-04 - val_loss: 4.6948e-04\n",
      "Epoch 122/300\n",
      "55/55 [==============================] - 0s 129us/step - loss: 8.3417e-04 - val_loss: 4.6951e-04\n",
      "Epoch 123/300\n",
      "55/55 [==============================] - 0s 133us/step - loss: 8.3397e-04 - val_loss: 4.6971e-04\n",
      "Epoch 124/300\n",
      "55/55 [==============================] - 0s 138us/step - loss: 8.3378e-04 - val_loss: 4.7001e-04\n",
      "Epoch 125/300\n",
      "55/55 [==============================] - 0s 140us/step - loss: 8.3358e-04 - val_loss: 4.7031e-04\n",
      "Epoch 126/300\n",
      "55/55 [==============================] - 0s 128us/step - loss: 8.3337e-04 - val_loss: 4.7054e-04\n",
      "Epoch 127/300\n",
      "55/55 [==============================] - 0s 133us/step - loss: 8.3316e-04 - val_loss: 4.7063e-04\n",
      "Epoch 128/300\n",
      "55/55 [==============================] - 0s 133us/step - loss: 8.3295e-04 - val_loss: 4.7058e-04\n",
      "Epoch 129/300\n",
      "55/55 [==============================] - 0s 128us/step - loss: 8.3273e-04 - val_loss: 4.7043e-04\n",
      "Epoch 130/300\n",
      "55/55 [==============================] - 0s 130us/step - loss: 8.3251e-04 - val_loss: 4.7027e-04\n",
      "Epoch 131/300\n",
      "55/55 [==============================] - 0s 136us/step - loss: 8.3228e-04 - val_loss: 4.7017e-04\n",
      "Epoch 132/300\n",
      "55/55 [==============================] - 0s 130us/step - loss: 8.3205e-04 - val_loss: 4.7019e-04\n",
      "Epoch 133/300\n",
      "55/55 [==============================] - 0s 132us/step - loss: 8.3181e-04 - val_loss: 4.7033e-04\n",
      "Epoch 134/300\n",
      "55/55 [==============================] - 0s 138us/step - loss: 8.3157e-04 - val_loss: 4.7056e-04\n",
      "Epoch 135/300\n",
      "55/55 [==============================] - 0s 131us/step - loss: 8.3132e-04 - val_loss: 4.7081e-04\n",
      "Epoch 136/300\n",
      "55/55 [==============================] - 0s 132us/step - loss: 8.3107e-04 - val_loss: 4.7102e-04\n",
      "Epoch 137/300\n",
      "55/55 [==============================] - 0s 130us/step - loss: 8.3081e-04 - val_loss: 4.7113e-04\n",
      "Epoch 138/300\n",
      "55/55 [==============================] - 0s 133us/step - loss: 8.3055e-04 - val_loss: 4.7114e-04\n",
      "Epoch 139/300\n",
      "55/55 [==============================] - 0s 132us/step - loss: 8.3028e-04 - val_loss: 4.7110e-04\n",
      "Epoch 140/300\n",
      "55/55 [==============================] - 0s 124us/step - loss: 8.3000e-04 - val_loss: 4.7106e-04\n",
      "Epoch 141/300\n",
      "55/55 [==============================] - 0s 134us/step - loss: 8.2972e-04 - val_loss: 4.7108e-04\n",
      "Epoch 142/300\n",
      "55/55 [==============================] - 0s 135us/step - loss: 8.2943e-04 - val_loss: 4.7119e-04\n",
      "Epoch 143/300\n",
      "55/55 [==============================] - 0s 130us/step - loss: 8.2914e-04 - val_loss: 4.7138e-04\n",
      "Epoch 144/300\n",
      "55/55 [==============================] - 0s 125us/step - loss: 8.2884e-04 - val_loss: 4.7162e-04\n",
      "Epoch 145/300\n",
      "55/55 [==============================] - 0s 136us/step - loss: 8.2853e-04 - val_loss: 4.7184e-04\n",
      "Epoch 146/300\n",
      "55/55 [==============================] - 0s 132us/step - loss: 8.2821e-04 - val_loss: 4.7200e-04\n",
      "Epoch 147/300\n",
      "55/55 [==============================] - 0s 148us/step - loss: 8.2789e-04 - val_loss: 4.7209e-04\n",
      "Epoch 148/300\n",
      "55/55 [==============================] - 0s 122us/step - loss: 8.2756e-04 - val_loss: 4.7213e-04\n",
      "Epoch 149/300\n",
      "55/55 [==============================] - 0s 134us/step - loss: 8.2722e-04 - val_loss: 4.7218e-04\n",
      "Epoch 150/300\n"
     ]
    },
    {
     "name": "stdout",
     "output_type": "stream",
     "text": [
      "55/55 [==============================] - 0s 133us/step - loss: 8.2688e-04 - val_loss: 4.7227e-04\n",
      "Epoch 151/300\n",
      "55/55 [==============================] - 0s 133us/step - loss: 8.2652e-04 - val_loss: 4.7244e-04\n",
      "Epoch 152/300\n",
      "55/55 [==============================] - 0s 129us/step - loss: 8.2616e-04 - val_loss: 4.7267e-04\n",
      "Epoch 153/300\n",
      "55/55 [==============================] - 0s 139us/step - loss: 8.2579e-04 - val_loss: 4.7291e-04\n",
      "Epoch 154/300\n",
      "55/55 [==============================] - 0s 134us/step - loss: 8.2541e-04 - val_loss: 4.7313e-04\n",
      "Epoch 155/300\n",
      "55/55 [==============================] - 0s 142us/step - loss: 8.2503e-04 - val_loss: 4.7329e-04\n",
      "Epoch 156/300\n",
      "55/55 [==============================] - 0s 152us/step - loss: 8.2463e-04 - val_loss: 4.7340e-04\n",
      "Epoch 157/300\n",
      "55/55 [==============================] - 0s 140us/step - loss: 8.2422e-04 - val_loss: 4.7350e-04\n",
      "Epoch 158/300\n",
      "55/55 [==============================] - 0s 140us/step - loss: 8.2381e-04 - val_loss: 4.7364e-04\n",
      "Epoch 159/300\n",
      "55/55 [==============================] - 0s 134us/step - loss: 8.2339e-04 - val_loss: 4.7385e-04\n",
      "Epoch 160/300\n",
      "55/55 [==============================] - 0s 143us/step - loss: 8.2296e-04 - val_loss: 4.7409e-04\n",
      "Epoch 161/300\n",
      "55/55 [==============================] - 0s 126us/step - loss: 8.2251e-04 - val_loss: 4.7435e-04\n",
      "Epoch 162/300\n",
      "55/55 [==============================] - 0s 136us/step - loss: 8.2206e-04 - val_loss: 4.7458e-04\n",
      "Epoch 163/300\n",
      "55/55 [==============================] - 0s 138us/step - loss: 8.2160e-04 - val_loss: 4.7476e-04\n",
      "Epoch 164/300\n",
      "55/55 [==============================] - 0s 127us/step - loss: 8.2113e-04 - val_loss: 4.7491e-04\n",
      "Epoch 165/300\n",
      "55/55 [==============================] - 0s 131us/step - loss: 8.2065e-04 - val_loss: 4.7508e-04\n",
      "Epoch 166/300\n",
      "55/55 [==============================] - 0s 129us/step - loss: 8.2016e-04 - val_loss: 4.7530e-04\n",
      "Epoch 167/300\n",
      "55/55 [==============================] - 0s 126us/step - loss: 8.1966e-04 - val_loss: 4.7556e-04\n",
      "Epoch 168/300\n",
      "55/55 [==============================] - 0s 126us/step - loss: 8.1915e-04 - val_loss: 4.7584e-04\n",
      "Epoch 169/300\n",
      "55/55 [==============================] - 0s 128us/step - loss: 8.1863e-04 - val_loss: 4.7609e-04\n",
      "Epoch 170/300\n",
      "55/55 [==============================] - 0s 132us/step - loss: 8.1810e-04 - val_loss: 4.7630e-04\n",
      "Epoch 171/300\n",
      "55/55 [==============================] - 0s 142us/step - loss: 8.1756e-04 - val_loss: 4.7649e-04\n",
      "Epoch 172/300\n",
      "55/55 [==============================] - 0s 133us/step - loss: 8.1701e-04 - val_loss: 4.7671e-04\n",
      "Epoch 173/300\n",
      "55/55 [==============================] - 0s 132us/step - loss: 8.1645e-04 - val_loss: 4.7698e-04\n",
      "Epoch 174/300\n",
      "55/55 [==============================] - 0s 147us/step - loss: 8.1588e-04 - val_loss: 4.7728e-04\n",
      "Epoch 175/300\n",
      "55/55 [==============================] - 0s 132us/step - loss: 8.1530e-04 - val_loss: 4.7756e-04\n",
      "Epoch 176/300\n",
      "55/55 [==============================] - 0s 132us/step - loss: 8.1472e-04 - val_loss: 4.7782e-04\n",
      "Epoch 177/300\n",
      "55/55 [==============================] - 0s 131us/step - loss: 8.1412e-04 - val_loss: 4.7805e-04\n",
      "Epoch 178/300\n",
      "55/55 [==============================] - 0s 137us/step - loss: 8.1351e-04 - val_loss: 4.7831e-04\n",
      "Epoch 179/300\n",
      "55/55 [==============================] - 0s 137us/step - loss: 8.1290e-04 - val_loss: 4.7860e-04\n",
      "Epoch 180/300\n",
      "55/55 [==============================] - 0s 129us/step - loss: 8.1227e-04 - val_loss: 4.7892e-04\n",
      "Epoch 181/300\n",
      "55/55 [==============================] - 0s 131us/step - loss: 8.1164e-04 - val_loss: 4.7923e-04\n",
      "Epoch 182/300\n",
      "55/55 [==============================] - 0s 125us/step - loss: 8.1101e-04 - val_loss: 4.7951e-04\n",
      "Epoch 183/300\n",
      "55/55 [==============================] - 0s 136us/step - loss: 8.1036e-04 - val_loss: 4.7979e-04\n",
      "Epoch 184/300\n",
      "55/55 [==============================] - 0s 131us/step - loss: 8.0971e-04 - val_loss: 4.8010e-04\n",
      "Epoch 185/300\n",
      "55/55 [==============================] - 0s 133us/step - loss: 8.0905e-04 - val_loss: 4.8044e-04\n",
      "Epoch 186/300\n",
      "55/55 [==============================] - 0s 131us/step - loss: 8.0839e-04 - val_loss: 4.8079e-04\n",
      "Epoch 187/300\n",
      "55/55 [==============================] - 0s 134us/step - loss: 8.0772e-04 - val_loss: 4.8111e-04\n",
      "Epoch 188/300\n",
      "55/55 [==============================] - 0s 129us/step - loss: 8.0705e-04 - val_loss: 4.8142e-04\n",
      "Epoch 189/300\n",
      "55/55 [==============================] - 0s 130us/step - loss: 8.0637e-04 - val_loss: 4.8176e-04\n",
      "Epoch 190/300\n",
      "55/55 [==============================] - 0s 133us/step - loss: 8.0569e-04 - val_loss: 4.8213e-04\n",
      "Epoch 191/300\n",
      "55/55 [==============================] - 0s 136us/step - loss: 8.0501e-04 - val_loss: 4.8250e-04\n",
      "Epoch 192/300\n",
      "55/55 [==============================] - 0s 133us/step - loss: 8.0433e-04 - val_loss: 4.8284e-04\n",
      "Epoch 193/300\n",
      "55/55 [==============================] - 0s 125us/step - loss: 8.0365e-04 - val_loss: 4.8319e-04\n",
      "Epoch 194/300\n",
      "55/55 [==============================] - 0s 146us/step - loss: 8.0297e-04 - val_loss: 4.8357e-04\n",
      "Epoch 195/300\n",
      "55/55 [==============================] - 0s 121us/step - loss: 8.0229e-04 - val_loss: 4.8397e-04\n",
      "Epoch 196/300\n",
      "55/55 [==============================] - 0s 132us/step - loss: 8.0161e-04 - val_loss: 4.8435e-04\n",
      "Epoch 197/300\n",
      "55/55 [==============================] - 0s 127us/step - loss: 8.0093e-04 - val_loss: 4.8472e-04\n",
      "Epoch 198/300\n",
      "55/55 [==============================] - 0s 130us/step - loss: 8.0026e-04 - val_loss: 4.8512e-04\n",
      "Epoch 199/300\n",
      "55/55 [==============================] - 0s 140us/step - loss: 7.9960e-04 - val_loss: 4.8554e-04\n",
      "Epoch 200/300\n",
      "55/55 [==============================] - 0s 139us/step - loss: 7.9894e-04 - val_loss: 4.8593e-04\n",
      "Epoch 201/300\n",
      "55/55 [==============================] - 0s 139us/step - loss: 7.9829e-04 - val_loss: 4.8632e-04\n",
      "Epoch 202/300\n",
      "55/55 [==============================] - 0s 131us/step - loss: 7.9764e-04 - val_loss: 4.8674e-04\n",
      "Epoch 203/300\n",
      "55/55 [==============================] - 0s 146us/step - loss: 7.9700e-04 - val_loss: 4.8717e-04\n",
      "Epoch 204/300\n",
      "55/55 [==============================] - 0s 124us/step - loss: 7.9638e-04 - val_loss: 4.8757e-04\n",
      "Epoch 205/300\n",
      "55/55 [==============================] - 0s 130us/step - loss: 7.9576e-04 - val_loss: 4.8798e-04\n",
      "Epoch 206/300\n",
      "55/55 [==============================] - 0s 134us/step - loss: 7.9515e-04 - val_loss: 4.8842e-04\n",
      "Epoch 207/300\n",
      "55/55 [==============================] - 0s 124us/step - loss: 7.9455e-04 - val_loss: 4.8884e-04\n",
      "Epoch 208/300\n",
      "55/55 [==============================] - 0s 123us/step - loss: 7.9397e-04 - val_loss: 4.8925e-04\n",
      "Epoch 209/300\n",
      "55/55 [==============================] - 0s 135us/step - loss: 7.9340e-04 - val_loss: 4.8968e-04\n",
      "Epoch 210/300\n",
      "55/55 [==============================] - 0s 138us/step - loss: 7.9284e-04 - val_loss: 4.9012e-04\n",
      "Epoch 211/300\n",
      "55/55 [==============================] - 0s 125us/step - loss: 7.9229e-04 - val_loss: 4.9053e-04\n",
      "Epoch 212/300\n",
      "55/55 [==============================] - 0s 127us/step - loss: 7.9175e-04 - val_loss: 4.9096e-04\n",
      "Epoch 213/300\n",
      "55/55 [==============================] - 0s 131us/step - loss: 7.9123e-04 - val_loss: 4.9139e-04\n",
      "Epoch 214/300\n",
      "55/55 [==============================] - 0s 134us/step - loss: 7.9073e-04 - val_loss: 4.9179e-04\n",
      "Epoch 215/300\n",
      "55/55 [==============================] - 0s 143us/step - loss: 7.9023e-04 - val_loss: 4.9222e-04\n",
      "Epoch 216/300\n",
      "55/55 [==============================] - 0s 134us/step - loss: 7.8975e-04 - val_loss: 4.9264e-04\n",
      "Epoch 217/300\n",
      "55/55 [==============================] - 0s 127us/step - loss: 7.8928e-04 - val_loss: 4.9303e-04\n",
      "Epoch 218/300\n",
      "55/55 [==============================] - 0s 142us/step - loss: 7.8883e-04 - val_loss: 4.9345e-04\n",
      "Epoch 219/300\n",
      "55/55 [==============================] - 0s 138us/step - loss: 7.8839e-04 - val_loss: 4.9384e-04\n",
      "Epoch 220/300\n",
      "55/55 [==============================] - 0s 129us/step - loss: 7.8796e-04 - val_loss: 4.9422e-04\n",
      "Epoch 221/300\n",
      "55/55 [==============================] - 0s 131us/step - loss: 7.8754e-04 - val_loss: 4.9462e-04\n",
      "Epoch 222/300\n",
      "55/55 [==============================] - 0s 135us/step - loss: 7.8713e-04 - val_loss: 4.9497e-04\n",
      "Epoch 223/300\n",
      "55/55 [==============================] - 0s 135us/step - loss: 7.8674e-04 - val_loss: 4.9535e-04\n"
     ]
    },
    {
     "name": "stdout",
     "output_type": "stream",
     "text": [
      "Epoch 224/300\n",
      "55/55 [==============================] - 0s 130us/step - loss: 7.8636e-04 - val_loss: 4.9569e-04\n",
      "Epoch 225/300\n",
      "55/55 [==============================] - 0s 135us/step - loss: 7.8598e-04 - val_loss: 4.9605e-04\n",
      "Epoch 226/300\n",
      "55/55 [==============================] - 0s 130us/step - loss: 7.8562e-04 - val_loss: 4.9636e-04\n",
      "Epoch 227/300\n",
      "55/55 [==============================] - 0s 137us/step - loss: 7.8527e-04 - val_loss: 4.9670e-04\n",
      "Epoch 228/300\n",
      "55/55 [==============================] - 0s 137us/step - loss: 7.8493e-04 - val_loss: 4.9698e-04\n",
      "Epoch 229/300\n",
      "55/55 [==============================] - 0s 150us/step - loss: 7.8460e-04 - val_loss: 4.9733e-04\n",
      "Epoch 230/300\n",
      "55/55 [==============================] - 0s 141us/step - loss: 7.8427e-04 - val_loss: 4.9752e-04\n",
      "Epoch 231/300\n",
      "55/55 [==============================] - 0s 138us/step - loss: 7.8396e-04 - val_loss: 4.9798e-04\n",
      "Epoch 232/300\n",
      "55/55 [==============================] - 0s 123us/step - loss: 7.8365e-04 - val_loss: 4.9786e-04\n",
      "Epoch 233/300\n",
      "55/55 [==============================] - 0s 139us/step - loss: 7.8336e-04 - val_loss: 4.9894e-04\n",
      "Epoch 234/300\n",
      "55/55 [==============================] - 0s 128us/step - loss: 7.8307e-04 - val_loss: 4.9729e-04\n",
      "Epoch 235/300\n",
      "55/55 [==============================] - 0s 142us/step - loss: 7.8279e-04 - val_loss: 5.0207e-04\n",
      "Epoch 236/300\n",
      "55/55 [==============================] - 0s 131us/step - loss: 7.8254e-04 - val_loss: 4.9163e-04\n",
      "Epoch 237/300\n",
      "55/55 [==============================] - 0s 145us/step - loss: 7.8241e-04 - val_loss: 5.1542e-04\n",
      "Epoch 238/300\n",
      "55/55 [==============================] - 0s 120us/step - loss: 7.8267e-04 - val_loss: 4.8035e-04\n",
      "Epoch 239/300\n",
      "55/55 [==============================] - 0s 132us/step - loss: 7.8294e-04 - val_loss: 5.1149e-04\n",
      "Epoch 240/300\n",
      "55/55 [==============================] - 0s 128us/step - loss: 7.8189e-04 - val_loss: 5.0658e-04\n",
      "Epoch 241/300\n",
      "55/55 [==============================] - 0s 140us/step - loss: 7.8140e-04 - val_loss: 4.8399e-04\n",
      "Epoch 242/300\n",
      "55/55 [==============================] - 0s 139us/step - loss: 7.8186e-04 - val_loss: 5.0901e-04\n",
      "Epoch 243/300\n",
      "55/55 [==============================] - 0s 135us/step - loss: 7.8105e-04 - val_loss: 5.0840e-04\n",
      "Epoch 244/300\n",
      "55/55 [==============================] - 0s 133us/step - loss: 7.8080e-04 - val_loss: 4.8664e-04\n",
      "Epoch 245/300\n",
      "55/55 [==============================] - 0s 131us/step - loss: 7.8101e-04 - val_loss: 5.0481e-04\n",
      "Epoch 246/300\n",
      "55/55 [==============================] - 0s 136us/step - loss: 7.8027e-04 - val_loss: 5.1097e-04\n",
      "Epoch 247/300\n",
      "55/55 [==============================] - 0s 135us/step - loss: 7.8031e-04 - val_loss: 4.8997e-04\n",
      "Epoch 248/300\n",
      "55/55 [==============================] - 0s 124us/step - loss: 7.8022e-04 - val_loss: 5.0087e-04\n",
      "Epoch 249/300\n",
      "55/55 [==============================] - 0s 130us/step - loss: 7.7967e-04 - val_loss: 5.1223e-04\n",
      "Epoch 250/300\n",
      "55/55 [==============================] - 0s 145us/step - loss: 7.7981e-04 - val_loss: 4.9373e-04\n",
      "Epoch 251/300\n",
      "55/55 [==============================] - 0s 119us/step - loss: 7.7950e-04 - val_loss: 4.9822e-04\n",
      "Epoch 252/300\n",
      "55/55 [==============================] - 0s 127us/step - loss: 7.7920e-04 - val_loss: 5.1202e-04\n",
      "Epoch 253/300\n",
      "55/55 [==============================] - 0s 120us/step - loss: 7.7929e-04 - val_loss: 4.9713e-04\n",
      "Epoch 254/300\n",
      "55/55 [==============================] - 0s 117us/step - loss: 7.7892e-04 - val_loss: 4.9699e-04\n",
      "Epoch 255/300\n",
      "55/55 [==============================] - 0s 122us/step - loss: 7.7878e-04 - val_loss: 5.1104e-04\n",
      "Epoch 256/300\n",
      "55/55 [==============================] - 0s 144us/step - loss: 7.7877e-04 - val_loss: 4.9960e-04\n",
      "Epoch 257/300\n",
      "55/55 [==============================] - 0s 127us/step - loss: 7.7844e-04 - val_loss: 4.9688e-04\n",
      "Epoch 258/300\n",
      "55/55 [==============================] - 0s 114us/step - loss: 7.7837e-04 - val_loss: 5.1005e-04\n",
      "Epoch 259/300\n",
      "55/55 [==============================] - 0s 126us/step - loss: 7.7830e-04 - val_loss: 5.0101e-04\n",
      "Epoch 260/300\n",
      "55/55 [==============================] - 0s 136us/step - loss: 7.7802e-04 - val_loss: 4.9758e-04\n",
      "Epoch 261/300\n",
      "55/55 [==============================] - 0s 128us/step - loss: 7.7797e-04 - val_loss: 5.0941e-04\n",
      "Epoch 262/300\n",
      "55/55 [==============================] - 0s 133us/step - loss: 7.7788e-04 - val_loss: 5.0154e-04\n",
      "Epoch 263/300\n",
      "55/55 [==============================] - 0s 115us/step - loss: 7.7765e-04 - val_loss: 4.9879e-04\n",
      "Epoch 264/300\n",
      "55/55 [==============================] - 0s 105us/step - loss: 7.7758e-04 - val_loss: 5.0918e-04\n",
      "Epoch 265/300\n",
      "55/55 [==============================] - 0s 135us/step - loss: 7.7751e-04 - val_loss: 5.0139e-04\n",
      "Epoch 266/300\n",
      "55/55 [==============================] - 0s 115us/step - loss: 7.7731e-04 - val_loss: 5.0046e-04\n",
      "Epoch 267/300\n",
      "55/55 [==============================] - 0s 121us/step - loss: 7.7721e-04 - val_loss: 5.0903e-04\n",
      "Epoch 268/300\n",
      "55/55 [==============================] - 0s 111us/step - loss: 7.7716e-04 - val_loss: 5.0079e-04\n",
      "Epoch 269/300\n",
      "55/55 [==============================] - 0s 124us/step - loss: 7.7700e-04 - val_loss: 5.0264e-04\n",
      "Epoch 270/300\n",
      "55/55 [==============================] - 0s 113us/step - loss: 7.7687e-04 - val_loss: 5.0840e-04\n",
      "Epoch 271/300\n",
      "55/55 [==============================] - 0s 116us/step - loss: 7.7682e-04 - val_loss: 5.0022e-04\n",
      "Epoch 272/300\n",
      "55/55 [==============================] - 0s 110us/step - loss: 7.7671e-04 - val_loss: 5.0523e-04\n",
      "Epoch 273/300\n",
      "55/55 [==============================] - 0s 107us/step - loss: 7.7657e-04 - val_loss: 5.0676e-04\n",
      "Epoch 274/300\n",
      "55/55 [==============================] - 0s 123us/step - loss: 7.7649e-04 - val_loss: 5.0052e-04\n",
      "Epoch 275/300\n",
      "55/55 [==============================] - 0s 114us/step - loss: 7.7642e-04 - val_loss: 5.0758e-04\n",
      "Epoch 276/300\n",
      "55/55 [==============================] - 0s 120us/step - loss: 7.7631e-04 - val_loss: 5.0416e-04\n",
      "Epoch 277/300\n",
      "55/55 [==============================] - 0s 114us/step - loss: 7.7619e-04 - val_loss: 5.0259e-04\n",
      "Epoch 278/300\n",
      "55/55 [==============================] - 0s 116us/step - loss: 7.7612e-04 - val_loss: 5.0821e-04\n",
      "Epoch 279/300\n",
      "55/55 [==============================] - 0s 135us/step - loss: 7.7605e-04 - val_loss: 5.0199e-04\n",
      "Epoch 280/300\n",
      "55/55 [==============================] - 0s 114us/step - loss: 7.7595e-04 - val_loss: 5.0614e-04\n",
      "Epoch 281/300\n",
      "55/55 [==============================] - 0s 139us/step - loss: 7.7584e-04 - val_loss: 5.0594e-04\n",
      "Epoch 282/300\n",
      "55/55 [==============================] - 0s 123us/step - loss: 7.7576e-04 - val_loss: 5.0271e-04\n",
      "Epoch 283/300\n",
      "55/55 [==============================] - 0s 128us/step - loss: 7.7569e-04 - val_loss: 5.0817e-04\n",
      "Epoch 284/300\n",
      "55/55 [==============================] - 0s 122us/step - loss: 7.7561e-04 - val_loss: 5.0286e-04\n",
      "Epoch 285/300\n",
      "55/55 [==============================] - 0s 128us/step - loss: 7.7552e-04 - val_loss: 5.0658e-04\n",
      "Epoch 286/300\n",
      "55/55 [==============================] - 0s 109us/step - loss: 7.7543e-04 - val_loss: 5.0559e-04\n",
      "Epoch 287/300\n",
      "55/55 [==============================] - 0s 114us/step - loss: 7.7535e-04 - val_loss: 5.0404e-04\n",
      "Epoch 288/300\n",
      "55/55 [==============================] - 0s 140us/step - loss: 7.7527e-04 - val_loss: 5.0778e-04\n",
      "Epoch 289/300\n",
      "55/55 [==============================] - 0s 151us/step - loss: 7.7520e-04 - val_loss: 5.0299e-04\n",
      "Epoch 290/300\n",
      "55/55 [==============================] - 0s 133us/step - loss: 7.7513e-04 - val_loss: 5.0813e-04\n",
      "Epoch 291/300\n",
      "55/55 [==============================] - 0s 124us/step - loss: 7.7505e-04 - val_loss: 5.0356e-04\n",
      "Epoch 292/300\n",
      "55/55 [==============================] - 0s 131us/step - loss: 7.7497e-04 - val_loss: 5.0725e-04\n",
      "Epoch 293/300\n",
      "55/55 [==============================] - 0s 137us/step - loss: 7.7489e-04 - val_loss: 5.0478e-04\n",
      "Epoch 294/300\n",
      "55/55 [==============================] - 0s 129us/step - loss: 7.7481e-04 - val_loss: 5.0615e-04\n",
      "Epoch 295/300\n",
      "55/55 [==============================] - 0s 123us/step - loss: 7.7474e-04 - val_loss: 5.0596e-04\n",
      "Epoch 296/300\n",
      "55/55 [==============================] - 0s 127us/step - loss: 7.7467e-04 - val_loss: 5.0521e-04\n",
      "Epoch 297/300\n",
      "55/55 [==============================] - 0s 134us/step - loss: 7.7459e-04 - val_loss: 5.0700e-04\n"
     ]
    },
    {
     "name": "stdout",
     "output_type": "stream",
     "text": [
      "Epoch 298/300\n",
      "55/55 [==============================] - 0s 133us/step - loss: 7.7453e-04 - val_loss: 5.0430e-04\n",
      "Epoch 299/300\n",
      "55/55 [==============================] - 0s 126us/step - loss: 7.7446e-04 - val_loss: 5.0827e-04\n",
      "Epoch 300/300\n",
      "55/55 [==============================] - 0s 120us/step - loss: 7.7440e-04 - val_loss: 5.0278e-04\n",
      "\n",
      "\n",
      "Baseline MSE: 0.0003178974786829472\n",
      "Baseline RMSE: 0.017829679713414575\n",
      "\n",
      "\n"
     ]
    },
    {
     "data": {
      "image/png": "[encoded data removed]",
      "text/plain": [
       "<Figure size 432x288 with 1 Axes>"
      ]
     },
     "metadata": {
      "needs_background": "light"
     },
     "output_type": "display_data"
    }
   ],
   "source": [
    "appmodel = Sequential()\n",
    "appmodel.add(LSTM(50, activation='linear', input_shape=(n_steps, n_features)))\n",
    "appmodel.add(Dense(1))\n",
    "appmodel.compile(optimizer='adam', loss='mse')\n",
    "\n",
    "appmodelresult = appmodel.fit(X_train, y_train, batch_size=100, epochs=300, validation_split=(0.15))\n",
    "\n",
    "yhat5 = appmodel.predict(X_test)\n",
    "print('\\n')\n",
    "rmse = np.sqrt(mean_squared_error(y_test, yhat5))\n",
    "print('Baseline MSE:', mean_squared_error(y_test, yhat5))\n",
    "print('Baseline RMSE:', rmse)\n",
    "print('\\n')\n",
    "visualize_training_results(appmodelresult)"
   ]
  },
  {
   "cell_type": "markdown",
   "metadata": {},
   "source": [
    "Validation loss now better than training loss, although sign of overfit when the validation loss begins to worsen at around 125 epochs. Testing again."
   ]
  },
  {
   "cell_type": "code",
   "execution_count": 81,
   "metadata": {
    "ExecuteTime": {
     "end_time": "2021-01-27T22:45:09.256241Z",
     "start_time": "2021-01-27T22:45:05.191289Z"
    }
   },
   "outputs": [
    {
     "name": "stdout",
     "output_type": "stream",
     "text": [
      "Train on 55 samples, validate on 10 samples\n",
      "Epoch 1/125\n",
      "55/55 [==============================] - 2s 31ms/step - loss: 0.0011 - val_loss: 3.7724e-04\n",
      "Epoch 2/125\n",
      "55/55 [==============================] - 0s 135us/step - loss: 9.8750e-04 - val_loss: 5.2875e-04\n",
      "Epoch 3/125\n",
      "55/55 [==============================] - 0s 111us/step - loss: 8.9638e-04 - val_loss: 7.3926e-04\n",
      "Epoch 4/125\n",
      "55/55 [==============================] - 0s 111us/step - loss: 8.9917e-04 - val_loss: 9.1962e-04\n",
      "Epoch 5/125\n",
      "55/55 [==============================] - 0s 116us/step - loss: 9.4333e-04 - val_loss: 9.9026e-04\n",
      "Epoch 6/125\n",
      "55/55 [==============================] - 0s 117us/step - loss: 9.6695e-04 - val_loss: 9.6234e-04\n",
      "Epoch 7/125\n",
      "55/55 [==============================] - 0s 150us/step - loss: 9.5733e-04 - val_loss: 8.7294e-04\n",
      "Epoch 8/125\n",
      "55/55 [==============================] - 0s 134us/step - loss: 9.2863e-04 - val_loss: 7.5934e-04\n",
      "Epoch 9/125\n",
      "55/55 [==============================] - 0s 130us/step - loss: 8.9908e-04 - val_loss: 6.4773e-04\n",
      "Epoch 10/125\n",
      "55/55 [==============================] - 0s 136us/step - loss: 8.8059e-04 - val_loss: 5.5572e-04\n",
      "Epoch 11/125\n",
      "55/55 [==============================] - 0s 120us/step - loss: 8.7697e-04 - val_loss: 4.8935e-04\n",
      "Epoch 12/125\n",
      "55/55 [==============================] - 0s 129us/step - loss: 8.8420e-04 - val_loss: 4.4782e-04\n",
      "Epoch 13/125\n",
      "55/55 [==============================] - 0s 130us/step - loss: 8.9455e-04 - val_loss: 4.2713e-04\n",
      "Epoch 14/125\n",
      "55/55 [==============================] - 0s 139us/step - loss: 9.0099e-04 - val_loss: 4.2320e-04\n",
      "Epoch 15/125\n",
      "55/55 [==============================] - 0s 130us/step - loss: 9.0020e-04 - val_loss: 4.3325e-04\n",
      "Epoch 16/125\n",
      "55/55 [==============================] - 0s 124us/step - loss: 8.9286e-04 - val_loss: 4.5564e-04\n",
      "Epoch 17/125\n",
      "55/55 [==============================] - 0s 123us/step - loss: 8.8228e-04 - val_loss: 4.8866e-04\n",
      "Epoch 18/125\n",
      "55/55 [==============================] - 0s 119us/step - loss: 8.7237e-04 - val_loss: 5.2940e-04\n",
      "Epoch 19/125\n",
      "55/55 [==============================] - 0s 132us/step - loss: 8.6613e-04 - val_loss: 5.7313e-04\n",
      "Epoch 20/125\n",
      "55/55 [==============================] - 0s 136us/step - loss: 8.6462e-04 - val_loss: 6.1347e-04\n",
      "Epoch 21/125\n",
      "55/55 [==============================] - 0s 130us/step - loss: 8.6681e-04 - val_loss: 6.4379e-04\n",
      "Epoch 22/125\n",
      "55/55 [==============================] - 0s 142us/step - loss: 8.7026e-04 - val_loss: 6.5899e-04\n",
      "Epoch 23/125\n",
      "55/55 [==============================] - 0s 125us/step - loss: 8.7239e-04 - val_loss: 6.5708e-04\n",
      "Epoch 24/125\n",
      "55/55 [==============================] - 0s 123us/step - loss: 8.7173e-04 - val_loss: 6.3954e-04\n",
      "Epoch 25/125\n",
      "55/55 [==============================] - 0s 125us/step - loss: 8.6836e-04 - val_loss: 6.1024e-04\n",
      "Epoch 26/125\n",
      "55/55 [==============================] - 0s 127us/step - loss: 8.6361e-04 - val_loss: 5.7496e-04\n",
      "Epoch 27/125\n",
      "55/55 [==============================] - 0s 123us/step - loss: 8.5931e-04 - val_loss: 5.3957e-04\n",
      "Epoch 28/125\n",
      "55/55 [==============================] - 0s 135us/step - loss: 8.5676e-04 - val_loss: 5.0757e-04\n",
      "Epoch 29/125\n",
      "55/55 [==============================] - 0s 153us/step - loss: 8.5622e-04 - val_loss: 4.8225e-04\n",
      "Epoch 30/125\n",
      "55/55 [==============================] - 0s 130us/step - loss: 8.5712e-04 - val_loss: 4.6520e-04\n",
      "Epoch 31/125\n",
      "55/55 [==============================] - 0s 113us/step - loss: 8.5828e-04 - val_loss: 4.5642e-04\n",
      "Epoch 32/125\n",
      "55/55 [==============================] - 0s 119us/step - loss: 8.5866e-04 - val_loss: 4.5553e-04\n",
      "Epoch 33/125\n",
      "55/55 [==============================] - 0s 113us/step - loss: 8.5781e-04 - val_loss: 4.6171e-04\n",
      "Epoch 34/125\n",
      "55/55 [==============================] - 0s 108us/step - loss: 8.5593e-04 - val_loss: 4.7368e-04\n",
      "Epoch 35/125\n",
      "55/55 [==============================] - 0s 207us/step - loss: 8.5370e-04 - val_loss: 4.8966e-04\n",
      "Epoch 36/125\n",
      "55/55 [==============================] - 0s 128us/step - loss: 8.5191e-04 - val_loss: 5.0725e-04\n",
      "Epoch 37/125\n",
      "55/55 [==============================] - 0s 107us/step - loss: 8.5103e-04 - val_loss: 5.2382e-04\n",
      "Epoch 38/125\n",
      "55/55 [==============================] - 0s 110us/step - loss: 8.5104e-04 - val_loss: 5.3633e-04\n",
      "Epoch 39/125\n",
      "55/55 [==============================] - 0s 105us/step - loss: 8.5149e-04 - val_loss: 5.4251e-04\n",
      "Epoch 40/125\n",
      "55/55 [==============================] - 0s 96us/step - loss: 8.5178e-04 - val_loss: 5.4151e-04\n",
      "Epoch 41/125\n",
      "55/55 [==============================] - 0s 141us/step - loss: 8.5150e-04 - val_loss: 5.3367e-04\n",
      "Epoch 42/125\n",
      "55/55 [==============================] - 0s 124us/step - loss: 8.5064e-04 - val_loss: 5.2082e-04\n",
      "Epoch 43/125\n",
      "55/55 [==============================] - 0s 108us/step - loss: 8.4952e-04 - val_loss: 5.0523e-04\n",
      "Epoch 44/125\n",
      "55/55 [==============================] - 0s 106us/step - loss: 8.4856e-04 - val_loss: 4.8926e-04\n",
      "Epoch 45/125\n",
      "55/55 [==============================] - 0s 110us/step - loss: 8.4804e-04 - val_loss: 4.7542e-04\n",
      "Epoch 46/125\n",
      "55/55 [==============================] - 0s 104us/step - loss: 8.4798e-04 - val_loss: 4.6496e-04\n",
      "Epoch 47/125\n",
      "55/55 [==============================] - 0s 128us/step - loss: 8.4814e-04 - val_loss: 4.5894e-04\n",
      "Epoch 48/125\n",
      "55/55 [==============================] - 0s 137us/step - loss: 8.4821e-04 - val_loss: 4.5744e-04\n",
      "Epoch 49/125\n",
      "55/55 [==============================] - 0s 105us/step - loss: 8.4799e-04 - val_loss: 4.6009e-04\n",
      "Epoch 50/125\n",
      "55/55 [==============================] - 0s 128us/step - loss: 8.4750e-04 - val_loss: 4.6603e-04\n",
      "Epoch 51/125\n",
      "55/55 [==============================] - 0s 109us/step - loss: 8.4691e-04 - val_loss: 4.7405e-04\n",
      "Epoch 52/125\n",
      "55/55 [==============================] - 0s 100us/step - loss: 8.4643e-04 - val_loss: 4.8246e-04\n",
      "Epoch 53/125\n",
      "55/55 [==============================] - 0s 119us/step - loss: 8.4620e-04 - val_loss: 4.8969e-04\n",
      "Epoch 54/125\n",
      "55/55 [==============================] - 0s 166us/step - loss: 8.4617e-04 - val_loss: 4.9439e-04\n",
      "Epoch 55/125\n",
      "55/55 [==============================] - 0s 121us/step - loss: 8.4619e-04 - val_loss: 4.9569e-04\n",
      "Epoch 56/125\n",
      "55/55 [==============================] - 0s 105us/step - loss: 8.4612e-04 - val_loss: 4.9347e-04\n",
      "Epoch 57/125\n",
      "55/55 [==============================] - 0s 107us/step - loss: 8.4589e-04 - val_loss: 4.8832e-04\n",
      "Epoch 58/125\n",
      "55/55 [==============================] - 0s 121us/step - loss: 8.4556e-04 - val_loss: 4.8132e-04\n",
      "Epoch 59/125\n",
      "55/55 [==============================] - 0s 117us/step - loss: 8.4523e-04 - val_loss: 4.7382e-04\n",
      "Epoch 60/125\n",
      "55/55 [==============================] - 0s 171us/step - loss: 8.4500e-04 - val_loss: 4.6707e-04\n",
      "Epoch 61/125\n",
      "55/55 [==============================] - 0s 123us/step - loss: 8.4490e-04 - val_loss: 4.6205e-04\n",
      "Epoch 62/125\n",
      "55/55 [==============================] - 0s 118us/step - loss: 8.4485e-04 - val_loss: 4.5932e-04\n",
      "Epoch 63/125\n",
      "55/55 [==============================] - 0s 132us/step - loss: 8.4477e-04 - val_loss: 4.5907e-04\n",
      "Epoch 64/125\n",
      "55/55 [==============================] - 0s 109us/step - loss: 8.4462e-04 - val_loss: 4.6105e-04\n",
      "Epoch 65/125\n",
      "55/55 [==============================] - 0s 107us/step - loss: 8.4439e-04 - val_loss: 4.6462e-04\n",
      "Epoch 66/125\n",
      "55/55 [==============================] - 0s 107us/step - loss: 8.4416e-04 - val_loss: 4.6898e-04\n",
      "Epoch 67/125\n",
      "55/55 [==============================] - 0s 118us/step - loss: 8.4397e-04 - val_loss: 4.7321e-04\n",
      "Epoch 68/125\n",
      "55/55 [==============================] - 0s 153us/step - loss: 8.4384e-04 - val_loss: 4.7649e-04\n",
      "Epoch 69/125\n",
      "55/55 [==============================] - 0s 118us/step - loss: 8.4375e-04 - val_loss: 4.7817e-04\n",
      "Epoch 70/125\n",
      "55/55 [==============================] - 0s 143us/step - loss: 8.4365e-04 - val_loss: 4.7803e-04\n",
      "Epoch 71/125\n",
      "55/55 [==============================] - 0s 131us/step - loss: 8.4351e-04 - val_loss: 4.7624e-04\n",
      "Epoch 72/125\n",
      "55/55 [==============================] - 0s 137us/step - loss: 8.4334e-04 - val_loss: 4.7327e-04\n",
      "Epoch 73/125\n",
      "55/55 [==============================] - 0s 127us/step - loss: 8.4315e-04 - val_loss: 4.6980e-04\n",
      "Epoch 74/125\n",
      "55/55 [==============================] - 0s 133us/step - loss: 8.4299e-04 - val_loss: 4.6652e-04\n",
      "Epoch 75/125\n",
      "55/55 [==============================] - 0s 133us/step - loss: 8.4286e-04 - val_loss: 4.6404e-04\n"
     ]
    },
    {
     "name": "stdout",
     "output_type": "stream",
     "text": [
      "Epoch 76/125\n",
      "55/55 [==============================] - 0s 123us/step - loss: 8.4275e-04 - val_loss: 4.6272e-04\n",
      "Epoch 77/125\n",
      "55/55 [==============================] - 0s 126us/step - loss: 8.4263e-04 - val_loss: 4.6271e-04\n",
      "Epoch 78/125\n",
      "55/55 [==============================] - 0s 127us/step - loss: 8.4250e-04 - val_loss: 4.6388e-04\n",
      "Epoch 79/125\n",
      "55/55 [==============================] - 0s 123us/step - loss: 8.4235e-04 - val_loss: 4.6588e-04\n",
      "Epoch 80/125\n",
      "55/55 [==============================] - 0s 122us/step - loss: 8.4219e-04 - val_loss: 4.6828e-04\n",
      "Epoch 81/125\n",
      "55/55 [==============================] - 0s 140us/step - loss: 8.4205e-04 - val_loss: 4.7052e-04\n",
      "Epoch 82/125\n",
      "55/55 [==============================] - 0s 141us/step - loss: 8.4192e-04 - val_loss: 4.7221e-04\n",
      "Epoch 83/125\n",
      "55/55 [==============================] - 0s 131us/step - loss: 8.4180e-04 - val_loss: 4.7302e-04\n",
      "Epoch 84/125\n",
      "55/55 [==============================] - 0s 133us/step - loss: 8.4168e-04 - val_loss: 4.7289e-04\n",
      "Epoch 85/125\n",
      "55/55 [==============================] - 0s 118us/step - loss: 8.4155e-04 - val_loss: 4.7193e-04\n",
      "Epoch 86/125\n",
      "55/55 [==============================] - 0s 118us/step - loss: 8.4141e-04 - val_loss: 4.7044e-04\n",
      "Epoch 87/125\n",
      "55/55 [==============================] - 0s 123us/step - loss: 8.4127e-04 - val_loss: 4.6878e-04\n",
      "Epoch 88/125\n",
      "55/55 [==============================] - 0s 105us/step - loss: 8.4114e-04 - val_loss: 4.6732e-04\n",
      "Epoch 89/125\n",
      "55/55 [==============================] - 0s 124us/step - loss: 8.4102e-04 - val_loss: 4.6635e-04\n",
      "Epoch 90/125\n",
      "55/55 [==============================] - 0s 104us/step - loss: 8.4090e-04 - val_loss: 4.6604e-04\n",
      "Epoch 91/125\n",
      "55/55 [==============================] - 0s 126us/step - loss: 8.4077e-04 - val_loss: 4.6639e-04\n",
      "Epoch 92/125\n",
      "55/55 [==============================] - 0s 111us/step - loss: 8.4064e-04 - val_loss: 4.6729e-04\n",
      "Epoch 93/125\n",
      "55/55 [==============================] - 0s 114us/step - loss: 8.4051e-04 - val_loss: 4.6850e-04\n",
      "Epoch 94/125\n",
      "55/55 [==============================] - 0s 120us/step - loss: 8.4038e-04 - val_loss: 4.6975e-04\n",
      "Epoch 95/125\n",
      "55/55 [==============================] - 0s 106us/step - loss: 8.4026e-04 - val_loss: 4.7078e-04\n",
      "Epoch 96/125\n",
      "55/55 [==============================] - 0s 123us/step - loss: 8.4013e-04 - val_loss: 4.7139e-04\n",
      "Epoch 97/125\n",
      "55/55 [==============================] - 0s 108us/step - loss: 8.4001e-04 - val_loss: 4.7150e-04\n",
      "Epoch 98/125\n",
      "55/55 [==============================] - 0s 124us/step - loss: 8.3988e-04 - val_loss: 4.7113e-04\n",
      "Epoch 99/125\n",
      "55/55 [==============================] - 0s 109us/step - loss: 8.3976e-04 - val_loss: 4.7042e-04\n",
      "Epoch 100/125\n",
      "55/55 [==============================] - 0s 107us/step - loss: 8.3963e-04 - val_loss: 4.6956e-04\n",
      "Epoch 101/125\n",
      "55/55 [==============================] - 0s 115us/step - loss: 8.3950e-04 - val_loss: 4.6876e-04\n",
      "Epoch 102/125\n",
      "55/55 [==============================] - 0s 112us/step - loss: 8.3937e-04 - val_loss: 4.6820e-04\n",
      "Epoch 103/125\n",
      "55/55 [==============================] - 0s 111us/step - loss: 8.3925e-04 - val_loss: 4.6799e-04\n",
      "Epoch 104/125\n",
      "55/55 [==============================] - 0s 107us/step - loss: 8.3912e-04 - val_loss: 4.6813e-04\n",
      "Epoch 105/125\n",
      "55/55 [==============================] - 0s 112us/step - loss: 8.3899e-04 - val_loss: 4.6857e-04\n",
      "Epoch 106/125\n",
      "55/55 [==============================] - 0s 113us/step - loss: 8.3886e-04 - val_loss: 4.6919e-04\n",
      "Epoch 107/125\n",
      "55/55 [==============================] - 0s 103us/step - loss: 8.3873e-04 - val_loss: 4.6983e-04\n",
      "Epoch 108/125\n",
      "55/55 [==============================] - 0s 118us/step - loss: 8.3860e-04 - val_loss: 4.7034e-04\n",
      "Epoch 109/125\n",
      "55/55 [==============================] - 0s 107us/step - loss: 8.3847e-04 - val_loss: 4.7061e-04\n",
      "Epoch 110/125\n",
      "55/55 [==============================] - 0s 118us/step - loss: 8.3834e-04 - val_loss: 4.7061e-04\n",
      "Epoch 111/125\n",
      "55/55 [==============================] - 0s 109us/step - loss: 8.3820e-04 - val_loss: 4.7035e-04\n",
      "Epoch 112/125\n",
      "55/55 [==============================] - 0s 107us/step - loss: 8.3807e-04 - val_loss: 4.6992e-04\n",
      "Epoch 113/125\n",
      "55/55 [==============================] - 0s 122us/step - loss: 8.3793e-04 - val_loss: 4.6944e-04\n",
      "Epoch 114/125\n",
      "55/55 [==============================] - 0s 102us/step - loss: 8.3779e-04 - val_loss: 4.6902e-04\n",
      "Epoch 115/125\n",
      "55/55 [==============================] - 0s 121us/step - loss: 8.3766e-04 - val_loss: 4.6875e-04\n",
      "Epoch 116/125\n",
      "55/55 [==============================] - 0s 113us/step - loss: 8.3752e-04 - val_loss: 4.6869e-04\n",
      "Epoch 117/125\n",
      "55/55 [==============================] - 0s 108us/step - loss: 8.3738e-04 - val_loss: 4.6882e-04\n",
      "Epoch 118/125\n",
      "55/55 [==============================] - 0s 116us/step - loss: 8.3723e-04 - val_loss: 4.6910e-04\n",
      "Epoch 119/125\n",
      "55/55 [==============================] - 0s 107us/step - loss: 8.3709e-04 - val_loss: 4.6944e-04\n",
      "Epoch 120/125\n",
      "55/55 [==============================] - 0s 118us/step - loss: 8.3694e-04 - val_loss: 4.6974e-04\n",
      "Epoch 121/125\n",
      "55/55 [==============================] - 0s 116us/step - loss: 8.3679e-04 - val_loss: 4.6994e-04\n",
      "Epoch 122/125\n",
      "55/55 [==============================] - 0s 114us/step - loss: 8.3664e-04 - val_loss: 4.6999e-04\n",
      "Epoch 123/125\n",
      "55/55 [==============================] - 0s 118us/step - loss: 8.3649e-04 - val_loss: 4.6988e-04\n",
      "Epoch 124/125\n",
      "55/55 [==============================] - 0s 109us/step - loss: 8.3634e-04 - val_loss: 4.6966e-04\n",
      "Epoch 125/125\n",
      "55/55 [==============================] - 0s 127us/step - loss: 8.3618e-04 - val_loss: 4.6939e-04\n",
      "\n",
      "\n",
      "Baseline MSE: 0.00034712908350831875\n",
      "Baseline RMSE: 0.018631400470933975\n",
      "\n",
      "\n"
     ]
    },
    {
     "data": {
      "image/png": "[encoded data removed]",
      "text/plain": [
       "<Figure size 432x288 with 1 Axes>"
      ]
     },
     "metadata": {
      "needs_background": "light"
     },
     "output_type": "display_data"
    }
   ],
   "source": [
    "appmodel = Sequential()\n",
    "appmodel.add(LSTM(50, activation='linear', input_shape=(n_steps, n_features)))\n",
    "appmodel.add(Dense(1))\n",
    "appmodel.compile(optimizer='adam', loss='mse')\n",
    "\n",
    "appmodelresult = appmodel.fit(X_train, y_train, batch_size=100, epochs=125, validation_split=(0.15))\n",
    "\n",
    "yhat5 = appmodel.predict(X_test)\n",
    "print('\\n')\n",
    "rmse = np.sqrt(mean_squared_error(y_test, yhat5))\n",
    "print('Baseline MSE:', mean_squared_error(y_test, yhat5))\n",
    "print('Baseline RMSE:', rmse)\n",
    "print('\\n')\n",
    "visualize_training_results(appmodelresult)"
   ]
  },
  {
   "cell_type": "markdown",
   "metadata": {
    "ExecuteTime": {
     "end_time": "2021-01-27T22:45:58.831915Z",
     "start_time": "2021-01-27T22:45:58.828100Z"
    }
   },
   "source": [
    "We now have decent convergence from both validation and training sets."
   ]
  },
  {
   "cell_type": "code",
   "execution_count": null,
   "metadata": {},
   "outputs": [],
   "source": []
  }
 ],
 "metadata": {
  "kernelspec": {
   "display_name": "Python [conda env:learn-env] *",
   "language": "python",
   "name": "conda-env-learn-env-py"
  },
  "language_info": {
   "codemirror_mode": {
    "name": "ipython",
    "version": 3
   },
   "file_extension": ".py",
   "mimetype": "text/x-python",
   "name": "python",
   "nbconvert_exporter": "python",
   "pygments_lexer": "ipython3",
   "version": "3.6.9"
  },
  "toc": {
   "base_numbering": 1,
   "nav_menu": {},
   "number_sections": true,
   "sideBar": true,
   "skip_h1_title": false,
   "title_cell": "Table of Contents",
   "title_sidebar": "Contents",
   "toc_cell": false,
   "toc_position": {
    "height": "calc(100% - 180px)",
    "left": "10px",
    "top": "150px",
    "width": "279.797px"
   },
   "toc_section_display": true,
   "toc_window_display": true
  },
  "varInspector": {
   "cols": {
    "lenName": 16,
    "lenType": 16,
    "lenVar": 40
   },
   "kernels_config": {
    "python": {
     "delete_cmd_postfix": "",
     "delete_cmd_prefix": "del ",
     "library": "var_list.py",
     "varRefreshCmd": "print(var_dic_list())"
    },
    "r": {
     "delete_cmd_postfix": ") ",
     "delete_cmd_prefix": "rm(",
     "library": "var_list.r",
     "varRefreshCmd": "cat(var_dic_list()) "
    }
   },
   "types_to_exclude": [
    "module",
    "function",
    "builtin_function_or_method",
    "instance",
    "_Feature"
   ],
   "window_display": false
  }
 },
 "nbformat": 4,
 "nbformat_minor": 2
}
