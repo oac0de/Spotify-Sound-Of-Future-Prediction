{
 "cells": [
  {
   "cell_type": "markdown",
   "metadata": {},
   "source": [
    "# Importing necessary libraries"
   ]
  },
  {
   "cell_type": "code",
   "execution_count": 1,
   "metadata": {
    "ExecuteTime": {
     "end_time": "2021-04-27T16:04:59.186507Z",
     "start_time": "2021-04-27T16:04:56.405876Z"
    }
   },
   "outputs": [
    {
     "name": "stderr",
     "output_type": "stream",
     "text": [
      "Using TensorFlow backend.\n"
     ]
    }
   ],
   "source": [
    "import pandas as pd\n",
    "import numpy as np\n",
    "import matplotlib.pyplot as plt\n",
    "%matplotlib inline\n",
    "import seaborn as sns\n",
    "sns.set_style('darkgrid')\n",
    "import warnings\n",
    "warnings.filterwarnings('ignore')\n",
    "import statsmodels.api as sm\n",
    "import itertools\n",
    "\n",
    "#LSTM modeling libraries\n",
    "from sklearn.preprocessing import MinMaxScaler\n",
    "from sklearn.metrics import mean_squared_error\n",
    "from keras.models import Sequential\n",
    "from keras.layers import LSTM\n",
    "from keras.layers import Dense\n",
    "from keras.layers import Bidirectional\n",
    "from keras.layers import Dropout"
   ]
  },
  {
   "cell_type": "code",
   "execution_count": 3,
   "metadata": {
    "ExecuteTime": {
     "end_time": "2021-04-27T16:05:12.737240Z",
     "start_time": "2021-04-27T16:05:12.712622Z"
    }
   },
   "outputs": [
    {
     "data": {
      "text/html": [
       "<div>\n",
       "<style scoped>\n",
       "    .dataframe tbody tr th:only-of-type {\n",
       "        vertical-align: middle;\n",
       "    }\n",
       "\n",
       "    .dataframe tbody tr th {\n",
       "        vertical-align: top;\n",
       "    }\n",
       "\n",
       "    .dataframe thead th {\n",
       "        text-align: right;\n",
       "    }\n",
       "</style>\n",
       "<table border=\"1\" class=\"dataframe\">\n",
       "  <thead>\n",
       "    <tr style=\"text-align: right;\">\n",
       "      <th></th>\n",
       "      <th>year</th>\n",
       "      <th>acousticness</th>\n",
       "      <th>danceability</th>\n",
       "      <th>duration_ms</th>\n",
       "      <th>energy</th>\n",
       "      <th>loudness</th>\n",
       "      <th>instrumentalness</th>\n",
       "      <th>liveness</th>\n",
       "      <th>speechiness</th>\n",
       "      <th>tempo</th>\n",
       "      <th>valence</th>\n",
       "      <th>popularity</th>\n",
       "      <th>key</th>\n",
       "    </tr>\n",
       "  </thead>\n",
       "  <tbody>\n",
       "    <tr>\n",
       "      <td>95</td>\n",
       "      <td>2016</td>\n",
       "      <td>0.1530</td>\n",
       "      <td>0.6130</td>\n",
       "      <td>215440.0</td>\n",
       "      <td>0.6180</td>\n",
       "      <td>-6.6090</td>\n",
       "      <td>0.000002</td>\n",
       "      <td>0.121</td>\n",
       "      <td>0.05760</td>\n",
       "      <td>119.9060</td>\n",
       "      <td>0.4090</td>\n",
       "      <td>61.0</td>\n",
       "      <td>0</td>\n",
       "    </tr>\n",
       "    <tr>\n",
       "      <td>96</td>\n",
       "      <td>2017</td>\n",
       "      <td>0.1720</td>\n",
       "      <td>0.6400</td>\n",
       "      <td>209132.0</td>\n",
       "      <td>0.6085</td>\n",
       "      <td>-6.8080</td>\n",
       "      <td>0.000002</td>\n",
       "      <td>0.125</td>\n",
       "      <td>0.06240</td>\n",
       "      <td>117.2825</td>\n",
       "      <td>0.4065</td>\n",
       "      <td>64.0</td>\n",
       "      <td>1</td>\n",
       "    </tr>\n",
       "    <tr>\n",
       "      <td>97</td>\n",
       "      <td>2018</td>\n",
       "      <td>0.1710</td>\n",
       "      <td>0.6870</td>\n",
       "      <td>199560.0</td>\n",
       "      <td>0.6030</td>\n",
       "      <td>-6.3720</td>\n",
       "      <td>0.000000</td>\n",
       "      <td>0.120</td>\n",
       "      <td>0.06975</td>\n",
       "      <td>121.1435</td>\n",
       "      <td>0.4390</td>\n",
       "      <td>66.0</td>\n",
       "      <td>1</td>\n",
       "    </tr>\n",
       "    <tr>\n",
       "      <td>98</td>\n",
       "      <td>2019</td>\n",
       "      <td>0.1785</td>\n",
       "      <td>0.6790</td>\n",
       "      <td>194044.0</td>\n",
       "      <td>0.6200</td>\n",
       "      <td>-6.3295</td>\n",
       "      <td>0.000000</td>\n",
       "      <td>0.118</td>\n",
       "      <td>0.06840</td>\n",
       "      <td>118.0425</td>\n",
       "      <td>0.4690</td>\n",
       "      <td>68.5</td>\n",
       "      <td>1</td>\n",
       "    </tr>\n",
       "    <tr>\n",
       "      <td>99</td>\n",
       "      <td>2020</td>\n",
       "      <td>0.1490</td>\n",
       "      <td>0.6925</td>\n",
       "      <td>193467.0</td>\n",
       "      <td>0.6265</td>\n",
       "      <td>-6.3330</td>\n",
       "      <td>0.000000</td>\n",
       "      <td>0.122</td>\n",
       "      <td>0.08310</td>\n",
       "      <td>121.9415</td>\n",
       "      <td>0.4850</td>\n",
       "      <td>68.0</td>\n",
       "      <td>1</td>\n",
       "    </tr>\n",
       "  </tbody>\n",
       "</table>\n",
       "</div>"
      ],
      "text/plain": [
       "    year  acousticness  danceability  duration_ms  energy  loudness  \\\n",
       "95  2016        0.1530        0.6130     215440.0  0.6180   -6.6090   \n",
       "96  2017        0.1720        0.6400     209132.0  0.6085   -6.8080   \n",
       "97  2018        0.1710        0.6870     199560.0  0.6030   -6.3720   \n",
       "98  2019        0.1785        0.6790     194044.0  0.6200   -6.3295   \n",
       "99  2020        0.1490        0.6925     193467.0  0.6265   -6.3330   \n",
       "\n",
       "    instrumentalness  liveness  speechiness     tempo  valence  popularity  \\\n",
       "95          0.000002     0.121      0.05760  119.9060   0.4090        61.0   \n",
       "96          0.000002     0.125      0.06240  117.2825   0.4065        64.0   \n",
       "97          0.000000     0.120      0.06975  121.1435   0.4390        66.0   \n",
       "98          0.000000     0.118      0.06840  118.0425   0.4690        68.5   \n",
       "99          0.000000     0.122      0.08310  121.9415   0.4850        68.0   \n",
       "\n",
       "    key  \n",
       "95    0  \n",
       "96    1  \n",
       "97    1  \n",
       "98    1  \n",
       "99    1  "
      ]
     },
     "execution_count": 3,
     "metadata": {},
     "output_type": "execute_result"
    }
   ],
   "source": [
    "yearly_df = pd.read_csv('Datasets/yearly_merged.csv')\n",
    "yearly_df.tail()"
   ]
  },
  {
   "cell_type": "code",
   "execution_count": 4,
   "metadata": {
    "ExecuteTime": {
     "end_time": "2021-04-27T16:05:13.314032Z",
     "start_time": "2021-04-27T16:05:13.309241Z"
    }
   },
   "outputs": [
    {
     "data": {
      "text/plain": [
       "0     1921\n",
       "1     1922\n",
       "2     1923\n",
       "3     1924\n",
       "4     1925\n",
       "      ... \n",
       "95    2016\n",
       "96    2017\n",
       "97    2018\n",
       "98    2019\n",
       "99    2020\n",
       "Name: year, Length: 100, dtype: int64"
      ]
     },
     "execution_count": 4,
     "metadata": {},
     "output_type": "execute_result"
    }
   ],
   "source": [
    "yearly_df['year']"
   ]
  },
  {
   "cell_type": "markdown",
   "metadata": {},
   "source": [
    "Let's now convert our year column to datetime format and set it as the index."
   ]
  },
  {
   "cell_type": "code",
   "execution_count": 5,
   "metadata": {
    "ExecuteTime": {
     "end_time": "2021-04-27T16:05:14.107169Z",
     "start_time": "2021-04-27T16:05:14.084227Z"
    },
    "scrolled": true
   },
   "outputs": [
    {
     "data": {
      "text/html": [
       "<div>\n",
       "<style scoped>\n",
       "    .dataframe tbody tr th:only-of-type {\n",
       "        vertical-align: middle;\n",
       "    }\n",
       "\n",
       "    .dataframe tbody tr th {\n",
       "        vertical-align: top;\n",
       "    }\n",
       "\n",
       "    .dataframe thead th {\n",
       "        text-align: right;\n",
       "    }\n",
       "</style>\n",
       "<table border=\"1\" class=\"dataframe\">\n",
       "  <thead>\n",
       "    <tr style=\"text-align: right;\">\n",
       "      <th></th>\n",
       "      <th>acousticness</th>\n",
       "      <th>danceability</th>\n",
       "      <th>duration_ms</th>\n",
       "      <th>energy</th>\n",
       "      <th>loudness</th>\n",
       "      <th>instrumentalness</th>\n",
       "      <th>liveness</th>\n",
       "      <th>speechiness</th>\n",
       "      <th>tempo</th>\n",
       "      <th>valence</th>\n",
       "      <th>popularity</th>\n",
       "      <th>key</th>\n",
       "    </tr>\n",
       "    <tr>\n",
       "      <th>year</th>\n",
       "      <th></th>\n",
       "      <th></th>\n",
       "      <th></th>\n",
       "      <th></th>\n",
       "      <th></th>\n",
       "      <th></th>\n",
       "      <th></th>\n",
       "      <th></th>\n",
       "      <th></th>\n",
       "      <th></th>\n",
       "      <th></th>\n",
       "      <th></th>\n",
       "    </tr>\n",
       "  </thead>\n",
       "  <tbody>\n",
       "    <tr>\n",
       "      <td>1921-01-01</td>\n",
       "      <td>0.990</td>\n",
       "      <td>0.4115</td>\n",
       "      <td>178040.0</td>\n",
       "      <td>0.2205</td>\n",
       "      <td>-16.0000</td>\n",
       "      <td>0.0287</td>\n",
       "      <td>0.1655</td>\n",
       "      <td>0.04595</td>\n",
       "      <td>92.1440</td>\n",
       "      <td>0.4545</td>\n",
       "      <td>0.0</td>\n",
       "      <td>7</td>\n",
       "    </tr>\n",
       "    <tr>\n",
       "      <td>1922-01-01</td>\n",
       "      <td>0.994</td>\n",
       "      <td>0.4895</td>\n",
       "      <td>168053.5</td>\n",
       "      <td>0.2010</td>\n",
       "      <td>-18.6210</td>\n",
       "      <td>0.3245</td>\n",
       "      <td>0.1575</td>\n",
       "      <td>0.06665</td>\n",
       "      <td>89.6905</td>\n",
       "      <td>0.5490</td>\n",
       "      <td>0.0</td>\n",
       "      <td>10</td>\n",
       "    </tr>\n",
       "    <tr>\n",
       "      <td>1923-01-01</td>\n",
       "      <td>0.992</td>\n",
       "      <td>0.5765</td>\n",
       "      <td>180347.0</td>\n",
       "      <td>0.2465</td>\n",
       "      <td>-13.9605</td>\n",
       "      <td>0.2180</td>\n",
       "      <td>0.1725</td>\n",
       "      <td>0.06775</td>\n",
       "      <td>108.3805</td>\n",
       "      <td>0.6115</td>\n",
       "      <td>4.0</td>\n",
       "      <td>0</td>\n",
       "    </tr>\n",
       "    <tr>\n",
       "      <td>1924-01-01</td>\n",
       "      <td>0.994</td>\n",
       "      <td>0.5650</td>\n",
       "      <td>173786.5</td>\n",
       "      <td>0.3250</td>\n",
       "      <td>-13.8420</td>\n",
       "      <td>0.8440</td>\n",
       "      <td>0.1855</td>\n",
       "      <td>0.06550</td>\n",
       "      <td>118.3225</td>\n",
       "      <td>0.6995</td>\n",
       "      <td>0.0</td>\n",
       "      <td>10</td>\n",
       "    </tr>\n",
       "    <tr>\n",
       "      <td>1925-01-01</td>\n",
       "      <td>0.989</td>\n",
       "      <td>0.5750</td>\n",
       "      <td>179360.0</td>\n",
       "      <td>0.2390</td>\n",
       "      <td>-13.5520</td>\n",
       "      <td>0.1740</td>\n",
       "      <td>0.1550</td>\n",
       "      <td>0.07560</td>\n",
       "      <td>114.0380</td>\n",
       "      <td>0.6590</td>\n",
       "      <td>0.0</td>\n",
       "      <td>5</td>\n",
       "    </tr>\n",
       "  </tbody>\n",
       "</table>\n",
       "</div>"
      ],
      "text/plain": [
       "            acousticness  danceability  duration_ms  energy  loudness  \\\n",
       "year                                                                    \n",
       "1921-01-01         0.990        0.4115     178040.0  0.2205  -16.0000   \n",
       "1922-01-01         0.994        0.4895     168053.5  0.2010  -18.6210   \n",
       "1923-01-01         0.992        0.5765     180347.0  0.2465  -13.9605   \n",
       "1924-01-01         0.994        0.5650     173786.5  0.3250  -13.8420   \n",
       "1925-01-01         0.989        0.5750     179360.0  0.2390  -13.5520   \n",
       "\n",
       "            instrumentalness  liveness  speechiness     tempo  valence  \\\n",
       "year                                                                     \n",
       "1921-01-01            0.0287    0.1655      0.04595   92.1440   0.4545   \n",
       "1922-01-01            0.3245    0.1575      0.06665   89.6905   0.5490   \n",
       "1923-01-01            0.2180    0.1725      0.06775  108.3805   0.6115   \n",
       "1924-01-01            0.8440    0.1855      0.06550  118.3225   0.6995   \n",
       "1925-01-01            0.1740    0.1550      0.07560  114.0380   0.6590   \n",
       "\n",
       "            popularity  key  \n",
       "year                         \n",
       "1921-01-01         0.0    7  \n",
       "1922-01-01         0.0   10  \n",
       "1923-01-01         4.0    0  \n",
       "1924-01-01         0.0   10  \n",
       "1925-01-01         0.0    5  "
      ]
     },
     "execution_count": 5,
     "metadata": {},
     "output_type": "execute_result"
    }
   ],
   "source": [
    "yearly_df['year'] = pd.to_datetime(yearly_df['year'], format='%Y')\n",
    "yearly_df.set_index('year', inplace=True) \n",
    "yearly_df.head()"
   ]
  },
  {
   "cell_type": "code",
   "execution_count": 6,
   "metadata": {
    "ExecuteTime": {
     "end_time": "2021-04-27T16:05:14.635896Z",
     "start_time": "2021-04-27T16:05:14.617552Z"
    }
   },
   "outputs": [
    {
     "data": {
      "text/html": [
       "<div>\n",
       "<style scoped>\n",
       "    .dataframe tbody tr th:only-of-type {\n",
       "        vertical-align: middle;\n",
       "    }\n",
       "\n",
       "    .dataframe tbody tr th {\n",
       "        vertical-align: top;\n",
       "    }\n",
       "\n",
       "    .dataframe thead th {\n",
       "        text-align: right;\n",
       "    }\n",
       "</style>\n",
       "<table border=\"1\" class=\"dataframe\">\n",
       "  <thead>\n",
       "    <tr style=\"text-align: right;\">\n",
       "      <th></th>\n",
       "      <th>acousticness</th>\n",
       "      <th>danceability</th>\n",
       "      <th>duration_ms</th>\n",
       "      <th>energy</th>\n",
       "      <th>loudness</th>\n",
       "      <th>instrumentalness</th>\n",
       "      <th>liveness</th>\n",
       "      <th>speechiness</th>\n",
       "      <th>tempo</th>\n",
       "      <th>valence</th>\n",
       "      <th>popularity</th>\n",
       "      <th>key</th>\n",
       "    </tr>\n",
       "    <tr>\n",
       "      <th>year</th>\n",
       "      <th></th>\n",
       "      <th></th>\n",
       "      <th></th>\n",
       "      <th></th>\n",
       "      <th></th>\n",
       "      <th></th>\n",
       "      <th></th>\n",
       "      <th></th>\n",
       "      <th></th>\n",
       "      <th></th>\n",
       "      <th></th>\n",
       "      <th></th>\n",
       "    </tr>\n",
       "  </thead>\n",
       "  <tbody>\n",
       "    <tr>\n",
       "      <td>1921-01-01</td>\n",
       "      <td>0.9900</td>\n",
       "      <td>0.4115</td>\n",
       "      <td>178040.0</td>\n",
       "      <td>0.2205</td>\n",
       "      <td>-16.0000</td>\n",
       "      <td>0.028700</td>\n",
       "      <td>0.1655</td>\n",
       "      <td>0.04595</td>\n",
       "      <td>92.1440</td>\n",
       "      <td>0.4545</td>\n",
       "      <td>0.0</td>\n",
       "      <td>7</td>\n",
       "    </tr>\n",
       "    <tr>\n",
       "      <td>1922-01-01</td>\n",
       "      <td>0.9940</td>\n",
       "      <td>0.4895</td>\n",
       "      <td>168053.5</td>\n",
       "      <td>0.2010</td>\n",
       "      <td>-18.6210</td>\n",
       "      <td>0.324500</td>\n",
       "      <td>0.1575</td>\n",
       "      <td>0.06665</td>\n",
       "      <td>89.6905</td>\n",
       "      <td>0.5490</td>\n",
       "      <td>0.0</td>\n",
       "      <td>10</td>\n",
       "    </tr>\n",
       "    <tr>\n",
       "      <td>1923-01-01</td>\n",
       "      <td>0.9920</td>\n",
       "      <td>0.5765</td>\n",
       "      <td>180347.0</td>\n",
       "      <td>0.2465</td>\n",
       "      <td>-13.9605</td>\n",
       "      <td>0.218000</td>\n",
       "      <td>0.1725</td>\n",
       "      <td>0.06775</td>\n",
       "      <td>108.3805</td>\n",
       "      <td>0.6115</td>\n",
       "      <td>4.0</td>\n",
       "      <td>0</td>\n",
       "    </tr>\n",
       "    <tr>\n",
       "      <td>1924-01-01</td>\n",
       "      <td>0.9940</td>\n",
       "      <td>0.5650</td>\n",
       "      <td>173786.5</td>\n",
       "      <td>0.3250</td>\n",
       "      <td>-13.8420</td>\n",
       "      <td>0.844000</td>\n",
       "      <td>0.1855</td>\n",
       "      <td>0.06550</td>\n",
       "      <td>118.3225</td>\n",
       "      <td>0.6995</td>\n",
       "      <td>0.0</td>\n",
       "      <td>10</td>\n",
       "    </tr>\n",
       "    <tr>\n",
       "      <td>1925-01-01</td>\n",
       "      <td>0.9890</td>\n",
       "      <td>0.5750</td>\n",
       "      <td>179360.0</td>\n",
       "      <td>0.2390</td>\n",
       "      <td>-13.5520</td>\n",
       "      <td>0.174000</td>\n",
       "      <td>0.1550</td>\n",
       "      <td>0.07560</td>\n",
       "      <td>114.0380</td>\n",
       "      <td>0.6590</td>\n",
       "      <td>0.0</td>\n",
       "      <td>5</td>\n",
       "    </tr>\n",
       "    <tr>\n",
       "      <td>...</td>\n",
       "      <td>...</td>\n",
       "      <td>...</td>\n",
       "      <td>...</td>\n",
       "      <td>...</td>\n",
       "      <td>...</td>\n",
       "      <td>...</td>\n",
       "      <td>...</td>\n",
       "      <td>...</td>\n",
       "      <td>...</td>\n",
       "      <td>...</td>\n",
       "      <td>...</td>\n",
       "      <td>...</td>\n",
       "    </tr>\n",
       "    <tr>\n",
       "      <td>2016-01-01</td>\n",
       "      <td>0.1530</td>\n",
       "      <td>0.6130</td>\n",
       "      <td>215440.0</td>\n",
       "      <td>0.6180</td>\n",
       "      <td>-6.6090</td>\n",
       "      <td>0.000002</td>\n",
       "      <td>0.1210</td>\n",
       "      <td>0.05760</td>\n",
       "      <td>119.9060</td>\n",
       "      <td>0.4090</td>\n",
       "      <td>61.0</td>\n",
       "      <td>0</td>\n",
       "    </tr>\n",
       "    <tr>\n",
       "      <td>2017-01-01</td>\n",
       "      <td>0.1720</td>\n",
       "      <td>0.6400</td>\n",
       "      <td>209132.0</td>\n",
       "      <td>0.6085</td>\n",
       "      <td>-6.8080</td>\n",
       "      <td>0.000002</td>\n",
       "      <td>0.1250</td>\n",
       "      <td>0.06240</td>\n",
       "      <td>117.2825</td>\n",
       "      <td>0.4065</td>\n",
       "      <td>64.0</td>\n",
       "      <td>1</td>\n",
       "    </tr>\n",
       "    <tr>\n",
       "      <td>2018-01-01</td>\n",
       "      <td>0.1710</td>\n",
       "      <td>0.6870</td>\n",
       "      <td>199560.0</td>\n",
       "      <td>0.6030</td>\n",
       "      <td>-6.3720</td>\n",
       "      <td>0.000000</td>\n",
       "      <td>0.1200</td>\n",
       "      <td>0.06975</td>\n",
       "      <td>121.1435</td>\n",
       "      <td>0.4390</td>\n",
       "      <td>66.0</td>\n",
       "      <td>1</td>\n",
       "    </tr>\n",
       "    <tr>\n",
       "      <td>2019-01-01</td>\n",
       "      <td>0.1785</td>\n",
       "      <td>0.6790</td>\n",
       "      <td>194044.0</td>\n",
       "      <td>0.6200</td>\n",
       "      <td>-6.3295</td>\n",
       "      <td>0.000000</td>\n",
       "      <td>0.1180</td>\n",
       "      <td>0.06840</td>\n",
       "      <td>118.0425</td>\n",
       "      <td>0.4690</td>\n",
       "      <td>68.5</td>\n",
       "      <td>1</td>\n",
       "    </tr>\n",
       "    <tr>\n",
       "      <td>2020-01-01</td>\n",
       "      <td>0.1490</td>\n",
       "      <td>0.6925</td>\n",
       "      <td>193467.0</td>\n",
       "      <td>0.6265</td>\n",
       "      <td>-6.3330</td>\n",
       "      <td>0.000000</td>\n",
       "      <td>0.1220</td>\n",
       "      <td>0.08310</td>\n",
       "      <td>121.9415</td>\n",
       "      <td>0.4850</td>\n",
       "      <td>68.0</td>\n",
       "      <td>1</td>\n",
       "    </tr>\n",
       "  </tbody>\n",
       "</table>\n",
       "<p>100 rows × 12 columns</p>\n",
       "</div>"
      ],
      "text/plain": [
       "            acousticness  danceability  duration_ms  energy  loudness  \\\n",
       "year                                                                    \n",
       "1921-01-01        0.9900        0.4115     178040.0  0.2205  -16.0000   \n",
       "1922-01-01        0.9940        0.4895     168053.5  0.2010  -18.6210   \n",
       "1923-01-01        0.9920        0.5765     180347.0  0.2465  -13.9605   \n",
       "1924-01-01        0.9940        0.5650     173786.5  0.3250  -13.8420   \n",
       "1925-01-01        0.9890        0.5750     179360.0  0.2390  -13.5520   \n",
       "...                  ...           ...          ...     ...       ...   \n",
       "2016-01-01        0.1530        0.6130     215440.0  0.6180   -6.6090   \n",
       "2017-01-01        0.1720        0.6400     209132.0  0.6085   -6.8080   \n",
       "2018-01-01        0.1710        0.6870     199560.0  0.6030   -6.3720   \n",
       "2019-01-01        0.1785        0.6790     194044.0  0.6200   -6.3295   \n",
       "2020-01-01        0.1490        0.6925     193467.0  0.6265   -6.3330   \n",
       "\n",
       "            instrumentalness  liveness  speechiness     tempo  valence  \\\n",
       "year                                                                     \n",
       "1921-01-01          0.028700    0.1655      0.04595   92.1440   0.4545   \n",
       "1922-01-01          0.324500    0.1575      0.06665   89.6905   0.5490   \n",
       "1923-01-01          0.218000    0.1725      0.06775  108.3805   0.6115   \n",
       "1924-01-01          0.844000    0.1855      0.06550  118.3225   0.6995   \n",
       "1925-01-01          0.174000    0.1550      0.07560  114.0380   0.6590   \n",
       "...                      ...       ...          ...       ...      ...   \n",
       "2016-01-01          0.000002    0.1210      0.05760  119.9060   0.4090   \n",
       "2017-01-01          0.000002    0.1250      0.06240  117.2825   0.4065   \n",
       "2018-01-01          0.000000    0.1200      0.06975  121.1435   0.4390   \n",
       "2019-01-01          0.000000    0.1180      0.06840  118.0425   0.4690   \n",
       "2020-01-01          0.000000    0.1220      0.08310  121.9415   0.4850   \n",
       "\n",
       "            popularity  key  \n",
       "year                         \n",
       "1921-01-01         0.0    7  \n",
       "1922-01-01         0.0   10  \n",
       "1923-01-01         4.0    0  \n",
       "1924-01-01         0.0   10  \n",
       "1925-01-01         0.0    5  \n",
       "...                ...  ...  \n",
       "2016-01-01        61.0    0  \n",
       "2017-01-01        64.0    1  \n",
       "2018-01-01        66.0    1  \n",
       "2019-01-01        68.5    1  \n",
       "2020-01-01        68.0    1  \n",
       "\n",
       "[100 rows x 12 columns]"
      ]
     },
     "execution_count": 6,
     "metadata": {},
     "output_type": "execute_result"
    }
   ],
   "source": [
    "\n",
    "yearly_df"
   ]
  },
  {
   "cell_type": "code",
   "execution_count": 7,
   "metadata": {
    "ExecuteTime": {
     "end_time": "2021-04-27T16:05:17.894730Z",
     "start_time": "2021-04-27T16:05:17.468635Z"
    }
   },
   "outputs": [
    {
     "data": {
      "image/png": "[encoded data removed]",
      "text/plain": [
       "<Figure size 1296x720 with 1 Axes>"
      ]
     },
     "metadata": {
      "needs_background": "light"
     },
     "output_type": "display_data"
    }
   ],
   "source": [
    "yearly_df.acousticness.plot(figsize = (18,10))\n",
    "plt.xlabel('Median Acousticness', fontsize=14)\n",
    "plt.ylabel('Year', fontsize=14)\n",
    "plt.savefig('Images/acousticness_time.png');"
   ]
  },
  {
   "cell_type": "markdown",
   "metadata": {},
   "source": [
    "Let's take a look at the rolling mean and standard deviation of acousticness, using a window of 6 steps (6 years)."
   ]
  },
  {
   "cell_type": "code",
   "execution_count": 8,
   "metadata": {
    "ExecuteTime": {
     "end_time": "2021-04-27T16:05:21.375992Z",
     "start_time": "2021-04-27T16:05:21.164449Z"
    },
    "scrolled": false
   },
   "outputs": [
    {
     "data": {
      "image/png": "[encoded data removed]",
      "text/plain": [
       "<Figure size 1008x504 with 1 Axes>"
      ]
     },
     "metadata": {
      "needs_background": "light"
     },
     "output_type": "display_data"
    }
   ],
   "source": [
    "roll_mean = yearly_df.acousticness.rolling(window=6, center=False).mean()\n",
    "roll_std = yearly_df.acousticness.rolling(window=6, center=False).std()\n",
    "\n",
    "fig = plt.figure(figsize=(14,7))\n",
    "plt.plot(roll_std, color='black', label = 'Rolling Std')\n",
    "plt.plot(roll_mean, color='blue', label = 'Rolling Mean')\n",
    "plt.legend(loc='best')\n",
    "plt.title('Rolling mean and std Over Time', size=14)\n",
    "plt.show(block=False)"
   ]
  },
  {
   "cell_type": "markdown",
   "metadata": {},
   "source": [
    "The rolling average is as expected, with total acousticness in heavy decline during 60's, 70's and 80's. The standard deviation shows greater volatility during this time."
   ]
  },
  {
   "cell_type": "markdown",
   "metadata": {},
   "source": [
    "Let's now decompose acousticness just to see what the residuals are like."
   ]
  },
  {
   "cell_type": "code",
   "execution_count": 9,
   "metadata": {
    "ExecuteTime": {
     "end_time": "2021-04-27T16:05:31.688718Z",
     "start_time": "2021-04-27T16:05:30.776520Z"
    },
    "scrolled": false
   },
   "outputs": [
    {
     "data": {
      "image/png": "[encoded data removed]",
      "text/plain": [
       "<Figure size 864x576 with 4 Axes>"
      ]
     },
     "metadata": {
      "needs_background": "light"
     },
     "output_type": "display_data"
    }
   ],
   "source": [
    "# Import and apply seasonal_decompose()\n",
    "from statsmodels.tsa.seasonal import seasonal_decompose\n",
    "decomposition = seasonal_decompose(yearly_df.acousticness)\n",
    "\n",
    "# Gather the trend, seasonality, and residuals \n",
    "trend = decomposition.trend\n",
    "seasonal = decomposition.seasonal\n",
    "residual = decomposition.resid\n",
    "\n",
    "# Plot gathered statistics\n",
    "plt.figure(figsize=(12,8))\n",
    "plt.subplot(411)\n",
    "plt.plot(yearly_df.acousticness, label='Original', color='blue')\n",
    "plt.legend(loc='best')\n",
    "plt.subplot(412)\n",
    "plt.plot(trend, label='Trend', color='blue')\n",
    "plt.legend(loc='best')\n",
    "plt.subplot(413)\n",
    "plt.plot(seasonal,label='Seasonality', color='blue')\n",
    "plt.legend(loc='best')\n",
    "plt.subplot(414)\n",
    "plt.plot(residual, label='Residuals', color='blue')\n",
    "plt.legend(loc='best')\n",
    "plt.tight_layout()\n",
    "plt.savefig('Images/Acousticness_decomposition.png')"
   ]
  },
  {
   "cell_type": "markdown",
   "metadata": {},
   "source": [
    "Residuals are completely absent. This could be due to the fact that we only have yearly data points."
   ]
  },
  {
   "cell_type": "markdown",
   "metadata": {},
   "source": [
    "Let's now make our trend stationary and get plots for the ACF and PACF. "
   ]
  },
  {
   "cell_type": "code",
   "execution_count": 9,
   "metadata": {
    "ExecuteTime": {
     "end_time": "2021-01-28T16:00:45.717744Z",
     "start_time": "2021-01-28T16:00:45.712857Z"
    }
   },
   "outputs": [
    {
     "data": {
      "text/plain": [
       "year\n",
       "1921-01-01    0.9900\n",
       "1922-01-01    0.9940\n",
       "1923-01-01    0.9920\n",
       "1924-01-01    0.9940\n",
       "1925-01-01    0.9890\n",
       "               ...  \n",
       "2016-01-01    0.1530\n",
       "2017-01-01    0.1720\n",
       "2018-01-01    0.1710\n",
       "2019-01-01    0.1785\n",
       "2020-01-01    0.1490\n",
       "Name: acousticness, Length: 100, dtype: float64"
      ]
     },
     "execution_count": 9,
     "metadata": {},
     "output_type": "execute_result"
    }
   ],
   "source": [
    "yearly_df.acousticness"
   ]
  },
  {
   "cell_type": "code",
   "execution_count": 10,
   "metadata": {
    "ExecuteTime": {
     "end_time": "2021-01-28T16:00:45.725524Z",
     "start_time": "2021-01-28T16:00:45.719601Z"
    },
    "scrolled": true
   },
   "outputs": [
    {
     "data": {
      "text/plain": [
       "year\n",
       "1922-01-01    0.0040\n",
       "1923-01-01   -0.0020\n",
       "1924-01-01    0.0020\n",
       "1925-01-01   -0.0050\n",
       "1926-01-01    0.0030\n",
       "               ...  \n",
       "2016-01-01    0.0330\n",
       "2017-01-01    0.0190\n",
       "2018-01-01   -0.0010\n",
       "2019-01-01    0.0075\n",
       "2020-01-01   -0.0295\n",
       "Name: acousticness, Length: 99, dtype: float64"
      ]
     },
     "execution_count": 10,
     "metadata": {},
     "output_type": "execute_result"
    }
   ],
   "source": [
    "data_diff = yearly_df.acousticness.diff().dropna() #1-lag differencing, notice the start year\n",
    "data_diff"
   ]
  },
  {
   "cell_type": "code",
   "execution_count": 11,
   "metadata": {
    "ExecuteTime": {
     "end_time": "2021-01-28T16:00:46.026472Z",
     "start_time": "2021-01-28T16:00:45.727400Z"
    },
    "scrolled": false
   },
   "outputs": [
    {
     "data": {
      "image/png": "[encoded data removed]",
      "text/plain": [
       "<Figure size 576x216 with 1 Axes>"
      ]
     },
     "metadata": {
      "needs_background": "light"
     },
     "output_type": "display_data"
    }
   ],
   "source": [
    "# Plot the ACF, shows us how many MA terms are required to remove any autocorrelation in the stationarized series.\n",
    "from statsmodels.graphics.tsaplots import plot_acf\n",
    "fig, ax = plt.subplots(figsize=(8,3))\n",
    "plot_acf(data_diff,ax=ax, lags=20)\n",
    "plt.savefig('Images/ACF_acousticness.png');"
   ]
  },
  {
   "cell_type": "markdown",
   "metadata": {},
   "source": [
    "MA seems to be 1."
   ]
  },
  {
   "cell_type": "markdown",
   "metadata": {},
   "source": [
    "we initially take the order of AR term to be equal to as many lags that crosses the significance limit in the PACF plot"
   ]
  },
  {
   "cell_type": "code",
   "execution_count": 12,
   "metadata": {
    "ExecuteTime": {
     "end_time": "2021-01-28T16:00:46.326017Z",
     "start_time": "2021-01-28T16:00:46.027840Z"
    },
    "scrolled": false
   },
   "outputs": [
    {
     "data": {
      "image/png": "[encoded data removed]",
      "text/plain": [
       "<Figure size 576x216 with 1 Axes>"
      ]
     },
     "metadata": {
      "needs_background": "light"
     },
     "output_type": "display_data"
    }
   ],
   "source": [
    "# Plot the PACF\n",
    "from statsmodels.graphics.tsaplots import plot_pacf\n",
    "fig, ax = plt.subplots(figsize=(8,3))\n",
    "plot_pacf(data_diff,ax=ax, lags=20)\n",
    "plt.savefig('Images/PACF_acousticness.png');"
   ]
  },
  {
   "cell_type": "markdown",
   "metadata": {},
   "source": [
    "AR for our differenced data seems to be 1."
   ]
  },
  {
   "cell_type": "markdown",
   "metadata": {},
   "source": [
    "# Baseline Model (ARIMA)\n",
    "As there is no seaonality because our data is yearly, we will leave out the seasonality portion of the SARIMA model."
   ]
  },
  {
   "cell_type": "code",
   "execution_count": 13,
   "metadata": {
    "ExecuteTime": {
     "end_time": "2021-01-28T16:00:46.330341Z",
     "start_time": "2021-01-28T16:00:46.327712Z"
    }
   },
   "outputs": [],
   "source": [
    "# Let's set the p, d and q parameters to take any value between 0 and 2\n",
    "p = d = q = range(0, 3)\n",
    "\n",
    "\n",
    "# Generate all different combinations of p, q and q triplets\n",
    "pdq = list(itertools.product(p, d, q))"
   ]
  },
  {
   "cell_type": "code",
   "execution_count": 14,
   "metadata": {
    "ExecuteTime": {
     "end_time": "2021-01-28T16:00:47.430233Z",
     "start_time": "2021-01-28T16:00:46.331677Z"
    }
   },
   "outputs": [
    {
     "name": "stdout",
     "output_type": "stream",
     "text": [
      "ARIMA (0, 0, 0) : AIC Calculated =197.8299228950407\n",
      "ARIMA (0, 0, 1) : AIC Calculated =68.29260070893079\n",
      "ARIMA (0, 0, 2) : AIC Calculated =-42.65550451839651\n",
      "ARIMA (0, 1, 0) : AIC Calculated =-427.05966527244937\n",
      "ARIMA (0, 1, 1) : AIC Calculated =-423.8660853219406\n",
      "ARIMA (0, 1, 2) : AIC Calculated =-421.9185352745262\n",
      "ARIMA (0, 2, 0) : AIC Calculated =-383.9978379490176\n",
      "ARIMA (0, 2, 1) : AIC Calculated =-431.00915595075935\n",
      "ARIMA (0, 2, 2) : AIC Calculated =-423.64127707525313\n",
      "ARIMA (1, 0, 0) : AIC Calculated =-439.3140562327019\n",
      "ARIMA (1, 0, 1) : AIC Calculated =-434.7111062963007\n",
      "ARIMA (1, 0, 2) : AIC Calculated =-431.5385633725217\n",
      "ARIMA (1, 1, 0) : AIC Calculated =-431.80674441164655\n",
      "ARIMA (1, 1, 1) : AIC Calculated =-436.2438081655385\n",
      "ARIMA (1, 1, 2) : AIC Calculated =-429.0003291537753\n",
      "ARIMA (1, 2, 0) : AIC Calculated =-417.55815675252103\n",
      "ARIMA (1, 2, 1) : AIC Calculated =-428.93936785393464\n",
      "ARIMA (1, 2, 2) : AIC Calculated =-423.03557644736225\n",
      "ARIMA (2, 0, 0) : AIC Calculated =-436.11399781564535\n",
      "ARIMA (2, 0, 1) : AIC Calculated =-442.6852596803425\n",
      "ARIMA (2, 0, 2) : AIC Calculated =-435.034838009344\n",
      "ARIMA (2, 1, 0) : AIC Calculated =-433.1670581476843\n",
      "ARIMA (2, 1, 1) : AIC Calculated =-434.25311849427686\n",
      "ARIMA (2, 1, 2) : AIC Calculated =-428.4400417414763\n",
      "ARIMA (2, 2, 0) : AIC Calculated =-417.4210811573589\n",
      "ARIMA (2, 2, 1) : AIC Calculated =-427.2900539620208\n",
      "ARIMA (2, 2, 2) : AIC Calculated =-421.3817720245066\n"
     ]
    }
   ],
   "source": [
    "ans = []\n",
    "for comb in pdq:\n",
    "    try:\n",
    "        mod = sm.tsa.statespace.SARIMAX(yearly_df.acousticness,\n",
    "                                        order=comb,\n",
    "                                        enforce_stationarity=False,\n",
    "                                        enforce_invertibility=False)\n",
    "\n",
    "        output = mod.fit()\n",
    "        ans.append([comb, output.aic])\n",
    "        print('ARIMA {} : AIC Calculated ={}'.format(comb, output.aic))\n",
    "    except:\n",
    "        continue"
   ]
  },
  {
   "cell_type": "code",
   "execution_count": 15,
   "metadata": {
    "ExecuteTime": {
     "end_time": "2021-01-28T16:00:47.438690Z",
     "start_time": "2021-01-28T16:00:47.431481Z"
    }
   },
   "outputs": [
    {
     "data": {
      "text/plain": [
       "pdq    (2, 0, 1)\n",
       "aic     -442.685\n",
       "Name: 19, dtype: object"
      ]
     },
     "execution_count": 15,
     "metadata": {},
     "output_type": "execute_result"
    }
   ],
   "source": [
    "ans_df = pd.DataFrame(ans, columns=['pdq', 'aic'])\n",
    "ans_df.loc[ans_df['aic'].idxmin()]"
   ]
  },
  {
   "cell_type": "code",
   "execution_count": 16,
   "metadata": {
    "ExecuteTime": {
     "end_time": "2021-01-28T16:00:47.544332Z",
     "start_time": "2021-01-28T16:00:47.440219Z"
    }
   },
   "outputs": [
    {
     "name": "stdout",
     "output_type": "stream",
     "text": [
      "==============================================================================\n",
      "                 coef    std err          z      P>|z|      [0.025      0.975]\n",
      "------------------------------------------------------------------------------\n",
      "ar.L1          1.9216      0.057     33.846      0.000       1.810       2.033\n",
      "ar.L2         -0.9232      0.055    -16.642      0.000      -1.032      -0.814\n",
      "ma.L1         -1.2214      0.143     -8.546      0.000      -1.502      -0.941\n",
      "sigma2         0.0004      0.000      3.675      0.000       0.000       0.001\n",
      "==============================================================================\n"
     ]
    }
   ],
   "source": [
    "#Plug the optimal parameter values into a new SARIMAX model\n",
    "ARIMA_MODEL = sm.tsa.statespace.SARIMAX(yearly_df.acousticness, \n",
    "                                        order=(2, 0, 1),  \n",
    "                                        enforce_stationarity=False, \n",
    "                                        enforce_invertibility=False)\n",
    "\n",
    "# Fit the model and print results\n",
    "output = ARIMA_MODEL.fit()\n",
    "\n",
    "print(output.summary().tables[1])"
   ]
  },
  {
   "cell_type": "markdown",
   "metadata": {},
   "source": [
    "P-values in check on first try! Very good."
   ]
  },
  {
   "cell_type": "code",
   "execution_count": 17,
   "metadata": {
    "ExecuteTime": {
     "end_time": "2021-01-28T16:00:48.429409Z",
     "start_time": "2021-01-28T16:00:47.545633Z"
    }
   },
   "outputs": [
    {
     "data": {
      "image/png": "[encoded data removed]",
      "text/plain": [
       "<Figure size 720x720 with 4 Axes>"
      ]
     },
     "metadata": {
      "needs_background": "light"
     },
     "output_type": "display_data"
    }
   ],
   "source": [
    "output.plot_diagnostics(figsize=(10, 10))\n",
    "plt.show()"
   ]
  },
  {
   "cell_type": "markdown",
   "metadata": {},
   "source": [
    "Our summary plots show that we have a little ways to go in order for our data's KDE curve to fit that of a normal distribution. Same shape, but a little condensed in the middle. Let's see what our RMSE is for this model."
   ]
  },
  {
   "cell_type": "code",
   "execution_count": 18,
   "metadata": {
    "ExecuteTime": {
     "end_time": "2021-01-28T16:00:48.444920Z",
     "start_time": "2021-01-28T16:00:48.432289Z"
    },
    "scrolled": true
   },
   "outputs": [
    {
     "name": "stdout",
     "output_type": "stream",
     "text": [
      "The Root Mean Squared Error of our forecasts is 0.02161\n"
     ]
    }
   ],
   "source": [
    "pred = output.get_prediction(start=pd.to_datetime('2015-01-01'), dynamic=False)\n",
    "pred_conf = pred.conf_int()\n",
    "\n",
    "# Get the real and predicted values\n",
    "acousticness_forecasted = pred.predicted_mean             #series\n",
    "acousticness_truth = yearly_df.acousticness['2015-01-01':].T.squeeze()  #slicing the list and squeezing to a series also\n",
    "\n",
    "# Compute the root mean square error\n",
    "rmse = np.sqrt(((acousticness_forecasted - acousticness_truth) ** 2).mean())\n",
    "print('The Root Mean Squared Error of our forecasts is {}'.format(round(rmse, 5)))"
   ]
  },
  {
   "cell_type": "markdown",
   "metadata": {
    "ExecuteTime": {
     "end_time": "2020-10-15T17:31:41.162474Z",
     "start_time": "2020-10-15T17:31:41.158387Z"
    }
   },
   "source": [
    "0.02 is not too bad. Let's see if we can alter the RMSE by sliding the test set backwards to 2010 (for our model's validation)."
   ]
  },
  {
   "cell_type": "code",
   "execution_count": 19,
   "metadata": {
    "ExecuteTime": {
     "end_time": "2021-01-28T16:00:48.454730Z",
     "start_time": "2021-01-28T16:00:48.446332Z"
    }
   },
   "outputs": [
    {
     "name": "stdout",
     "output_type": "stream",
     "text": [
      "The Root Mean Squared Error of our forecasts is 0.01725\n"
     ]
    }
   ],
   "source": [
    "pred = output.get_prediction(start=pd.to_datetime('2010-01-01'), dynamic=False)\n",
    "pred_conf = pred.conf_int()\n",
    "\n",
    "# Get the real and predicted values\n",
    "acousticness_forecasted = pred.predicted_mean             #series\n",
    "acousticness_truth = yearly_df.acousticness['2010-01-01':].T.squeeze()  #slicing the list and squeezing to a series also\n",
    "\n",
    "# Compute the root mean square error\n",
    "rmse = np.sqrt(((acousticness_forecasted - acousticness_truth) ** 2).mean())\n",
    "print('The Root Mean Squared Error of our forecasts is {}'.format(round(rmse, 5)))"
   ]
  },
  {
   "cell_type": "markdown",
   "metadata": {},
   "source": [
    "Decent reduction in RMSE for testing on less of the data."
   ]
  },
  {
   "cell_type": "markdown",
   "metadata": {},
   "source": [
    "## Log values"
   ]
  },
  {
   "cell_type": "markdown",
   "metadata": {},
   "source": [
    "Let's try the taking the logarithm of our data and running the model again using the same parameter range."
   ]
  },
  {
   "cell_type": "code",
   "execution_count": 20,
   "metadata": {
    "ExecuteTime": {
     "end_time": "2021-01-28T16:00:48.458548Z",
     "start_time": "2021-01-28T16:00:48.456086Z"
    }
   },
   "outputs": [],
   "source": [
    "log_acousticness = np.log(yearly_df.acousticness)"
   ]
  },
  {
   "cell_type": "code",
   "execution_count": 21,
   "metadata": {
    "ExecuteTime": {
     "end_time": "2021-01-28T16:00:48.462233Z",
     "start_time": "2021-01-28T16:00:48.459889Z"
    }
   },
   "outputs": [],
   "source": [
    "# Let's set the p, d and q parameters to take any value between 0 and 2\n",
    "p = d = q = range(0, 3)\n",
    "\n",
    "# Generate all different combinations of p, q and q triplets\n",
    "pdq = list(itertools.product(p, d, q))"
   ]
  },
  {
   "cell_type": "code",
   "execution_count": 22,
   "metadata": {
    "ExecuteTime": {
     "end_time": "2021-01-28T16:00:49.534546Z",
     "start_time": "2021-01-28T16:00:48.465605Z"
    },
    "scrolled": true
   },
   "outputs": [
    {
     "name": "stdout",
     "output_type": "stream",
     "text": [
      "ARIMA (0, 0, 0) : AIC Calculated =339.9627555807098\n",
      "ARIMA (0, 0, 1) : AIC Calculated =217.8338879833271\n",
      "ARIMA (0, 0, 2) : AIC Calculated =120.47555185855174\n",
      "ARIMA (0, 1, 0) : AIC Calculated =-173.8695310047128\n",
      "ARIMA (0, 1, 1) : AIC Calculated =-169.18456732468243\n",
      "ARIMA (0, 1, 2) : AIC Calculated =-172.26634549739535\n",
      "ARIMA (0, 2, 0) : AIC Calculated =-109.72166331702994\n",
      "ARIMA (0, 2, 1) : AIC Calculated =-167.5699052886636\n",
      "ARIMA (0, 2, 2) : AIC Calculated =-163.1042229674745\n",
      "ARIMA (1, 0, 0) : AIC Calculated =-175.74676302260968\n",
      "ARIMA (1, 0, 1) : AIC Calculated =-170.980259189975\n",
      "ARIMA (1, 0, 2) : AIC Calculated =-173.63488676670886\n",
      "ARIMA (1, 1, 0) : AIC Calculated =-172.04586005476418\n",
      "ARIMA (1, 1, 1) : AIC Calculated =-171.0143994944153\n",
      "ARIMA (1, 1, 2) : AIC Calculated =-173.5882325961216\n",
      "ARIMA (1, 2, 0) : AIC Calculated =-160.39250362828128\n",
      "ARIMA (1, 2, 1) : AIC Calculated =-165.9266739331269\n",
      "ARIMA (1, 2, 2) : AIC Calculated =-166.47415522032446\n",
      "ARIMA (2, 0, 0) : AIC Calculated =-171.00833748629012\n",
      "ARIMA (2, 0, 1) : AIC Calculated =-169.20353467375372\n",
      "ARIMA (2, 0, 2) : AIC Calculated =-174.6062434491439\n",
      "ARIMA (2, 1, 0) : AIC Calculated =-178.56463453495442\n",
      "ARIMA (2, 1, 1) : AIC Calculated =-177.37999151395135\n",
      "ARIMA (2, 1, 2) : AIC Calculated =-173.4123703857576\n",
      "ARIMA (2, 2, 0) : AIC Calculated =-158.03839605334178\n",
      "ARIMA (2, 2, 1) : AIC Calculated =-171.08879896948247\n",
      "ARIMA (2, 2, 2) : AIC Calculated =-168.4621166013842\n"
     ]
    }
   ],
   "source": [
    "ans = []\n",
    "for comb in pdq:\n",
    "    try:\n",
    "        mod = sm.tsa.statespace.SARIMAX(log_acousticness,\n",
    "                                        order=comb,\n",
    "                                        enforce_stationarity=False,\n",
    "                                        enforce_invertibility=False)\n",
    "\n",
    "        output = mod.fit()\n",
    "        ans.append([comb, output.aic])\n",
    "        print('ARIMA {} : AIC Calculated ={}'.format(comb, output.aic))\n",
    "    except:\n",
    "        continue"
   ]
  },
  {
   "cell_type": "code",
   "execution_count": 23,
   "metadata": {
    "ExecuteTime": {
     "end_time": "2021-01-28T16:00:49.543278Z",
     "start_time": "2021-01-28T16:00:49.537083Z"
    }
   },
   "outputs": [
    {
     "data": {
      "text/plain": [
       "pdq    (2, 1, 0)\n",
       "aic     -178.565\n",
       "Name: 21, dtype: object"
      ]
     },
     "execution_count": 23,
     "metadata": {},
     "output_type": "execute_result"
    }
   ],
   "source": [
    "ans_df = pd.DataFrame(ans, columns=['pdq', 'aic'])\n",
    "ans_df.loc[ans_df['aic'].idxmin()]"
   ]
  },
  {
   "cell_type": "code",
   "execution_count": 24,
   "metadata": {
    "ExecuteTime": {
     "end_time": "2021-01-28T16:00:49.574603Z",
     "start_time": "2021-01-28T16:00:49.544972Z"
    },
    "scrolled": true
   },
   "outputs": [
    {
     "name": "stdout",
     "output_type": "stream",
     "text": [
      "==============================================================================\n",
      "                 coef    std err          z      P>|z|      [0.025      0.975]\n",
      "------------------------------------------------------------------------------\n",
      "ar.L1          0.0257      0.085      0.302      0.763      -0.141       0.193\n",
      "ar.L2          0.3380      0.075      4.535      0.000       0.192       0.484\n",
      "sigma2         0.0087      0.001      8.838      0.000       0.007       0.011\n",
      "==============================================================================\n"
     ]
    }
   ],
   "source": [
    "#Plug the optimal parameter values into a new SARIMAX model\n",
    "ARIMA_MODEL = sm.tsa.statespace.SARIMAX(log_acousticness, \n",
    "                                        order=(2, 1, 0),  \n",
    "                                        enforce_stationarity=False, \n",
    "                                        enforce_invertibility=False)\n",
    "\n",
    "# Fit the model and print results\n",
    "output = ARIMA_MODEL.fit()\n",
    "\n",
    "print(output.summary().tables[1])"
   ]
  },
  {
   "cell_type": "code",
   "execution_count": 25,
   "metadata": {
    "ExecuteTime": {
     "end_time": "2021-01-28T16:00:50.487406Z",
     "start_time": "2021-01-28T16:00:49.575902Z"
    },
    "scrolled": false
   },
   "outputs": [
    {
     "data": {
      "image/png": "[encoded data removed]",
      "text/plain": [
       "<Figure size 720x720 with 4 Axes>"
      ]
     },
     "metadata": {
      "needs_background": "light"
     },
     "output_type": "display_data"
    }
   ],
   "source": [
    "output.plot_diagnostics(figsize=(10, 10))\n",
    "plt.show()"
   ]
  },
  {
   "cell_type": "code",
   "execution_count": 26,
   "metadata": {
    "ExecuteTime": {
     "end_time": "2021-01-28T16:00:50.498320Z",
     "start_time": "2021-01-28T16:00:50.489395Z"
    }
   },
   "outputs": [
    {
     "name": "stdout",
     "output_type": "stream",
     "text": [
      "The Root Mean Squared Error of our forecasts is 0.01581\n"
     ]
    }
   ],
   "source": [
    "pred = output.get_prediction(start=pd.to_datetime('2010-01-01'), dynamic=False)\n",
    "pred_conf = pred.conf_int()\n",
    "\n",
    "# Get the real and predicted values\n",
    "acousticness_forecasted = np.exp(pred.predicted_mean )            #series\n",
    "acousticness_truth = yearly_df.acousticness['2010-01-01':].T.squeeze()  #slicing the list and squeezing to a series also\n",
    "\n",
    "# Compute the root mean square error\n",
    "rmse = np.sqrt(((acousticness_forecasted - acousticness_truth) ** 2).mean())\n",
    "print('The Root Mean Squared Error of our forecasts is {}'.format(round(rmse, 5)))"
   ]
  },
  {
   "cell_type": "markdown",
   "metadata": {},
   "source": [
    "RMSE is a bit lower here, despite our Q-Q residuals being a bit more off."
   ]
  },
  {
   "cell_type": "markdown",
   "metadata": {},
   "source": [
    "## differenced data"
   ]
  },
  {
   "cell_type": "code",
   "execution_count": 27,
   "metadata": {
    "ExecuteTime": {
     "end_time": "2021-01-28T16:00:51.704905Z",
     "start_time": "2021-01-28T16:00:50.499965Z"
    },
    "scrolled": true
   },
   "outputs": [
    {
     "name": "stdout",
     "output_type": "stream",
     "text": [
      "ARIMA (0, 0, 0) : AIC Calculated =-427.0596603919106\n",
      "ARIMA (0, 0, 1) : AIC Calculated =-423.84205111233234\n",
      "ARIMA (0, 0, 2) : AIC Calculated =-421.86196228406675\n",
      "ARIMA (0, 1, 0) : AIC Calculated =-383.9978379785258\n",
      "ARIMA (0, 1, 1) : AIC Calculated =-430.7701239860368\n",
      "ARIMA (0, 1, 2) : AIC Calculated =-423.3756353613856\n",
      "ARIMA (0, 2, 0) : AIC Calculated =-270.79613470859897\n",
      "ARIMA (0, 2, 1) : AIC Calculated =-368.6177726399038\n",
      "ARIMA (0, 2, 2) : AIC Calculated =-411.7954220549195\n",
      "ARIMA (1, 0, 0) : AIC Calculated =-431.8067444116465\n",
      "ARIMA (1, 0, 1) : AIC Calculated =-435.7597977248665\n",
      "ARIMA (1, 0, 2) : AIC Calculated =-428.46728524829285\n",
      "ARIMA (1, 1, 0) : AIC Calculated =-417.55815633807293\n",
      "ARIMA (1, 1, 1) : AIC Calculated =-428.9393685434568\n",
      "ARIMA (1, 1, 2) : AIC Calculated =-422.74677678622845\n",
      "ARIMA (1, 2, 0) : AIC Calculated =-337.9075310080594\n",
      "ARIMA (1, 2, 1) : AIC Calculated =-401.0331218486727\n",
      "ARIMA (1, 2, 2) : AIC Calculated =-410.1767632940044\n",
      "ARIMA (2, 0, 0) : AIC Calculated =-433.1670580963847\n",
      "ARIMA (2, 0, 1) : AIC Calculated =-434.253125451571\n",
      "ARIMA (2, 0, 2) : AIC Calculated =-428.2132833058039\n",
      "ARIMA (2, 1, 0) : AIC Calculated =-417.4210809293848\n",
      "ARIMA (2, 1, 1) : AIC Calculated =-427.29005144784924\n",
      "ARIMA (2, 1, 2) : AIC Calculated =-421.38176144251304\n",
      "ARIMA (2, 2, 0) : AIC Calculated =-352.7394657456722\n",
      "ARIMA (2, 2, 1) : AIC Calculated =-405.4612140991472\n",
      "ARIMA (2, 2, 2) : AIC Calculated =-407.6443495854652\n"
     ]
    }
   ],
   "source": [
    "ans = []\n",
    "for comb in pdq:\n",
    "    try:\n",
    "        mod = sm.tsa.statespace.SARIMAX(data_diff,\n",
    "                                        order=comb,\n",
    "                                        enforce_stationarity=False,\n",
    "                                        enforce_invertibility=False)\n",
    "\n",
    "        output = mod.fit()\n",
    "        ans.append([comb, output.aic])\n",
    "        print('ARIMA {} : AIC Calculated ={}'.format(comb, output.aic))\n",
    "    except:\n",
    "        continue"
   ]
  },
  {
   "cell_type": "code",
   "execution_count": 28,
   "metadata": {
    "ExecuteTime": {
     "end_time": "2021-01-28T16:00:51.711888Z",
     "start_time": "2021-01-28T16:00:51.706145Z"
    }
   },
   "outputs": [
    {
     "data": {
      "text/plain": [
       "pdq    (1, 0, 1)\n",
       "aic      -435.76\n",
       "Name: 10, dtype: object"
      ]
     },
     "execution_count": 28,
     "metadata": {},
     "output_type": "execute_result"
    }
   ],
   "source": [
    "ans_df = pd.DataFrame(ans, columns=['pdq', 'aic'])\n",
    "ans_df.loc[ans_df['aic'].idxmin()]"
   ]
  },
  {
   "cell_type": "code",
   "execution_count": 29,
   "metadata": {
    "ExecuteTime": {
     "end_time": "2021-01-28T16:00:51.760584Z",
     "start_time": "2021-01-28T16:00:51.713581Z"
    }
   },
   "outputs": [
    {
     "name": "stdout",
     "output_type": "stream",
     "text": [
      "==============================================================================\n",
      "                 coef    std err          z      P>|z|      [0.025      0.975]\n",
      "------------------------------------------------------------------------------\n",
      "ar.L1          0.9469      0.038     24.728      0.000       0.872       1.022\n",
      "ma.L1         -0.7971      0.083     -9.655      0.000      -0.959      -0.635\n",
      "sigma2         0.0006   5.88e-05     10.364      0.000       0.000       0.001\n",
      "==============================================================================\n"
     ]
    }
   ],
   "source": [
    "#Plug the optimal parameter values into a new SARIMAX model\n",
    "ARIMA_MODEL = sm.tsa.statespace.SARIMAX(data_diff, \n",
    "                                        order=(1, 0, 1),  \n",
    "                                        enforce_stationarity=False, \n",
    "                                        enforce_invertibility=False)\n",
    "\n",
    "# Fit the model and print results\n",
    "output = ARIMA_MODEL.fit()\n",
    "\n",
    "print(output.summary().tables[1])"
   ]
  },
  {
   "cell_type": "code",
   "execution_count": 30,
   "metadata": {
    "ExecuteTime": {
     "end_time": "2021-01-28T16:00:52.587385Z",
     "start_time": "2021-01-28T16:00:51.762601Z"
    }
   },
   "outputs": [
    {
     "data": {
      "image/png": "[encoded data removed]",
      "text/plain": [
       "<Figure size 720x720 with 4 Axes>"
      ]
     },
     "metadata": {
      "needs_background": "light"
     },
     "output_type": "display_data"
    }
   ],
   "source": [
    "output.plot_diagnostics(figsize=(10, 10))\n",
    "plt.show()"
   ]
  },
  {
   "cell_type": "code",
   "execution_count": 31,
   "metadata": {
    "ExecuteTime": {
     "end_time": "2021-01-28T16:00:52.597591Z",
     "start_time": "2021-01-28T16:00:52.589105Z"
    }
   },
   "outputs": [
    {
     "name": "stdout",
     "output_type": "stream",
     "text": [
      "The Root Mean Squared Error of our forecasts is 0.01722\n"
     ]
    }
   ],
   "source": [
    "pred = output.get_prediction(start=pd.to_datetime('2010-01-01'), dynamic=False)\n",
    "pred_conf = pred.conf_int()\n",
    "\n",
    "# Get the real and predicted values\n",
    "acousticness_forecasted = pred.predicted_mean            #series\n",
    "acousticness_truth = data_diff['2010-01-01':]  #slicing the list and squeezing to a series also\n",
    "\n",
    "# Compute the root mean square error\n",
    "rmse = np.sqrt(((acousticness_forecasted - acousticness_truth) ** 2).mean())\n",
    "print('The Root Mean Squared Error of our forecasts is {}'.format(round(rmse, 5)))"
   ]
  },
  {
   "cell_type": "markdown",
   "metadata": {},
   "source": [
    "Differenced data seems to be doing well.\n",
    "*Note it is not required to input differenced data into the ARIMA model, because it does the differencing for you.*"
   ]
  },
  {
   "cell_type": "markdown",
   "metadata": {},
   "source": [
    "# LSTM Modeling"
   ]
  },
  {
   "cell_type": "markdown",
   "metadata": {},
   "source": [
    "*split_sequence function and guidance obtained from https://machinelearningmastery.com/how-to-develop-lstm-models-for-time-series-forecasting/ and others."
   ]
  },
  {
   "cell_type": "code",
   "execution_count": 32,
   "metadata": {
    "ExecuteTime": {
     "end_time": "2021-01-28T16:00:52.602415Z",
     "start_time": "2021-01-28T16:00:52.599429Z"
    }
   },
   "outputs": [],
   "source": [
    "# Splitting our data into a training set and testing set\n",
    "\n",
    "train=yearly_df.acousticness[:90] # 90/100 = 90% split \n",
    "test=yearly_df.acousticness[90:]"
   ]
  },
  {
   "cell_type": "markdown",
   "metadata": {},
   "source": [
    "*Note:* We tried the train/test split at 80% and received worse results"
   ]
  },
  {
   "cell_type": "markdown",
   "metadata": {},
   "source": [
    "### Prepping the time sequence for modeling\n",
    "Here we will define a function that splits our data into a sequence of specified steps. This is because the (Long Short Term Memory) model will use a certain number of steps in the past for each future prediction."
   ]
  },
  {
   "cell_type": "code",
   "execution_count": 43,
   "metadata": {
    "ExecuteTime": {
     "end_time": "2021-01-28T16:01:37.315467Z",
     "start_time": "2021-01-28T16:01:37.310185Z"
    }
   },
   "outputs": [],
   "source": [
    "def split_sequence(sequence, n_steps):\n",
    "    X, y = [], []\n",
    "    for i in range(len(sequence)):\n",
    "        # find the end of this pattern\n",
    "        end_ix = i + n_steps\n",
    "        # check if we are beyond the sequence\n",
    "        if end_ix > len(sequence)-1:\n",
    "            break\n",
    "        # gather input and output parts of the pattern\n",
    "        seq_x, seq_y = sequence[i:end_ix], sequence[end_ix]\n",
    "        X.append(seq_x)\n",
    "        y.append(seq_y)\n",
    "    return np.array(X), np.array(y)"
   ]
  },
  {
   "cell_type": "markdown",
   "metadata": {},
   "source": [
    "Now we will split our acousticness sequence, with each output step having 3 input steps."
   ]
  },
  {
   "cell_type": "code",
   "execution_count": 44,
   "metadata": {
    "ExecuteTime": {
     "end_time": "2021-01-28T16:01:38.294781Z",
     "start_time": "2021-01-28T16:01:38.229590Z"
    },
    "scrolled": true
   },
   "outputs": [
    {
     "name": "stdout",
     "output_type": "stream",
     "text": [
      "[[ 0.004]\n",
      " [-0.002]\n",
      " [ 0.002]] -0.0050000000000000044\n",
      "[[-0.002]\n",
      " [ 0.002]\n",
      " [-0.005]] 0.0030000000000000027\n",
      "[[ 0.002]\n",
      " [-0.005]\n",
      " [ 0.003]] 0.0\n",
      "[[-0.005]\n",
      " [ 0.003]\n",
      " [ 0.   ]] 0.0\n",
      "[[0.003]\n",
      " [0.   ]\n",
      " [0.   ]] -0.0010000000000000009\n",
      "[[ 0.   ]\n",
      " [ 0.   ]\n",
      " [-0.001]] -0.0030000000000000027\n",
      "[[ 0.   ]\n",
      " [-0.001]\n",
      " [-0.003]] -0.0030000000000000027\n",
      "[[-0.001]\n",
      " [-0.003]\n",
      " [-0.003]] -0.01200000000000001\n",
      "[[-0.003]\n",
      " [-0.003]\n",
      " [-0.012]] -0.0030000000000000027\n",
      "[[-0.003]\n",
      " [-0.012]\n",
      " [-0.003]] 0.0040000000000000036\n",
      "[[-0.012]\n",
      " [-0.003]\n",
      " [ 0.004]] -0.009000000000000008\n",
      "[[-0.003]\n",
      " [ 0.004]\n",
      " [-0.009]] -0.0040000000000000036\n",
      "[[ 0.004]\n",
      " [-0.009]\n",
      " [-0.004]] -0.009000000000000008\n",
      "[[-0.009]\n",
      " [-0.004]\n",
      " [-0.009]] 0.02300000000000002\n",
      "[[-0.004]\n",
      " [-0.009]\n",
      " [ 0.023]] -0.009000000000000008\n",
      "[[-0.009]\n",
      " [ 0.023]\n",
      " [-0.009]] 0.016000000000000014\n",
      "[[ 0.023]\n",
      " [-0.009]\n",
      " [ 0.016]] -0.0010000000000000009\n",
      "[[-0.009]\n",
      " [ 0.016]\n",
      " [-0.001]] -0.0050000000000000044\n",
      "[[ 0.016]\n",
      " [-0.001]\n",
      " [-0.005]] -0.0010000000000000009\n",
      "[[-0.001]\n",
      " [-0.005]\n",
      " [-0.001]] 0.009000000000000008\n",
      "[[-0.005]\n",
      " [-0.001]\n",
      " [ 0.009]] -0.01100000000000001\n",
      "[[-0.001]\n",
      " [ 0.009]\n",
      " [-0.011]] 0.010500000000000065\n",
      "[[ 0.009 ]\n",
      " [-0.011 ]\n",
      " [ 0.0105]] -0.012500000000000067\n",
      "[[-0.011 ]\n",
      " [ 0.0105]\n",
      " [-0.0125]] -0.0020000000000000018\n",
      "[[ 0.0105]\n",
      " [-0.0125]\n",
      " [-0.002 ]] -0.008000000000000007\n",
      "[[-0.0125]\n",
      " [-0.002 ]\n",
      " [-0.008 ]] -0.0010000000000000009\n",
      "[[-0.002]\n",
      " [-0.008]\n",
      " [-0.001]] 0.008000000000000007\n",
      "[[-0.008]\n",
      " [-0.001]\n",
      " [ 0.008]] -0.006000000000000005\n",
      "[[-0.001]\n",
      " [ 0.008]\n",
      " [-0.006]] -0.0040000000000000036\n",
      "[[ 0.008]\n",
      " [-0.006]\n",
      " [-0.004]] -0.029999999999999916\n",
      "[[-0.006]\n",
      " [-0.004]\n",
      " [-0.03 ]] -0.020000000000000018\n",
      "[[-0.004]\n",
      " [-0.03 ]\n",
      " [-0.02 ]] -0.034499999999999975\n",
      "[[-0.03  ]\n",
      " [-0.02  ]\n",
      " [-0.0345]] -0.02750000000000008\n",
      "[[-0.02  ]\n",
      " [-0.0345]\n",
      " [-0.0275]] -0.015000000000000013\n",
      "[[-0.0345]\n",
      " [-0.0275]\n",
      " [-0.015 ]] 0.0040000000000000036\n",
      "[[-0.0275]\n",
      " [-0.015 ]\n",
      " [ 0.004 ]] -0.03400000000000003\n",
      "[[-0.015]\n",
      " [ 0.004]\n",
      " [-0.034]] -0.008999999999999897\n",
      "[[ 0.004]\n",
      " [-0.034]\n",
      " [-0.009]] -0.019000000000000017\n",
      "[[-0.034]\n",
      " [-0.009]\n",
      " [-0.019]] 0.013499999999999956\n",
      "[[-0.009 ]\n",
      " [-0.019 ]\n",
      " [ 0.0135]] -0.026999999999999913\n",
      "[[-0.019 ]\n",
      " [ 0.0135]\n",
      " [-0.027 ]] -0.07550000000000001\n",
      "[[ 0.0135]\n",
      " [-0.027 ]\n",
      " [-0.0755]] -0.1200000000000001\n",
      "[[-0.027 ]\n",
      " [-0.0755]\n",
      " [-0.12  ]] -0.007999999999999896\n",
      "[[-0.0755]\n",
      " [-0.12  ]\n",
      " [-0.008 ]] -0.040000000000000036\n",
      "[[-0.12 ]\n",
      " [-0.008]\n",
      " [-0.04 ]] -0.0695\n",
      "[[-0.008 ]\n",
      " [-0.04  ]\n",
      " [-0.0695]] -0.003500000000000003\n",
      "[[-0.04  ]\n",
      " [-0.0695]\n",
      " [-0.0035]] -0.006499999999999895\n",
      "[[-0.0695]\n",
      " [-0.0035]\n",
      " [-0.0065]] 0.025999999999999912\n",
      "[[-0.0035]\n",
      " [-0.0065]\n",
      " [ 0.026 ]] -0.07450000000000001\n",
      "[[-0.0065]\n",
      " [ 0.026 ]\n",
      " [-0.0745]] 0.04999999999999999\n",
      "[[ 0.026 ]\n",
      " [-0.0745]\n",
      " [ 0.05  ]] -0.043999999999999984\n",
      "[[-0.0745]\n",
      " [ 0.05  ]\n",
      " [-0.044 ]] -0.08650000000000002\n",
      "[[ 0.05  ]\n",
      " [-0.044 ]\n",
      " [-0.0865]] -0.058499999999999996\n",
      "[[-0.044 ]\n",
      " [-0.0865]\n",
      " [-0.0585]] -0.01849999999999999\n",
      "[[-0.0865]\n",
      " [-0.0585]\n",
      " [-0.0185]] -0.0685\n",
      "[[-0.0585]\n",
      " [-0.0185]\n",
      " [-0.0685]] 0.011999999999999983\n",
      "[[-0.0185]\n",
      " [-0.0685]\n",
      " [ 0.012 ]] -0.003999999999999976\n",
      "[[-0.0685]\n",
      " [ 0.012 ]\n",
      " [-0.004 ]] -0.018500000000000016\n",
      "[[ 0.012 ]\n",
      " [-0.004 ]\n",
      " [-0.0185]] -0.024999999999999994\n",
      "[[-0.004 ]\n",
      " [-0.0185]\n",
      " [-0.025 ]] 0.0005000000000000004\n",
      "[[-0.0185]\n",
      " [-0.025 ]\n",
      " [ 0.0005]] 0.031\n",
      "[[-0.025 ]\n",
      " [ 0.0005]\n",
      " [ 0.031 ]] -0.015499999999999986\n",
      "[[ 0.0005]\n",
      " [ 0.031 ]\n",
      " [-0.0155]] 0.02049999999999999\n",
      "[[ 0.031 ]\n",
      " [-0.0155]\n",
      " [ 0.0205]] -0.009000000000000008\n",
      "[[-0.0155]\n",
      " [ 0.0205]\n",
      " [-0.009 ]] 0.017999999999999988\n",
      "[[ 0.0205]\n",
      " [-0.009 ]\n",
      " [ 0.018 ]] 0.006000000000000033\n",
      "[[-0.009]\n",
      " [ 0.018]\n",
      " [ 0.006]] 0.014999999999999986\n"
     ]
    },
    {
     "ename": "IndexError",
     "evalue": "index 67 is out of bounds for axis 0 with size 67",
     "output_type": "error",
     "traceback": [
      "\u001b[0;31m---------------------------------------------------------------------------\u001b[0m",
      "\u001b[0;31mIndexError\u001b[0m                                Traceback (most recent call last)",
      "\u001b[0;32m<ipython-input-44-38bed5941434>\u001b[0m in \u001b[0;36m<module>\u001b[0;34m\u001b[0m\n\u001b[1;32m     22\u001b[0m \u001b[0;31m# print the data sequence with steps:\u001b[0m\u001b[0;34m\u001b[0m\u001b[0;34m\u001b[0m\u001b[0;34m\u001b[0m\u001b[0m\n\u001b[1;32m     23\u001b[0m \u001b[0;32mfor\u001b[0m \u001b[0mi\u001b[0m \u001b[0;32min\u001b[0m \u001b[0mrange\u001b[0m\u001b[0;34m(\u001b[0m\u001b[0mlen\u001b[0m\u001b[0;34m(\u001b[0m\u001b[0mX\u001b[0m\u001b[0;34m)\u001b[0m\u001b[0;34m)\u001b[0m\u001b[0;34m:\u001b[0m\u001b[0;34m\u001b[0m\u001b[0;34m\u001b[0m\u001b[0m\n\u001b[0;32m---> 24\u001b[0;31m         \u001b[0mprint\u001b[0m\u001b[0;34m(\u001b[0m\u001b[0mX_train\u001b[0m\u001b[0;34m[\u001b[0m\u001b[0mi\u001b[0m\u001b[0;34m]\u001b[0m\u001b[0;34m,\u001b[0m \u001b[0my_train\u001b[0m\u001b[0;34m[\u001b[0m\u001b[0mi\u001b[0m\u001b[0;34m]\u001b[0m\u001b[0;34m)\u001b[0m\u001b[0;34m\u001b[0m\u001b[0;34m\u001b[0m\u001b[0m\n\u001b[0m",
      "\u001b[0;31mIndexError\u001b[0m: index 67 is out of bounds for axis 0 with size 67"
     ]
    }
   ],
   "source": [
    "# define input sequence\n",
    "train_seq = list(train)\n",
    "test_seq = list(test)\n",
    "raw_seq = yearly_df.acousticness\n",
    "\n",
    "# choose a number of time steps\n",
    "n_steps = 3      #5 steps and 2 steps received worse results\n",
    "\n",
    "# split into samples\n",
    "X, y = split_sequence(raw_seq, n_steps)\n",
    "X_train, y_train = split_sequence(train_seq, n_steps)\n",
    "X_test, y_test = split_sequence(test_seq, n_steps) \n",
    "\n",
    "n_features = 1\n",
    "\n",
    "# #reshape from [samples, timesteps] into [samples, timesteps, features]\n",
    "X = X.reshape((X.shape[0], X.shape[1], n_features))\n",
    "X_train = X_train.reshape((X_train.shape[0], X_train.shape[1], n_features))\n",
    "X_test = X_test.reshape((X_test.shape[0], X_test.shape[1], n_features))\n",
    "\n",
    "\n",
    "# print the data sequence with steps:\n",
    "for i in range(len(X)):\n",
    "\tprint(X_train[i], y_train[i])"
   ]
  },
  {
   "cell_type": "markdown",
   "metadata": {
    "ExecuteTime": {
     "end_time": "2020-10-15T18:37:30.366810Z",
     "start_time": "2020-10-15T18:37:30.364453Z"
    }
   },
   "source": [
    "## Baseline (Vanilla) LSTM "
   ]
  },
  {
   "cell_type": "markdown",
   "metadata": {},
   "source": [
    "As our dataset is already normalized, we don't have to worry about that. \n",
    "\n",
    "We will just instantiate an LSTM model and add 1 hidden dense layer, and then compile our layers using Mean Squared Error as the loss function to optimize."
   ]
  },
  {
   "cell_type": "code",
   "execution_count": 45,
   "metadata": {
    "ExecuteTime": {
     "end_time": "2021-01-28T16:01:39.643215Z",
     "start_time": "2021-01-28T16:01:39.412967Z"
    }
   },
   "outputs": [],
   "source": [
    "model = Sequential()\n",
    "model.add(LSTM(50, activation='relu', input_shape=(n_steps, n_features)))\n",
    "model.add(Dense(1))\n",
    "model.compile(optimizer='adam', loss='mse')"
   ]
  },
  {
   "cell_type": "markdown",
   "metadata": {},
   "source": [
    "Now we will fit the model on our training data and use a validation split of 20/80 on this same training data as well to see how the MSE converges over epochs."
   ]
  },
  {
   "cell_type": "code",
   "execution_count": 46,
   "metadata": {
    "ExecuteTime": {
     "end_time": "2021-01-28T16:01:42.160631Z",
     "start_time": "2021-01-28T16:01:40.172077Z"
    }
   },
   "outputs": [
    {
     "name": "stdout",
     "output_type": "stream",
     "text": [
      "Train on 60 samples, validate on 7 samples\n",
      "Epoch 1/100\n",
      "60/60 [==============================] - 0s 8ms/step - loss: 9.7723e-04 - val_loss: 4.8875e-04\n",
      "Epoch 2/100\n",
      "60/60 [==============================] - 0s 182us/step - loss: 8.8451e-04 - val_loss: 7.1489e-04\n",
      "Epoch 3/100\n",
      "60/60 [==============================] - 0s 142us/step - loss: 8.3892e-04 - val_loss: 9.2155e-04\n",
      "Epoch 4/100\n",
      "60/60 [==============================] - 0s 143us/step - loss: 8.3387e-04 - val_loss: 0.0010\n",
      "Epoch 5/100\n",
      "60/60 [==============================] - 0s 135us/step - loss: 8.3483e-04 - val_loss: 9.9964e-04\n",
      "Epoch 6/100\n",
      "60/60 [==============================] - 0s 143us/step - loss: 8.2732e-04 - val_loss: 9.2777e-04\n",
      "Epoch 7/100\n",
      "60/60 [==============================] - 0s 177us/step - loss: 8.1224e-04 - val_loss: 8.5124e-04\n",
      "Epoch 8/100\n",
      "60/60 [==============================] - 0s 153us/step - loss: 8.0347e-04 - val_loss: 7.7687e-04\n",
      "Epoch 9/100\n",
      "60/60 [==============================] - 0s 154us/step - loss: 8.0445e-04 - val_loss: 7.1267e-04\n",
      "Epoch 10/100\n",
      "60/60 [==============================] - 0s 158us/step - loss: 7.9935e-04 - val_loss: 6.9199e-04\n",
      "Epoch 11/100\n",
      "60/60 [==============================] - 0s 170us/step - loss: 8.0057e-04 - val_loss: 6.7857e-04\n",
      "Epoch 12/100\n",
      "60/60 [==============================] - 0s 152us/step - loss: 8.0134e-04 - val_loss: 6.9271e-04\n",
      "Epoch 13/100\n",
      "60/60 [==============================] - 0s 164us/step - loss: 7.9804e-04 - val_loss: 7.0008e-04\n",
      "Epoch 14/100\n",
      "60/60 [==============================] - 0s 175us/step - loss: 7.9812e-04 - val_loss: 7.2235e-04\n",
      "Epoch 15/100\n",
      "60/60 [==============================] - 0s 169us/step - loss: 7.9730e-04 - val_loss: 7.4268e-04\n",
      "Epoch 16/100\n",
      "60/60 [==============================] - 0s 156us/step - loss: 7.9600e-04 - val_loss: 7.5605e-04\n",
      "Epoch 17/100\n",
      "60/60 [==============================] - 0s 152us/step - loss: 7.9134e-04 - val_loss: 7.5265e-04\n",
      "Epoch 18/100\n",
      "60/60 [==============================] - 0s 228us/step - loss: 7.9021e-04 - val_loss: 7.5003e-04\n",
      "Epoch 19/100\n",
      "60/60 [==============================] - 0s 157us/step - loss: 7.8834e-04 - val_loss: 7.3691e-04\n",
      "Epoch 20/100\n",
      "60/60 [==============================] - 0s 165us/step - loss: 7.8758e-04 - val_loss: 7.2550e-04\n",
      "Epoch 21/100\n",
      "60/60 [==============================] - 0s 169us/step - loss: 7.8499e-04 - val_loss: 7.2826e-04\n",
      "Epoch 22/100\n",
      "60/60 [==============================] - 0s 168us/step - loss: 7.8275e-04 - val_loss: 7.4370e-04\n",
      "Epoch 23/100\n",
      "60/60 [==============================] - 0s 198us/step - loss: 7.8019e-04 - val_loss: 7.5918e-04\n",
      "Epoch 24/100\n",
      "60/60 [==============================] - 0s 150us/step - loss: 7.7802e-04 - val_loss: 7.7029e-04\n",
      "Epoch 25/100\n",
      "60/60 [==============================] - 0s 174us/step - loss: 7.7644e-04 - val_loss: 7.7754e-04\n",
      "Epoch 26/100\n",
      "60/60 [==============================] - 0s 149us/step - loss: 7.7550e-04 - val_loss: 7.7400e-04\n",
      "Epoch 27/100\n",
      "60/60 [==============================] - 0s 148us/step - loss: 7.7329e-04 - val_loss: 7.7974e-04\n",
      "Epoch 28/100\n",
      "60/60 [==============================] - 0s 166us/step - loss: 7.7218e-04 - val_loss: 7.7511e-04\n",
      "Epoch 29/100\n",
      "60/60 [==============================] - 0s 172us/step - loss: 7.7264e-04 - val_loss: 7.6744e-04\n",
      "Epoch 30/100\n",
      "60/60 [==============================] - 0s 141us/step - loss: 7.6943e-04 - val_loss: 7.7683e-04\n",
      "Epoch 31/100\n",
      "60/60 [==============================] - 0s 148us/step - loss: 7.6779e-04 - val_loss: 7.7910e-04\n",
      "Epoch 32/100\n",
      "60/60 [==============================] - 0s 149us/step - loss: 7.6755e-04 - val_loss: 7.9099e-04\n",
      "Epoch 33/100\n",
      "60/60 [==============================] - 0s 165us/step - loss: 7.6502e-04 - val_loss: 7.8193e-04\n",
      "Epoch 34/100\n",
      "60/60 [==============================] - 0s 166us/step - loss: 7.6340e-04 - val_loss: 7.7570e-04\n",
      "Epoch 35/100\n",
      "60/60 [==============================] - 0s 152us/step - loss: 7.6242e-04 - val_loss: 7.6321e-04\n",
      "Epoch 36/100\n",
      "60/60 [==============================] - 0s 142us/step - loss: 7.6065e-04 - val_loss: 7.5795e-04\n",
      "Epoch 37/100\n",
      "60/60 [==============================] - 0s 162us/step - loss: 7.6175e-04 - val_loss: 7.4717e-04\n",
      "Epoch 38/100\n",
      "60/60 [==============================] - 0s 160us/step - loss: 7.5743e-04 - val_loss: 7.6157e-04\n",
      "Epoch 39/100\n",
      "60/60 [==============================] - 0s 166us/step - loss: 7.5710e-04 - val_loss: 7.8193e-04\n",
      "Epoch 40/100\n",
      "60/60 [==============================] - 0s 165us/step - loss: 7.5553e-04 - val_loss: 7.7068e-04\n",
      "Epoch 41/100\n",
      "60/60 [==============================] - 0s 157us/step - loss: 7.5380e-04 - val_loss: 7.6003e-04\n",
      "Epoch 42/100\n",
      "60/60 [==============================] - 0s 178us/step - loss: 7.5170e-04 - val_loss: 7.6414e-04\n",
      "Epoch 43/100\n",
      "60/60 [==============================] - 0s 142us/step - loss: 7.5095e-04 - val_loss: 7.6556e-04\n",
      "Epoch 44/100\n",
      "60/60 [==============================] - 0s 158us/step - loss: 7.4975e-04 - val_loss: 7.4118e-04\n",
      "Epoch 45/100\n",
      "60/60 [==============================] - 0s 143us/step - loss: 7.4756e-04 - val_loss: 7.3393e-04\n",
      "Epoch 46/100\n",
      "60/60 [==============================] - 0s 166us/step - loss: 7.4542e-04 - val_loss: 7.4199e-04\n",
      "Epoch 47/100\n",
      "60/60 [==============================] - 0s 152us/step - loss: 7.4695e-04 - val_loss: 7.6746e-04\n",
      "Epoch 48/100\n",
      "60/60 [==============================] - 0s 157us/step - loss: 7.4288e-04 - val_loss: 7.5233e-04\n",
      "Epoch 49/100\n",
      "60/60 [==============================] - 0s 151us/step - loss: 7.4060e-04 - val_loss: 7.5449e-04\n",
      "Epoch 50/100\n",
      "60/60 [==============================] - 0s 146us/step - loss: 7.3951e-04 - val_loss: 7.3580e-04\n",
      "Epoch 51/100\n",
      "60/60 [==============================] - 0s 158us/step - loss: 7.3953e-04 - val_loss: 7.4613e-04\n",
      "Epoch 52/100\n",
      "60/60 [==============================] - 0s 154us/step - loss: 7.3584e-04 - val_loss: 7.4083e-04\n",
      "Epoch 53/100\n",
      "60/60 [==============================] - 0s 147us/step - loss: 7.3529e-04 - val_loss: 7.1976e-04\n",
      "Epoch 54/100\n",
      "60/60 [==============================] - 0s 142us/step - loss: 7.4008e-04 - val_loss: 7.0291e-04\n",
      "Epoch 55/100\n",
      "60/60 [==============================] - 0s 144us/step - loss: 7.3114e-04 - val_loss: 7.3407e-04\n",
      "Epoch 56/100\n",
      "60/60 [==============================] - 0s 150us/step - loss: 7.2924e-04 - val_loss: 7.6119e-04\n",
      "Epoch 57/100\n",
      "60/60 [==============================] - 0s 142us/step - loss: 7.2832e-04 - val_loss: 7.6305e-04\n",
      "Epoch 58/100\n",
      "60/60 [==============================] - 0s 150us/step - loss: 7.2660e-04 - val_loss: 7.5800e-04\n",
      "Epoch 59/100\n",
      "60/60 [==============================] - 0s 149us/step - loss: 7.2484e-04 - val_loss: 7.3914e-04\n",
      "Epoch 60/100\n",
      "60/60 [==============================] - 0s 161us/step - loss: 7.2288e-04 - val_loss: 7.2798e-04\n",
      "Epoch 61/100\n",
      "60/60 [==============================] - 0s 148us/step - loss: 7.2151e-04 - val_loss: 7.1822e-04\n",
      "Epoch 62/100\n",
      "60/60 [==============================] - 0s 153us/step - loss: 7.2031e-04 - val_loss: 7.2464e-04\n",
      "Epoch 63/100\n",
      "60/60 [==============================] - 0s 156us/step - loss: 7.1858e-04 - val_loss: 7.3276e-04\n",
      "Epoch 64/100\n",
      "60/60 [==============================] - 0s 148us/step - loss: 7.2014e-04 - val_loss: 7.1324e-04\n",
      "Epoch 65/100\n",
      "60/60 [==============================] - 0s 155us/step - loss: 7.1556e-04 - val_loss: 7.1720e-04\n",
      "Epoch 66/100\n",
      "60/60 [==============================] - 0s 141us/step - loss: 7.1608e-04 - val_loss: 7.4513e-04\n",
      "Epoch 67/100\n",
      "60/60 [==============================] - 0s 131us/step - loss: 7.1327e-04 - val_loss: 7.2705e-04\n",
      "Epoch 68/100\n",
      "60/60 [==============================] - 0s 139us/step - loss: 7.1564e-04 - val_loss: 7.4231e-04\n",
      "Epoch 69/100\n",
      "60/60 [==============================] - 0s 137us/step - loss: 7.1060e-04 - val_loss: 7.3027e-04\n",
      "Epoch 70/100\n",
      "60/60 [==============================] - 0s 149us/step - loss: 7.0807e-04 - val_loss: 6.9393e-04\n",
      "Epoch 71/100\n",
      "60/60 [==============================] - 0s 209us/step - loss: 7.0819e-04 - val_loss: 6.9826e-04\n",
      "Epoch 72/100\n",
      "60/60 [==============================] - 0s 227us/step - loss: 7.0536e-04 - val_loss: 6.9564e-04\n",
      "Epoch 73/100\n",
      "60/60 [==============================] - 0s 138us/step - loss: 7.0376e-04 - val_loss: 7.0986e-04\n",
      "Epoch 74/100\n",
      "60/60 [==============================] - 0s 138us/step - loss: 7.0313e-04 - val_loss: 7.2617e-04\n",
      "Epoch 75/100\n",
      "60/60 [==============================] - 0s 150us/step - loss: 7.0020e-04 - val_loss: 7.1768e-04\n",
      "Epoch 76/100\n",
      "60/60 [==============================] - 0s 140us/step - loss: 7.0488e-04 - val_loss: 7.3006e-04\n",
      "Epoch 77/100\n",
      "60/60 [==============================] - 0s 134us/step - loss: 6.9769e-04 - val_loss: 7.0937e-04\n",
      "Epoch 78/100\n",
      "60/60 [==============================] - 0s 145us/step - loss: 6.9532e-04 - val_loss: 6.7813e-04\n",
      "Epoch 79/100\n",
      "60/60 [==============================] - 0s 167us/step - loss: 6.9552e-04 - val_loss: 6.6399e-04\n",
      "Epoch 80/100\n",
      "60/60 [==============================] - 0s 212us/step - loss: 6.9717e-04 - val_loss: 6.9301e-04\n",
      "Epoch 81/100\n",
      "60/60 [==============================] - 0s 172us/step - loss: 6.9138e-04 - val_loss: 7.0278e-04\n",
      "Epoch 82/100\n",
      "60/60 [==============================] - 0s 161us/step - loss: 6.8978e-04 - val_loss: 7.1142e-04\n",
      "Epoch 83/100\n",
      "60/60 [==============================] - 0s 169us/step - loss: 6.9015e-04 - val_loss: 7.0864e-04\n",
      "Epoch 84/100\n",
      "60/60 [==============================] - 0s 182us/step - loss: 6.8707e-04 - val_loss: 7.2447e-04\n",
      "Epoch 85/100\n",
      "60/60 [==============================] - 0s 183us/step - loss: 6.8558e-04 - val_loss: 7.3041e-04\n",
      "Epoch 86/100\n",
      "60/60 [==============================] - 0s 146us/step - loss: 6.8688e-04 - val_loss: 7.4441e-04\n",
      "Epoch 87/100\n",
      "60/60 [==============================] - 0s 163us/step - loss: 6.8516e-04 - val_loss: 7.0708e-04\n",
      "Epoch 88/100\n",
      "60/60 [==============================] - 0s 163us/step - loss: 6.8242e-04 - val_loss: 7.0795e-04\n",
      "Epoch 89/100\n",
      "60/60 [==============================] - 0s 166us/step - loss: 6.8064e-04 - val_loss: 7.0952e-04\n",
      "Epoch 90/100\n",
      "60/60 [==============================] - 0s 142us/step - loss: 6.8047e-04 - val_loss: 7.1744e-04\n",
      "Epoch 91/100\n",
      "60/60 [==============================] - 0s 142us/step - loss: 6.7747e-04 - val_loss: 7.0834e-04\n",
      "Epoch 92/100\n",
      "60/60 [==============================] - 0s 144us/step - loss: 6.7852e-04 - val_loss: 7.1907e-04\n",
      "Epoch 93/100\n",
      "60/60 [==============================] - 0s 160us/step - loss: 6.7867e-04 - val_loss: 7.2345e-04\n",
      "Epoch 94/100\n",
      "60/60 [==============================] - 0s 141us/step - loss: 6.7481e-04 - val_loss: 7.0766e-04\n",
      "Epoch 95/100\n",
      "60/60 [==============================] - 0s 143us/step - loss: 6.7332e-04 - val_loss: 6.7370e-04\n",
      "Epoch 96/100\n",
      "60/60 [==============================] - 0s 166us/step - loss: 6.7408e-04 - val_loss: 6.6795e-04\n",
      "Epoch 97/100\n",
      "60/60 [==============================] - 0s 139us/step - loss: 6.7133e-04 - val_loss: 7.0062e-04\n",
      "Epoch 98/100\n",
      "60/60 [==============================] - 0s 131us/step - loss: 6.7037e-04 - val_loss: 7.2521e-04\n",
      "Epoch 99/100\n",
      "60/60 [==============================] - 0s 127us/step - loss: 6.6781e-04 - val_loss: 7.5805e-04\n",
      "Epoch 100/100\n",
      "60/60 [==============================] - 0s 146us/step - loss: 6.7024e-04 - val_loss: 7.9971e-04\n"
     ]
    }
   ],
   "source": [
    "#fit the model on our training data\n",
    "result1=model.fit(X_train, y_train, epochs=100, validation_split=0.10)"
   ]
  },
  {
   "cell_type": "markdown",
   "metadata": {},
   "source": [
    "Great, model trained. Now let's test this model's predicting ability on our unseen test data and get the Root Mean Squared Error."
   ]
  },
  {
   "cell_type": "code",
   "execution_count": 47,
   "metadata": {
    "ExecuteTime": {
     "end_time": "2021-01-28T16:01:42.467518Z",
     "start_time": "2021-01-28T16:01:42.463666Z"
    }
   },
   "outputs": [
    {
     "name": "stdout",
     "output_type": "stream",
     "text": [
      "_________________________________________________________________\n",
      "Layer (type)                 Output Shape              Param #   \n",
      "=================================================================\n",
      "lstm_3 (LSTM)                (None, 50)                10400     \n",
      "_________________________________________________________________\n",
      "dense_3 (Dense)              (None, 1)                 51        \n",
      "=================================================================\n",
      "Total params: 10,451\n",
      "Trainable params: 10,451\n",
      "Non-trainable params: 0\n",
      "_________________________________________________________________\n"
     ]
    }
   ],
   "source": [
    "model.summary()"
   ]
  },
  {
   "cell_type": "code",
   "execution_count": 48,
   "metadata": {
    "ExecuteTime": {
     "end_time": "2021-01-28T16:01:42.865822Z",
     "start_time": "2021-01-28T16:01:42.762173Z"
    }
   },
   "outputs": [],
   "source": [
    "yhat = model.predict(X_test)"
   ]
  },
  {
   "cell_type": "code",
   "execution_count": 49,
   "metadata": {
    "ExecuteTime": {
     "end_time": "2021-01-28T16:01:43.241942Z",
     "start_time": "2021-01-28T16:01:43.236226Z"
    },
    "scrolled": true
   },
   "outputs": [
    {
     "name": "stdout",
     "output_type": "stream",
     "text": [
      "Baseline MSE: 0.00044437579108541213\n",
      "Baseline RMSE: 0.02108022274752836\n"
     ]
    }
   ],
   "source": [
    "rmse = np.sqrt(mean_squared_error(y_test, yhat))\n",
    "print('Baseline MSE:', mean_squared_error(y_test, yhat))\n",
    "print('Baseline RMSE:', rmse)"
   ]
  },
  {
   "cell_type": "markdown",
   "metadata": {},
   "source": [
    "OK, we have a decent baseline RMSE. Let's now define a function for visualizing the validation loss over epochs."
   ]
  },
  {
   "cell_type": "code",
   "execution_count": 50,
   "metadata": {
    "ExecuteTime": {
     "end_time": "2021-01-28T16:01:43.968829Z",
     "start_time": "2021-01-28T16:01:43.964672Z"
    }
   },
   "outputs": [],
   "source": [
    "def visualize_training_results(results):\n",
    "    history = results.history\n",
    "    plt.figure()\n",
    "    plt.plot(history['val_loss'])\n",
    "    plt.plot(history['loss'])\n",
    "    plt.legend(['validation loss', 'train loss'])\n",
    "    plt.title('Loss (MSE)')\n",
    "    plt.xlabel('Epochs')\n",
    "    plt.ylabel('loss (MSE)')\n",
    "    plt.show()"
   ]
  },
  {
   "cell_type": "code",
   "execution_count": 51,
   "metadata": {
    "ExecuteTime": {
     "end_time": "2021-01-28T16:01:45.294240Z",
     "start_time": "2021-01-28T16:01:45.069184Z"
    },
    "scrolled": true
   },
   "outputs": [
    {
     "data": {
      "image/png": "[encoded data removed]",
      "text/plain": [
       "<Figure size 432x288 with 1 Axes>"
      ]
     },
     "metadata": {
      "needs_background": "light"
     },
     "output_type": "display_data"
    }
   ],
   "source": [
    "visualize_training_results(result1)"
   ]
  },
  {
   "cell_type": "markdown",
   "metadata": {},
   "source": [
    "Our validation loss (MSE) converges at about 50 epochs.\n",
    "\n",
    "One thing to note here is that LSTM modeling is very powerful when tuned so we will try and improve on this and see if we can do better than our ARIMA model."
   ]
  },
  {
   "cell_type": "markdown",
   "metadata": {},
   "source": [
    "Let's plot the predictions our model made against the true values."
   ]
  },
  {
   "cell_type": "code",
   "execution_count": 52,
   "metadata": {
    "ExecuteTime": {
     "end_time": "2021-01-28T16:01:47.969409Z",
     "start_time": "2021-01-28T16:01:47.677388Z"
    }
   },
   "outputs": [
    {
     "data": {
      "text/plain": [
       "[<matplotlib.lines.Line2D at 0x12fcbb9b0>]"
      ]
     },
     "execution_count": 52,
     "metadata": {},
     "output_type": "execute_result"
    },
    {
     "data": {
      "image/png": "[encoded data removed]",
      "text/plain": [
       "<Figure size 1440x864 with 1 Axes>"
      ]
     },
     "metadata": {
      "needs_background": "light"
     },
     "output_type": "display_data"
    }
   ],
   "source": [
    "fig,ax=plt.subplots(figsize=(20,12))\n",
    "\n",
    "plt.plot(train)\n",
    "plt.plot(test)\n",
    "plt.plot(test.index[3:], yhat) #predictions\n",
    "\n",
    "\n",
    "# preds is series, need to attribute values to the datetime of test set"
   ]
  },
  {
   "cell_type": "markdown",
   "metadata": {},
   "source": [
    "## Stacking LSTM Layers\n",
    "Let's see if adding hidden layers will improve the RMSE of our model's predictions. Let's also lower the number of training epochs to 60, as it is likely, again, the convergence will happen before that.\n",
    "\n",
    "The ouput sequence shape of this extra LSTM layer needs to match the input of the next, so we will set the 'return_sequences' parameter to true."
   ]
  },
  {
   "cell_type": "code",
   "execution_count": null,
   "metadata": {
    "ExecuteTime": {
     "end_time": "2021-01-28T16:00:52.955253Z",
     "start_time": "2021-01-28T16:00:42.249Z"
    },
    "scrolled": true
   },
   "outputs": [],
   "source": [
    "model2 = Sequential()\n",
    "model2.add(LSTM(50, activation='relu', return_sequences=True, input_shape=(n_steps, n_features)))  \n",
    "model2.add(LSTM(25, activation='relu'))\n",
    "model2.add(Dense(1))\n",
    "# model2.add(Dropout(0.1))  #Dropout penalizes a more-complex model. It made our RMSE much worse here\n",
    "model2.compile(optimizer='adam', loss='mse')\n",
    "\n",
    "result2 = model2.fit(X_train, y_train, epochs=60, validation_split=(0.1))\n",
    "\n",
    "yhat2 = model2.predict(X_test)\n",
    "print('\\n')\n",
    "rmse = np.sqrt(mean_squared_error(y_test, yhat2))\n",
    "print('Baseline MSE:', mean_squared_error(y_test, yhat2))\n",
    "print('Baseline RMSE:', rmse)"
   ]
  },
  {
   "cell_type": "markdown",
   "metadata": {},
   "source": [
    "Now our results for each run of the model vary slightly, due to the stochastic nature of the algorithm. This considered, the extra layer seems to have improved the model."
   ]
  },
  {
   "cell_type": "code",
   "execution_count": null,
   "metadata": {
    "ExecuteTime": {
     "end_time": "2021-01-28T16:00:52.957013Z",
     "start_time": "2021-01-28T16:00:42.253Z"
    },
    "scrolled": true
   },
   "outputs": [],
   "source": [
    "visualize_training_results(result2)"
   ]
  },
  {
   "cell_type": "markdown",
   "metadata": {},
   "source": [
    "One thing noticed here, is the convergence is happening earlier."
   ]
  },
  {
   "cell_type": "markdown",
   "metadata": {},
   "source": [
    "## Bidirectional LSTM\n",
    "Bidirectional modeling will learn the input sequences both forwards and backwards and then combine both learnings."
   ]
  },
  {
   "cell_type": "code",
   "execution_count": null,
   "metadata": {
    "ExecuteTime": {
     "end_time": "2021-01-28T16:00:52.958491Z",
     "start_time": "2021-01-28T16:00:42.257Z"
    },
    "scrolled": true
   },
   "outputs": [],
   "source": [
    "model3 = Sequential()\n",
    "model3.add(Bidirectional(LSTM(50, activation='relu'), input_shape=(n_steps, n_features)))\n",
    "model3.add(Dense(1))\n",
    "model3.compile(optimizer='adam', loss='mse')\n",
    "\n",
    "result3 = model3.fit(X_train, y_train, epochs=60, validation_split=(0.1))\n",
    "\n",
    "yhat3 = model3.predict(X_test)\n",
    "\n",
    "rmse = np.sqrt(mean_squared_error(y_test, yhat3))\n",
    "print('\\n')\n",
    "print('MSE:', mean_squared_error(y_test, yhat3))\n",
    "print('RMSE:', rmse)\n",
    "\n",
    "visualize_training_results(result3)"
   ]
  },
  {
   "cell_type": "markdown",
   "metadata": {},
   "source": [
    "RMSE worse here. Let's refer back to the first two LSTM models."
   ]
  },
  {
   "cell_type": "markdown",
   "metadata": {},
   "source": [
    "## Stationary Data for LSTM*\n",
    "Although not necessary for LSTMs, it could make the model's job easier by feeding it differenced data. Let's use the differenced acousticness values that we used for our intial ARIMA modeling."
   ]
  },
  {
   "cell_type": "code",
   "execution_count": null,
   "metadata": {
    "ExecuteTime": {
     "end_time": "2021-01-28T16:00:52.959738Z",
     "start_time": "2021-01-28T16:00:42.261Z"
    },
    "scrolled": false
   },
   "outputs": [],
   "source": [
    "data_diff"
   ]
  },
  {
   "cell_type": "code",
   "execution_count": null,
   "metadata": {
    "ExecuteTime": {
     "end_time": "2021-01-28T16:00:52.961019Z",
     "start_time": "2021-01-28T16:00:42.266Z"
    },
    "scrolled": true
   },
   "outputs": [],
   "source": [
    "train=data_diff[:90] \n",
    "test=data_diff[90:]\n",
    "\n",
    "# define input sequence\n",
    "train_seq = list(train)\n",
    "test_seq = list(test)\n",
    "\n",
    "# choose a number of time steps\n",
    "n_steps = 5      #here 3 and 2 steps received worse results\n",
    "\n",
    "# split into samples\n",
    "X_train, y_train = split_sequence(train_seq, n_steps)\n",
    "X_test, y_test = split_sequence(test_seq, n_steps) \n",
    "\n",
    "n_features = 1\n",
    "\n",
    "# #reshape from [samples, timesteps] into [samples, timesteps, features]\n",
    "X_train = X_train.reshape((X_train.shape[0], X_train.shape[1], n_features))\n",
    "X_test = X_test.reshape((X_test.shape[0], X_test.shape[1], n_features))\n",
    "\n",
    "\n",
    "# print the data sequence with steps:\n",
    "# for i in range(len(X_train)):\n",
    "# \tprint(X_train[i], y_train[i])"
   ]
  },
  {
   "cell_type": "code",
   "execution_count": null,
   "metadata": {
    "ExecuteTime": {
     "end_time": "2021-01-28T16:00:52.962550Z",
     "start_time": "2021-01-28T16:00:42.272Z"
    },
    "scrolled": true
   },
   "outputs": [],
   "source": [
    "model4 = Sequential()\n",
    "model4.add(LSTM(50, activation='linear', input_shape=(n_steps, n_features)))\n",
    "model4.add(Dense(1))\n",
    "model4.compile(optimizer='adam', loss='mse')\n",
    "\n",
    "result4 = model4.fit(X_train, y_train, batch_size=100, epochs=200, validation_split=(0.2))\n",
    "\n",
    "yhat4 = model4.predict(X_test)\n",
    "print('\\n')\n",
    "rmse = np.sqrt(mean_squared_error(y_test, yhat4))\n",
    "print('Baseline MSE:', mean_squared_error(y_test, yhat4))\n",
    "print('Baseline RMSE:', rmse)\n",
    "print('\\n')\n",
    "visualize_training_results(result4)"
   ]
  },
  {
   "cell_type": "markdown",
   "metadata": {},
   "source": [
    "It seems differenced data is making a difference! (No pun intended). The RMSE on average is slightly lower than our best performing LSTM model thus far. However is it not quite better than our best ARIMA model, still.\n",
    "\n",
    "As far as model validation, our validation set is actually performing better than the training set. If it were the opposite, our model would be overfitting, however we are ok here I believe.\n",
    "\n",
    "With activation set to 'linear' instead of 'relu', we were able to get slightly better results."
   ]
  },
  {
   "cell_type": "markdown",
   "metadata": {},
   "source": [
    "*This validation loss is also exhibiting signs of overfitness. Let's stop the epochs at 100.*"
   ]
  },
  {
   "cell_type": "markdown",
   "metadata": {},
   "source": [
    "As each prediction for this model takes 5 previous steps to generate, there is a 5-step space in between our testing data and our prediction data. For this reason we will plot only the y_test values (5-step sequenced test data) against our prediction."
   ]
  },
  {
   "cell_type": "code",
   "execution_count": null,
   "metadata": {
    "ExecuteTime": {
     "end_time": "2021-01-28T16:00:52.963943Z",
     "start_time": "2021-01-28T16:00:42.280Z"
    },
    "scrolled": false
   },
   "outputs": [],
   "source": [
    "fig,ax=plt.subplots(figsize=(20,12))\n",
    "\n",
    "plt.plot(train)\n",
    "plt.plot(test, label='Actual')\n",
    "plt.plot(test.index[5:], yhat4, label='Predictions') #predictions\n",
    "plt.legend(loc='best')\n"
   ]
  },
  {
   "cell_type": "markdown",
   "metadata": {},
   "source": [
    "As this model had the best RMSE we will go with this, however the predictions are not looking exceptional here."
   ]
  },
  {
   "cell_type": "markdown",
   "metadata": {},
   "source": [
    "# Forecasting Future Values\n",
    "## acousticness\n",
    "We will now be using our best performing LSTM model to forecast the values for acousticness, 5 years into the future."
   ]
  },
  {
   "cell_type": "code",
   "execution_count": null,
   "metadata": {
    "ExecuteTime": {
     "end_time": "2021-01-28T16:00:52.965007Z",
     "start_time": "2021-01-28T16:00:42.286Z"
    }
   },
   "outputs": [],
   "source": [
    "def split_sequence(sequence, n_steps):\n",
    "    X, y = [], []\n",
    "    for i in range(len(sequence)):\n",
    "        # find the end of this pattern\n",
    "        end_ix = i + n_steps\n",
    "        # check if we are beyond the sequence\n",
    "        if end_ix > len(sequence)-1:\n",
    "            break\n",
    "        # gather input and output parts of the pattern\n",
    "        seq_x, seq_y = sequence[i:end_ix], sequence[end_ix]\n",
    "        X.append(seq_x)\n",
    "        y.append(seq_y)\n",
    "    return np.array(X), np.array(y)"
   ]
  },
  {
   "cell_type": "code",
   "execution_count": null,
   "metadata": {
    "ExecuteTime": {
     "end_time": "2021-01-28T16:00:52.966034Z",
     "start_time": "2021-01-28T16:00:42.290Z"
    },
    "scrolled": true
   },
   "outputs": [],
   "source": [
    "data_diff.tail()"
   ]
  },
  {
   "cell_type": "code",
   "execution_count": null,
   "metadata": {
    "ExecuteTime": {
     "end_time": "2021-01-28T16:00:52.967029Z",
     "start_time": "2021-01-28T16:00:42.296Z"
    }
   },
   "outputs": [],
   "source": [
    "data_diff.tail().values"
   ]
  },
  {
   "cell_type": "markdown",
   "metadata": {},
   "source": [
    "Now we will run an if/else loop that will take our last 5 years (for 5 step predictions) to predict the next value. This new value while be appended to a list and the oldest value will be filtered out, leaving a new 5 years (steps) to predict the next year, and so on."
   ]
  },
  {
   "cell_type": "code",
   "execution_count": null,
   "metadata": {
    "ExecuteTime": {
     "end_time": "2021-01-28T16:00:52.968345Z",
     "start_time": "2021-01-28T16:00:42.301Z"
    }
   },
   "outputs": [],
   "source": [
    "# predict values for next 5 years\n",
    "x_input = data_diff.tail().values #last 5 values of the dataset\n",
    "temp_input=list(x_input)\n",
    "lst_output=[]\n",
    "i=0\n",
    "# x_input = x_input.reshape((1, n_steps, n_features))\n",
    "while(i<5):  #5 years\n",
    "    \n",
    "    if(len(temp_input)>5):  #5 steps\n",
    "        x_input=np.array(temp_input[1:])\n",
    "        print(\"Year {} input: {}\".format(i,x_input))\n",
    "        #print(x_input)\n",
    "        x_input = x_input.reshape((1, n_steps, n_features))\n",
    "        #print(x_input)\n",
    "        yhat = model4.predict(x_input, verbose=0)\n",
    "        print(\"Year {} output: {}\".format(i,yhat))\n",
    "        print('\\n')\n",
    "        temp_input.append(yhat[0][0])\n",
    "        temp_input=temp_input[1:]\n",
    "        #print(temp_input)\n",
    "        lst_output.append(yhat[0][0])\n",
    "        i=i+1\n",
    "    else:\n",
    "        x_input = x_input.reshape((1, n_steps, n_features))\n",
    "        yhat = model4.predict(x_input, verbose=0)\n",
    "        print(yhat[0])\n",
    "        temp_input.append(yhat[0][0])\n",
    "        lst_output.append(yhat[0][0])\n",
    "        i=i+1\n",
    "    \n",
    "\n",
    "print(lst_output)"
   ]
  },
  {
   "cell_type": "markdown",
   "metadata": {},
   "source": [
    "Creating y-axis values for our 5 future dates:"
   ]
  },
  {
   "cell_type": "code",
   "execution_count": null,
   "metadata": {
    "ExecuteTime": {
     "end_time": "2021-01-28T16:00:52.969517Z",
     "start_time": "2021-01-28T16:00:42.305Z"
    }
   },
   "outputs": [],
   "source": [
    "future_years = [2021, 2022, 2023, 2024, 2025]\n",
    "future_years = pd.to_datetime(future_years, format='%Y')\n",
    "future_years"
   ]
  },
  {
   "cell_type": "markdown",
   "metadata": {
    "ExecuteTime": {
     "end_time": "2020-10-26T14:20:47.665279Z",
     "start_time": "2020-10-26T14:20:47.662927Z"
    }
   },
   "source": [
    "# Visualizing Future Values \n",
    "## differenced acousticness"
   ]
  },
  {
   "cell_type": "code",
   "execution_count": null,
   "metadata": {
    "ExecuteTime": {
     "end_time": "2021-01-28T16:00:52.970889Z",
     "start_time": "2021-01-28T16:00:42.308Z"
    },
    "scrolled": false
   },
   "outputs": [],
   "source": [
    "fig,ax=plt.subplots(figsize=(20,12))\n",
    "\n",
    "# plt.plot(train)\n",
    "# plt.plot(test)\n",
    "plt.plot(test.index[5:], yhat4, label='Predictions') #predictions\n",
    "plt.plot(test.index[5:], y_test, label='Actual')\n",
    "plt.plot(future_years, lst_output, label='Forecast')\n",
    "\n",
    "plt.legend(loc='best', fontsize='x-large')"
   ]
  },
  {
   "cell_type": "markdown",
   "metadata": {},
   "source": [
    "Great now we do have our forecasted values for acousticness, however this is still the differenced data and we will need to see the forecasted values in our original scale. For this, we will revert back to the original scale by getting the cumulative sum of the differenced data."
   ]
  },
  {
   "cell_type": "code",
   "execution_count": null,
   "metadata": {
    "ExecuteTime": {
     "end_time": "2021-01-28T16:00:52.971963Z",
     "start_time": "2021-01-28T16:00:42.312Z"
    }
   },
   "outputs": [],
   "source": [
    "lst_output"
   ]
  },
  {
   "cell_type": "code",
   "execution_count": null,
   "metadata": {
    "ExecuteTime": {
     "end_time": "2021-01-28T16:00:52.972826Z",
     "start_time": "2021-01-28T16:00:42.315Z"
    }
   },
   "outputs": [],
   "source": [
    "yearly_df.acousticness.iloc[-1]"
   ]
  },
  {
   "cell_type": "markdown",
   "metadata": {},
   "source": [
    "Now in order to rescale the differenced forecast, we will need the last value from the original dataset to add the cumulative sums to. So we are inserting that last value to the beginning of the forecasted list."
   ]
  },
  {
   "cell_type": "code",
   "execution_count": null,
   "metadata": {
    "ExecuteTime": {
     "end_time": "2021-01-28T16:00:52.973504Z",
     "start_time": "2021-01-28T16:00:42.319Z"
    }
   },
   "outputs": [],
   "source": [
    "lst_output.insert(0,yearly_df.acousticness.iloc[-1])"
   ]
  },
  {
   "cell_type": "code",
   "execution_count": null,
   "metadata": {
    "ExecuteTime": {
     "end_time": "2021-01-28T16:00:52.974372Z",
     "start_time": "2021-01-28T16:00:42.322Z"
    }
   },
   "outputs": [],
   "source": [
    "lst_output"
   ]
  },
  {
   "cell_type": "code",
   "execution_count": null,
   "metadata": {
    "ExecuteTime": {
     "end_time": "2021-01-28T16:00:52.975970Z",
     "start_time": "2021-01-28T16:00:42.326Z"
    },
    "scrolled": true
   },
   "outputs": [],
   "source": [
    "rescaled_forecast = np.cumsum(lst_output)\n",
    "rescaled_forecast[1:]"
   ]
  },
  {
   "cell_type": "markdown",
   "metadata": {},
   "source": [
    "## Rescaled Forecast, acousticness"
   ]
  },
  {
   "cell_type": "markdown",
   "metadata": {},
   "source": [
    "Now let's clean up our forecast values, by organized them into a new dataframe. We can then add the forecasts for all features into this one dataframe."
   ]
  },
  {
   "cell_type": "code",
   "execution_count": null,
   "metadata": {
    "ExecuteTime": {
     "end_time": "2021-01-28T16:00:52.976941Z",
     "start_time": "2021-01-28T16:00:42.331Z"
    },
    "scrolled": true
   },
   "outputs": [],
   "source": [
    "forecast_df = pd.DataFrame(index=future_years)\n",
    "forecast_df.index.name = 'future_years'\n",
    "forecast_df"
   ]
  },
  {
   "cell_type": "code",
   "execution_count": null,
   "metadata": {
    "ExecuteTime": {
     "end_time": "2021-01-28T16:00:52.978213Z",
     "start_time": "2021-01-28T16:00:42.334Z"
    }
   },
   "outputs": [],
   "source": [
    "forecast_df['acousticness'] = rescaled_forecast[1:]\n",
    "forecast_df"
   ]
  },
  {
   "cell_type": "code",
   "execution_count": null,
   "metadata": {
    "ExecuteTime": {
     "end_time": "2021-01-28T16:00:52.979437Z",
     "start_time": "2021-01-28T16:00:42.337Z"
    },
    "scrolled": false
   },
   "outputs": [],
   "source": [
    "fig,ax=plt.subplots(figsize=(20,12))\n",
    "\n",
    "plt.plot(yearly_df.acousticness, label='Actual')\n",
    "plt.plot(forecast_df.acousticness, label='Forecast')\n",
    "\n",
    "plt.legend(loc='best')"
   ]
  },
  {
   "cell_type": "markdown",
   "metadata": {},
   "source": [
    "# Entire Model Consolidation\n",
    "We will now try and consolidate our entire best model and forecasting loop into a singular function, which we can apply to the rest of the features for forecasting."
   ]
  },
  {
   "cell_type": "code",
   "execution_count": null,
   "metadata": {
    "ExecuteTime": {
     "end_time": "2021-01-28T16:00:52.980496Z",
     "start_time": "2021-01-28T16:00:42.341Z"
    }
   },
   "outputs": [],
   "source": [
    "def run_model(df):\n",
    "    \n",
    "    '''Runs an LSTM model with 5 steps, linear activation, and one dense layer\n",
    "    on a date-time-indexed dataframe. \n",
    "    \n",
    "    Takes a dataframe, differences it by 1-lag and splits into 90/10 train/test\n",
    "    split. Then splits training and test sets into sequences required by the \n",
    "    model of 5 input steps and 1 output step. \n",
    "    \n",
    "    Model is trained using 20% validation taken from the training set, and \n",
    "    tested on unseen test set. (Differenced) Predictions are then forecasted \n",
    "    5 steps into the future and \"undifferenced\" using np.cumsum of the original\n",
    "    dataset's last value.\n",
    "    \n",
    "    Inputs: dataframe with a date-time index.\n",
    "    \n",
    "    Outputs: RMSE, loss function curve, and updated forecast dataframe with\n",
    "             predicted values.\n",
    "    '''\n",
    "    \n",
    "    #difference the column's data\n",
    "    differenced_df = df.diff().dropna()\n",
    "    \n",
    "    #split df for train/test\n",
    "    train=differenced_df[:90] \n",
    "    test=differenced_df[90:]\n",
    "    \n",
    "    # define input sequence\n",
    "    train_seq = list(train)\n",
    "    test_seq = list(test)\n",
    "    n_steps = 5\n",
    "    \n",
    "    # split into samples\n",
    "    X_train, y_train = split_sequence(train_seq, n_steps)\n",
    "    X_test, y_test = split_sequence(test_seq, n_steps)\n",
    "    n_features = 1\n",
    "    \n",
    "    #reshape from [samples, timesteps] into [samples, timesteps, features]\n",
    "    X_train = X_train.reshape((X_train.shape[0], X_train.shape[1], n_features))\n",
    "    X_test = X_test.reshape((X_test.shape[0], X_test.shape[1], n_features))\n",
    "    \n",
    "    #instatiate model and add layers\n",
    "    model = Sequential()\n",
    "    model.add(LSTM(50, activation='linear', input_shape=(n_steps, n_features)))\n",
    "    model.add(Dense(1))\n",
    "    model.compile(optimizer='adam', loss='mse')\n",
    "    \n",
    "    #fit model with 20% validation split *of the training data*\n",
    "    result = model.fit(X_train, y_train, batch_size=100, epochs=200, \n",
    "                       validation_split=(0.2), verbose=0)\n",
    "    \n",
    "    #predict y values with test data\n",
    "    yhat = model.predict(X_test)\n",
    "    rmse = np.sqrt(mean_squared_error(y_test, yhat))\n",
    "    print('RMSE:', rmse)\n",
    "    visualize_training_results(result)\n",
    "    print('\\n')\n",
    "    \n",
    "    #forecast future values\n",
    "    x_input = differenced_df.tail().values\n",
    "    temp_input=list(x_input)\n",
    "    lst_output=[]\n",
    "    i=0\n",
    "    \n",
    "    while(i<5):  #5 years\n",
    "        if(len(temp_input)>5):  #5 steps\n",
    "            x_input=np.array(temp_input[1:])\n",
    "            x_input = x_input.reshape((1, n_steps, n_features))\n",
    "            yhat = model.predict(x_input, verbose=0)\n",
    "            temp_input.append(yhat[0][0])\n",
    "            temp_input=temp_input[1:]\n",
    "            lst_output.append(yhat[0][0])\n",
    "            i=i+1\n",
    "        \n",
    "        else:\n",
    "            x_input = x_input.reshape((1, n_steps, n_features))\n",
    "            yhat = model.predict(x_input, verbose=0)\n",
    "            temp_input.append(yhat[0][0])\n",
    "            lst_output.append(yhat[0][0])\n",
    "            i=i+1\n",
    "            \n",
    "    # invert differencing of forecasts\n",
    "    lst_output.insert(0, df.iloc[-1])    \n",
    "    rescaled_forecast = np.cumsum(lst_output)\n",
    "    rescaled_forecast = rescaled_forecast[1:]\n",
    "    return rescaled_forecast"
   ]
  },
  {
   "cell_type": "markdown",
   "metadata": {},
   "source": [
    "# All Features Forecasting"
   ]
  },
  {
   "cell_type": "markdown",
   "metadata": {},
   "source": [
    "## danceability"
   ]
  },
  {
   "cell_type": "code",
   "execution_count": null,
   "metadata": {
    "ExecuteTime": {
     "end_time": "2021-01-28T16:00:52.981896Z",
     "start_time": "2021-01-28T16:00:42.345Z"
    },
    "scrolled": false
   },
   "outputs": [],
   "source": [
    "rescaled_forecast = run_model(yearly_df.danceability)\n",
    "rescaled_forecast\n",
    "forecast_df['danceability'] = rescaled_forecast\n",
    "forecast_df"
   ]
  },
  {
   "cell_type": "markdown",
   "metadata": {},
   "source": [
    "## duration_ms"
   ]
  },
  {
   "cell_type": "code",
   "execution_count": null,
   "metadata": {
    "ExecuteTime": {
     "end_time": "2021-01-28T16:00:52.983299Z",
     "start_time": "2021-01-28T16:00:42.350Z"
    },
    "scrolled": false
   },
   "outputs": [],
   "source": [
    "rescaled_forecast = run_model(yearly_df.duration_ms)\n",
    "rescaled_forecast\n",
    "forecast_df['duration_ms'] = rescaled_forecast\n",
    "forecast_df"
   ]
  },
  {
   "cell_type": "markdown",
   "metadata": {},
   "source": [
    "## energy"
   ]
  },
  {
   "cell_type": "code",
   "execution_count": null,
   "metadata": {
    "ExecuteTime": {
     "end_time": "2021-01-28T16:00:52.984504Z",
     "start_time": "2021-01-28T16:00:42.353Z"
    },
    "scrolled": false
   },
   "outputs": [],
   "source": [
    "rescaled_forecast = run_model(yearly_df.energy)\n",
    "rescaled_forecast\n",
    "forecast_df['energy'] = rescaled_forecast\n",
    "forecast_df"
   ]
  },
  {
   "cell_type": "markdown",
   "metadata": {},
   "source": [
    "## loudness"
   ]
  },
  {
   "cell_type": "code",
   "execution_count": null,
   "metadata": {
    "ExecuteTime": {
     "end_time": "2021-01-28T16:00:52.985601Z",
     "start_time": "2021-01-28T16:00:42.357Z"
    },
    "scrolled": false
   },
   "outputs": [],
   "source": [
    "rescaled_forecast = run_model(yearly_df.loudness)\n",
    "rescaled_forecast\n",
    "forecast_df['loudness'] = rescaled_forecast\n",
    "forecast_df"
   ]
  },
  {
   "cell_type": "markdown",
   "metadata": {},
   "source": [
    "## instrumentalness"
   ]
  },
  {
   "cell_type": "code",
   "execution_count": null,
   "metadata": {
    "ExecuteTime": {
     "end_time": "2021-01-28T16:00:52.986967Z",
     "start_time": "2021-01-28T16:00:42.361Z"
    }
   },
   "outputs": [],
   "source": [
    "yearly_df.instrumentalness.tail(20)"
   ]
  },
  {
   "cell_type": "code",
   "execution_count": null,
   "metadata": {
    "ExecuteTime": {
     "end_time": "2021-01-28T16:00:52.987929Z",
     "start_time": "2021-01-28T16:00:42.364Z"
    },
    "scrolled": false
   },
   "outputs": [],
   "source": [
    "rescaled_forecast = run_model(yearly_df.instrumentalness)\n",
    "rescaled_forecast\n",
    "forecast_df['instrumentalness'] = rescaled_forecast\n",
    "forecast_df"
   ]
  },
  {
   "cell_type": "markdown",
   "metadata": {},
   "source": [
    "Note: Another very odd prediction. The values for the last 10 years at least were <0.001, so not sure why the model is predicting a sudden rise in 'instrumentalness'."
   ]
  },
  {
   "cell_type": "markdown",
   "metadata": {},
   "source": [
    "## liveness"
   ]
  },
  {
   "cell_type": "code",
   "execution_count": null,
   "metadata": {
    "ExecuteTime": {
     "end_time": "2021-01-28T16:00:52.988651Z",
     "start_time": "2021-01-28T16:00:42.369Z"
    },
    "scrolled": true
   },
   "outputs": [],
   "source": [
    "rescaled_forecast = run_model(yearly_df.liveness)\n",
    "rescaled_forecast\n",
    "forecast_df['liveness'] = rescaled_forecast\n",
    "forecast_df"
   ]
  },
  {
   "cell_type": "markdown",
   "metadata": {},
   "source": [
    "## speechiness"
   ]
  },
  {
   "cell_type": "code",
   "execution_count": null,
   "metadata": {
    "ExecuteTime": {
     "end_time": "2021-01-28T16:00:52.989826Z",
     "start_time": "2021-01-28T16:00:42.373Z"
    }
   },
   "outputs": [],
   "source": [
    "rescaled_forecast = run_model(yearly_df.speechiness)\n",
    "rescaled_forecast\n",
    "forecast_df['speechiness'] = rescaled_forecast\n",
    "forecast_df"
   ]
  },
  {
   "cell_type": "markdown",
   "metadata": {},
   "source": [
    "## tempo"
   ]
  },
  {
   "cell_type": "code",
   "execution_count": null,
   "metadata": {
    "ExecuteTime": {
     "end_time": "2021-01-28T16:00:52.990896Z",
     "start_time": "2021-01-28T16:00:42.385Z"
    }
   },
   "outputs": [],
   "source": [
    "rescaled_forecast = run_model(yearly_df.tempo)\n",
    "rescaled_forecast\n",
    "forecast_df['tempo'] = rescaled_forecast\n",
    "forecast_df"
   ]
  },
  {
   "cell_type": "markdown",
   "metadata": {
    "ExecuteTime": {
     "end_time": "2020-10-26T16:20:59.663509Z",
     "start_time": "2020-10-26T16:20:59.660988Z"
    }
   },
   "source": [
    "## valence"
   ]
  },
  {
   "cell_type": "code",
   "execution_count": null,
   "metadata": {
    "ExecuteTime": {
     "end_time": "2021-01-28T16:00:52.991769Z",
     "start_time": "2021-01-28T16:00:42.389Z"
    },
    "scrolled": false
   },
   "outputs": [],
   "source": [
    "rescaled_forecast = run_model(yearly_df.valence)\n",
    "rescaled_forecast\n",
    "forecast_df['valence'] = rescaled_forecast\n",
    "forecast_df"
   ]
  },
  {
   "cell_type": "markdown",
   "metadata": {},
   "source": [
    "## popularity"
   ]
  },
  {
   "cell_type": "code",
   "execution_count": null,
   "metadata": {
    "ExecuteTime": {
     "end_time": "2021-01-28T16:00:52.992674Z",
     "start_time": "2021-01-28T16:00:42.393Z"
    },
    "scrolled": false
   },
   "outputs": [],
   "source": [
    "rescaled_forecast = run_model(yearly_df.popularity)\n",
    "rescaled_forecast\n",
    "forecast_df['popularity'] = rescaled_forecast\n",
    "forecast_df"
   ]
  },
  {
   "cell_type": "markdown",
   "metadata": {},
   "source": [
    "## key"
   ]
  },
  {
   "cell_type": "markdown",
   "metadata": {},
   "source": [
    "Key is difficult as it is really a categorical feature, for which we took the mode of each year for our yearly_df dataset. This is causing our loss function for Mean Squared Error to look haywire, as the model is predicting decimal values in between the 'key' values which are only whole integers. \n",
    "This model needs some improving for sure, but as the 5-year prediction gives us a value very close to 0, we will assume the median key in 2025 will just be 0."
   ]
  },
  {
   "cell_type": "code",
   "execution_count": null,
   "metadata": {
    "ExecuteTime": {
     "end_time": "2021-01-28T16:00:52.993774Z",
     "start_time": "2021-01-28T16:00:42.396Z"
    },
    "scrolled": false
   },
   "outputs": [],
   "source": [
    "rescaled_forecast = run_model(yearly_df.key)\n",
    "rescaled_forecast\n",
    "forecast_df['key'] = rescaled_forecast\n",
    "forecast_df"
   ]
  },
  {
   "cell_type": "code",
   "execution_count": null,
   "metadata": {
    "ExecuteTime": {
     "end_time": "2021-01-28T16:00:52.994735Z",
     "start_time": "2021-01-28T16:00:42.399Z"
    }
   },
   "outputs": [],
   "source": [
    "forecast_df.to_csv(r'Datasets/forecast_df.csv', index = False);"
   ]
  },
  {
   "cell_type": "code",
   "execution_count": null,
   "metadata": {
    "ExecuteTime": {
     "end_time": "2021-01-28T16:00:52.995702Z",
     "start_time": "2021-01-28T16:00:42.402Z"
    },
    "scrolled": true
   },
   "outputs": [],
   "source": [
    "forecast_df"
   ]
  },
  {
   "cell_type": "markdown",
   "metadata": {},
   "source": [
    "## Visualizing all future features"
   ]
  },
  {
   "cell_type": "markdown",
   "metadata": {},
   "source": [
    "Let's plot some forecast predictions against their true values."
   ]
  },
  {
   "cell_type": "code",
   "execution_count": null,
   "metadata": {
    "ExecuteTime": {
     "end_time": "2021-01-28T16:00:52.996730Z",
     "start_time": "2021-01-28T16:00:42.406Z"
    },
    "scrolled": false
   },
   "outputs": [],
   "source": [
    "fig,ax=plt.subplots(figsize=(20,12))\n",
    "\n",
    "#actual values\n",
    "ax.plot(yearly_df.acousticness, label='Actual Acousticness')\n",
    "ax.plot(yearly_df.danceability, label='Actual Danceability')\n",
    "ax.plot(yearly_df.energy, label='Actual Energy')\n",
    "ax.plot(yearly_df.instrumentalness, label='Actual Instrumentalness')\n",
    "ax.plot(yearly_df.liveness, label='Actual Liveness')\n",
    "ax.plot(yearly_df.valence, label='Actual Valence')\n",
    "ax.plot(yearly_df.speechiness, label='Actual Speechiness')\n",
    "\n",
    "#predicted values\n",
    "ax.plot(forecast_df.acousticness, label='Acousticness Forecast')\n",
    "ax.plot(forecast_df.danceability, label='Danceability Forecast')\n",
    "ax.plot(forecast_df.energy, label='Energy Forecast')\n",
    "ax.plot(forecast_df.instrumentalness, label='Instrumentalness Forecast')\n",
    "ax.plot(forecast_df.liveness, label='Liveness Forecast')\n",
    "ax.plot(forecast_df.valence, label='Valence Forecast')\n",
    "ax.plot(forecast_df.speechiness, label='Speechiness Forecast')\n",
    "\n",
    "# labels\n",
    "plt.xlabel('Year', size=14)\n",
    "plt.ylabel('Value (normalized)', size=14)\n",
    "plt.legend(loc='best', fontsize='x-large', ncol=2)\n",
    "plt.savefig('Images/forecasted_normalized_features.png');"
   ]
  },
  {
   "cell_type": "markdown",
   "metadata": {},
   "source": [
    "Loudness forecast:"
   ]
  },
  {
   "cell_type": "code",
   "execution_count": null,
   "metadata": {
    "ExecuteTime": {
     "end_time": "2021-01-28T16:00:52.997697Z",
     "start_time": "2021-01-28T16:00:42.410Z"
    }
   },
   "outputs": [],
   "source": [
    "fig,ax=plt.subplots(figsize=(20,12))\n",
    "ax.plot(yearly_df.loudness, label='Actual loudness')\n",
    "ax.plot(forecast_df.loudness, label='Actual loudness')\n",
    "plt.xlabel('Year', size=14)\n",
    "plt.ylabel('Value', size=14)\n",
    "plt.legend(loc='best');"
   ]
  },
  {
   "cell_type": "markdown",
   "metadata": {},
   "source": [
    "Tempo Forecast:"
   ]
  },
  {
   "cell_type": "code",
   "execution_count": null,
   "metadata": {
    "ExecuteTime": {
     "end_time": "2021-01-28T16:00:52.998696Z",
     "start_time": "2021-01-28T16:00:42.413Z"
    },
    "scrolled": false
   },
   "outputs": [],
   "source": [
    "fig,ax=plt.subplots(figsize=(20,12))\n",
    "ax.plot(yearly_df.tempo, label='Actual tempo ')\n",
    "ax.plot(forecast_df.tempo, label='Forecast')\n",
    "plt.xlabel('Year', size=14)\n",
    "plt.ylabel('Value', size=14)\n",
    "plt.legend(loc='best');"
   ]
  },
  {
   "cell_type": "markdown",
   "metadata": {},
   "source": [
    "Popularity:"
   ]
  },
  {
   "cell_type": "code",
   "execution_count": null,
   "metadata": {
    "ExecuteTime": {
     "end_time": "2021-01-28T16:00:52.999900Z",
     "start_time": "2021-01-28T16:00:42.416Z"
    },
    "scrolled": false
   },
   "outputs": [],
   "source": [
    "fig,ax=plt.subplots(figsize=(20,12))\n",
    "ax.plot(yearly_df.popularity, label='Actual popularity')\n",
    "ax.plot(forecast_df.popularity, label='Forecasted popularity')\n",
    "plt.xlabel('Year', size=14)\n",
    "plt.ylabel('Value', size=14)\n",
    "plt.legend(loc='best');"
   ]
  },
  {
   "cell_type": "markdown",
   "metadata": {},
   "source": [
    "After having thought for some time, I am questioning if 'popularity' should even be relevant as it is a function of the amount of streams per time, which clearly takes account a factor of the ever-growing user base of Spotify. Basically, as time goes on, there will obviously be songs that are listened to more than in the past."
   ]
  },
  {
   "cell_type": "markdown",
   "metadata": {},
   "source": [
    "# Conclusions\n",
    "We have successfully forecasted each of our features. So what do they tell us? Our model predicts that by 2025, the average (median) song will possess the following characteristics:\n",
    "\n",
    "Tempo will have increased to back around 122.2 BPM.\n",
    "Loudness will have continued to rebound, and reach a median of nearly -6db. (quite loud!)\n",
    "Instrumentalness in songs could possibly have made a comeback, increasing from 0. \n",
    "Speechiness (vocals/spoken words) will have plateaued.\n",
    "Acousticness will be much lower again, down to 0.08.\n",
    "Average Popularity will continue to grow.\n",
    "Valence (positivity/happiness) will have dipped and plateaued at 0.455.\n",
    "Energy will continue to rebound and hit 0.649.\n",
    "Danceability will more or less plateau as well, only rising by a small fraction to 0.697. In otherwords, peak danceability is here to stay for the next 5 years.\n",
    "\n",
    "\n",
    "\n",
    "\n"
   ]
  },
  {
   "cell_type": "markdown",
   "metadata": {},
   "source": [
    "*Extra Notes:*"
   ]
  },
  {
   "cell_type": "markdown",
   "metadata": {},
   "source": [
    "After subsequent research, it is often suggested that simple time series, with less data points, do better with ARIMA modeling, while LSTM models are potentially better and more efficiently performing with very complex time series.\n",
    "\n",
    "This considered we were able to obtain a decent RMSE for each feature with LSTM modeling, using stationarized data, for our final forecasting."
   ]
  },
  {
   "cell_type": "markdown",
   "metadata": {},
   "source": [
    "# APPENDIX\n"
   ]
  },
  {
   "cell_type": "markdown",
   "metadata": {},
   "source": [
    "In this post-project section, I will be trying other methods to further validate my model. (as per recommendation of mock technical interviewer (Senior Data Scientist, Washington Post)). \n",
    "\n",
    "## Greater test value range in training/testing\n",
    "One particular recommendation was to train my best model on a wider range of values in relation to the range of the data. So instead of a 0.2 validation split where the value range of the test set is also only about 10%, I will train using a wider range of 40% validation."
   ]
  },
  {
   "cell_type": "code",
   "execution_count": 53,
   "metadata": {
    "ExecuteTime": {
     "end_time": "2021-01-28T16:01:53.849613Z",
     "start_time": "2021-01-28T16:01:53.843437Z"
    },
    "scrolled": true
   },
   "outputs": [
    {
     "data": {
      "text/plain": [
       "year\n",
       "1971-01-01    0.4365\n",
       "1972-01-01    0.4625\n",
       "1973-01-01    0.3880\n",
       "1974-01-01    0.4380\n",
       "1975-01-01    0.3940\n",
       "1976-01-01    0.3075\n",
       "1977-01-01    0.2490\n",
       "1978-01-01    0.2305\n",
       "1979-01-01    0.1620\n",
       "1980-01-01    0.1740\n",
       "1981-01-01    0.1700\n",
       "1982-01-01    0.1515\n",
       "1983-01-01    0.1265\n",
       "1984-01-01    0.1270\n",
       "1985-01-01    0.1580\n",
       "1986-01-01    0.1425\n",
       "1987-01-01    0.1630\n",
       "1988-01-01    0.1540\n",
       "1989-01-01    0.1720\n",
       "1990-01-01    0.1780\n",
       "1991-01-01    0.1930\n",
       "1992-01-01    0.1900\n",
       "1993-01-01    0.1660\n",
       "1994-01-01    0.1525\n",
       "1995-01-01    0.1640\n",
       "1996-01-01    0.1705\n",
       "1997-01-01    0.1610\n",
       "1998-01-01    0.1490\n",
       "1999-01-01    0.1395\n",
       "2000-01-01    0.1480\n",
       "2001-01-01    0.1420\n",
       "2002-01-01    0.1490\n",
       "2003-01-01    0.1190\n",
       "2004-01-01    0.1320\n",
       "2005-01-01    0.1110\n",
       "2006-01-01    0.1330\n",
       "2007-01-01    0.1050\n",
       "2008-01-01    0.1090\n",
       "2009-01-01    0.1060\n",
       "2010-01-01    0.1030\n",
       "2011-01-01    0.0869\n",
       "2012-01-01    0.0838\n",
       "2013-01-01    0.0912\n",
       "2014-01-01    0.1015\n",
       "2015-01-01    0.1200\n",
       "2016-01-01    0.1530\n",
       "2017-01-01    0.1720\n",
       "2018-01-01    0.1710\n",
       "2019-01-01    0.1785\n",
       "2020-01-01    0.1490\n",
       "Name: acousticness, dtype: float64"
      ]
     },
     "execution_count": 53,
     "metadata": {},
     "output_type": "execute_result"
    }
   ],
   "source": [
    "yearly_df.acousticness[50:]"
   ]
  },
  {
   "cell_type": "code",
   "execution_count": 74,
   "metadata": {
    "ExecuteTime": {
     "end_time": "2021-01-28T17:44:53.578553Z",
     "start_time": "2021-01-28T17:44:53.574486Z"
    }
   },
   "outputs": [
    {
     "name": "stdout",
     "output_type": "stream",
     "text": [
      "0.17\n",
      "0.193\n"
     ]
    }
   ],
   "source": [
    "print(yearly_df.acousticness[60])\n",
    "print(yearly_df.acousticness[70])"
   ]
  },
  {
   "cell_type": "code",
   "execution_count": 75,
   "metadata": {
    "ExecuteTime": {
     "end_time": "2021-01-28T17:44:56.662423Z",
     "start_time": "2021-01-28T17:44:56.658249Z"
    }
   },
   "outputs": [
    {
     "data": {
      "text/plain": [
       "0.34960000000000013"
      ]
     },
     "execution_count": 75,
     "metadata": {},
     "output_type": "execute_result"
    }
   ],
   "source": [
    "yearly_df.acousticness[50] - yearly_df.acousticness[90]"
   ]
  },
  {
   "cell_type": "markdown",
   "metadata": {},
   "source": [
    "This product above, 0.349, represents the range of value out of 1, 34.9% for our validation set. "
   ]
  },
  {
   "cell_type": "code",
   "execution_count": 78,
   "metadata": {
    "ExecuteTime": {
     "end_time": "2021-01-28T17:45:43.537372Z",
     "start_time": "2021-01-28T17:45:43.531425Z"
    },
    "scrolled": false
   },
   "outputs": [
    {
     "data": {
      "text/plain": [
       "year\n",
       "1922-01-01    0.0040\n",
       "1923-01-01   -0.0020\n",
       "1924-01-01    0.0020\n",
       "1925-01-01   -0.0050\n",
       "1926-01-01    0.0030\n",
       "               ...  \n",
       "2016-01-01    0.0330\n",
       "2017-01-01    0.0190\n",
       "2018-01-01   -0.0010\n",
       "2019-01-01    0.0075\n",
       "2020-01-01   -0.0295\n",
       "Name: acousticness, Length: 99, dtype: float64"
      ]
     },
     "execution_count": 78,
     "metadata": {},
     "output_type": "execute_result"
    }
   ],
   "source": [
    "data_diff"
   ]
  },
  {
   "cell_type": "code",
   "execution_count": 79,
   "metadata": {
    "ExecuteTime": {
     "end_time": "2021-01-28T17:45:45.767810Z",
     "start_time": "2021-01-28T17:45:45.760082Z"
    }
   },
   "outputs": [],
   "source": [
    "train=data_diff[:70] \n",
    "test=data_diff[70:]\n",
    "\n",
    "# define input sequence\n",
    "train_seq = list(train)\n",
    "test_seq = list(test)\n",
    "\n",
    "# choose a number of time steps\n",
    "n_steps = 5      #here 3 and 2 steps received worse results\n",
    "\n",
    "# split into samples\n",
    "X_train, y_train = split_sequence(train_seq, n_steps)\n",
    "X_test, y_test = split_sequence(test_seq, n_steps) \n",
    "\n",
    "n_features = 1\n",
    "\n",
    "# #reshape from [samples, timesteps] into [samples, timesteps, features]\n",
    "X_train = X_train.reshape((X_train.shape[0], X_train.shape[1], n_features))\n",
    "X_test = X_test.reshape((X_test.shape[0], X_test.shape[1], n_features))\n",
    "\n",
    "\n",
    "\n",
    "# print the data sequence with steps:\n",
    "# for i in range(len(X_train)):\n",
    "# \tprint(X_train[i], y_train[i])"
   ]
  },
  {
   "cell_type": "code",
   "execution_count": 80,
   "metadata": {
    "ExecuteTime": {
     "end_time": "2021-01-28T17:45:52.000633Z",
     "start_time": "2021-01-28T17:45:47.641580Z"
    },
    "scrolled": true
   },
   "outputs": [
    {
     "name": "stdout",
     "output_type": "stream",
     "text": [
      "Train on 45 samples, validate on 20 samples\n",
      "Epoch 1/200\n",
      "45/45 [==============================] - 1s 26ms/step - loss: 6.5537e-04 - val_loss: 0.0013\n",
      "Epoch 2/200\n",
      "45/45 [==============================] - 0s 152us/step - loss: 5.7358e-04 - val_loss: 0.0013\n",
      "Epoch 3/200\n",
      "45/45 [==============================] - 0s 143us/step - loss: 5.5308e-04 - val_loss: 0.0014\n",
      "Epoch 4/200\n",
      "45/45 [==============================] - 0s 142us/step - loss: 5.8657e-04 - val_loss: 0.0014\n",
      "Epoch 5/200\n",
      "45/45 [==============================] - 0s 160us/step - loss: 6.0125e-04 - val_loss: 0.0014\n",
      "Epoch 6/200\n",
      "45/45 [==============================] - 0s 156us/step - loss: 5.8329e-04 - val_loss: 0.0014\n",
      "Epoch 7/200\n",
      "45/45 [==============================] - 0s 153us/step - loss: 5.5779e-04 - val_loss: 0.0013\n",
      "Epoch 8/200\n",
      "45/45 [==============================] - 0s 174us/step - loss: 5.4387e-04 - val_loss: 0.0013\n",
      "Epoch 9/200\n",
      "45/45 [==============================] - 0s 162us/step - loss: 5.4582e-04 - val_loss: 0.0013\n",
      "Epoch 10/200\n",
      "45/45 [==============================] - 0s 172us/step - loss: 5.5548e-04 - val_loss: 0.0013\n",
      "Epoch 11/200\n",
      "45/45 [==============================] - 0s 160us/step - loss: 5.6131e-04 - val_loss: 0.0013\n",
      "Epoch 12/200\n",
      "45/45 [==============================] - 0s 153us/step - loss: 5.5801e-04 - val_loss: 0.0013\n",
      "Epoch 13/200\n",
      "45/45 [==============================] - 0s 189us/step - loss: 5.4820e-04 - val_loss: 0.0013\n",
      "Epoch 14/200\n",
      "45/45 [==============================] - 0s 167us/step - loss: 5.3817e-04 - val_loss: 0.0013\n",
      "Epoch 15/200\n",
      "45/45 [==============================] - 0s 190us/step - loss: 5.3310e-04 - val_loss: 0.0014\n",
      "Epoch 16/200\n",
      "45/45 [==============================] - 0s 151us/step - loss: 5.3423e-04 - val_loss: 0.0014\n",
      "Epoch 17/200\n",
      "45/45 [==============================] - 0s 150us/step - loss: 5.3830e-04 - val_loss: 0.0014\n",
      "Epoch 18/200\n",
      "45/45 [==============================] - 0s 156us/step - loss: 5.4055e-04 - val_loss: 0.0014\n",
      "Epoch 19/200\n",
      "45/45 [==============================] - 0s 198us/step - loss: 5.3846e-04 - val_loss: 0.0014\n",
      "Epoch 20/200\n",
      "45/45 [==============================] - 0s 168us/step - loss: 5.3323e-04 - val_loss: 0.0014\n",
      "Epoch 21/200\n",
      "45/45 [==============================] - 0s 179us/step - loss: 5.2814e-04 - val_loss: 0.0014\n",
      "Epoch 22/200\n",
      "45/45 [==============================] - 0s 165us/step - loss: 5.2584e-04 - val_loss: 0.0014\n",
      "Epoch 23/200\n",
      "45/45 [==============================] - 0s 207us/step - loss: 5.2670e-04 - val_loss: 0.0014\n",
      "Epoch 24/200\n",
      "45/45 [==============================] - 0s 188us/step - loss: 5.2870e-04 - val_loss: 0.0014\n",
      "Epoch 25/200\n",
      "45/45 [==============================] - 0s 161us/step - loss: 5.2943e-04 - val_loss: 0.0014\n",
      "Epoch 26/200\n",
      "45/45 [==============================] - 0s 181us/step - loss: 5.2784e-04 - val_loss: 0.0014\n",
      "Epoch 27/200\n",
      "45/45 [==============================] - 0s 148us/step - loss: 5.2491e-04 - val_loss: 0.0014\n",
      "Epoch 28/200\n",
      "45/45 [==============================] - 0s 199us/step - loss: 5.2252e-04 - val_loss: 0.0014\n",
      "Epoch 29/200\n",
      "45/45 [==============================] - 0s 167us/step - loss: 5.2193e-04 - val_loss: 0.0014\n",
      "Epoch 30/200\n",
      "45/45 [==============================] - 0s 162us/step - loss: 5.2289e-04 - val_loss: 0.0014\n",
      "Epoch 31/200\n",
      "45/45 [==============================] - 0s 182us/step - loss: 5.2392e-04 - val_loss: 0.0014\n",
      "Epoch 32/200\n",
      "45/45 [==============================] - 0s 180us/step - loss: 5.2376e-04 - val_loss: 0.0014\n",
      "Epoch 33/200\n",
      "45/45 [==============================] - 0s 218us/step - loss: 5.2238e-04 - val_loss: 0.0014\n",
      "Epoch 34/200\n",
      "45/45 [==============================] - 0s 170us/step - loss: 5.2085e-04 - val_loss: 0.0014\n",
      "Epoch 35/200\n",
      "45/45 [==============================] - 0s 181us/step - loss: 5.2024e-04 - val_loss: 0.0014\n",
      "Epoch 36/200\n",
      "45/45 [==============================] - 0s 158us/step - loss: 5.2068e-04 - val_loss: 0.0014\n",
      "Epoch 37/200\n",
      "45/45 [==============================] - 0s 161us/step - loss: 5.2138e-04 - val_loss: 0.0014\n",
      "Epoch 38/200\n",
      "45/45 [==============================] - 0s 182us/step - loss: 5.2147e-04 - val_loss: 0.0014\n",
      "Epoch 39/200\n",
      "45/45 [==============================] - 0s 153us/step - loss: 5.2078e-04 - val_loss: 0.0014\n",
      "Epoch 40/200\n",
      "45/45 [==============================] - 0s 176us/step - loss: 5.1989e-04 - val_loss: 0.0014\n",
      "Epoch 41/200\n",
      "45/45 [==============================] - 0s 156us/step - loss: 5.1951e-04 - val_loss: 0.0014\n",
      "Epoch 42/200\n",
      "45/45 [==============================] - 0s 189us/step - loss: 5.1975e-04 - val_loss: 0.0014\n",
      "Epoch 43/200\n",
      "45/45 [==============================] - 0s 167us/step - loss: 5.2013e-04 - val_loss: 0.0014\n",
      "Epoch 44/200\n",
      "45/45 [==============================] - 0s 163us/step - loss: 5.2011e-04 - val_loss: 0.0014\n",
      "Epoch 45/200\n",
      "45/45 [==============================] - 0s 189us/step - loss: 5.1964e-04 - val_loss: 0.0014\n",
      "Epoch 46/200\n",
      "45/45 [==============================] - 0s 164us/step - loss: 5.1911e-04 - val_loss: 0.0014\n",
      "Epoch 47/200\n",
      "45/45 [==============================] - 0s 160us/step - loss: 5.1892e-04 - val_loss: 0.0014\n",
      "Epoch 48/200\n",
      "45/45 [==============================] - 0s 153us/step - loss: 5.1904e-04 - val_loss: 0.0014\n",
      "Epoch 49/200\n",
      "45/45 [==============================] - 0s 155us/step - loss: 5.1917e-04 - val_loss: 0.0014\n",
      "Epoch 50/200\n",
      "45/45 [==============================] - 0s 173us/step - loss: 5.1903e-04 - val_loss: 0.0014\n",
      "Epoch 51/200\n",
      "45/45 [==============================] - 0s 169us/step - loss: 5.1867e-04 - val_loss: 0.0014\n",
      "Epoch 52/200\n",
      "45/45 [==============================] - 0s 173us/step - loss: 5.1835e-04 - val_loss: 0.0014\n",
      "Epoch 53/200\n",
      "45/45 [==============================] - 0s 162us/step - loss: 5.1824e-04 - val_loss: 0.0014\n",
      "Epoch 54/200\n",
      "45/45 [==============================] - 0s 148us/step - loss: 5.1828e-04 - val_loss: 0.0014\n",
      "Epoch 55/200\n",
      "45/45 [==============================] - 0s 161us/step - loss: 5.1826e-04 - val_loss: 0.0014\n",
      "Epoch 56/200\n",
      "45/45 [==============================] - 0s 166us/step - loss: 5.1807e-04 - val_loss: 0.0014\n",
      "Epoch 57/200\n",
      "45/45 [==============================] - 0s 164us/step - loss: 5.1780e-04 - val_loss: 0.0014\n",
      "Epoch 58/200\n",
      "45/45 [==============================] - 0s 168us/step - loss: 5.1762e-04 - val_loss: 0.0014\n",
      "Epoch 59/200\n",
      "45/45 [==============================] - 0s 152us/step - loss: 5.1756e-04 - val_loss: 0.0014\n",
      "Epoch 60/200\n",
      "45/45 [==============================] - 0s 141us/step - loss: 5.1754e-04 - val_loss: 0.0014\n",
      "Epoch 61/200\n",
      "45/45 [==============================] - 0s 190us/step - loss: 5.1745e-04 - val_loss: 0.0014\n",
      "Epoch 62/200\n",
      "45/45 [==============================] - 0s 154us/step - loss: 5.1728e-04 - val_loss: 0.0014\n",
      "Epoch 63/200\n",
      "45/45 [==============================] - 0s 169us/step - loss: 5.1710e-04 - val_loss: 0.0014\n",
      "Epoch 64/200\n",
      "45/45 [==============================] - 0s 157us/step - loss: 5.1699e-04 - val_loss: 0.0014\n",
      "Epoch 65/200\n",
      "45/45 [==============================] - 0s 150us/step - loss: 5.1695e-04 - val_loss: 0.0014\n",
      "Epoch 66/200\n",
      "45/45 [==============================] - 0s 165us/step - loss: 5.1689e-04 - val_loss: 0.0014\n",
      "Epoch 67/200\n",
      "45/45 [==============================] - 0s 152us/step - loss: 5.1678e-04 - val_loss: 0.0014\n",
      "Epoch 68/200\n",
      "45/45 [==============================] - 0s 149us/step - loss: 5.1665e-04 - val_loss: 0.0014\n",
      "Epoch 69/200\n",
      "45/45 [==============================] - 0s 186us/step - loss: 5.1653e-04 - val_loss: 0.0014\n",
      "Epoch 70/200\n",
      "45/45 [==============================] - 0s 157us/step - loss: 5.1646e-04 - val_loss: 0.0014\n",
      "Epoch 71/200\n",
      "45/45 [==============================] - 0s 180us/step - loss: 5.1641e-04 - val_loss: 0.0014\n",
      "Epoch 72/200\n",
      "45/45 [==============================] - 0s 165us/step - loss: 5.1634e-04 - val_loss: 0.0014\n",
      "Epoch 73/200\n",
      "45/45 [==============================] - 0s 149us/step - loss: 5.1623e-04 - val_loss: 0.0014\n",
      "Epoch 74/200\n",
      "45/45 [==============================] - 0s 163us/step - loss: 5.1613e-04 - val_loss: 0.0014\n",
      "Epoch 75/200\n",
      "45/45 [==============================] - 0s 157us/step - loss: 5.1605e-04 - val_loss: 0.0014\n",
      "Epoch 76/200\n",
      "45/45 [==============================] - 0s 162us/step - loss: 5.1600e-04 - val_loss: 0.0014\n",
      "Epoch 77/200\n",
      "45/45 [==============================] - 0s 168us/step - loss: 5.1593e-04 - val_loss: 0.0014\n"
     ]
    },
    {
     "name": "stdout",
     "output_type": "stream",
     "text": [
      "Epoch 78/200\n",
      "45/45 [==============================] - 0s 175us/step - loss: 5.1585e-04 - val_loss: 0.0014\n",
      "Epoch 79/200\n",
      "45/45 [==============================] - 0s 165us/step - loss: 5.1576e-04 - val_loss: 0.0014\n",
      "Epoch 80/200\n",
      "45/45 [==============================] - 0s 157us/step - loss: 5.1568e-04 - val_loss: 0.0014\n",
      "Epoch 81/200\n",
      "45/45 [==============================] - 0s 146us/step - loss: 5.1562e-04 - val_loss: 0.0014\n",
      "Epoch 82/200\n",
      "45/45 [==============================] - 0s 159us/step - loss: 5.1556e-04 - val_loss: 0.0014\n",
      "Epoch 83/200\n",
      "45/45 [==============================] - 0s 158us/step - loss: 5.1549e-04 - val_loss: 0.0014\n",
      "Epoch 84/200\n",
      "45/45 [==============================] - 0s 169us/step - loss: 5.1542e-04 - val_loss: 0.0014\n",
      "Epoch 85/200\n",
      "45/45 [==============================] - 0s 148us/step - loss: 5.1535e-04 - val_loss: 0.0014\n",
      "Epoch 86/200\n",
      "45/45 [==============================] - 0s 148us/step - loss: 5.1528e-04 - val_loss: 0.0014\n",
      "Epoch 87/200\n",
      "45/45 [==============================] - 0s 168us/step - loss: 5.1523e-04 - val_loss: 0.0014\n",
      "Epoch 88/200\n",
      "45/45 [==============================] - 0s 168us/step - loss: 5.1517e-04 - val_loss: 0.0014\n",
      "Epoch 89/200\n",
      "45/45 [==============================] - 0s 164us/step - loss: 5.1510e-04 - val_loss: 0.0014\n",
      "Epoch 90/200\n",
      "45/45 [==============================] - 0s 230us/step - loss: 5.1504e-04 - val_loss: 0.0014\n",
      "Epoch 91/200\n",
      "45/45 [==============================] - 0s 188us/step - loss: 5.1498e-04 - val_loss: 0.0014\n",
      "Epoch 92/200\n",
      "45/45 [==============================] - 0s 137us/step - loss: 5.1493e-04 - val_loss: 0.0014\n",
      "Epoch 93/200\n",
      "45/45 [==============================] - 0s 145us/step - loss: 5.1487e-04 - val_loss: 0.0014\n",
      "Epoch 94/200\n",
      "45/45 [==============================] - 0s 149us/step - loss: 5.1482e-04 - val_loss: 0.0014\n",
      "Epoch 95/200\n",
      "45/45 [==============================] - 0s 164us/step - loss: 5.1476e-04 - val_loss: 0.0014\n",
      "Epoch 96/200\n",
      "45/45 [==============================] - 0s 153us/step - loss: 5.1471e-04 - val_loss: 0.0014\n",
      "Epoch 97/200\n",
      "45/45 [==============================] - 0s 158us/step - loss: 5.1466e-04 - val_loss: 0.0014\n",
      "Epoch 98/200\n",
      "45/45 [==============================] - 0s 157us/step - loss: 5.1461e-04 - val_loss: 0.0014\n",
      "Epoch 99/200\n",
      "45/45 [==============================] - 0s 182us/step - loss: 5.1456e-04 - val_loss: 0.0014\n",
      "Epoch 100/200\n",
      "45/45 [==============================] - 0s 130us/step - loss: 5.1451e-04 - val_loss: 0.0014\n",
      "Epoch 101/200\n",
      "45/45 [==============================] - 0s 161us/step - loss: 5.1447e-04 - val_loss: 0.0014\n",
      "Epoch 102/200\n",
      "45/45 [==============================] - 0s 160us/step - loss: 5.1442e-04 - val_loss: 0.0014\n",
      "Epoch 103/200\n",
      "45/45 [==============================] - 0s 134us/step - loss: 5.1438e-04 - val_loss: 0.0014\n",
      "Epoch 104/200\n",
      "45/45 [==============================] - 0s 174us/step - loss: 5.1433e-04 - val_loss: 0.0014\n",
      "Epoch 105/200\n",
      "45/45 [==============================] - 0s 147us/step - loss: 5.1429e-04 - val_loss: 0.0014\n",
      "Epoch 106/200\n",
      "45/45 [==============================] - 0s 151us/step - loss: 5.1425e-04 - val_loss: 0.0014\n",
      "Epoch 107/200\n",
      "45/45 [==============================] - 0s 162us/step - loss: 5.1421e-04 - val_loss: 0.0014\n",
      "Epoch 108/200\n",
      "45/45 [==============================] - 0s 144us/step - loss: 5.1417e-04 - val_loss: 0.0014\n",
      "Epoch 109/200\n",
      "45/45 [==============================] - 0s 167us/step - loss: 5.1413e-04 - val_loss: 0.0014\n",
      "Epoch 110/200\n",
      "45/45 [==============================] - 0s 145us/step - loss: 5.1410e-04 - val_loss: 0.0014\n",
      "Epoch 111/200\n",
      "45/45 [==============================] - 0s 131us/step - loss: 5.1406e-04 - val_loss: 0.0014\n",
      "Epoch 112/200\n",
      "45/45 [==============================] - 0s 173us/step - loss: 5.1402e-04 - val_loss: 0.0014\n",
      "Epoch 113/200\n",
      "45/45 [==============================] - 0s 173us/step - loss: 5.1399e-04 - val_loss: 0.0014\n",
      "Epoch 114/200\n",
      "45/45 [==============================] - 0s 159us/step - loss: 5.1396e-04 - val_loss: 0.0014\n",
      "Epoch 115/200\n",
      "45/45 [==============================] - 0s 145us/step - loss: 5.1392e-04 - val_loss: 0.0014\n",
      "Epoch 116/200\n",
      "45/45 [==============================] - 0s 155us/step - loss: 5.1389e-04 - val_loss: 0.0014\n",
      "Epoch 117/200\n",
      "45/45 [==============================] - 0s 160us/step - loss: 5.1386e-04 - val_loss: 0.0014\n",
      "Epoch 118/200\n",
      "45/45 [==============================] - 0s 148us/step - loss: 5.1383e-04 - val_loss: 0.0014\n",
      "Epoch 119/200\n",
      "45/45 [==============================] - 0s 158us/step - loss: 5.1380e-04 - val_loss: 0.0014\n",
      "Epoch 120/200\n",
      "45/45 [==============================] - 0s 142us/step - loss: 5.1377e-04 - val_loss: 0.0014\n",
      "Epoch 121/200\n",
      "45/45 [==============================] - 0s 157us/step - loss: 5.1375e-04 - val_loss: 0.0014\n",
      "Epoch 122/200\n",
      "45/45 [==============================] - 0s 163us/step - loss: 5.1372e-04 - val_loss: 0.0014\n",
      "Epoch 123/200\n",
      "45/45 [==============================] - 0s 131us/step - loss: 5.1369e-04 - val_loss: 0.0014\n",
      "Epoch 124/200\n",
      "45/45 [==============================] - 0s 130us/step - loss: 5.1367e-04 - val_loss: 0.0014\n",
      "Epoch 125/200\n",
      "45/45 [==============================] - 0s 143us/step - loss: 5.1364e-04 - val_loss: 0.0014\n",
      "Epoch 126/200\n",
      "45/45 [==============================] - 0s 140us/step - loss: 5.1362e-04 - val_loss: 0.0014\n",
      "Epoch 127/200\n",
      "45/45 [==============================] - 0s 187us/step - loss: 5.1360e-04 - val_loss: 0.0014\n",
      "Epoch 128/200\n",
      "45/45 [==============================] - 0s 157us/step - loss: 5.1357e-04 - val_loss: 0.0014\n",
      "Epoch 129/200\n",
      "45/45 [==============================] - 0s 135us/step - loss: 5.1355e-04 - val_loss: 0.0014\n",
      "Epoch 130/200\n",
      "45/45 [==============================] - 0s 124us/step - loss: 5.1353e-04 - val_loss: 0.0014\n",
      "Epoch 131/200\n",
      "45/45 [==============================] - 0s 153us/step - loss: 5.1351e-04 - val_loss: 0.0014\n",
      "Epoch 132/200\n",
      "45/45 [==============================] - 0s 142us/step - loss: 5.1349e-04 - val_loss: 0.0014\n",
      "Epoch 133/200\n",
      "45/45 [==============================] - 0s 133us/step - loss: 5.1347e-04 - val_loss: 0.0014\n",
      "Epoch 134/200\n",
      "45/45 [==============================] - 0s 147us/step - loss: 5.1345e-04 - val_loss: 0.0014\n",
      "Epoch 135/200\n",
      "45/45 [==============================] - 0s 140us/step - loss: 5.1343e-04 - val_loss: 0.0014\n",
      "Epoch 136/200\n",
      "45/45 [==============================] - 0s 130us/step - loss: 5.1342e-04 - val_loss: 0.0014\n",
      "Epoch 137/200\n",
      "45/45 [==============================] - 0s 160us/step - loss: 5.1340e-04 - val_loss: 0.0014\n",
      "Epoch 138/200\n",
      "45/45 [==============================] - 0s 150us/step - loss: 5.1338e-04 - val_loss: 0.0014\n",
      "Epoch 139/200\n",
      "45/45 [==============================] - 0s 156us/step - loss: 5.1337e-04 - val_loss: 0.0014\n",
      "Epoch 140/200\n",
      "45/45 [==============================] - 0s 135us/step - loss: 5.1335e-04 - val_loss: 0.0014\n",
      "Epoch 141/200\n",
      "45/45 [==============================] - 0s 157us/step - loss: 5.1333e-04 - val_loss: 0.0014\n",
      "Epoch 142/200\n",
      "45/45 [==============================] - 0s 119us/step - loss: 5.1332e-04 - val_loss: 0.0014\n",
      "Epoch 143/200\n",
      "45/45 [==============================] - 0s 161us/step - loss: 5.1331e-04 - val_loss: 0.0014\n",
      "Epoch 144/200\n",
      "45/45 [==============================] - 0s 145us/step - loss: 5.1329e-04 - val_loss: 0.0014\n",
      "Epoch 145/200\n",
      "45/45 [==============================] - 0s 138us/step - loss: 5.1328e-04 - val_loss: 0.0014\n",
      "Epoch 146/200\n",
      "45/45 [==============================] - 0s 137us/step - loss: 5.1327e-04 - val_loss: 0.0014\n",
      "Epoch 147/200\n",
      "45/45 [==============================] - 0s 139us/step - loss: 5.1325e-04 - val_loss: 0.0014\n",
      "Epoch 148/200\n",
      "45/45 [==============================] - 0s 150us/step - loss: 5.1324e-04 - val_loss: 0.0014\n",
      "Epoch 149/200\n",
      "45/45 [==============================] - 0s 140us/step - loss: 5.1323e-04 - val_loss: 0.0014\n",
      "Epoch 150/200\n",
      "45/45 [==============================] - 0s 152us/step - loss: 5.1322e-04 - val_loss: 0.0014\n",
      "Epoch 151/200\n",
      "45/45 [==============================] - 0s 130us/step - loss: 5.1321e-04 - val_loss: 0.0014\n",
      "Epoch 152/200\n",
      "45/45 [==============================] - 0s 132us/step - loss: 5.1320e-04 - val_loss: 0.0014\n",
      "Epoch 153/200\n",
      "45/45 [==============================] - 0s 140us/step - loss: 5.1319e-04 - val_loss: 0.0014\n",
      "Epoch 154/200\n",
      "45/45 [==============================] - 0s 144us/step - loss: 5.1318e-04 - val_loss: 0.0014\n"
     ]
    },
    {
     "name": "stdout",
     "output_type": "stream",
     "text": [
      "Epoch 155/200\n",
      "45/45 [==============================] - 0s 170us/step - loss: 5.1317e-04 - val_loss: 0.0014\n",
      "Epoch 156/200\n",
      "45/45 [==============================] - 0s 150us/step - loss: 5.1316e-04 - val_loss: 0.0014\n",
      "Epoch 157/200\n",
      "45/45 [==============================] - 0s 204us/step - loss: 5.1315e-04 - val_loss: 0.0014\n",
      "Epoch 158/200\n",
      "45/45 [==============================] - 0s 159us/step - loss: 5.1314e-04 - val_loss: 0.0014\n",
      "Epoch 159/200\n",
      "45/45 [==============================] - 0s 147us/step - loss: 5.1313e-04 - val_loss: 0.0014\n",
      "Epoch 160/200\n",
      "45/45 [==============================] - 0s 198us/step - loss: 5.1313e-04 - val_loss: 0.0014\n",
      "Epoch 161/200\n",
      "45/45 [==============================] - 0s 148us/step - loss: 5.1312e-04 - val_loss: 0.0014\n",
      "Epoch 162/200\n",
      "45/45 [==============================] - 0s 154us/step - loss: 5.1311e-04 - val_loss: 0.0014\n",
      "Epoch 163/200\n",
      "45/45 [==============================] - 0s 197us/step - loss: 5.1310e-04 - val_loss: 0.0014\n",
      "Epoch 164/200\n",
      "45/45 [==============================] - 0s 168us/step - loss: 5.1310e-04 - val_loss: 0.0014\n",
      "Epoch 165/200\n",
      "45/45 [==============================] - 0s 153us/step - loss: 5.1309e-04 - val_loss: 0.0014\n",
      "Epoch 166/200\n",
      "45/45 [==============================] - 0s 154us/step - loss: 5.1308e-04 - val_loss: 0.0014\n",
      "Epoch 167/200\n",
      "45/45 [==============================] - 0s 166us/step - loss: 5.1308e-04 - val_loss: 0.0014\n",
      "Epoch 168/200\n",
      "45/45 [==============================] - 0s 196us/step - loss: 5.1307e-04 - val_loss: 0.0014\n",
      "Epoch 169/200\n",
      "45/45 [==============================] - 0s 164us/step - loss: 5.1306e-04 - val_loss: 0.0014\n",
      "Epoch 170/200\n",
      "45/45 [==============================] - 0s 149us/step - loss: 5.1306e-04 - val_loss: 0.0014\n",
      "Epoch 171/200\n",
      "45/45 [==============================] - 0s 148us/step - loss: 5.1305e-04 - val_loss: 0.0014\n",
      "Epoch 172/200\n",
      "45/45 [==============================] - 0s 152us/step - loss: 5.1305e-04 - val_loss: 0.0014\n",
      "Epoch 173/200\n",
      "45/45 [==============================] - 0s 140us/step - loss: 5.1304e-04 - val_loss: 0.0014\n",
      "Epoch 174/200\n",
      "45/45 [==============================] - 0s 149us/step - loss: 5.1303e-04 - val_loss: 0.0014\n",
      "Epoch 175/200\n",
      "45/45 [==============================] - 0s 144us/step - loss: 5.1303e-04 - val_loss: 0.0014\n",
      "Epoch 176/200\n",
      "45/45 [==============================] - 0s 148us/step - loss: 5.1302e-04 - val_loss: 0.0014\n",
      "Epoch 177/200\n",
      "45/45 [==============================] - 0s 148us/step - loss: 5.1302e-04 - val_loss: 0.0014\n",
      "Epoch 178/200\n",
      "45/45 [==============================] - 0s 147us/step - loss: 5.1302e-04 - val_loss: 0.0014\n",
      "Epoch 179/200\n",
      "45/45 [==============================] - 0s 156us/step - loss: 5.1301e-04 - val_loss: 0.0014\n",
      "Epoch 180/200\n",
      "45/45 [==============================] - 0s 137us/step - loss: 5.1301e-04 - val_loss: 0.0014\n",
      "Epoch 181/200\n",
      "45/45 [==============================] - 0s 146us/step - loss: 5.1300e-04 - val_loss: 0.0014\n",
      "Epoch 182/200\n",
      "45/45 [==============================] - 0s 148us/step - loss: 5.1300e-04 - val_loss: 0.0014\n",
      "Epoch 183/200\n",
      "45/45 [==============================] - 0s 150us/step - loss: 5.1299e-04 - val_loss: 0.0014\n",
      "Epoch 184/200\n",
      "45/45 [==============================] - 0s 153us/step - loss: 5.1299e-04 - val_loss: 0.0014\n",
      "Epoch 185/200\n",
      "45/45 [==============================] - 0s 155us/step - loss: 5.1298e-04 - val_loss: 0.0014\n",
      "Epoch 186/200\n",
      "45/45 [==============================] - 0s 151us/step - loss: 5.1298e-04 - val_loss: 0.0014\n",
      "Epoch 187/200\n",
      "45/45 [==============================] - 0s 139us/step - loss: 5.1298e-04 - val_loss: 0.0014\n",
      "Epoch 188/200\n",
      "45/45 [==============================] - 0s 150us/step - loss: 5.1297e-04 - val_loss: 0.0014\n",
      "Epoch 189/200\n",
      "45/45 [==============================] - 0s 134us/step - loss: 5.1297e-04 - val_loss: 0.0014\n",
      "Epoch 190/200\n",
      "45/45 [==============================] - 0s 135us/step - loss: 5.1297e-04 - val_loss: 0.0014\n",
      "Epoch 191/200\n",
      "45/45 [==============================] - 0s 178us/step - loss: 5.1296e-04 - val_loss: 0.0014\n",
      "Epoch 192/200\n",
      "45/45 [==============================] - 0s 135us/step - loss: 5.1296e-04 - val_loss: 0.0014\n",
      "Epoch 193/200\n",
      "45/45 [==============================] - 0s 133us/step - loss: 5.1295e-04 - val_loss: 0.0014\n",
      "Epoch 194/200\n",
      "45/45 [==============================] - 0s 177us/step - loss: 5.1295e-04 - val_loss: 0.0014\n",
      "Epoch 195/200\n",
      "45/45 [==============================] - 0s 164us/step - loss: 5.1295e-04 - val_loss: 0.0014\n",
      "Epoch 196/200\n",
      "45/45 [==============================] - 0s 130us/step - loss: 5.1294e-04 - val_loss: 0.0014\n",
      "Epoch 197/200\n",
      "45/45 [==============================] - 0s 170us/step - loss: 5.1294e-04 - val_loss: 0.0014\n",
      "Epoch 198/200\n",
      "45/45 [==============================] - 0s 169us/step - loss: 5.1294e-04 - val_loss: 0.0014\n",
      "Epoch 199/200\n",
      "45/45 [==============================] - 0s 158us/step - loss: 5.1293e-04 - val_loss: 0.0014\n",
      "Epoch 200/200\n",
      "45/45 [==============================] - 0s 203us/step - loss: 5.1293e-04 - val_loss: 0.0014\n",
      "\n",
      "\n",
      "Baseline MSE: 0.00030874509427494926\n",
      "Baseline RMSE: 0.017571143795295435\n",
      "\n",
      "\n"
     ]
    },
    {
     "data": {
      "image/png": "[encoded data removed]",
      "text/plain": [
       "<Figure size 432x288 with 1 Axes>"
      ]
     },
     "metadata": {
      "needs_background": "light"
     },
     "output_type": "display_data"
    }
   ],
   "source": [
    "appmodel = Sequential()\n",
    "appmodel.add(LSTM(50, activation='linear', input_shape=(n_steps, n_features)))\n",
    "appmodel.add(Dense(1))\n",
    "appmodel.compile(optimizer='adam', loss='mse')\n",
    "\n",
    "appmodelresult = appmodel.fit(X_train, y_train, batch_size=100, epochs=200, validation_split=(0.3))\n",
    "\n",
    "yhat5 = appmodel.predict(X_test)\n",
    "print('\\n')\n",
    "rmse = np.sqrt(mean_squared_error(y_test, yhat5))\n",
    "print('Baseline MSE:', mean_squared_error(y_test, yhat5))\n",
    "print('Baseline RMSE:', rmse)\n",
    "print('\\n')\n",
    "visualize_training_results(appmodelresult)"
   ]
  },
  {
   "cell_type": "markdown",
   "metadata": {},
   "source": [
    "As the validation loss is higher than, and never converges with the training loss, our model is underfit. Let's try training for more time/epochs."
   ]
  },
  {
   "cell_type": "code",
   "execution_count": 67,
   "metadata": {
    "ExecuteTime": {
     "end_time": "2021-01-28T16:06:29.572572Z",
     "start_time": "2021-01-28T16:06:23.246640Z"
    }
   },
   "outputs": [
    {
     "name": "stdout",
     "output_type": "stream",
     "text": [
      "Train on 45 samples, validate on 20 samples\n",
      "Epoch 1/500\n",
      "45/45 [==============================] - 1s 19ms/step - loss: 7.2826e-04 - val_loss: 0.0014\n",
      "Epoch 2/500\n",
      "45/45 [==============================] - 0s 153us/step - loss: 6.0850e-04 - val_loss: 0.0014\n",
      "Epoch 3/500\n",
      "45/45 [==============================] - 0s 158us/step - loss: 5.9206e-04 - val_loss: 0.0014\n",
      "Epoch 4/500\n",
      "45/45 [==============================] - 0s 159us/step - loss: 6.2544e-04 - val_loss: 0.0014\n",
      "Epoch 5/500\n",
      "45/45 [==============================] - 0s 157us/step - loss: 6.3694e-04 - val_loss: 0.0014\n",
      "Epoch 6/500\n",
      "45/45 [==============================] - 0s 157us/step - loss: 6.1857e-04 - val_loss: 0.0014\n",
      "Epoch 7/500\n",
      "45/45 [==============================] - 0s 197us/step - loss: 5.9259e-04 - val_loss: 0.0013\n",
      "Epoch 8/500\n",
      "45/45 [==============================] - 0s 172us/step - loss: 5.7635e-04 - val_loss: 0.0013\n",
      "Epoch 9/500\n",
      "45/45 [==============================] - 0s 150us/step - loss: 5.7481e-04 - val_loss: 0.0013\n",
      "Epoch 10/500\n",
      "45/45 [==============================] - 0s 169us/step - loss: 5.8221e-04 - val_loss: 0.0013\n",
      "Epoch 11/500\n",
      "45/45 [==============================] - 0s 170us/step - loss: 5.8856e-04 - val_loss: 0.0013\n",
      "Epoch 12/500\n",
      "45/45 [==============================] - 0s 196us/step - loss: 5.8755e-04 - val_loss: 0.0013\n",
      "Epoch 13/500\n",
      "45/45 [==============================] - 0s 157us/step - loss: 5.7934e-04 - val_loss: 0.0013\n",
      "Epoch 14/500\n",
      "45/45 [==============================] - 0s 163us/step - loss: 5.6845e-04 - val_loss: 0.0013\n",
      "Epoch 15/500\n",
      "45/45 [==============================] - 0s 151us/step - loss: 5.6003e-04 - val_loss: 0.0013\n",
      "Epoch 16/500\n",
      "45/45 [==============================] - 0s 178us/step - loss: 5.5692e-04 - val_loss: 0.0013\n",
      "Epoch 17/500\n",
      "45/45 [==============================] - 0s 183us/step - loss: 5.5847e-04 - val_loss: 0.0014\n",
      "Epoch 18/500\n",
      "45/45 [==============================] - 0s 160us/step - loss: 5.6114e-04 - val_loss: 0.0014\n",
      "Epoch 19/500\n",
      "45/45 [==============================] - 0s 171us/step - loss: 5.6126e-04 - val_loss: 0.0014\n",
      "Epoch 20/500\n",
      "45/45 [==============================] - 0s 151us/step - loss: 5.5762e-04 - val_loss: 0.0014\n",
      "Epoch 21/500\n",
      "45/45 [==============================] - 0s 202us/step - loss: 5.5176e-04 - val_loss: 0.0013\n",
      "Epoch 22/500\n",
      "45/45 [==============================] - 0s 169us/step - loss: 5.4644e-04 - val_loss: 0.0013\n",
      "Epoch 23/500\n",
      "45/45 [==============================] - 0s 167us/step - loss: 5.4365e-04 - val_loss: 0.0013\n",
      "Epoch 24/500\n",
      "45/45 [==============================] - 0s 149us/step - loss: 5.4354e-04 - val_loss: 0.0013\n",
      "Epoch 25/500\n",
      "45/45 [==============================] - 0s 155us/step - loss: 5.4445e-04 - val_loss: 0.0013\n",
      "Epoch 26/500\n",
      "45/45 [==============================] - 0s 154us/step - loss: 5.4436e-04 - val_loss: 0.0013\n",
      "Epoch 27/500\n",
      "45/45 [==============================] - 0s 177us/step - loss: 5.4232e-04 - val_loss: 0.0013\n",
      "Epoch 28/500\n",
      "45/45 [==============================] - 0s 159us/step - loss: 5.3892e-04 - val_loss: 0.0013\n",
      "Epoch 29/500\n",
      "45/45 [==============================] - 0s 191us/step - loss: 5.3577e-04 - val_loss: 0.0013\n",
      "Epoch 30/500\n",
      "45/45 [==============================] - 0s 149us/step - loss: 5.3409e-04 - val_loss: 0.0014\n",
      "Epoch 31/500\n",
      "45/45 [==============================] - 0s 171us/step - loss: 5.3395e-04 - val_loss: 0.0014\n",
      "Epoch 32/500\n",
      "45/45 [==============================] - 0s 170us/step - loss: 5.3429e-04 - val_loss: 0.0014\n",
      "Epoch 33/500\n",
      "45/45 [==============================] - 0s 162us/step - loss: 5.3387e-04 - val_loss: 0.0014\n",
      "Epoch 34/500\n",
      "45/45 [==============================] - 0s 172us/step - loss: 5.3230e-04 - val_loss: 0.0014\n",
      "Epoch 35/500\n",
      "45/45 [==============================] - 0s 167us/step - loss: 5.3024e-04 - val_loss: 0.0014\n",
      "Epoch 36/500\n",
      "45/45 [==============================] - 0s 165us/step - loss: 5.2873e-04 - val_loss: 0.0014\n",
      "Epoch 37/500\n",
      "45/45 [==============================] - 0s 156us/step - loss: 5.2829e-04 - val_loss: 0.0014\n",
      "Epoch 38/500\n",
      "45/45 [==============================] - 0s 148us/step - loss: 5.2848e-04 - val_loss: 0.0014\n",
      "Epoch 39/500\n",
      "45/45 [==============================] - 0s 149us/step - loss: 5.2843e-04 - val_loss: 0.0014\n",
      "Epoch 40/500\n",
      "45/45 [==============================] - 0s 165us/step - loss: 5.2768e-04 - val_loss: 0.0014\n",
      "Epoch 41/500\n",
      "45/45 [==============================] - 0s 199us/step - loss: 5.2650e-04 - val_loss: 0.0014\n",
      "Epoch 42/500\n",
      "45/45 [==============================] - 0s 170us/step - loss: 5.2558e-04 - val_loss: 0.0014\n",
      "Epoch 43/500\n",
      "45/45 [==============================] - 0s 148us/step - loss: 5.2532e-04 - val_loss: 0.0014\n",
      "Epoch 44/500\n",
      "45/45 [==============================] - 0s 147us/step - loss: 5.2548e-04 - val_loss: 0.0014\n",
      "Epoch 45/500\n",
      "45/45 [==============================] - 0s 153us/step - loss: 5.2547e-04 - val_loss: 0.0014\n",
      "Epoch 46/500\n",
      "45/45 [==============================] - 0s 157us/step - loss: 5.2501e-04 - val_loss: 0.0014\n",
      "Epoch 47/500\n",
      "45/45 [==============================] - 0s 172us/step - loss: 5.2433e-04 - val_loss: 0.0014\n",
      "Epoch 48/500\n",
      "45/45 [==============================] - 0s 199us/step - loss: 5.2389e-04 - val_loss: 0.0014\n",
      "Epoch 49/500\n",
      "45/45 [==============================] - 0s 140us/step - loss: 5.2386e-04 - val_loss: 0.0014\n",
      "Epoch 50/500\n",
      "45/45 [==============================] - 0s 144us/step - loss: 5.2397e-04 - val_loss: 0.0014\n",
      "Epoch 51/500\n",
      "45/45 [==============================] - 0s 138us/step - loss: 5.2386e-04 - val_loss: 0.0014\n",
      "Epoch 52/500\n",
      "45/45 [==============================] - 0s 146us/step - loss: 5.2349e-04 - val_loss: 0.0014\n",
      "Epoch 53/500\n",
      "45/45 [==============================] - 0s 170us/step - loss: 5.2310e-04 - val_loss: 0.0014\n",
      "Epoch 54/500\n",
      "45/45 [==============================] - 0s 195us/step - loss: 5.2294e-04 - val_loss: 0.0014\n",
      "Epoch 55/500\n",
      "45/45 [==============================] - 0s 159us/step - loss: 5.2297e-04 - val_loss: 0.0014\n",
      "Epoch 56/500\n",
      "45/45 [==============================] - 0s 153us/step - loss: 5.2294e-04 - val_loss: 0.0014\n",
      "Epoch 57/500\n",
      "45/45 [==============================] - 0s 156us/step - loss: 5.2272e-04 - val_loss: 0.0014\n",
      "Epoch 58/500\n",
      "45/45 [==============================] - 0s 161us/step - loss: 5.2242e-04 - val_loss: 0.0014\n",
      "Epoch 59/500\n",
      "45/45 [==============================] - 0s 160us/step - loss: 5.2221e-04 - val_loss: 0.0014\n",
      "Epoch 60/500\n",
      "45/45 [==============================] - 0s 212us/step - loss: 5.2214e-04 - val_loss: 0.0014\n",
      "Epoch 61/500\n",
      "45/45 [==============================] - 0s 158us/step - loss: 5.2209e-04 - val_loss: 0.0014\n",
      "Epoch 62/500\n",
      "45/45 [==============================] - 0s 155us/step - loss: 5.2193e-04 - val_loss: 0.0014\n",
      "Epoch 63/500\n",
      "45/45 [==============================] - 0s 145us/step - loss: 5.2169e-04 - val_loss: 0.0014\n",
      "Epoch 64/500\n",
      "45/45 [==============================] - 0s 143us/step - loss: 5.2148e-04 - val_loss: 0.0014\n",
      "Epoch 65/500\n",
      "45/45 [==============================] - 0s 146us/step - loss: 5.2135e-04 - val_loss: 0.0014\n",
      "Epoch 66/500\n",
      "45/45 [==============================] - 0s 194us/step - loss: 5.2126e-04 - val_loss: 0.0014\n",
      "Epoch 67/500\n",
      "45/45 [==============================] - 0s 244us/step - loss: 5.2112e-04 - val_loss: 0.0014\n",
      "Epoch 68/500\n",
      "45/45 [==============================] - 0s 165us/step - loss: 5.2092e-04 - val_loss: 0.0014\n",
      "Epoch 69/500\n",
      "45/45 [==============================] - 0s 176us/step - loss: 5.2073e-04 - val_loss: 0.0014\n",
      "Epoch 70/500\n",
      "45/45 [==============================] - 0s 142us/step - loss: 5.2059e-04 - val_loss: 0.0014\n",
      "Epoch 71/500\n",
      "45/45 [==============================] - 0s 207us/step - loss: 5.2047e-04 - val_loss: 0.0014\n",
      "Epoch 72/500\n",
      "45/45 [==============================] - 0s 174us/step - loss: 5.2034e-04 - val_loss: 0.0014\n",
      "Epoch 73/500\n",
      "45/45 [==============================] - 0s 184us/step - loss: 5.2018e-04 - val_loss: 0.0014\n",
      "Epoch 74/500\n",
      "45/45 [==============================] - 0s 153us/step - loss: 5.2001e-04 - val_loss: 0.0014\n",
      "Epoch 75/500\n",
      "45/45 [==============================] - 0s 182us/step - loss: 5.1987e-04 - val_loss: 0.0014\n",
      "Epoch 76/500\n",
      "45/45 [==============================] - 0s 176us/step - loss: 5.1976e-04 - val_loss: 0.0014\n",
      "Epoch 77/500\n",
      "45/45 [==============================] - 0s 146us/step - loss: 5.1964e-04 - val_loss: 0.0014\n"
     ]
    },
    {
     "name": "stdout",
     "output_type": "stream",
     "text": [
      "Epoch 78/500\n",
      "45/45 [==============================] - 0s 209us/step - loss: 5.1950e-04 - val_loss: 0.0014\n",
      "Epoch 79/500\n",
      "45/45 [==============================] - 0s 145us/step - loss: 5.1935e-04 - val_loss: 0.0014\n",
      "Epoch 80/500\n",
      "45/45 [==============================] - 0s 192us/step - loss: 5.1922e-04 - val_loss: 0.0014\n",
      "Epoch 81/500\n",
      "45/45 [==============================] - 0s 172us/step - loss: 5.1911e-04 - val_loss: 0.0014\n",
      "Epoch 82/500\n",
      "45/45 [==============================] - 0s 171us/step - loss: 5.1900e-04 - val_loss: 0.0014\n",
      "Epoch 83/500\n",
      "45/45 [==============================] - 0s 195us/step - loss: 5.1888e-04 - val_loss: 0.0014\n",
      "Epoch 84/500\n",
      "45/45 [==============================] - 0s 166us/step - loss: 5.1875e-04 - val_loss: 0.0014\n",
      "Epoch 85/500\n",
      "45/45 [==============================] - 0s 217us/step - loss: 5.1863e-04 - val_loss: 0.0014\n",
      "Epoch 86/500\n",
      "45/45 [==============================] - 0s 159us/step - loss: 5.1853e-04 - val_loss: 0.0014\n",
      "Epoch 87/500\n",
      "45/45 [==============================] - 0s 185us/step - loss: 5.1842e-04 - val_loss: 0.0014\n",
      "Epoch 88/500\n",
      "45/45 [==============================] - 0s 174us/step - loss: 5.1831e-04 - val_loss: 0.0014\n",
      "Epoch 89/500\n",
      "45/45 [==============================] - 0s 185us/step - loss: 5.1820e-04 - val_loss: 0.0014\n",
      "Epoch 90/500\n",
      "45/45 [==============================] - 0s 165us/step - loss: 5.1809e-04 - val_loss: 0.0014\n",
      "Epoch 91/500\n",
      "45/45 [==============================] - 0s 169us/step - loss: 5.1799e-04 - val_loss: 0.0014\n",
      "Epoch 92/500\n",
      "45/45 [==============================] - 0s 168us/step - loss: 5.1789e-04 - val_loss: 0.0014\n",
      "Epoch 93/500\n",
      "45/45 [==============================] - 0s 153us/step - loss: 5.1779e-04 - val_loss: 0.0014\n",
      "Epoch 94/500\n",
      "45/45 [==============================] - 0s 164us/step - loss: 5.1769e-04 - val_loss: 0.0014\n",
      "Epoch 95/500\n",
      "45/45 [==============================] - 0s 200us/step - loss: 5.1759e-04 - val_loss: 0.0014\n",
      "Epoch 96/500\n",
      "45/45 [==============================] - 0s 178us/step - loss: 5.1749e-04 - val_loss: 0.0014\n",
      "Epoch 97/500\n",
      "45/45 [==============================] - 0s 176us/step - loss: 5.1740e-04 - val_loss: 0.0014\n",
      "Epoch 98/500\n",
      "45/45 [==============================] - 0s 187us/step - loss: 5.1731e-04 - val_loss: 0.0014\n",
      "Epoch 99/500\n",
      "45/45 [==============================] - 0s 178us/step - loss: 5.1721e-04 - val_loss: 0.0014\n",
      "Epoch 100/500\n",
      "45/45 [==============================] - 0s 164us/step - loss: 5.1712e-04 - val_loss: 0.0014\n",
      "Epoch 101/500\n",
      "45/45 [==============================] - 0s 179us/step - loss: 5.1703e-04 - val_loss: 0.0014\n",
      "Epoch 102/500\n",
      "45/45 [==============================] - 0s 157us/step - loss: 5.1694e-04 - val_loss: 0.0014\n",
      "Epoch 103/500\n",
      "45/45 [==============================] - 0s 160us/step - loss: 5.1686e-04 - val_loss: 0.0014\n",
      "Epoch 104/500\n",
      "45/45 [==============================] - 0s 176us/step - loss: 5.1677e-04 - val_loss: 0.0014\n",
      "Epoch 105/500\n",
      "45/45 [==============================] - 0s 184us/step - loss: 5.1668e-04 - val_loss: 0.0014\n",
      "Epoch 106/500\n",
      "45/45 [==============================] - 0s 173us/step - loss: 5.1660e-04 - val_loss: 0.0014\n",
      "Epoch 107/500\n",
      "45/45 [==============================] - 0s 168us/step - loss: 5.1652e-04 - val_loss: 0.0014\n",
      "Epoch 108/500\n",
      "45/45 [==============================] - 0s 165us/step - loss: 5.1644e-04 - val_loss: 0.0014\n",
      "Epoch 109/500\n",
      "45/45 [==============================] - 0s 149us/step - loss: 5.1636e-04 - val_loss: 0.0014\n",
      "Epoch 110/500\n",
      "45/45 [==============================] - 0s 145us/step - loss: 5.1628e-04 - val_loss: 0.0014\n",
      "Epoch 111/500\n",
      "45/45 [==============================] - 0s 147us/step - loss: 5.1621e-04 - val_loss: 0.0014\n",
      "Epoch 112/500\n",
      "45/45 [==============================] - 0s 159us/step - loss: 5.1613e-04 - val_loss: 0.0014\n",
      "Epoch 113/500\n",
      "45/45 [==============================] - 0s 157us/step - loss: 5.1606e-04 - val_loss: 0.0014\n",
      "Epoch 114/500\n",
      "45/45 [==============================] - 0s 159us/step - loss: 5.1598e-04 - val_loss: 0.0014\n",
      "Epoch 115/500\n",
      "45/45 [==============================] - 0s 149us/step - loss: 5.1591e-04 - val_loss: 0.0014\n",
      "Epoch 116/500\n",
      "45/45 [==============================] - 0s 153us/step - loss: 5.1584e-04 - val_loss: 0.0014\n",
      "Epoch 117/500\n",
      "45/45 [==============================] - 0s 146us/step - loss: 5.1577e-04 - val_loss: 0.0014\n",
      "Epoch 118/500\n",
      "45/45 [==============================] - 0s 164us/step - loss: 5.1571e-04 - val_loss: 0.0014\n",
      "Epoch 119/500\n",
      "45/45 [==============================] - 0s 149us/step - loss: 5.1564e-04 - val_loss: 0.0014\n",
      "Epoch 120/500\n",
      "45/45 [==============================] - 0s 155us/step - loss: 5.1558e-04 - val_loss: 0.0014\n",
      "Epoch 121/500\n",
      "45/45 [==============================] - 0s 164us/step - loss: 5.1551e-04 - val_loss: 0.0014\n",
      "Epoch 122/500\n",
      "45/45 [==============================] - 0s 150us/step - loss: 5.1545e-04 - val_loss: 0.0014\n",
      "Epoch 123/500\n",
      "45/45 [==============================] - 0s 162us/step - loss: 5.1539e-04 - val_loss: 0.0014\n",
      "Epoch 124/500\n",
      "45/45 [==============================] - 0s 147us/step - loss: 5.1533e-04 - val_loss: 0.0014\n",
      "Epoch 125/500\n",
      "45/45 [==============================] - 0s 148us/step - loss: 5.1527e-04 - val_loss: 0.0014\n",
      "Epoch 126/500\n",
      "45/45 [==============================] - 0s 162us/step - loss: 5.1521e-04 - val_loss: 0.0014\n",
      "Epoch 127/500\n",
      "45/45 [==============================] - 0s 150us/step - loss: 5.1515e-04 - val_loss: 0.0014\n",
      "Epoch 128/500\n",
      "45/45 [==============================] - 0s 153us/step - loss: 5.1510e-04 - val_loss: 0.0014\n",
      "Epoch 129/500\n",
      "45/45 [==============================] - 0s 145us/step - loss: 5.1504e-04 - val_loss: 0.0014\n",
      "Epoch 130/500\n",
      "45/45 [==============================] - 0s 149us/step - loss: 5.1499e-04 - val_loss: 0.0014\n",
      "Epoch 131/500\n",
      "45/45 [==============================] - 0s 151us/step - loss: 5.1494e-04 - val_loss: 0.0014\n",
      "Epoch 132/500\n",
      "45/45 [==============================] - 0s 149us/step - loss: 5.1488e-04 - val_loss: 0.0014\n",
      "Epoch 133/500\n",
      "45/45 [==============================] - 0s 157us/step - loss: 5.1483e-04 - val_loss: 0.0014\n",
      "Epoch 134/500\n",
      "45/45 [==============================] - 0s 147us/step - loss: 5.1479e-04 - val_loss: 0.0014\n",
      "Epoch 135/500\n",
      "45/45 [==============================] - 0s 149us/step - loss: 5.1474e-04 - val_loss: 0.0014\n",
      "Epoch 136/500\n",
      "45/45 [==============================] - 0s 150us/step - loss: 5.1469e-04 - val_loss: 0.0014\n",
      "Epoch 137/500\n",
      "45/45 [==============================] - 0s 144us/step - loss: 5.1464e-04 - val_loss: 0.0014\n",
      "Epoch 138/500\n",
      "45/45 [==============================] - 0s 162us/step - loss: 5.1460e-04 - val_loss: 0.0014\n",
      "Epoch 139/500\n",
      "45/45 [==============================] - 0s 164us/step - loss: 5.1455e-04 - val_loss: 0.0014\n",
      "Epoch 140/500\n",
      "45/45 [==============================] - 0s 158us/step - loss: 5.1451e-04 - val_loss: 0.0014\n",
      "Epoch 141/500\n",
      "45/45 [==============================] - 0s 161us/step - loss: 5.1447e-04 - val_loss: 0.0014\n",
      "Epoch 142/500\n",
      "45/45 [==============================] - 0s 173us/step - loss: 5.1443e-04 - val_loss: 0.0014\n",
      "Epoch 143/500\n",
      "45/45 [==============================] - 0s 181us/step - loss: 5.1439e-04 - val_loss: 0.0014\n",
      "Epoch 144/500\n",
      "45/45 [==============================] - 0s 166us/step - loss: 5.1435e-04 - val_loss: 0.0014\n",
      "Epoch 145/500\n",
      "45/45 [==============================] - 0s 170us/step - loss: 5.1431e-04 - val_loss: 0.0014\n",
      "Epoch 146/500\n",
      "45/45 [==============================] - 0s 191us/step - loss: 5.1427e-04 - val_loss: 0.0014\n",
      "Epoch 147/500\n",
      "45/45 [==============================] - 0s 176us/step - loss: 5.1423e-04 - val_loss: 0.0014\n",
      "Epoch 148/500\n",
      "45/45 [==============================] - 0s 178us/step - loss: 5.1420e-04 - val_loss: 0.0014\n",
      "Epoch 149/500\n",
      "45/45 [==============================] - 0s 175us/step - loss: 5.1416e-04 - val_loss: 0.0014\n",
      "Epoch 150/500\n",
      "45/45 [==============================] - 0s 178us/step - loss: 5.1413e-04 - val_loss: 0.0014\n",
      "Epoch 151/500\n",
      "45/45 [==============================] - 0s 166us/step - loss: 5.1409e-04 - val_loss: 0.0014\n",
      "Epoch 152/500\n",
      "45/45 [==============================] - 0s 163us/step - loss: 5.1406e-04 - val_loss: 0.0014\n",
      "Epoch 153/500\n",
      "45/45 [==============================] - 0s 175us/step - loss: 5.1403e-04 - val_loss: 0.0014\n",
      "Epoch 154/500\n",
      "45/45 [==============================] - 0s 182us/step - loss: 5.1399e-04 - val_loss: 0.0014\n"
     ]
    },
    {
     "name": "stdout",
     "output_type": "stream",
     "text": [
      "Epoch 155/500\n",
      "45/45 [==============================] - 0s 196us/step - loss: 5.1396e-04 - val_loss: 0.0014\n",
      "Epoch 156/500\n",
      "45/45 [==============================] - 0s 165us/step - loss: 5.1393e-04 - val_loss: 0.0014\n",
      "Epoch 157/500\n",
      "45/45 [==============================] - 0s 168us/step - loss: 5.1390e-04 - val_loss: 0.0014\n",
      "Epoch 158/500\n",
      "45/45 [==============================] - 0s 148us/step - loss: 5.1388e-04 - val_loss: 0.0014\n",
      "Epoch 159/500\n",
      "45/45 [==============================] - 0s 156us/step - loss: 5.1385e-04 - val_loss: 0.0014\n",
      "Epoch 160/500\n",
      "45/45 [==============================] - 0s 160us/step - loss: 5.1382e-04 - val_loss: 0.0014\n",
      "Epoch 161/500\n",
      "45/45 [==============================] - 0s 143us/step - loss: 5.1379e-04 - val_loss: 0.0014\n",
      "Epoch 162/500\n",
      "45/45 [==============================] - 0s 153us/step - loss: 5.1377e-04 - val_loss: 0.0014\n",
      "Epoch 163/500\n",
      "45/45 [==============================] - 0s 154us/step - loss: 5.1374e-04 - val_loss: 0.0014\n",
      "Epoch 164/500\n",
      "45/45 [==============================] - 0s 150us/step - loss: 5.1372e-04 - val_loss: 0.0014\n",
      "Epoch 165/500\n",
      "45/45 [==============================] - 0s 156us/step - loss: 5.1370e-04 - val_loss: 0.0014\n",
      "Epoch 166/500\n",
      "45/45 [==============================] - 0s 153us/step - loss: 5.1367e-04 - val_loss: 0.0014\n",
      "Epoch 167/500\n",
      "45/45 [==============================] - 0s 155us/step - loss: 5.1365e-04 - val_loss: 0.0014\n",
      "Epoch 168/500\n",
      "45/45 [==============================] - 0s 155us/step - loss: 5.1363e-04 - val_loss: 0.0014\n",
      "Epoch 169/500\n",
      "45/45 [==============================] - 0s 147us/step - loss: 5.1361e-04 - val_loss: 0.0014\n",
      "Epoch 170/500\n",
      "45/45 [==============================] - 0s 158us/step - loss: 5.1358e-04 - val_loss: 0.0014\n",
      "Epoch 171/500\n",
      "45/45 [==============================] - 0s 149us/step - loss: 5.1356e-04 - val_loss: 0.0014\n",
      "Epoch 172/500\n",
      "45/45 [==============================] - 0s 167us/step - loss: 5.1354e-04 - val_loss: 0.0014\n",
      "Epoch 173/500\n",
      "45/45 [==============================] - 0s 177us/step - loss: 5.1352e-04 - val_loss: 0.0014\n",
      "Epoch 174/500\n",
      "45/45 [==============================] - 0s 172us/step - loss: 5.1351e-04 - val_loss: 0.0014\n",
      "Epoch 175/500\n",
      "45/45 [==============================] - 0s 172us/step - loss: 5.1349e-04 - val_loss: 0.0014\n",
      "Epoch 176/500\n",
      "45/45 [==============================] - 0s 216us/step - loss: 5.1347e-04 - val_loss: 0.0014\n",
      "Epoch 177/500\n",
      "45/45 [==============================] - 0s 196us/step - loss: 5.1345e-04 - val_loss: 0.0014\n",
      "Epoch 178/500\n",
      "45/45 [==============================] - 0s 155us/step - loss: 5.1344e-04 - val_loss: 0.0014\n",
      "Epoch 179/500\n",
      "45/45 [==============================] - 0s 191us/step - loss: 5.1342e-04 - val_loss: 0.0014\n",
      "Epoch 180/500\n",
      "45/45 [==============================] - 0s 174us/step - loss: 5.1340e-04 - val_loss: 0.0014\n",
      "Epoch 181/500\n",
      "45/45 [==============================] - 0s 167us/step - loss: 5.1339e-04 - val_loss: 0.0014\n",
      "Epoch 182/500\n",
      "45/45 [==============================] - 0s 176us/step - loss: 5.1337e-04 - val_loss: 0.0014\n",
      "Epoch 183/500\n",
      "45/45 [==============================] - 0s 174us/step - loss: 5.1336e-04 - val_loss: 0.0014\n",
      "Epoch 184/500\n",
      "45/45 [==============================] - 0s 174us/step - loss: 5.1334e-04 - val_loss: 0.0014\n",
      "Epoch 185/500\n",
      "45/45 [==============================] - 0s 182us/step - loss: 5.1333e-04 - val_loss: 0.0014\n",
      "Epoch 186/500\n",
      "45/45 [==============================] - 0s 172us/step - loss: 5.1332e-04 - val_loss: 0.0014\n",
      "Epoch 187/500\n",
      "45/45 [==============================] - 0s 190us/step - loss: 5.1330e-04 - val_loss: 0.0014\n",
      "Epoch 188/500\n",
      "45/45 [==============================] - 0s 174us/step - loss: 5.1329e-04 - val_loss: 0.0014\n",
      "Epoch 189/500\n",
      "45/45 [==============================] - 0s 213us/step - loss: 5.1328e-04 - val_loss: 0.0014\n",
      "Epoch 190/500\n",
      "45/45 [==============================] - 0s 154us/step - loss: 5.1327e-04 - val_loss: 0.0014\n",
      "Epoch 191/500\n",
      "45/45 [==============================] - 0s 180us/step - loss: 5.1325e-04 - val_loss: 0.0014\n",
      "Epoch 192/500\n",
      "45/45 [==============================] - 0s 154us/step - loss: 5.1324e-04 - val_loss: 0.0014\n",
      "Epoch 193/500\n",
      "45/45 [==============================] - 0s 199us/step - loss: 5.1323e-04 - val_loss: 0.0014\n",
      "Epoch 194/500\n",
      "45/45 [==============================] - 0s 135us/step - loss: 5.1322e-04 - val_loss: 0.0014\n",
      "Epoch 195/500\n",
      "45/45 [==============================] - 0s 189us/step - loss: 5.1321e-04 - val_loss: 0.0014\n",
      "Epoch 196/500\n",
      "45/45 [==============================] - 0s 163us/step - loss: 5.1320e-04 - val_loss: 0.0014\n",
      "Epoch 197/500\n",
      "45/45 [==============================] - 0s 167us/step - loss: 5.1319e-04 - val_loss: 0.0014\n",
      "Epoch 198/500\n",
      "45/45 [==============================] - 0s 156us/step - loss: 5.1318e-04 - val_loss: 0.0014\n",
      "Epoch 199/500\n",
      "45/45 [==============================] - 0s 199us/step - loss: 5.1317e-04 - val_loss: 0.0014\n",
      "Epoch 200/500\n",
      "45/45 [==============================] - 0s 176us/step - loss: 5.1316e-04 - val_loss: 0.0014\n",
      "Epoch 201/500\n",
      "45/45 [==============================] - 0s 153us/step - loss: 5.1315e-04 - val_loss: 0.0014\n",
      "Epoch 202/500\n",
      "45/45 [==============================] - 0s 155us/step - loss: 5.1314e-04 - val_loss: 0.0014\n",
      "Epoch 203/500\n",
      "45/45 [==============================] - 0s 169us/step - loss: 5.1314e-04 - val_loss: 0.0014\n",
      "Epoch 204/500\n",
      "45/45 [==============================] - 0s 163us/step - loss: 5.1313e-04 - val_loss: 0.0014\n",
      "Epoch 205/500\n",
      "45/45 [==============================] - 0s 173us/step - loss: 5.1312e-04 - val_loss: 0.0014\n",
      "Epoch 206/500\n",
      "45/45 [==============================] - 0s 168us/step - loss: 5.1311e-04 - val_loss: 0.0014\n",
      "Epoch 207/500\n",
      "45/45 [==============================] - 0s 166us/step - loss: 5.1310e-04 - val_loss: 0.0014\n",
      "Epoch 208/500\n",
      "45/45 [==============================] - 0s 169us/step - loss: 5.1310e-04 - val_loss: 0.0014\n",
      "Epoch 209/500\n",
      "45/45 [==============================] - 0s 164us/step - loss: 5.1309e-04 - val_loss: 0.0014\n",
      "Epoch 210/500\n",
      "45/45 [==============================] - 0s 165us/step - loss: 5.1308e-04 - val_loss: 0.0014\n",
      "Epoch 211/500\n",
      "45/45 [==============================] - 0s 148us/step - loss: 5.1308e-04 - val_loss: 0.0014\n",
      "Epoch 212/500\n",
      "45/45 [==============================] - 0s 166us/step - loss: 5.1307e-04 - val_loss: 0.0014\n",
      "Epoch 213/500\n",
      "45/45 [==============================] - 0s 154us/step - loss: 5.1306e-04 - val_loss: 0.0014\n",
      "Epoch 214/500\n",
      "45/45 [==============================] - 0s 168us/step - loss: 5.1306e-04 - val_loss: 0.0014\n",
      "Epoch 215/500\n",
      "45/45 [==============================] - 0s 174us/step - loss: 5.1305e-04 - val_loss: 0.0014\n",
      "Epoch 216/500\n",
      "45/45 [==============================] - 0s 151us/step - loss: 5.1304e-04 - val_loss: 0.0014\n",
      "Epoch 217/500\n",
      "45/45 [==============================] - 0s 169us/step - loss: 5.1304e-04 - val_loss: 0.0014\n",
      "Epoch 218/500\n",
      "45/45 [==============================] - 0s 152us/step - loss: 5.1303e-04 - val_loss: 0.0014\n",
      "Epoch 219/500\n",
      "45/45 [==============================] - 0s 181us/step - loss: 5.1303e-04 - val_loss: 0.0014\n",
      "Epoch 220/500\n",
      "45/45 [==============================] - 0s 173us/step - loss: 5.1302e-04 - val_loss: 0.0014\n",
      "Epoch 221/500\n",
      "45/45 [==============================] - 0s 165us/step - loss: 5.1302e-04 - val_loss: 0.0014\n",
      "Epoch 222/500\n",
      "45/45 [==============================] - 0s 159us/step - loss: 5.1301e-04 - val_loss: 0.0014\n",
      "Epoch 223/500\n",
      "45/45 [==============================] - 0s 149us/step - loss: 5.1301e-04 - val_loss: 0.0014\n",
      "Epoch 224/500\n",
      "45/45 [==============================] - 0s 147us/step - loss: 5.1300e-04 - val_loss: 0.0014\n",
      "Epoch 225/500\n",
      "45/45 [==============================] - 0s 155us/step - loss: 5.1300e-04 - val_loss: 0.0014\n",
      "Epoch 226/500\n",
      "45/45 [==============================] - 0s 152us/step - loss: 5.1299e-04 - val_loss: 0.0014\n",
      "Epoch 227/500\n",
      "45/45 [==============================] - 0s 160us/step - loss: 5.1299e-04 - val_loss: 0.0014\n",
      "Epoch 228/500\n",
      "45/45 [==============================] - 0s 153us/step - loss: 5.1298e-04 - val_loss: 0.0014\n",
      "Epoch 229/500\n",
      "45/45 [==============================] - 0s 151us/step - loss: 5.1298e-04 - val_loss: 0.0014\n",
      "Epoch 230/500\n",
      "45/45 [==============================] - 0s 166us/step - loss: 5.1297e-04 - val_loss: 0.0014\n",
      "Epoch 231/500\n",
      "45/45 [==============================] - 0s 131us/step - loss: 5.1297e-04 - val_loss: 0.0014\n"
     ]
    },
    {
     "name": "stdout",
     "output_type": "stream",
     "text": [
      "Epoch 232/500\n",
      "45/45 [==============================] - 0s 168us/step - loss: 5.1297e-04 - val_loss: 0.0014\n",
      "Epoch 233/500\n",
      "45/45 [==============================] - 0s 155us/step - loss: 5.1296e-04 - val_loss: 0.0014\n",
      "Epoch 234/500\n",
      "45/45 [==============================] - 0s 162us/step - loss: 5.1296e-04 - val_loss: 0.0014\n",
      "Epoch 235/500\n",
      "45/45 [==============================] - 0s 149us/step - loss: 5.1295e-04 - val_loss: 0.0014\n",
      "Epoch 236/500\n",
      "45/45 [==============================] - 0s 163us/step - loss: 5.1295e-04 - val_loss: 0.0014\n",
      "Epoch 237/500\n",
      "45/45 [==============================] - 0s 157us/step - loss: 5.1295e-04 - val_loss: 0.0014\n",
      "Epoch 238/500\n",
      "45/45 [==============================] - 0s 166us/step - loss: 5.1294e-04 - val_loss: 0.0014\n",
      "Epoch 239/500\n",
      "45/45 [==============================] - 0s 152us/step - loss: 5.1294e-04 - val_loss: 0.0014\n",
      "Epoch 240/500\n",
      "45/45 [==============================] - 0s 159us/step - loss: 5.1293e-04 - val_loss: 0.0014\n",
      "Epoch 241/500\n",
      "45/45 [==============================] - 0s 162us/step - loss: 5.1293e-04 - val_loss: 0.0014\n",
      "Epoch 242/500\n",
      "45/45 [==============================] - 0s 168us/step - loss: 5.1293e-04 - val_loss: 0.0014\n",
      "Epoch 243/500\n",
      "45/45 [==============================] - 0s 148us/step - loss: 5.1292e-04 - val_loss: 0.0014\n",
      "Epoch 244/500\n",
      "45/45 [==============================] - 0s 180us/step - loss: 5.1292e-04 - val_loss: 0.0014\n",
      "Epoch 245/500\n",
      "45/45 [==============================] - 0s 173us/step - loss: 5.1292e-04 - val_loss: 0.0014\n",
      "Epoch 246/500\n",
      "45/45 [==============================] - 0s 202us/step - loss: 5.1291e-04 - val_loss: 0.0014\n",
      "Epoch 247/500\n",
      "45/45 [==============================] - 0s 205us/step - loss: 5.1291e-04 - val_loss: 0.0014\n",
      "Epoch 248/500\n",
      "45/45 [==============================] - 0s 199us/step - loss: 5.1291e-04 - val_loss: 0.0014\n",
      "Epoch 249/500\n",
      "45/45 [==============================] - 0s 192us/step - loss: 5.1290e-04 - val_loss: 0.0014\n",
      "Epoch 250/500\n",
      "45/45 [==============================] - 0s 191us/step - loss: 5.1290e-04 - val_loss: 0.0014\n",
      "Epoch 251/500\n",
      "45/45 [==============================] - 0s 194us/step - loss: 5.1290e-04 - val_loss: 0.0014\n",
      "Epoch 252/500\n",
      "45/45 [==============================] - 0s 195us/step - loss: 5.1289e-04 - val_loss: 0.0014\n",
      "Epoch 253/500\n",
      "45/45 [==============================] - 0s 187us/step - loss: 5.1289e-04 - val_loss: 0.0014\n",
      "Epoch 254/500\n",
      "45/45 [==============================] - 0s 200us/step - loss: 5.1289e-04 - val_loss: 0.0014\n",
      "Epoch 255/500\n",
      "45/45 [==============================] - 0s 208us/step - loss: 5.1289e-04 - val_loss: 0.0014\n",
      "Epoch 256/500\n",
      "45/45 [==============================] - 0s 204us/step - loss: 5.1288e-04 - val_loss: 0.0014\n",
      "Epoch 257/500\n",
      "45/45 [==============================] - 0s 212us/step - loss: 5.1288e-04 - val_loss: 0.0014\n",
      "Epoch 258/500\n",
      "45/45 [==============================] - 0s 139us/step - loss: 5.1288e-04 - val_loss: 0.0014\n",
      "Epoch 259/500\n",
      "45/45 [==============================] - 0s 154us/step - loss: 5.1287e-04 - val_loss: 0.0014\n",
      "Epoch 260/500\n",
      "45/45 [==============================] - 0s 147us/step - loss: 5.1287e-04 - val_loss: 0.0014\n",
      "Epoch 261/500\n",
      "45/45 [==============================] - 0s 152us/step - loss: 5.1287e-04 - val_loss: 0.0014\n",
      "Epoch 262/500\n",
      "45/45 [==============================] - 0s 149us/step - loss: 5.1286e-04 - val_loss: 0.0014\n",
      "Epoch 263/500\n",
      "45/45 [==============================] - 0s 131us/step - loss: 5.1286e-04 - val_loss: 0.0014\n",
      "Epoch 264/500\n",
      "45/45 [==============================] - 0s 148us/step - loss: 5.1286e-04 - val_loss: 0.0014\n",
      "Epoch 265/500\n",
      "45/45 [==============================] - 0s 146us/step - loss: 5.1286e-04 - val_loss: 0.0014\n",
      "Epoch 266/500\n",
      "45/45 [==============================] - 0s 143us/step - loss: 5.1285e-04 - val_loss: 0.0014\n",
      "Epoch 267/500\n",
      "45/45 [==============================] - 0s 142us/step - loss: 5.1285e-04 - val_loss: 0.0014\n",
      "Epoch 268/500\n",
      "45/45 [==============================] - 0s 147us/step - loss: 5.1285e-04 - val_loss: 0.0014\n",
      "Epoch 269/500\n",
      "45/45 [==============================] - 0s 123us/step - loss: 5.1284e-04 - val_loss: 0.0014\n",
      "Epoch 270/500\n",
      "45/45 [==============================] - 0s 150us/step - loss: 5.1284e-04 - val_loss: 0.0014\n",
      "Epoch 271/500\n",
      "45/45 [==============================] - 0s 136us/step - loss: 5.1284e-04 - val_loss: 0.0014\n",
      "Epoch 272/500\n",
      "45/45 [==============================] - 0s 140us/step - loss: 5.1283e-04 - val_loss: 0.0014\n",
      "Epoch 273/500\n",
      "45/45 [==============================] - 0s 158us/step - loss: 5.1283e-04 - val_loss: 0.0014\n",
      "Epoch 274/500\n",
      "45/45 [==============================] - 0s 130us/step - loss: 5.1283e-04 - val_loss: 0.0014\n",
      "Epoch 275/500\n",
      "45/45 [==============================] - 0s 152us/step - loss: 5.1283e-04 - val_loss: 0.0014\n",
      "Epoch 276/500\n",
      "45/45 [==============================] - 0s 150us/step - loss: 5.1282e-04 - val_loss: 0.0014\n",
      "Epoch 277/500\n",
      "45/45 [==============================] - 0s 144us/step - loss: 5.1282e-04 - val_loss: 0.0014\n",
      "Epoch 278/500\n",
      "45/45 [==============================] - 0s 154us/step - loss: 5.1282e-04 - val_loss: 0.0014\n",
      "Epoch 279/500\n",
      "45/45 [==============================] - 0s 138us/step - loss: 5.1281e-04 - val_loss: 0.0014\n",
      "Epoch 280/500\n",
      "45/45 [==============================] - 0s 144us/step - loss: 5.1281e-04 - val_loss: 0.0014\n",
      "Epoch 281/500\n",
      "45/45 [==============================] - 0s 145us/step - loss: 5.1281e-04 - val_loss: 0.0014\n",
      "Epoch 282/500\n",
      "45/45 [==============================] - 0s 161us/step - loss: 5.1281e-04 - val_loss: 0.0014\n",
      "Epoch 283/500\n",
      "45/45 [==============================] - 0s 145us/step - loss: 5.1280e-04 - val_loss: 0.0014\n",
      "Epoch 284/500\n",
      "45/45 [==============================] - 0s 153us/step - loss: 5.1280e-04 - val_loss: 0.0014\n",
      "Epoch 285/500\n",
      "45/45 [==============================] - 0s 141us/step - loss: 5.1280e-04 - val_loss: 0.0014\n",
      "Epoch 286/500\n",
      "45/45 [==============================] - 0s 242us/step - loss: 5.1279e-04 - val_loss: 0.0014\n",
      "Epoch 287/500\n",
      "45/45 [==============================] - 0s 283us/step - loss: 5.1279e-04 - val_loss: 0.0014\n",
      "Epoch 288/500\n",
      "45/45 [==============================] - 0s 167us/step - loss: 5.1279e-04 - val_loss: 0.0014\n",
      "Epoch 289/500\n",
      "45/45 [==============================] - 0s 169us/step - loss: 5.1278e-04 - val_loss: 0.0014\n",
      "Epoch 290/500\n",
      "45/45 [==============================] - 0s 163us/step - loss: 5.1278e-04 - val_loss: 0.0014\n",
      "Epoch 291/500\n",
      "45/45 [==============================] - 0s 178us/step - loss: 5.1278e-04 - val_loss: 0.0014\n",
      "Epoch 292/500\n",
      "45/45 [==============================] - 0s 186us/step - loss: 5.1278e-04 - val_loss: 0.0014\n",
      "Epoch 293/500\n",
      "45/45 [==============================] - 0s 157us/step - loss: 5.1277e-04 - val_loss: 0.0014\n",
      "Epoch 294/500\n",
      "45/45 [==============================] - 0s 164us/step - loss: 5.1277e-04 - val_loss: 0.0014\n",
      "Epoch 295/500\n",
      "45/45 [==============================] - 0s 172us/step - loss: 5.1277e-04 - val_loss: 0.0014\n",
      "Epoch 296/500\n",
      "45/45 [==============================] - 0s 181us/step - loss: 5.1276e-04 - val_loss: 0.0014\n",
      "Epoch 297/500\n",
      "45/45 [==============================] - 0s 157us/step - loss: 5.1276e-04 - val_loss: 0.0014\n",
      "Epoch 298/500\n",
      "45/45 [==============================] - 0s 169us/step - loss: 5.1276e-04 - val_loss: 0.0014\n",
      "Epoch 299/500\n",
      "45/45 [==============================] - 0s 166us/step - loss: 5.1275e-04 - val_loss: 0.0014\n",
      "Epoch 300/500\n",
      "45/45 [==============================] - 0s 185us/step - loss: 5.1275e-04 - val_loss: 0.0014\n",
      "Epoch 301/500\n",
      "45/45 [==============================] - 0s 169us/step - loss: 5.1275e-04 - val_loss: 0.0014\n",
      "Epoch 302/500\n",
      "45/45 [==============================] - 0s 161us/step - loss: 5.1275e-04 - val_loss: 0.0014\n",
      "Epoch 303/500\n",
      "45/45 [==============================] - 0s 189us/step - loss: 5.1274e-04 - val_loss: 0.0014\n",
      "Epoch 304/500\n",
      "45/45 [==============================] - 0s 142us/step - loss: 5.1274e-04 - val_loss: 0.0014\n",
      "Epoch 305/500\n",
      "45/45 [==============================] - 0s 153us/step - loss: 5.1274e-04 - val_loss: 0.0014\n",
      "Epoch 306/500\n",
      "45/45 [==============================] - 0s 169us/step - loss: 5.1273e-04 - val_loss: 0.0014\n",
      "Epoch 307/500\n",
      "45/45 [==============================] - 0s 132us/step - loss: 5.1273e-04 - val_loss: 0.0014\n",
      "Epoch 308/500\n",
      "45/45 [==============================] - 0s 186us/step - loss: 5.1273e-04 - val_loss: 0.0014\n"
     ]
    },
    {
     "name": "stdout",
     "output_type": "stream",
     "text": [
      "Epoch 309/500\n",
      "45/45 [==============================] - 0s 182us/step - loss: 5.1272e-04 - val_loss: 0.0014\n",
      "Epoch 310/500\n",
      "45/45 [==============================] - 0s 143us/step - loss: 5.1272e-04 - val_loss: 0.0014\n",
      "Epoch 311/500\n",
      "45/45 [==============================] - 0s 167us/step - loss: 5.1272e-04 - val_loss: 0.0014\n",
      "Epoch 312/500\n",
      "45/45 [==============================] - 0s 134us/step - loss: 5.1271e-04 - val_loss: 0.0014\n",
      "Epoch 313/500\n",
      "45/45 [==============================] - 0s 163us/step - loss: 5.1271e-04 - val_loss: 0.0014\n",
      "Epoch 314/500\n",
      "45/45 [==============================] - 0s 186us/step - loss: 5.1271e-04 - val_loss: 0.0014\n",
      "Epoch 315/500\n",
      "45/45 [==============================] - 0s 230us/step - loss: 5.1270e-04 - val_loss: 0.0014\n",
      "Epoch 316/500\n",
      "45/45 [==============================] - 0s 146us/step - loss: 5.1270e-04 - val_loss: 0.0014\n",
      "Epoch 317/500\n",
      "45/45 [==============================] - 0s 159us/step - loss: 5.1270e-04 - val_loss: 0.0014\n",
      "Epoch 318/500\n",
      "45/45 [==============================] - 0s 151us/step - loss: 5.1269e-04 - val_loss: 0.0014\n",
      "Epoch 319/500\n",
      "45/45 [==============================] - 0s 197us/step - loss: 5.1269e-04 - val_loss: 0.0014\n",
      "Epoch 320/500\n",
      "45/45 [==============================] - 0s 152us/step - loss: 5.1269e-04 - val_loss: 0.0014\n",
      "Epoch 321/500\n",
      "45/45 [==============================] - 0s 170us/step - loss: 5.1268e-04 - val_loss: 0.0014\n",
      "Epoch 322/500\n",
      "45/45 [==============================] - 0s 149us/step - loss: 5.1268e-04 - val_loss: 0.0014\n",
      "Epoch 323/500\n",
      "45/45 [==============================] - 0s 186us/step - loss: 5.1268e-04 - val_loss: 0.0014\n",
      "Epoch 324/500\n",
      "45/45 [==============================] - 0s 168us/step - loss: 5.1267e-04 - val_loss: 0.0014\n",
      "Epoch 325/500\n",
      "45/45 [==============================] - 0s 154us/step - loss: 5.1267e-04 - val_loss: 0.0014\n",
      "Epoch 326/500\n",
      "45/45 [==============================] - 0s 167us/step - loss: 5.1267e-04 - val_loss: 0.0014\n",
      "Epoch 327/500\n",
      "45/45 [==============================] - 0s 160us/step - loss: 5.1266e-04 - val_loss: 0.0014\n",
      "Epoch 328/500\n",
      "45/45 [==============================] - 0s 173us/step - loss: 5.1266e-04 - val_loss: 0.0014\n",
      "Epoch 329/500\n",
      "45/45 [==============================] - 0s 189us/step - loss: 5.1266e-04 - val_loss: 0.0014\n",
      "Epoch 330/500\n",
      "45/45 [==============================] - 0s 169us/step - loss: 5.1265e-04 - val_loss: 0.0014\n",
      "Epoch 331/500\n",
      "45/45 [==============================] - 0s 169us/step - loss: 5.1265e-04 - val_loss: 0.0014\n",
      "Epoch 332/500\n",
      "45/45 [==============================] - 0s 163us/step - loss: 5.1265e-04 - val_loss: 0.0014\n",
      "Epoch 333/500\n",
      "45/45 [==============================] - 0s 170us/step - loss: 5.1264e-04 - val_loss: 0.0014\n",
      "Epoch 334/500\n",
      "45/45 [==============================] - 0s 143us/step - loss: 5.1264e-04 - val_loss: 0.0014\n",
      "Epoch 335/500\n",
      "45/45 [==============================] - 0s 180us/step - loss: 5.1263e-04 - val_loss: 0.0014\n",
      "Epoch 336/500\n",
      "45/45 [==============================] - 0s 155us/step - loss: 5.1263e-04 - val_loss: 0.0014\n",
      "Epoch 337/500\n",
      "45/45 [==============================] - 0s 173us/step - loss: 5.1263e-04 - val_loss: 0.0014\n",
      "Epoch 338/500\n",
      "45/45 [==============================] - 0s 171us/step - loss: 5.1262e-04 - val_loss: 0.0014\n",
      "Epoch 339/500\n",
      "45/45 [==============================] - 0s 169us/step - loss: 5.1262e-04 - val_loss: 0.0014\n",
      "Epoch 340/500\n",
      "45/45 [==============================] - 0s 147us/step - loss: 5.1262e-04 - val_loss: 0.0014\n",
      "Epoch 341/500\n",
      "45/45 [==============================] - 0s 167us/step - loss: 5.1261e-04 - val_loss: 0.0014\n",
      "Epoch 342/500\n",
      "45/45 [==============================] - 0s 151us/step - loss: 5.1261e-04 - val_loss: 0.0014\n",
      "Epoch 343/500\n",
      "45/45 [==============================] - 0s 175us/step - loss: 5.1260e-04 - val_loss: 0.0014\n",
      "Epoch 344/500\n",
      "45/45 [==============================] - 0s 169us/step - loss: 5.1260e-04 - val_loss: 0.0014\n",
      "Epoch 345/500\n",
      "45/45 [==============================] - 0s 178us/step - loss: 5.1260e-04 - val_loss: 0.0014\n",
      "Epoch 346/500\n",
      "45/45 [==============================] - 0s 160us/step - loss: 5.1259e-04 - val_loss: 0.0014\n",
      "Epoch 347/500\n",
      "45/45 [==============================] - 0s 157us/step - loss: 5.1259e-04 - val_loss: 0.0014\n",
      "Epoch 348/500\n",
      "45/45 [==============================] - 0s 142us/step - loss: 5.1259e-04 - val_loss: 0.0014\n",
      "Epoch 349/500\n",
      "45/45 [==============================] - 0s 169us/step - loss: 5.1258e-04 - val_loss: 0.0014\n",
      "Epoch 350/500\n",
      "45/45 [==============================] - 0s 160us/step - loss: 5.1258e-04 - val_loss: 0.0014\n",
      "Epoch 351/500\n",
      "45/45 [==============================] - 0s 149us/step - loss: 5.1257e-04 - val_loss: 0.0014\n",
      "Epoch 352/500\n",
      "45/45 [==============================] - 0s 166us/step - loss: 5.1257e-04 - val_loss: 0.0014\n",
      "Epoch 353/500\n",
      "45/45 [==============================] - 0s 154us/step - loss: 5.1257e-04 - val_loss: 0.0014\n",
      "Epoch 354/500\n",
      "45/45 [==============================] - 0s 147us/step - loss: 5.1256e-04 - val_loss: 0.0014\n",
      "Epoch 355/500\n",
      "45/45 [==============================] - 0s 181us/step - loss: 5.1256e-04 - val_loss: 0.0014\n",
      "Epoch 356/500\n",
      "45/45 [==============================] - 0s 160us/step - loss: 5.1255e-04 - val_loss: 0.0014\n",
      "Epoch 357/500\n",
      "45/45 [==============================] - 0s 171us/step - loss: 5.1255e-04 - val_loss: 0.0014\n",
      "Epoch 358/500\n",
      "45/45 [==============================] - 0s 148us/step - loss: 5.1254e-04 - val_loss: 0.0014\n",
      "Epoch 359/500\n",
      "45/45 [==============================] - 0s 184us/step - loss: 5.1254e-04 - val_loss: 0.0014\n",
      "Epoch 360/500\n",
      "45/45 [==============================] - 0s 158us/step - loss: 5.1254e-04 - val_loss: 0.0014\n",
      "Epoch 361/500\n",
      "45/45 [==============================] - 0s 160us/step - loss: 5.1253e-04 - val_loss: 0.0014\n",
      "Epoch 362/500\n",
      "45/45 [==============================] - 0s 162us/step - loss: 5.1253e-04 - val_loss: 0.0014\n",
      "Epoch 363/500\n",
      "45/45 [==============================] - 0s 180us/step - loss: 5.1252e-04 - val_loss: 0.0014\n",
      "Epoch 364/500\n",
      "45/45 [==============================] - 0s 159us/step - loss: 5.1252e-04 - val_loss: 0.0014\n",
      "Epoch 365/500\n",
      "45/45 [==============================] - 0s 165us/step - loss: 5.1252e-04 - val_loss: 0.0014\n",
      "Epoch 366/500\n",
      "45/45 [==============================] - 0s 154us/step - loss: 5.1251e-04 - val_loss: 0.0014\n",
      "Epoch 367/500\n",
      "45/45 [==============================] - 0s 162us/step - loss: 5.1251e-04 - val_loss: 0.0014\n",
      "Epoch 368/500\n",
      "45/45 [==============================] - 0s 145us/step - loss: 5.1250e-04 - val_loss: 0.0014\n",
      "Epoch 369/500\n",
      "45/45 [==============================] - 0s 149us/step - loss: 5.1250e-04 - val_loss: 0.0014\n",
      "Epoch 370/500\n",
      "45/45 [==============================] - 0s 143us/step - loss: 5.1249e-04 - val_loss: 0.0014\n",
      "Epoch 371/500\n",
      "45/45 [==============================] - 0s 160us/step - loss: 5.1249e-04 - val_loss: 0.0014\n",
      "Epoch 372/500\n",
      "45/45 [==============================] - 0s 157us/step - loss: 5.1248e-04 - val_loss: 0.0014\n",
      "Epoch 373/500\n",
      "45/45 [==============================] - 0s 148us/step - loss: 5.1248e-04 - val_loss: 0.0014\n",
      "Epoch 374/500\n",
      "45/45 [==============================] - 0s 147us/step - loss: 5.1248e-04 - val_loss: 0.0014\n",
      "Epoch 375/500\n",
      "45/45 [==============================] - 0s 135us/step - loss: 5.1247e-04 - val_loss: 0.0014\n",
      "Epoch 376/500\n",
      "45/45 [==============================] - 0s 148us/step - loss: 5.1247e-04 - val_loss: 0.0014\n",
      "Epoch 377/500\n",
      "45/45 [==============================] - 0s 148us/step - loss: 5.1246e-04 - val_loss: 0.0014\n",
      "Epoch 378/500\n",
      "45/45 [==============================] - 0s 158us/step - loss: 5.1246e-04 - val_loss: 0.0014\n",
      "Epoch 379/500\n",
      "45/45 [==============================] - 0s 148us/step - loss: 5.1245e-04 - val_loss: 0.0014\n",
      "Epoch 380/500\n",
      "45/45 [==============================] - 0s 144us/step - loss: 5.1245e-04 - val_loss: 0.0014\n",
      "Epoch 381/500\n",
      "45/45 [==============================] - 0s 187us/step - loss: 5.1244e-04 - val_loss: 0.0014\n",
      "Epoch 382/500\n",
      "45/45 [==============================] - 0s 178us/step - loss: 5.1244e-04 - val_loss: 0.0014\n",
      "Epoch 383/500\n",
      "45/45 [==============================] - 0s 145us/step - loss: 5.1243e-04 - val_loss: 0.0014\n",
      "Epoch 384/500\n",
      "45/45 [==============================] - 0s 164us/step - loss: 5.1243e-04 - val_loss: 0.0014\n",
      "Epoch 385/500\n",
      "45/45 [==============================] - 0s 161us/step - loss: 5.1242e-04 - val_loss: 0.0014\n"
     ]
    },
    {
     "name": "stdout",
     "output_type": "stream",
     "text": [
      "Epoch 386/500\n",
      "45/45 [==============================] - 0s 147us/step - loss: 5.1242e-04 - val_loss: 0.0014\n",
      "Epoch 387/500\n",
      "45/45 [==============================] - 0s 187us/step - loss: 5.1241e-04 - val_loss: 0.0014\n",
      "Epoch 388/500\n",
      "45/45 [==============================] - 0s 172us/step - loss: 5.1241e-04 - val_loss: 0.0014\n",
      "Epoch 389/500\n",
      "45/45 [==============================] - 0s 153us/step - loss: 5.1240e-04 - val_loss: 0.0014\n",
      "Epoch 390/500\n",
      "45/45 [==============================] - 0s 163us/step - loss: 5.1240e-04 - val_loss: 0.0014\n",
      "Epoch 391/500\n",
      "45/45 [==============================] - 0s 162us/step - loss: 5.1239e-04 - val_loss: 0.0014\n",
      "Epoch 392/500\n",
      "45/45 [==============================] - 0s 155us/step - loss: 5.1239e-04 - val_loss: 0.0014\n",
      "Epoch 393/500\n",
      "45/45 [==============================] - 0s 155us/step - loss: 5.1238e-04 - val_loss: 0.0014\n",
      "Epoch 394/500\n",
      "45/45 [==============================] - 0s 161us/step - loss: 5.1238e-04 - val_loss: 0.0014\n",
      "Epoch 395/500\n",
      "45/45 [==============================] - 0s 166us/step - loss: 5.1237e-04 - val_loss: 0.0014\n",
      "Epoch 396/500\n",
      "45/45 [==============================] - 0s 159us/step - loss: 5.1237e-04 - val_loss: 0.0014\n",
      "Epoch 397/500\n",
      "45/45 [==============================] - 0s 147us/step - loss: 5.1236e-04 - val_loss: 0.0014\n",
      "Epoch 398/500\n",
      "45/45 [==============================] - 0s 148us/step - loss: 5.1236e-04 - val_loss: 0.0014\n",
      "Epoch 399/500\n",
      "45/45 [==============================] - 0s 156us/step - loss: 5.1235e-04 - val_loss: 0.0014\n",
      "Epoch 400/500\n",
      "45/45 [==============================] - 0s 142us/step - loss: 5.1235e-04 - val_loss: 0.0014\n",
      "Epoch 401/500\n",
      "45/45 [==============================] - 0s 167us/step - loss: 5.1234e-04 - val_loss: 0.0014\n",
      "Epoch 402/500\n",
      "45/45 [==============================] - 0s 160us/step - loss: 5.1234e-04 - val_loss: 0.0014\n",
      "Epoch 403/500\n",
      "45/45 [==============================] - 0s 158us/step - loss: 5.1233e-04 - val_loss: 0.0014\n",
      "Epoch 404/500\n",
      "45/45 [==============================] - 0s 151us/step - loss: 5.1232e-04 - val_loss: 0.0014\n",
      "Epoch 405/500\n",
      "45/45 [==============================] - 0s 175us/step - loss: 5.1232e-04 - val_loss: 0.0014\n",
      "Epoch 406/500\n",
      "45/45 [==============================] - 0s 147us/step - loss: 5.1231e-04 - val_loss: 0.0014\n",
      "Epoch 407/500\n",
      "45/45 [==============================] - 0s 175us/step - loss: 5.1231e-04 - val_loss: 0.0014\n",
      "Epoch 408/500\n",
      "45/45 [==============================] - 0s 158us/step - loss: 5.1230e-04 - val_loss: 0.0014\n",
      "Epoch 409/500\n",
      "45/45 [==============================] - 0s 147us/step - loss: 5.1230e-04 - val_loss: 0.0014\n",
      "Epoch 410/500\n",
      "45/45 [==============================] - 0s 147us/step - loss: 5.1229e-04 - val_loss: 0.0014\n",
      "Epoch 411/500\n",
      "45/45 [==============================] - 0s 147us/step - loss: 5.1229e-04 - val_loss: 0.0014\n",
      "Epoch 412/500\n",
      "45/45 [==============================] - 0s 157us/step - loss: 5.1228e-04 - val_loss: 0.0014\n",
      "Epoch 413/500\n",
      "45/45 [==============================] - 0s 151us/step - loss: 5.1227e-04 - val_loss: 0.0014\n",
      "Epoch 414/500\n",
      "45/45 [==============================] - 0s 153us/step - loss: 5.1227e-04 - val_loss: 0.0014\n",
      "Epoch 415/500\n",
      "45/45 [==============================] - 0s 131us/step - loss: 5.1226e-04 - val_loss: 0.0014\n",
      "Epoch 416/500\n",
      "45/45 [==============================] - 0s 168us/step - loss: 5.1226e-04 - val_loss: 0.0014\n",
      "Epoch 417/500\n",
      "45/45 [==============================] - 0s 161us/step - loss: 5.1225e-04 - val_loss: 0.0014\n",
      "Epoch 418/500\n",
      "45/45 [==============================] - 0s 151us/step - loss: 5.1224e-04 - val_loss: 0.0014\n",
      "Epoch 419/500\n",
      "45/45 [==============================] - 0s 138us/step - loss: 5.1224e-04 - val_loss: 0.0014\n",
      "Epoch 420/500\n",
      "45/45 [==============================] - 0s 146us/step - loss: 5.1223e-04 - val_loss: 0.0014\n",
      "Epoch 421/500\n",
      "45/45 [==============================] - 0s 153us/step - loss: 5.1223e-04 - val_loss: 0.0014\n",
      "Epoch 422/500\n",
      "45/45 [==============================] - 0s 139us/step - loss: 5.1222e-04 - val_loss: 0.0014\n",
      "Epoch 423/500\n",
      "45/45 [==============================] - 0s 152us/step - loss: 5.1221e-04 - val_loss: 0.0014\n",
      "Epoch 424/500\n",
      "45/45 [==============================] - 0s 142us/step - loss: 5.1221e-04 - val_loss: 0.0014\n",
      "Epoch 425/500\n",
      "45/45 [==============================] - 0s 149us/step - loss: 5.1220e-04 - val_loss: 0.0014\n",
      "Epoch 426/500\n",
      "45/45 [==============================] - 0s 132us/step - loss: 5.1219e-04 - val_loss: 0.0014\n",
      "Epoch 427/500\n",
      "45/45 [==============================] - 0s 159us/step - loss: 5.1219e-04 - val_loss: 0.0014\n",
      "Epoch 428/500\n",
      "45/45 [==============================] - 0s 154us/step - loss: 5.1218e-04 - val_loss: 0.0014\n",
      "Epoch 429/500\n",
      "45/45 [==============================] - 0s 140us/step - loss: 5.1218e-04 - val_loss: 0.0014\n",
      "Epoch 430/500\n",
      "45/45 [==============================] - 0s 154us/step - loss: 5.1217e-04 - val_loss: 0.0014\n",
      "Epoch 431/500\n",
      "45/45 [==============================] - 0s 153us/step - loss: 5.1216e-04 - val_loss: 0.0014\n",
      "Epoch 432/500\n",
      "45/45 [==============================] - 0s 159us/step - loss: 5.1216e-04 - val_loss: 0.0014\n",
      "Epoch 433/500\n",
      "45/45 [==============================] - 0s 150us/step - loss: 5.1215e-04 - val_loss: 0.0014\n",
      "Epoch 434/500\n",
      "45/45 [==============================] - 0s 148us/step - loss: 5.1214e-04 - val_loss: 0.0014\n",
      "Epoch 435/500\n",
      "45/45 [==============================] - 0s 150us/step - loss: 5.1214e-04 - val_loss: 0.0014\n",
      "Epoch 436/500\n",
      "45/45 [==============================] - 0s 160us/step - loss: 5.1213e-04 - val_loss: 0.0014\n",
      "Epoch 437/500\n",
      "45/45 [==============================] - 0s 134us/step - loss: 5.1212e-04 - val_loss: 0.0014\n",
      "Epoch 438/500\n",
      "45/45 [==============================] - 0s 180us/step - loss: 5.1211e-04 - val_loss: 0.0014\n",
      "Epoch 439/500\n",
      "45/45 [==============================] - 0s 151us/step - loss: 5.1211e-04 - val_loss: 0.0014\n",
      "Epoch 440/500\n",
      "45/45 [==============================] - 0s 156us/step - loss: 5.1210e-04 - val_loss: 0.0014\n",
      "Epoch 441/500\n",
      "45/45 [==============================] - 0s 144us/step - loss: 5.1209e-04 - val_loss: 0.0014\n",
      "Epoch 442/500\n",
      "45/45 [==============================] - 0s 169us/step - loss: 5.1209e-04 - val_loss: 0.0014\n",
      "Epoch 443/500\n",
      "45/45 [==============================] - 0s 161us/step - loss: 5.1208e-04 - val_loss: 0.0014\n",
      "Epoch 444/500\n",
      "45/45 [==============================] - 0s 149us/step - loss: 5.1207e-04 - val_loss: 0.0014\n",
      "Epoch 445/500\n",
      "45/45 [==============================] - 0s 156us/step - loss: 5.1207e-04 - val_loss: 0.0014\n",
      "Epoch 446/500\n",
      "45/45 [==============================] - 0s 175us/step - loss: 5.1206e-04 - val_loss: 0.0014\n",
      "Epoch 447/500\n",
      "45/45 [==============================] - 0s 153us/step - loss: 5.1205e-04 - val_loss: 0.0014\n",
      "Epoch 448/500\n",
      "45/45 [==============================] - 0s 151us/step - loss: 5.1204e-04 - val_loss: 0.0014\n",
      "Epoch 449/500\n",
      "45/45 [==============================] - 0s 164us/step - loss: 5.1204e-04 - val_loss: 0.0014\n",
      "Epoch 450/500\n",
      "45/45 [==============================] - 0s 158us/step - loss: 5.1203e-04 - val_loss: 0.0014\n",
      "Epoch 451/500\n",
      "45/45 [==============================] - 0s 154us/step - loss: 5.1202e-04 - val_loss: 0.0014\n",
      "Epoch 452/500\n",
      "45/45 [==============================] - 0s 164us/step - loss: 5.1201e-04 - val_loss: 0.0014\n",
      "Epoch 453/500\n",
      "45/45 [==============================] - 0s 157us/step - loss: 5.1201e-04 - val_loss: 0.0014\n",
      "Epoch 454/500\n",
      "45/45 [==============================] - 0s 159us/step - loss: 5.1200e-04 - val_loss: 0.0014\n",
      "Epoch 455/500\n",
      "45/45 [==============================] - 0s 155us/step - loss: 5.1199e-04 - val_loss: 0.0014\n",
      "Epoch 456/500\n",
      "45/45 [==============================] - 0s 148us/step - loss: 5.1198e-04 - val_loss: 0.0014\n",
      "Epoch 457/500\n",
      "45/45 [==============================] - 0s 167us/step - loss: 5.1197e-04 - val_loss: 0.0014\n",
      "Epoch 458/500\n",
      "45/45 [==============================] - 0s 159us/step - loss: 5.1197e-04 - val_loss: 0.0014\n",
      "Epoch 459/500\n",
      "45/45 [==============================] - 0s 167us/step - loss: 5.1196e-04 - val_loss: 0.0014\n",
      "Epoch 460/500\n",
      "45/45 [==============================] - 0s 157us/step - loss: 5.1195e-04 - val_loss: 0.0014\n",
      "Epoch 461/500\n",
      "45/45 [==============================] - 0s 174us/step - loss: 5.1194e-04 - val_loss: 0.0014\n",
      "Epoch 462/500\n",
      "45/45 [==============================] - 0s 155us/step - loss: 5.1193e-04 - val_loss: 0.0014\n"
     ]
    },
    {
     "name": "stdout",
     "output_type": "stream",
     "text": [
      "Epoch 463/500\n",
      "45/45 [==============================] - 0s 158us/step - loss: 5.1193e-04 - val_loss: 0.0014\n",
      "Epoch 464/500\n",
      "45/45 [==============================] - 0s 162us/step - loss: 5.1192e-04 - val_loss: 0.0014\n",
      "Epoch 465/500\n",
      "45/45 [==============================] - 0s 177us/step - loss: 5.1191e-04 - val_loss: 0.0014\n",
      "Epoch 466/500\n",
      "45/45 [==============================] - 0s 166us/step - loss: 5.1190e-04 - val_loss: 0.0014\n",
      "Epoch 467/500\n",
      "45/45 [==============================] - 0s 172us/step - loss: 5.1189e-04 - val_loss: 0.0014\n",
      "Epoch 468/500\n",
      "45/45 [==============================] - 0s 166us/step - loss: 5.1188e-04 - val_loss: 0.0014\n",
      "Epoch 469/500\n",
      "45/45 [==============================] - 0s 151us/step - loss: 5.1188e-04 - val_loss: 0.0014\n",
      "Epoch 470/500\n",
      "45/45 [==============================] - 0s 162us/step - loss: 5.1187e-04 - val_loss: 0.0014\n",
      "Epoch 471/500\n",
      "45/45 [==============================] - 0s 172us/step - loss: 5.1186e-04 - val_loss: 0.0014\n",
      "Epoch 472/500\n",
      "45/45 [==============================] - 0s 155us/step - loss: 5.1185e-04 - val_loss: 0.0014\n",
      "Epoch 473/500\n",
      "45/45 [==============================] - 0s 163us/step - loss: 5.1184e-04 - val_loss: 0.0014\n",
      "Epoch 474/500\n",
      "45/45 [==============================] - 0s 146us/step - loss: 5.1183e-04 - val_loss: 0.0014\n",
      "Epoch 475/500\n",
      "45/45 [==============================] - 0s 147us/step - loss: 5.1182e-04 - val_loss: 0.0014\n",
      "Epoch 476/500\n",
      "45/45 [==============================] - 0s 148us/step - loss: 5.1181e-04 - val_loss: 0.0014\n",
      "Epoch 477/500\n",
      "45/45 [==============================] - 0s 152us/step - loss: 5.1181e-04 - val_loss: 0.0014\n",
      "Epoch 478/500\n",
      "45/45 [==============================] - 0s 160us/step - loss: 5.1180e-04 - val_loss: 0.0014\n",
      "Epoch 479/500\n",
      "45/45 [==============================] - 0s 138us/step - loss: 5.1179e-04 - val_loss: 0.0014\n",
      "Epoch 480/500\n",
      "45/45 [==============================] - 0s 152us/step - loss: 5.1178e-04 - val_loss: 0.0014\n",
      "Epoch 481/500\n",
      "45/45 [==============================] - 0s 138us/step - loss: 5.1177e-04 - val_loss: 0.0014\n",
      "Epoch 482/500\n",
      "45/45 [==============================] - 0s 156us/step - loss: 5.1176e-04 - val_loss: 0.0014\n",
      "Epoch 483/500\n",
      "45/45 [==============================] - 0s 149us/step - loss: 5.1175e-04 - val_loss: 0.0014\n",
      "Epoch 484/500\n",
      "45/45 [==============================] - 0s 160us/step - loss: 5.1174e-04 - val_loss: 0.0014\n",
      "Epoch 485/500\n",
      "45/45 [==============================] - 0s 147us/step - loss: 5.1173e-04 - val_loss: 0.0014\n",
      "Epoch 486/500\n",
      "45/45 [==============================] - 0s 148us/step - loss: 5.1172e-04 - val_loss: 0.0014\n",
      "Epoch 487/500\n",
      "45/45 [==============================] - 0s 149us/step - loss: 5.1171e-04 - val_loss: 0.0014\n",
      "Epoch 488/500\n",
      "45/45 [==============================] - 0s 141us/step - loss: 5.1170e-04 - val_loss: 0.0014\n",
      "Epoch 489/500\n",
      "45/45 [==============================] - 0s 164us/step - loss: 5.1169e-04 - val_loss: 0.0014\n",
      "Epoch 490/500\n",
      "45/45 [==============================] - 0s 138us/step - loss: 5.1168e-04 - val_loss: 0.0014\n",
      "Epoch 491/500\n",
      "45/45 [==============================] - 0s 151us/step - loss: 5.1167e-04 - val_loss: 0.0014\n",
      "Epoch 492/500\n",
      "45/45 [==============================] - 0s 139us/step - loss: 5.1166e-04 - val_loss: 0.0014\n",
      "Epoch 493/500\n",
      "45/45 [==============================] - 0s 143us/step - loss: 5.1165e-04 - val_loss: 0.0014\n",
      "Epoch 494/500\n",
      "45/45 [==============================] - 0s 141us/step - loss: 5.1164e-04 - val_loss: 0.0014\n",
      "Epoch 495/500\n",
      "45/45 [==============================] - 0s 148us/step - loss: 5.1163e-04 - val_loss: 0.0014\n",
      "Epoch 496/500\n",
      "45/45 [==============================] - 0s 154us/step - loss: 5.1162e-04 - val_loss: 0.0014\n",
      "Epoch 497/500\n",
      "45/45 [==============================] - 0s 152us/step - loss: 5.1161e-04 - val_loss: 0.0014\n",
      "Epoch 498/500\n",
      "45/45 [==============================] - 0s 155us/step - loss: 5.1160e-04 - val_loss: 0.0014\n",
      "Epoch 499/500\n",
      "45/45 [==============================] - 0s 149us/step - loss: 5.1159e-04 - val_loss: 0.0014\n",
      "Epoch 500/500\n",
      "45/45 [==============================] - 0s 170us/step - loss: 5.1158e-04 - val_loss: 0.0014\n",
      "\n",
      "\n",
      "Baseline MSE: 0.00030532940464661305\n",
      "Baseline RMSE: 0.01747367747918603\n",
      "\n",
      "\n"
     ]
    },
    {
     "data": {
      "image/png": "[encoded data removed]",
      "text/plain": [
       "<Figure size 432x288 with 1 Axes>"
      ]
     },
     "metadata": {
      "needs_background": "light"
     },
     "output_type": "display_data"
    }
   ],
   "source": [
    "appmodel = Sequential()\n",
    "appmodel.add(LSTM(50, activation='linear', input_shape=(n_steps, n_features)))\n",
    "appmodel.add(Dense(1))\n",
    "appmodel.compile(optimizer='adam', loss='mse')\n",
    "\n",
    "appmodelresult = appmodel.fit(X_train, y_train, batch_size=100, epochs=500, validation_split=(0.3))\n",
    "\n",
    "yhat5 = appmodel.predict(X_test)\n",
    "print('\\n')\n",
    "rmse = np.sqrt(mean_squared_error(y_test, yhat5))\n",
    "print('Baseline MSE:', mean_squared_error(y_test, yhat5))\n",
    "print('Baseline RMSE:', rmse)\n",
    "print('\\n')\n",
    "visualize_training_results(appmodelresult)"
   ]
  },
  {
   "cell_type": "markdown",
   "metadata": {},
   "source": [
    "Not much difference here."
   ]
  },
  {
   "cell_type": "code",
   "execution_count": 68,
   "metadata": {
    "ExecuteTime": {
     "end_time": "2021-01-28T16:06:43.663361Z",
     "start_time": "2021-01-28T16:06:38.990822Z"
    },
    "scrolled": true
   },
   "outputs": [
    {
     "name": "stdout",
     "output_type": "stream",
     "text": [
      "Train on 55 samples, validate on 10 samples\n",
      "Epoch 1/300\n",
      "55/55 [==============================] - 1s 17ms/step - loss: 0.0011 - val_loss: 3.9933e-04\n",
      "Epoch 2/300\n",
      "55/55 [==============================] - 0s 131us/step - loss: 9.5233e-04 - val_loss: 5.6204e-04\n",
      "Epoch 3/300\n",
      "55/55 [==============================] - 0s 129us/step - loss: 8.8839e-04 - val_loss: 7.6126e-04\n",
      "Epoch 4/300\n",
      "55/55 [==============================] - 0s 122us/step - loss: 9.0259e-04 - val_loss: 8.9856e-04\n",
      "Epoch 5/300\n",
      "55/55 [==============================] - 0s 123us/step - loss: 9.3729e-04 - val_loss: 9.4198e-04\n",
      "Epoch 6/300\n",
      "55/55 [==============================] - 0s 135us/step - loss: 9.5111e-04 - val_loss: 8.9850e-04\n",
      "Epoch 7/300\n",
      "55/55 [==============================] - 0s 164us/step - loss: 9.3703e-04 - val_loss: 8.0696e-04\n",
      "Epoch 8/300\n",
      "55/55 [==============================] - 0s 138us/step - loss: 9.1069e-04 - val_loss: 7.0242e-04\n",
      "Epoch 9/300\n",
      "55/55 [==============================] - 0s 138us/step - loss: 8.8789e-04 - val_loss: 6.0431e-04\n",
      "Epoch 10/300\n",
      "55/55 [==============================] - 0s 137us/step - loss: 8.7634e-04 - val_loss: 5.2645e-04\n",
      "Epoch 11/300\n",
      "55/55 [==============================] - 0s 183us/step - loss: 8.7706e-04 - val_loss: 4.7265e-04\n",
      "Epoch 12/300\n",
      "55/55 [==============================] - 0s 160us/step - loss: 8.8491e-04 - val_loss: 4.4124e-04\n",
      "Epoch 13/300\n",
      "55/55 [==============================] - 0s 131us/step - loss: 8.9281e-04 - val_loss: 4.2859e-04\n",
      "Epoch 14/300\n",
      "55/55 [==============================] - 0s 135us/step - loss: 8.9560e-04 - val_loss: 4.3131e-04\n",
      "Epoch 15/300\n",
      "55/55 [==============================] - 0s 143us/step - loss: 8.9194e-04 - val_loss: 4.4717e-04\n",
      "Epoch 16/300\n",
      "55/55 [==============================] - 0s 166us/step - loss: 8.8372e-04 - val_loss: 4.7438e-04\n",
      "Epoch 17/300\n",
      "55/55 [==============================] - 0s 136us/step - loss: 8.7441e-04 - val_loss: 5.1050e-04\n",
      "Epoch 18/300\n",
      "55/55 [==============================] - 0s 142us/step - loss: 8.6728e-04 - val_loss: 5.5150e-04\n",
      "Epoch 19/300\n",
      "55/55 [==============================] - 0s 129us/step - loss: 8.6418e-04 - val_loss: 5.9160e-04\n",
      "Epoch 20/300\n",
      "55/55 [==============================] - 0s 140us/step - loss: 8.6495e-04 - val_loss: 6.2417e-04\n",
      "Epoch 21/300\n",
      "55/55 [==============================] - 0s 163us/step - loss: 8.6776e-04 - val_loss: 6.4344e-04\n",
      "Epoch 22/300\n",
      "55/55 [==============================] - 0s 170us/step - loss: 8.7013e-04 - val_loss: 6.4641e-04\n",
      "Epoch 23/300\n",
      "55/55 [==============================] - 0s 156us/step - loss: 8.7024e-04 - val_loss: 6.3346e-04\n",
      "Epoch 24/300\n",
      "55/55 [==============================] - 0s 155us/step - loss: 8.6775e-04 - val_loss: 6.0812e-04\n",
      "Epoch 25/300\n",
      "55/55 [==============================] - 0s 161us/step - loss: 8.6365e-04 - val_loss: 5.7562e-04\n",
      "Epoch 26/300\n",
      "55/55 [==============================] - 0s 179us/step - loss: 8.5958e-04 - val_loss: 5.4100e-04\n",
      "Epoch 27/300\n",
      "55/55 [==============================] - 0s 145us/step - loss: 8.5687e-04 - val_loss: 5.0971e-04\n",
      "Epoch 28/300\n",
      "55/55 [==============================] - 0s 182us/step - loss: 8.5608e-04 - val_loss: 4.8449e-04\n",
      "Epoch 29/300\n",
      "55/55 [==============================] - 0s 142us/step - loss: 8.5670e-04 - val_loss: 4.6699e-04\n",
      "Epoch 30/300\n",
      "55/55 [==============================] - 0s 151us/step - loss: 8.5770e-04 - val_loss: 4.5775e-04\n",
      "Epoch 31/300\n",
      "55/55 [==============================] - 0s 149us/step - loss: 8.5806e-04 - val_loss: 4.5647e-04\n",
      "Epoch 32/300\n",
      "55/55 [==============================] - 0s 148us/step - loss: 8.5730e-04 - val_loss: 4.6234e-04\n",
      "Epoch 33/300\n",
      "55/55 [==============================] - 0s 156us/step - loss: 8.5555e-04 - val_loss: 4.7419e-04\n",
      "Epoch 34/300\n",
      "55/55 [==============================] - 0s 140us/step - loss: 8.5347e-04 - val_loss: 4.9002e-04\n",
      "Epoch 35/300\n",
      "55/55 [==============================] - 0s 159us/step - loss: 8.5181e-04 - val_loss: 5.0707e-04\n",
      "Epoch 36/300\n",
      "55/55 [==============================] - 0s 135us/step - loss: 8.5103e-04 - val_loss: 5.2264e-04\n",
      "Epoch 37/300\n",
      "55/55 [==============================] - 0s 162us/step - loss: 8.5105e-04 - val_loss: 5.3405e-04\n",
      "Epoch 38/300\n",
      "55/55 [==============================] - 0s 142us/step - loss: 8.5142e-04 - val_loss: 5.3898e-04\n",
      "Epoch 39/300\n",
      "55/55 [==============================] - 0s 153us/step - loss: 8.5157e-04 - val_loss: 5.3677e-04\n",
      "Epoch 40/300\n",
      "55/55 [==============================] - 0s 142us/step - loss: 8.5116e-04 - val_loss: 5.2798e-04\n",
      "Epoch 41/300\n",
      "55/55 [==============================] - 0s 163us/step - loss: 8.5023e-04 - val_loss: 5.1468e-04\n",
      "Epoch 42/300\n",
      "55/55 [==============================] - 0s 135us/step - loss: 8.4916e-04 - val_loss: 4.9907e-04\n",
      "Epoch 43/300\n",
      "55/55 [==============================] - 0s 156us/step - loss: 8.4832e-04 - val_loss: 4.8402e-04\n",
      "Epoch 44/300\n",
      "55/55 [==============================] - 0s 137us/step - loss: 8.4794e-04 - val_loss: 4.7130e-04\n",
      "Epoch 45/300\n",
      "55/55 [==============================] - 0s 150us/step - loss: 8.4793e-04 - val_loss: 4.6247e-04\n",
      "Epoch 46/300\n",
      "55/55 [==============================] - 0s 126us/step - loss: 8.4803e-04 - val_loss: 4.5823e-04\n",
      "Epoch 47/300\n",
      "55/55 [==============================] - 0s 131us/step - loss: 8.4796e-04 - val_loss: 4.5849e-04\n",
      "Epoch 48/300\n",
      "55/55 [==============================] - 0s 128us/step - loss: 8.4759e-04 - val_loss: 4.6265e-04\n",
      "Epoch 49/300\n",
      "55/55 [==============================] - 0s 125us/step - loss: 8.4702e-04 - val_loss: 4.6962e-04\n",
      "Epoch 50/300\n",
      "55/55 [==============================] - 0s 129us/step - loss: 8.4645e-04 - val_loss: 4.7791e-04\n",
      "Epoch 51/300\n",
      "55/55 [==============================] - 0s 146us/step - loss: 8.4607e-04 - val_loss: 4.8585e-04\n",
      "Epoch 52/300\n",
      "55/55 [==============================] - 0s 125us/step - loss: 8.4591e-04 - val_loss: 4.9190e-04\n",
      "Epoch 53/300\n",
      "55/55 [==============================] - 0s 131us/step - loss: 8.4588e-04 - val_loss: 4.9475e-04\n",
      "Epoch 54/300\n",
      "55/55 [==============================] - 0s 134us/step - loss: 8.4582e-04 - val_loss: 4.9398e-04\n",
      "Epoch 55/300\n",
      "55/55 [==============================] - 0s 126us/step - loss: 8.4562e-04 - val_loss: 4.8990e-04\n",
      "Epoch 56/300\n",
      "55/55 [==============================] - 0s 127us/step - loss: 8.4528e-04 - val_loss: 4.8347e-04\n",
      "Epoch 57/300\n",
      "55/55 [==============================] - 0s 154us/step - loss: 8.4491e-04 - val_loss: 4.7602e-04\n",
      "Epoch 58/300\n",
      "55/55 [==============================] - 0s 123us/step - loss: 8.4461e-04 - val_loss: 4.6893e-04\n",
      "Epoch 59/300\n",
      "55/55 [==============================] - 0s 122us/step - loss: 8.4443e-04 - val_loss: 4.6334e-04\n",
      "Epoch 60/300\n",
      "55/55 [==============================] - 0s 123us/step - loss: 8.4433e-04 - val_loss: 4.6001e-04\n",
      "Epoch 61/300\n",
      "55/55 [==============================] - 0s 135us/step - loss: 8.4422e-04 - val_loss: 4.5921e-04\n",
      "Epoch 62/300\n",
      "55/55 [==============================] - 0s 139us/step - loss: 8.4405e-04 - val_loss: 4.6079e-04\n",
      "Epoch 63/300\n",
      "55/55 [==============================] - 0s 131us/step - loss: 8.4380e-04 - val_loss: 4.6418e-04\n",
      "Epoch 64/300\n",
      "55/55 [==============================] - 0s 133us/step - loss: 8.4353e-04 - val_loss: 4.6857e-04\n",
      "Epoch 65/300\n",
      "55/55 [==============================] - 0s 142us/step - loss: 8.4329e-04 - val_loss: 4.7293e-04\n",
      "Epoch 66/300\n",
      "55/55 [==============================] - 0s 131us/step - loss: 8.4311e-04 - val_loss: 4.7635e-04\n",
      "Epoch 67/300\n",
      "55/55 [==============================] - 0s 131us/step - loss: 8.4297e-04 - val_loss: 4.7817e-04\n",
      "Epoch 68/300\n",
      "55/55 [==============================] - 0s 126us/step - loss: 8.4283e-04 - val_loss: 4.7810e-04\n",
      "Epoch 69/300\n",
      "55/55 [==============================] - 0s 128us/step - loss: 8.4265e-04 - val_loss: 4.7629e-04\n",
      "Epoch 70/300\n",
      "55/55 [==============================] - 0s 156us/step - loss: 8.4244e-04 - val_loss: 4.7325e-04\n",
      "Epoch 71/300\n",
      "55/55 [==============================] - 0s 136us/step - loss: 8.4221e-04 - val_loss: 4.6970e-04\n",
      "Epoch 72/300\n",
      "55/55 [==============================] - 0s 139us/step - loss: 8.4201e-04 - val_loss: 4.6641e-04\n",
      "Epoch 73/300\n",
      "55/55 [==============================] - 0s 141us/step - loss: 8.4184e-04 - val_loss: 4.6400e-04\n",
      "Epoch 74/300\n",
      "55/55 [==============================] - 0s 147us/step - loss: 8.4169e-04 - val_loss: 4.6286e-04\n",
      "Epoch 75/300\n",
      "55/55 [==============================] - 0s 148us/step - loss: 8.4153e-04 - val_loss: 4.6309e-04\n"
     ]
    },
    {
     "name": "stdout",
     "output_type": "stream",
     "text": [
      "Epoch 76/300\n",
      "55/55 [==============================] - 0s 137us/step - loss: 8.4135e-04 - val_loss: 4.6453e-04\n",
      "Epoch 77/300\n",
      "55/55 [==============================] - 0s 148us/step - loss: 8.4115e-04 - val_loss: 4.6677e-04\n",
      "Epoch 78/300\n",
      "55/55 [==============================] - 0s 123us/step - loss: 8.4095e-04 - val_loss: 4.6929e-04\n",
      "Epoch 79/300\n",
      "55/55 [==============================] - 0s 160us/step - loss: 8.4076e-04 - val_loss: 4.7150e-04\n",
      "Epoch 80/300\n",
      "55/55 [==============================] - 0s 137us/step - loss: 8.4060e-04 - val_loss: 4.7297e-04\n",
      "Epoch 81/300\n",
      "55/55 [==============================] - 0s 129us/step - loss: 8.4043e-04 - val_loss: 4.7345e-04\n",
      "Epoch 82/300\n",
      "55/55 [==============================] - 0s 131us/step - loss: 8.4026e-04 - val_loss: 4.7291e-04\n",
      "Epoch 83/300\n",
      "55/55 [==============================] - 0s 131us/step - loss: 8.4008e-04 - val_loss: 4.7160e-04\n",
      "Epoch 84/300\n",
      "55/55 [==============================] - 0s 148us/step - loss: 8.3989e-04 - val_loss: 4.6988e-04\n",
      "Epoch 85/300\n",
      "55/55 [==============================] - 0s 139us/step - loss: 8.3971e-04 - val_loss: 4.6820e-04\n",
      "Epoch 86/300\n",
      "55/55 [==============================] - 0s 139us/step - loss: 8.3953e-04 - val_loss: 4.6694e-04\n",
      "Epoch 87/300\n",
      "55/55 [==============================] - 0s 135us/step - loss: 8.3936e-04 - val_loss: 4.6636e-04\n",
      "Epoch 88/300\n",
      "55/55 [==============================] - 0s 178us/step - loss: 8.3919e-04 - val_loss: 4.6657e-04\n",
      "Epoch 89/300\n",
      "55/55 [==============================] - 0s 147us/step - loss: 8.3901e-04 - val_loss: 4.6744e-04\n",
      "Epoch 90/300\n",
      "55/55 [==============================] - 0s 190us/step - loss: 8.3883e-04 - val_loss: 4.6875e-04\n",
      "Epoch 91/300\n",
      "55/55 [==============================] - 0s 136us/step - loss: 8.3864e-04 - val_loss: 4.7016e-04\n",
      "Epoch 92/300\n",
      "55/55 [==============================] - 0s 163us/step - loss: 8.3846e-04 - val_loss: 4.7135e-04\n",
      "Epoch 93/300\n",
      "55/55 [==============================] - 0s 145us/step - loss: 8.3829e-04 - val_loss: 4.7207e-04\n",
      "Epoch 94/300\n",
      "55/55 [==============================] - 0s 168us/step - loss: 8.3811e-04 - val_loss: 4.7220e-04\n",
      "Epoch 95/300\n",
      "55/55 [==============================] - 0s 148us/step - loss: 8.3793e-04 - val_loss: 4.7177e-04\n",
      "Epoch 96/300\n",
      "55/55 [==============================] - 0s 156us/step - loss: 8.3775e-04 - val_loss: 4.7095e-04\n",
      "Epoch 97/300\n",
      "55/55 [==============================] - 0s 147us/step - loss: 8.3756e-04 - val_loss: 4.6999e-04\n",
      "Epoch 98/300\n",
      "55/55 [==============================] - 0s 164us/step - loss: 8.3737e-04 - val_loss: 4.6917e-04\n",
      "Epoch 99/300\n",
      "55/55 [==============================] - 0s 152us/step - loss: 8.3719e-04 - val_loss: 4.6869e-04\n",
      "Epoch 100/300\n",
      "55/55 [==============================] - 0s 130us/step - loss: 8.3700e-04 - val_loss: 4.6866e-04\n",
      "Epoch 101/300\n",
      "55/55 [==============================] - 0s 114us/step - loss: 8.3682e-04 - val_loss: 4.6907e-04\n",
      "Epoch 102/300\n",
      "55/55 [==============================] - 0s 115us/step - loss: 8.3662e-04 - val_loss: 4.6978e-04\n",
      "Epoch 103/300\n",
      "55/55 [==============================] - 0s 129us/step - loss: 8.3643e-04 - val_loss: 4.7059e-04\n",
      "Epoch 104/300\n",
      "55/55 [==============================] - 0s 110us/step - loss: 8.3623e-04 - val_loss: 4.7129e-04\n",
      "Epoch 105/300\n",
      "55/55 [==============================] - 0s 119us/step - loss: 8.3604e-04 - val_loss: 4.7171e-04\n",
      "Epoch 106/300\n",
      "55/55 [==============================] - 0s 120us/step - loss: 8.3584e-04 - val_loss: 4.7177e-04\n",
      "Epoch 107/300\n",
      "55/55 [==============================] - 0s 106us/step - loss: 8.3564e-04 - val_loss: 4.7149e-04\n",
      "Epoch 108/300\n",
      "55/55 [==============================] - 0s 118us/step - loss: 8.3544e-04 - val_loss: 4.7098e-04\n",
      "Epoch 109/300\n",
      "55/55 [==============================] - 0s 114us/step - loss: 8.3523e-04 - val_loss: 4.7042e-04\n",
      "Epoch 110/300\n",
      "55/55 [==============================] - 0s 120us/step - loss: 8.3502e-04 - val_loss: 4.6999e-04\n",
      "Epoch 111/300\n",
      "55/55 [==============================] - 0s 108us/step - loss: 8.3481e-04 - val_loss: 4.6981e-04\n",
      "Epoch 112/300\n",
      "55/55 [==============================] - 0s 120us/step - loss: 8.3459e-04 - val_loss: 4.6992e-04\n",
      "Epoch 113/300\n",
      "55/55 [==============================] - 0s 130us/step - loss: 8.3438e-04 - val_loss: 4.7029e-04\n",
      "Epoch 114/300\n",
      "55/55 [==============================] - 0s 113us/step - loss: 8.3415e-04 - val_loss: 4.7078e-04\n",
      "Epoch 115/300\n",
      "55/55 [==============================] - 0s 130us/step - loss: 8.3393e-04 - val_loss: 4.7125e-04\n",
      "Epoch 116/300\n",
      "55/55 [==============================] - 0s 103us/step - loss: 8.3370e-04 - val_loss: 4.7156e-04\n",
      "Epoch 117/300\n",
      "55/55 [==============================] - 0s 132us/step - loss: 8.3347e-04 - val_loss: 4.7163e-04\n",
      "Epoch 118/300\n",
      "55/55 [==============================] - 0s 127us/step - loss: 8.3324e-04 - val_loss: 4.7148e-04\n",
      "Epoch 119/300\n",
      "55/55 [==============================] - 0s 140us/step - loss: 8.3300e-04 - val_loss: 4.7117e-04\n",
      "Epoch 120/300\n",
      "55/55 [==============================] - 0s 116us/step - loss: 8.3275e-04 - val_loss: 4.7085e-04\n",
      "Epoch 121/300\n",
      "55/55 [==============================] - 0s 158us/step - loss: 8.3251e-04 - val_loss: 4.7063e-04\n",
      "Epoch 122/300\n",
      "55/55 [==============================] - 0s 123us/step - loss: 8.3225e-04 - val_loss: 4.7060e-04\n",
      "Epoch 123/300\n",
      "55/55 [==============================] - 0s 177us/step - loss: 8.3200e-04 - val_loss: 4.7078e-04\n",
      "Epoch 124/300\n",
      "55/55 [==============================] - 0s 124us/step - loss: 8.3174e-04 - val_loss: 4.7110e-04\n",
      "Epoch 125/300\n",
      "55/55 [==============================] - 0s 134us/step - loss: 8.3147e-04 - val_loss: 4.7145e-04\n",
      "Epoch 126/300\n",
      "55/55 [==============================] - 0s 123us/step - loss: 8.3120e-04 - val_loss: 4.7173e-04\n",
      "Epoch 127/300\n",
      "55/55 [==============================] - 0s 131us/step - loss: 8.3093e-04 - val_loss: 4.7186e-04\n",
      "Epoch 128/300\n",
      "55/55 [==============================] - 0s 141us/step - loss: 8.3065e-04 - val_loss: 4.7182e-04\n",
      "Epoch 129/300\n",
      "55/55 [==============================] - 0s 136us/step - loss: 8.3036e-04 - val_loss: 4.7167e-04\n",
      "Epoch 130/300\n",
      "55/55 [==============================] - 0s 140us/step - loss: 8.3007e-04 - val_loss: 4.7151e-04\n",
      "Epoch 131/300\n",
      "55/55 [==============================] - 0s 127us/step - loss: 8.2977e-04 - val_loss: 4.7143e-04\n",
      "Epoch 132/300\n",
      "55/55 [==============================] - 0s 137us/step - loss: 8.2947e-04 - val_loss: 4.7150e-04\n",
      "Epoch 133/300\n",
      "55/55 [==============================] - 0s 134us/step - loss: 8.2916e-04 - val_loss: 4.7172e-04\n",
      "Epoch 134/300\n",
      "55/55 [==============================] - 0s 128us/step - loss: 8.2885e-04 - val_loss: 4.7202e-04\n",
      "Epoch 135/300\n",
      "55/55 [==============================] - 0s 141us/step - loss: 8.2853e-04 - val_loss: 4.7231e-04\n",
      "Epoch 136/300\n",
      "55/55 [==============================] - 0s 119us/step - loss: 8.2820e-04 - val_loss: 4.7251e-04\n",
      "Epoch 137/300\n",
      "55/55 [==============================] - 0s 119us/step - loss: 8.2786e-04 - val_loss: 4.7257e-04\n",
      "Epoch 138/300\n",
      "55/55 [==============================] - 0s 140us/step - loss: 8.2752e-04 - val_loss: 4.7254e-04\n",
      "Epoch 139/300\n",
      "55/55 [==============================] - 0s 135us/step - loss: 8.2718e-04 - val_loss: 4.7249e-04\n",
      "Epoch 140/300\n",
      "55/55 [==============================] - 0s 126us/step - loss: 8.2682e-04 - val_loss: 4.7251e-04\n",
      "Epoch 141/300\n",
      "55/55 [==============================] - 0s 122us/step - loss: 8.2646e-04 - val_loss: 4.7266e-04\n",
      "Epoch 142/300\n",
      "55/55 [==============================] - 0s 125us/step - loss: 8.2609e-04 - val_loss: 4.7291e-04\n",
      "Epoch 143/300\n",
      "55/55 [==============================] - 0s 133us/step - loss: 8.2571e-04 - val_loss: 4.7321e-04\n",
      "Epoch 144/300\n",
      "55/55 [==============================] - 0s 128us/step - loss: 8.2533e-04 - val_loss: 4.7346e-04\n",
      "Epoch 145/300\n",
      "55/55 [==============================] - 0s 130us/step - loss: 8.2494e-04 - val_loss: 4.7362e-04\n",
      "Epoch 146/300\n",
      "55/55 [==============================] - 0s 129us/step - loss: 8.2454e-04 - val_loss: 4.7369e-04\n",
      "Epoch 147/300\n",
      "55/55 [==============================] - 0s 137us/step - loss: 8.2413e-04 - val_loss: 4.7373e-04\n",
      "Epoch 148/300\n",
      "55/55 [==============================] - 0s 124us/step - loss: 8.2371e-04 - val_loss: 4.7381e-04\n",
      "Epoch 149/300\n",
      "55/55 [==============================] - 0s 120us/step - loss: 8.2329e-04 - val_loss: 4.7400e-04\n",
      "Epoch 150/300\n"
     ]
    },
    {
     "name": "stdout",
     "output_type": "stream",
     "text": [
      "55/55 [==============================] - 0s 120us/step - loss: 8.2285e-04 - val_loss: 4.7428e-04\n",
      "Epoch 151/300\n",
      "55/55 [==============================] - 0s 117us/step - loss: 8.2241e-04 - val_loss: 4.7458e-04\n",
      "Epoch 152/300\n",
      "55/55 [==============================] - 0s 123us/step - loss: 8.2196e-04 - val_loss: 4.7482e-04\n",
      "Epoch 153/300\n",
      "55/55 [==============================] - 0s 117us/step - loss: 8.2150e-04 - val_loss: 4.7498e-04\n",
      "Epoch 154/300\n",
      "55/55 [==============================] - 0s 118us/step - loss: 8.2103e-04 - val_loss: 4.7509e-04\n",
      "Epoch 155/300\n",
      "55/55 [==============================] - 0s 126us/step - loss: 8.2055e-04 - val_loss: 4.7521e-04\n",
      "Epoch 156/300\n",
      "55/55 [==============================] - 0s 140us/step - loss: 8.2007e-04 - val_loss: 4.7542e-04\n",
      "Epoch 157/300\n",
      "55/55 [==============================] - 0s 120us/step - loss: 8.1957e-04 - val_loss: 4.7571e-04\n",
      "Epoch 158/300\n",
      "55/55 [==============================] - 0s 129us/step - loss: 8.1907e-04 - val_loss: 4.7602e-04\n",
      "Epoch 159/300\n",
      "55/55 [==============================] - 0s 124us/step - loss: 8.1855e-04 - val_loss: 4.7627e-04\n",
      "Epoch 160/300\n",
      "55/55 [==============================] - 0s 124us/step - loss: 8.1803e-04 - val_loss: 4.7645e-04\n",
      "Epoch 161/300\n",
      "55/55 [==============================] - 0s 121us/step - loss: 8.1750e-04 - val_loss: 4.7660e-04\n",
      "Epoch 162/300\n",
      "55/55 [==============================] - 0s 131us/step - loss: 8.1696e-04 - val_loss: 4.7680e-04\n",
      "Epoch 163/300\n",
      "55/55 [==============================] - 0s 125us/step - loss: 8.1642e-04 - val_loss: 4.7708e-04\n",
      "Epoch 164/300\n",
      "55/55 [==============================] - 0s 133us/step - loss: 8.1586e-04 - val_loss: 4.7741e-04\n",
      "Epoch 165/300\n",
      "55/55 [==============================] - 0s 126us/step - loss: 8.1529e-04 - val_loss: 4.7770e-04\n",
      "Epoch 166/300\n",
      "55/55 [==============================] - 0s 132us/step - loss: 8.1472e-04 - val_loss: 4.7792e-04\n",
      "Epoch 167/300\n",
      "55/55 [==============================] - 0s 124us/step - loss: 8.1414e-04 - val_loss: 4.7811e-04\n",
      "Epoch 168/300\n",
      "55/55 [==============================] - 0s 134us/step - loss: 8.1355e-04 - val_loss: 4.7835e-04\n",
      "Epoch 169/300\n",
      "55/55 [==============================] - 0s 131us/step - loss: 8.1296e-04 - val_loss: 4.7866e-04\n",
      "Epoch 170/300\n",
      "55/55 [==============================] - 0s 126us/step - loss: 8.1235e-04 - val_loss: 4.7900e-04\n",
      "Epoch 171/300\n",
      "55/55 [==============================] - 0s 153us/step - loss: 8.1174e-04 - val_loss: 4.7928e-04\n",
      "Epoch 172/300\n",
      "55/55 [==============================] - 0s 125us/step - loss: 8.1113e-04 - val_loss: 4.7951e-04\n",
      "Epoch 173/300\n",
      "55/55 [==============================] - 0s 124us/step - loss: 8.1050e-04 - val_loss: 4.7976e-04\n",
      "Epoch 174/300\n",
      "55/55 [==============================] - 0s 129us/step - loss: 8.0988e-04 - val_loss: 4.8008e-04\n",
      "Epoch 175/300\n",
      "55/55 [==============================] - 0s 135us/step - loss: 8.0924e-04 - val_loss: 4.8043e-04\n",
      "Epoch 176/300\n",
      "55/55 [==============================] - 0s 131us/step - loss: 8.0860e-04 - val_loss: 4.8074e-04\n",
      "Epoch 177/300\n",
      "55/55 [==============================] - 0s 130us/step - loss: 8.0796e-04 - val_loss: 4.8101e-04\n",
      "Epoch 178/300\n",
      "55/55 [==============================] - 0s 119us/step - loss: 8.0731e-04 - val_loss: 4.8129e-04\n",
      "Epoch 179/300\n",
      "55/55 [==============================] - 0s 134us/step - loss: 8.0666e-04 - val_loss: 4.8164e-04\n",
      "Epoch 180/300\n",
      "55/55 [==============================] - 0s 112us/step - loss: 8.0601e-04 - val_loss: 4.8201e-04\n",
      "Epoch 181/300\n",
      "55/55 [==============================] - 0s 124us/step - loss: 8.0536e-04 - val_loss: 4.8232e-04\n",
      "Epoch 182/300\n",
      "55/55 [==============================] - 0s 121us/step - loss: 8.0470e-04 - val_loss: 4.8262e-04\n",
      "Epoch 183/300\n",
      "55/55 [==============================] - 0s 132us/step - loss: 8.0405e-04 - val_loss: 4.8296e-04\n",
      "Epoch 184/300\n",
      "55/55 [==============================] - 0s 120us/step - loss: 8.0339e-04 - val_loss: 4.8335e-04\n",
      "Epoch 185/300\n",
      "55/55 [==============================] - 0s 125us/step - loss: 8.0274e-04 - val_loss: 4.8371e-04\n",
      "Epoch 186/300\n",
      "55/55 [==============================] - 0s 134us/step - loss: 8.0209e-04 - val_loss: 4.8403e-04\n",
      "Epoch 187/300\n",
      "55/55 [==============================] - 0s 150us/step - loss: 8.0144e-04 - val_loss: 4.8439e-04\n",
      "Epoch 188/300\n",
      "55/55 [==============================] - 0s 138us/step - loss: 8.0080e-04 - val_loss: 4.8480e-04\n",
      "Epoch 189/300\n",
      "55/55 [==============================] - 0s 149us/step - loss: 8.0016e-04 - val_loss: 4.8517e-04\n",
      "Epoch 190/300\n",
      "55/55 [==============================] - 0s 127us/step - loss: 7.9952e-04 - val_loss: 4.8551e-04\n",
      "Epoch 191/300\n",
      "55/55 [==============================] - 0s 136us/step - loss: 7.9889e-04 - val_loss: 4.8591e-04\n",
      "Epoch 192/300\n",
      "55/55 [==============================] - 0s 144us/step - loss: 7.9827e-04 - val_loss: 4.8633e-04\n",
      "Epoch 193/300\n",
      "55/55 [==============================] - 0s 132us/step - loss: 7.9766e-04 - val_loss: 4.8670e-04\n",
      "Epoch 194/300\n",
      "55/55 [==============================] - 0s 121us/step - loss: 7.9705e-04 - val_loss: 4.8708e-04\n",
      "Epoch 195/300\n",
      "55/55 [==============================] - 0s 120us/step - loss: 7.9645e-04 - val_loss: 4.8751e-04\n",
      "Epoch 196/300\n",
      "55/55 [==============================] - 0s 128us/step - loss: 7.9586e-04 - val_loss: 4.8791e-04\n",
      "Epoch 197/300\n",
      "55/55 [==============================] - 0s 138us/step - loss: 7.9529e-04 - val_loss: 4.8829e-04\n",
      "Epoch 198/300\n",
      "55/55 [==============================] - 0s 122us/step - loss: 7.9472e-04 - val_loss: 4.8872e-04\n",
      "Epoch 199/300\n",
      "55/55 [==============================] - 0s 130us/step - loss: 7.9416e-04 - val_loss: 4.8913e-04\n",
      "Epoch 200/300\n",
      "55/55 [==============================] - 0s 130us/step - loss: 7.9361e-04 - val_loss: 4.8952e-04\n",
      "Epoch 201/300\n",
      "55/55 [==============================] - 0s 136us/step - loss: 7.9308e-04 - val_loss: 4.8995e-04\n",
      "Epoch 202/300\n",
      "55/55 [==============================] - 0s 121us/step - loss: 7.9256e-04 - val_loss: 4.9036e-04\n",
      "Epoch 203/300\n",
      "55/55 [==============================] - 0s 129us/step - loss: 7.9205e-04 - val_loss: 4.9075e-04\n",
      "Epoch 204/300\n",
      "55/55 [==============================] - 0s 120us/step - loss: 7.9155e-04 - val_loss: 4.9118e-04\n",
      "Epoch 205/300\n",
      "55/55 [==============================] - 0s 140us/step - loss: 7.9106e-04 - val_loss: 4.9157e-04\n",
      "Epoch 206/300\n",
      "55/55 [==============================] - 0s 124us/step - loss: 7.9059e-04 - val_loss: 4.9197e-04\n",
      "Epoch 207/300\n",
      "55/55 [==============================] - 0s 120us/step - loss: 7.9013e-04 - val_loss: 4.9238e-04\n",
      "Epoch 208/300\n",
      "55/55 [==============================] - 0s 120us/step - loss: 7.8968e-04 - val_loss: 4.9275e-04\n",
      "Epoch 209/300\n",
      "55/55 [==============================] - 0s 149us/step - loss: 7.8924e-04 - val_loss: 4.9317e-04\n",
      "Epoch 210/300\n",
      "55/55 [==============================] - 0s 124us/step - loss: 7.8881e-04 - val_loss: 4.9351e-04\n",
      "Epoch 211/300\n",
      "55/55 [==============================] - 0s 124us/step - loss: 7.8840e-04 - val_loss: 4.9392e-04\n",
      "Epoch 212/300\n",
      "55/55 [==============================] - 0s 144us/step - loss: 7.8799e-04 - val_loss: 4.9425e-04\n",
      "Epoch 213/300\n",
      "55/55 [==============================] - 0s 142us/step - loss: 7.8760e-04 - val_loss: 4.9465e-04\n",
      "Epoch 214/300\n",
      "55/55 [==============================] - 0s 151us/step - loss: 7.8722e-04 - val_loss: 4.9494e-04\n",
      "Epoch 215/300\n",
      "55/55 [==============================] - 0s 159us/step - loss: 7.8684e-04 - val_loss: 4.9538e-04\n",
      "Epoch 216/300\n",
      "55/55 [==============================] - 0s 177us/step - loss: 7.8648e-04 - val_loss: 4.9553e-04\n",
      "Epoch 217/300\n",
      "55/55 [==============================] - 0s 133us/step - loss: 7.8613e-04 - val_loss: 4.9620e-04\n",
      "Epoch 218/300\n",
      "55/55 [==============================] - 0s 135us/step - loss: 7.8578e-04 - val_loss: 4.9578e-04\n",
      "Epoch 219/300\n",
      "55/55 [==============================] - 0s 127us/step - loss: 7.8545e-04 - val_loss: 4.9771e-04\n",
      "Epoch 220/300\n",
      "55/55 [==============================] - 0s 165us/step - loss: 7.8512e-04 - val_loss: 4.9426e-04\n",
      "Epoch 221/300\n",
      "55/55 [==============================] - 0s 140us/step - loss: 7.8482e-04 - val_loss: 5.0343e-04\n",
      "Epoch 222/300\n",
      "55/55 [==============================] - 0s 123us/step - loss: 7.8460e-04 - val_loss: 4.8515e-04\n",
      "Epoch 223/300\n",
      "55/55 [==============================] - 0s 145us/step - loss: 7.8465e-04 - val_loss: 5.1622e-04\n"
     ]
    },
    {
     "name": "stdout",
     "output_type": "stream",
     "text": [
      "Epoch 224/300\n",
      "55/55 [==============================] - 0s 152us/step - loss: 7.8479e-04 - val_loss: 4.8631e-04\n",
      "Epoch 225/300\n",
      "55/55 [==============================] - 0s 149us/step - loss: 7.8403e-04 - val_loss: 4.9523e-04\n",
      "Epoch 226/300\n",
      "55/55 [==============================] - 0s 149us/step - loss: 7.8335e-04 - val_loss: 5.1279e-04\n",
      "Epoch 227/300\n",
      "55/55 [==============================] - 0s 161us/step - loss: 7.8362e-04 - val_loss: 4.8802e-04\n",
      "Epoch 228/300\n",
      "55/55 [==============================] - 0s 257us/step - loss: 7.8314e-04 - val_loss: 4.9611e-04\n",
      "Epoch 229/300\n",
      "55/55 [==============================] - 0s 212us/step - loss: 7.8256e-04 - val_loss: 5.1161e-04\n",
      "Epoch 230/300\n",
      "55/55 [==============================] - 0s 162us/step - loss: 7.8273e-04 - val_loss: 4.9071e-04\n",
      "Epoch 231/300\n",
      "55/55 [==============================] - 0s 135us/step - loss: 7.8226e-04 - val_loss: 4.9570e-04\n",
      "Epoch 232/300\n",
      "55/55 [==============================] - 0s 148us/step - loss: 7.8185e-04 - val_loss: 5.1081e-04\n",
      "Epoch 233/300\n",
      "55/55 [==============================] - 0s 151us/step - loss: 7.8193e-04 - val_loss: 4.9324e-04\n",
      "Epoch 234/300\n",
      "55/55 [==============================] - 0s 147us/step - loss: 7.8148e-04 - val_loss: 4.9559e-04\n",
      "Epoch 235/300\n",
      "55/55 [==============================] - 0s 151us/step - loss: 7.8120e-04 - val_loss: 5.1002e-04\n",
      "Epoch 236/300\n",
      "55/55 [==============================] - 0s 137us/step - loss: 7.8121e-04 - val_loss: 4.9516e-04\n",
      "Epoch 237/300\n",
      "55/55 [==============================] - 0s 161us/step - loss: 7.8080e-04 - val_loss: 4.9609e-04\n",
      "Epoch 238/300\n",
      "55/55 [==============================] - 0s 140us/step - loss: 7.8058e-04 - val_loss: 5.0928e-04\n",
      "Epoch 239/300\n",
      "55/55 [==============================] - 0s 145us/step - loss: 7.8055e-04 - val_loss: 4.9628e-04\n",
      "Epoch 240/300\n",
      "55/55 [==============================] - 0s 145us/step - loss: 7.8021e-04 - val_loss: 4.9720e-04\n",
      "Epoch 241/300\n",
      "55/55 [==============================] - 0s 149us/step - loss: 7.8001e-04 - val_loss: 5.0864e-04\n",
      "Epoch 242/300\n",
      "55/55 [==============================] - 0s 132us/step - loss: 7.7996e-04 - val_loss: 4.9665e-04\n",
      "Epoch 243/300\n",
      "55/55 [==============================] - 0s 186us/step - loss: 7.7968e-04 - val_loss: 4.9888e-04\n",
      "Epoch 244/300\n",
      "55/55 [==============================] - 0s 142us/step - loss: 7.7947e-04 - val_loss: 5.0792e-04\n",
      "Epoch 245/300\n",
      "55/55 [==============================] - 0s 147us/step - loss: 7.7941e-04 - val_loss: 4.9651e-04\n",
      "Epoch 246/300\n",
      "55/55 [==============================] - 0s 129us/step - loss: 7.7920e-04 - val_loss: 5.0117e-04\n",
      "Epoch 247/300\n",
      "55/55 [==============================] - 0s 124us/step - loss: 7.7898e-04 - val_loss: 5.0675e-04\n",
      "Epoch 248/300\n",
      "55/55 [==============================] - 0s 136us/step - loss: 7.7890e-04 - val_loss: 4.9644e-04\n",
      "Epoch 249/300\n",
      "55/55 [==============================] - 0s 132us/step - loss: 7.7877e-04 - val_loss: 5.0388e-04\n",
      "Epoch 250/300\n",
      "55/55 [==============================] - 0s 140us/step - loss: 7.7855e-04 - val_loss: 5.0473e-04\n",
      "Epoch 251/300\n",
      "55/55 [==============================] - 0s 140us/step - loss: 7.7842e-04 - val_loss: 4.9724e-04\n",
      "Epoch 252/300\n",
      "55/55 [==============================] - 0s 123us/step - loss: 7.7834e-04 - val_loss: 5.0643e-04\n",
      "Epoch 253/300\n",
      "55/55 [==============================] - 0s 149us/step - loss: 7.7818e-04 - val_loss: 5.0178e-04\n",
      "Epoch 254/300\n",
      "55/55 [==============================] - 0s 114us/step - loss: 7.7801e-04 - val_loss: 4.9988e-04\n",
      "Epoch 255/300\n",
      "55/55 [==============================] - 0s 134us/step - loss: 7.7790e-04 - val_loss: 5.0719e-04\n",
      "Epoch 256/300\n",
      "55/55 [==============================] - 0s 137us/step - loss: 7.7781e-04 - val_loss: 4.9928e-04\n",
      "Epoch 257/300\n",
      "55/55 [==============================] - 0s 134us/step - loss: 7.7767e-04 - val_loss: 5.0418e-04\n",
      "Epoch 258/300\n",
      "55/55 [==============================] - 0s 123us/step - loss: 7.7752e-04 - val_loss: 5.0471e-04\n",
      "Epoch 259/300\n",
      "55/55 [==============================] - 0s 148us/step - loss: 7.7740e-04 - val_loss: 4.9984e-04\n",
      "Epoch 260/300\n",
      "55/55 [==============================] - 0s 115us/step - loss: 7.7732e-04 - val_loss: 5.0719e-04\n",
      "Epoch 261/300\n",
      "55/55 [==============================] - 0s 150us/step - loss: 7.7721e-04 - val_loss: 5.0071e-04\n",
      "Epoch 262/300\n",
      "55/55 [==============================] - 0s 137us/step - loss: 7.7709e-04 - val_loss: 5.0453e-04\n",
      "Epoch 263/300\n",
      "55/55 [==============================] - 0s 139us/step - loss: 7.7696e-04 - val_loss: 5.0467e-04\n",
      "Epoch 264/300\n",
      "55/55 [==============================] - 0s 142us/step - loss: 7.7685e-04 - val_loss: 5.0130e-04\n",
      "Epoch 265/300\n",
      "55/55 [==============================] - 0s 127us/step - loss: 7.7677e-04 - val_loss: 5.0725e-04\n",
      "Epoch 266/300\n",
      "55/55 [==============================] - 0s 133us/step - loss: 7.7668e-04 - val_loss: 5.0055e-04\n",
      "Epoch 267/300\n",
      "55/55 [==============================] - 0s 126us/step - loss: 7.7658e-04 - val_loss: 5.0718e-04\n",
      "Epoch 268/300\n",
      "55/55 [==============================] - 0s 120us/step - loss: 7.7647e-04 - val_loss: 5.0185e-04\n",
      "Epoch 269/300\n",
      "55/55 [==============================] - 0s 146us/step - loss: 7.7637e-04 - val_loss: 5.0575e-04\n",
      "Epoch 270/300\n",
      "55/55 [==============================] - 0s 124us/step - loss: 7.7626e-04 - val_loss: 5.0377e-04\n",
      "Epoch 271/300\n",
      "55/55 [==============================] - 0s 137us/step - loss: 7.7616e-04 - val_loss: 5.0424e-04\n",
      "Epoch 272/300\n",
      "55/55 [==============================] - 0s 131us/step - loss: 7.7607e-04 - val_loss: 5.0550e-04\n",
      "Epoch 273/300\n",
      "55/55 [==============================] - 0s 147us/step - loss: 7.7598e-04 - val_loss: 5.0296e-04\n",
      "Epoch 274/300\n",
      "55/55 [==============================] - 0s 127us/step - loss: 7.7590e-04 - val_loss: 5.0721e-04\n",
      "Epoch 275/300\n",
      "55/55 [==============================] - 0s 117us/step - loss: 7.7582e-04 - val_loss: 5.0128e-04\n",
      "Epoch 276/300\n",
      "55/55 [==============================] - 0s 129us/step - loss: 7.7575e-04 - val_loss: 5.0995e-04\n",
      "Epoch 277/300\n",
      "55/55 [==============================] - 0s 133us/step - loss: 7.7570e-04 - val_loss: 4.9779e-04\n",
      "Epoch 278/300\n",
      "55/55 [==============================] - 0s 119us/step - loss: 7.7569e-04 - val_loss: 5.1591e-04\n",
      "Epoch 279/300\n",
      "55/55 [==============================] - 0s 123us/step - loss: 7.7577e-04 - val_loss: 4.9033e-04\n",
      "Epoch 280/300\n",
      "55/55 [==============================] - 0s 125us/step - loss: 7.7602e-04 - val_loss: 5.2694e-04\n",
      "Epoch 281/300\n",
      "55/55 [==============================] - 0s 152us/step - loss: 7.7647e-04 - val_loss: 4.8267e-04\n",
      "Epoch 282/300\n",
      "55/55 [==============================] - 0s 124us/step - loss: 7.7679e-04 - val_loss: 5.2707e-04\n",
      "Epoch 283/300\n",
      "55/55 [==============================] - 0s 116us/step - loss: 7.7634e-04 - val_loss: 4.9547e-04\n",
      "Epoch 284/300\n",
      "55/55 [==============================] - 0s 142us/step - loss: 7.7533e-04 - val_loss: 5.0048e-04\n",
      "Epoch 285/300\n",
      "55/55 [==============================] - 0s 114us/step - loss: 7.7505e-04 - val_loss: 5.2136e-04\n",
      "Epoch 286/300\n",
      "55/55 [==============================] - 0s 127us/step - loss: 7.7559e-04 - val_loss: 4.8793e-04\n",
      "Epoch 287/300\n",
      "55/55 [==============================] - 0s 127us/step - loss: 7.7574e-04 - val_loss: 5.1645e-04\n",
      "Epoch 288/300\n",
      "55/55 [==============================] - 0s 115us/step - loss: 7.7510e-04 - val_loss: 5.0682e-04\n",
      "Epoch 289/300\n",
      "55/55 [==============================] - 0s 125us/step - loss: 7.7471e-04 - val_loss: 4.9370e-04\n",
      "Epoch 290/300\n",
      "55/55 [==============================] - 0s 120us/step - loss: 7.7503e-04 - val_loss: 5.2104e-04\n",
      "Epoch 291/300\n",
      "55/55 [==============================] - 0s 135us/step - loss: 7.7517e-04 - val_loss: 4.9648e-04\n",
      "Epoch 292/300\n",
      "55/55 [==============================] - 0s 134us/step - loss: 7.7472e-04 - val_loss: 5.0439e-04\n",
      "Epoch 293/300\n",
      "55/55 [==============================] - 0s 129us/step - loss: 7.7442e-04 - val_loss: 5.1586e-04\n",
      "Epoch 294/300\n",
      "55/55 [==============================] - 0s 135us/step - loss: 7.7462e-04 - val_loss: 4.9360e-04\n",
      "Epoch 295/300\n",
      "55/55 [==============================] - 0s 123us/step - loss: 7.7471e-04 - val_loss: 5.1358e-04\n",
      "Epoch 296/300\n",
      "55/55 [==============================] - 0s 130us/step - loss: 7.7438e-04 - val_loss: 5.0640e-04\n",
      "Epoch 297/300\n",
      "55/55 [==============================] - 0s 132us/step - loss: 7.7415e-04 - val_loss: 4.9773e-04\n"
     ]
    },
    {
     "name": "stdout",
     "output_type": "stream",
     "text": [
      "Epoch 298/300\n",
      "55/55 [==============================] - 0s 140us/step - loss: 7.7426e-04 - val_loss: 5.1641e-04\n",
      "Epoch 299/300\n",
      "55/55 [==============================] - 0s 121us/step - loss: 7.7431e-04 - val_loss: 4.9860e-04\n",
      "Epoch 300/300\n",
      "55/55 [==============================] - 0s 129us/step - loss: 7.7409e-04 - val_loss: 5.0618e-04\n",
      "\n",
      "\n",
      "Baseline MSE: 0.00032083273688350333\n",
      "Baseline RMSE: 0.01791180440054835\n",
      "\n",
      "\n"
     ]
    },
    {
     "data": {
      "image/png": "[encoded data removed]",
      "text/plain": [
       "<Figure size 432x288 with 1 Axes>"
      ]
     },
     "metadata": {
      "needs_background": "light"
     },
     "output_type": "display_data"
    }
   ],
   "source": [
    "appmodel = Sequential()\n",
    "appmodel.add(LSTM(50, activation='linear', input_shape=(n_steps, n_features)))\n",
    "appmodel.add(Dense(1))\n",
    "appmodel.compile(optimizer='adam', loss='mse')\n",
    "\n",
    "appmodelresult = appmodel.fit(X_train, y_train, batch_size=100, epochs=300, validation_split=(0.15))\n",
    "\n",
    "yhat5 = appmodel.predict(X_test)\n",
    "print('\\n')\n",
    "rmse = np.sqrt(mean_squared_error(y_test, yhat5))\n",
    "print('Baseline MSE:', mean_squared_error(y_test, yhat5))\n",
    "print('Baseline RMSE:', rmse)\n",
    "print('\\n')\n",
    "visualize_training_results(appmodelresult)"
   ]
  },
  {
   "cell_type": "markdown",
   "metadata": {},
   "source": [
    "Validation loss now better than training loss, although sign of overfit when the validation loss begins to worsen at around 125 epochs. Testing again."
   ]
  },
  {
   "cell_type": "code",
   "execution_count": 70,
   "metadata": {
    "ExecuteTime": {
     "end_time": "2021-01-28T16:08:40.221918Z",
     "start_time": "2021-01-28T16:08:36.701866Z"
    },
    "scrolled": false
   },
   "outputs": [
    {
     "name": "stdout",
     "output_type": "stream",
     "text": [
      "Train on 55 samples, validate on 10 samples\n",
      "Epoch 1/125\n",
      "55/55 [==============================] - 1s 20ms/step - loss: 0.0011 - val_loss: 3.8824e-04\n",
      "Epoch 2/125\n",
      "55/55 [==============================] - 0s 150us/step - loss: 9.6128e-04 - val_loss: 5.3264e-04\n",
      "Epoch 3/125\n",
      "55/55 [==============================] - 0s 154us/step - loss: 8.9291e-04 - val_loss: 7.1562e-04\n",
      "Epoch 4/125\n",
      "55/55 [==============================] - 0s 149us/step - loss: 8.9582e-04 - val_loss: 8.6795e-04\n",
      "Epoch 5/125\n",
      "55/55 [==============================] - 0s 170us/step - loss: 9.2942e-04 - val_loss: 9.3303e-04\n",
      "Epoch 6/125\n",
      "55/55 [==============================] - 0s 151us/step - loss: 9.4924e-04 - val_loss: 9.1267e-04\n",
      "Epoch 7/125\n",
      "55/55 [==============================] - 0s 394us/step - loss: 9.4265e-04 - val_loss: 8.3973e-04\n",
      "Epoch 8/125\n",
      "55/55 [==============================] - 0s 226us/step - loss: 9.2071e-04 - val_loss: 7.4352e-04\n",
      "Epoch 9/125\n",
      "55/55 [==============================] - 0s 131us/step - loss: 8.9695e-04 - val_loss: 6.4583e-04\n",
      "Epoch 10/125\n",
      "55/55 [==============================] - 0s 170us/step - loss: 8.8087e-04 - val_loss: 5.6264e-04\n",
      "Epoch 11/125\n",
      "55/55 [==============================] - 0s 160us/step - loss: 8.7618e-04 - val_loss: 4.9955e-04\n",
      "Epoch 12/125\n",
      "55/55 [==============================] - 0s 180us/step - loss: 8.8050e-04 - val_loss: 4.5777e-04\n",
      "Epoch 13/125\n",
      "55/55 [==============================] - 0s 158us/step - loss: 8.8838e-04 - val_loss: 4.3494e-04\n",
      "Epoch 14/125\n",
      "55/55 [==============================] - 0s 148us/step - loss: 8.9426e-04 - val_loss: 4.2793e-04\n",
      "Epoch 15/125\n",
      "55/55 [==============================] - 0s 172us/step - loss: 8.9491e-04 - val_loss: 4.3421e-04\n",
      "Epoch 16/125\n",
      "55/55 [==============================] - 0s 137us/step - loss: 8.9019e-04 - val_loss: 4.5200e-04\n",
      "Epoch 17/125\n",
      "55/55 [==============================] - 0s 161us/step - loss: 8.8220e-04 - val_loss: 4.7963e-04\n",
      "Epoch 18/125\n",
      "55/55 [==============================] - 0s 149us/step - loss: 8.7391e-04 - val_loss: 5.1468e-04\n",
      "Epoch 19/125\n",
      "55/55 [==============================] - 0s 155us/step - loss: 8.6790e-04 - val_loss: 5.5339e-04\n",
      "Epoch 20/125\n",
      "55/55 [==============================] - 0s 176us/step - loss: 8.6547e-04 - val_loss: 5.9065e-04\n",
      "Epoch 21/125\n",
      "55/55 [==============================] - 0s 143us/step - loss: 8.6630e-04 - val_loss: 6.2077e-04\n",
      "Epoch 22/125\n",
      "55/55 [==============================] - 0s 182us/step - loss: 8.6879e-04 - val_loss: 6.3893e-04\n",
      "Epoch 23/125\n",
      "55/55 [==============================] - 0s 152us/step - loss: 8.7088e-04 - val_loss: 6.4250e-04\n",
      "Epoch 24/125\n",
      "55/55 [==============================] - 0s 172us/step - loss: 8.7107e-04 - val_loss: 6.3161e-04\n",
      "Epoch 25/125\n",
      "55/55 [==============================] - 0s 152us/step - loss: 8.6897e-04 - val_loss: 6.0934e-04\n",
      "Epoch 26/125\n",
      "55/55 [==============================] - 0s 169us/step - loss: 8.6539e-04 - val_loss: 5.7957e-04\n",
      "Epoch 27/125\n",
      "55/55 [==============================] - 0s 156us/step - loss: 8.6161e-04 - val_loss: 5.4776e-04\n",
      "Epoch 28/125\n",
      "55/55 [==============================] - 0s 164us/step - loss: 8.5892e-04 - val_loss: 5.1774e-04\n",
      "Epoch 29/125\n",
      "55/55 [==============================] - 0s 166us/step - loss: 8.5781e-04 - val_loss: 4.9227e-04\n",
      "Epoch 30/125\n",
      "55/55 [==============================] - 0s 154us/step - loss: 8.5808e-04 - val_loss: 4.7383e-04\n",
      "Epoch 31/125\n",
      "55/55 [==============================] - 0s 171us/step - loss: 8.5892e-04 - val_loss: 4.6286e-04\n",
      "Epoch 32/125\n",
      "55/55 [==============================] - 0s 155us/step - loss: 8.5944e-04 - val_loss: 4.5936e-04\n",
      "Epoch 33/125\n",
      "55/55 [==============================] - 0s 160us/step - loss: 8.5905e-04 - val_loss: 4.6275e-04\n",
      "Epoch 34/125\n",
      "55/55 [==============================] - 0s 143us/step - loss: 8.5772e-04 - val_loss: 4.7210e-04\n",
      "Epoch 35/125\n",
      "55/55 [==============================] - 0s 154us/step - loss: 8.5586e-04 - val_loss: 4.8583e-04\n",
      "Epoch 36/125\n",
      "55/55 [==============================] - 0s 166us/step - loss: 8.5412e-04 - val_loss: 5.0167e-04\n",
      "Epoch 37/125\n",
      "55/55 [==============================] - 0s 146us/step - loss: 8.5304e-04 - val_loss: 5.1727e-04\n",
      "Epoch 38/125\n",
      "55/55 [==============================] - 0s 164us/step - loss: 8.5272e-04 - val_loss: 5.3006e-04\n",
      "Epoch 39/125\n",
      "55/55 [==============================] - 0s 195us/step - loss: 8.5290e-04 - val_loss: 5.3781e-04\n",
      "Epoch 40/125\n",
      "55/55 [==============================] - 0s 151us/step - loss: 8.5312e-04 - val_loss: 5.3926e-04\n",
      "Epoch 41/125\n",
      "55/55 [==============================] - 0s 134us/step - loss: 8.5297e-04 - val_loss: 5.3425e-04\n",
      "Epoch 42/125\n",
      "55/55 [==============================] - 0s 136us/step - loss: 8.5233e-04 - val_loss: 5.2390e-04\n",
      "Epoch 43/125\n",
      "55/55 [==============================] - 0s 130us/step - loss: 8.5136e-04 - val_loss: 5.1020e-04\n",
      "Epoch 44/125\n",
      "55/55 [==============================] - 0s 158us/step - loss: 8.5041e-04 - val_loss: 4.9563e-04\n",
      "Epoch 45/125\n",
      "55/55 [==============================] - 0s 129us/step - loss: 8.4978e-04 - val_loss: 4.8217e-04\n",
      "Epoch 46/125\n",
      "55/55 [==============================] - 0s 161us/step - loss: 8.4954e-04 - val_loss: 4.7149e-04\n",
      "Epoch 47/125\n",
      "55/55 [==============================] - 0s 149us/step - loss: 8.4954e-04 - val_loss: 4.6463e-04\n",
      "Epoch 48/125\n",
      "55/55 [==============================] - 0s 142us/step - loss: 8.4954e-04 - val_loss: 4.6196e-04\n",
      "Epoch 49/125\n",
      "55/55 [==============================] - 0s 126us/step - loss: 8.4935e-04 - val_loss: 4.6335e-04\n",
      "Epoch 50/125\n",
      "55/55 [==============================] - 0s 136us/step - loss: 8.4891e-04 - val_loss: 4.6807e-04\n",
      "Epoch 51/125\n",
      "55/55 [==============================] - 0s 120us/step - loss: 8.4835e-04 - val_loss: 4.7503e-04\n",
      "Epoch 52/125\n",
      "55/55 [==============================] - 0s 139us/step - loss: 8.4784e-04 - val_loss: 4.8277e-04\n",
      "Epoch 53/125\n",
      "55/55 [==============================] - 0s 131us/step - loss: 8.4752e-04 - val_loss: 4.8978e-04\n",
      "Epoch 54/125\n",
      "55/55 [==============================] - 0s 123us/step - loss: 8.4738e-04 - val_loss: 4.9465e-04\n",
      "Epoch 55/125\n",
      "55/55 [==============================] - 0s 118us/step - loss: 8.4731e-04 - val_loss: 4.9647e-04\n",
      "Epoch 56/125\n",
      "55/55 [==============================] - 0s 110us/step - loss: 8.4720e-04 - val_loss: 4.9497e-04\n",
      "Epoch 57/125\n",
      "55/55 [==============================] - 0s 184us/step - loss: 8.4695e-04 - val_loss: 4.9055e-04\n",
      "Epoch 58/125\n",
      "55/55 [==============================] - 0s 178us/step - loss: 8.4661e-04 - val_loss: 4.8417e-04\n",
      "Epoch 59/125\n",
      "55/55 [==============================] - 0s 118us/step - loss: 8.4626e-04 - val_loss: 4.7708e-04\n",
      "Epoch 60/125\n",
      "55/55 [==============================] - 0s 124us/step - loss: 8.4599e-04 - val_loss: 4.7051e-04\n",
      "Epoch 61/125\n",
      "55/55 [==============================] - 0s 116us/step - loss: 8.4581e-04 - val_loss: 4.6545e-04\n",
      "Epoch 62/125\n",
      "55/55 [==============================] - 0s 125us/step - loss: 8.4570e-04 - val_loss: 4.6255e-04\n",
      "Epoch 63/125\n",
      "55/55 [==============================] - 0s 113us/step - loss: 8.4557e-04 - val_loss: 4.6200e-04\n",
      "Epoch 64/125\n",
      "55/55 [==============================] - 0s 184us/step - loss: 8.4538e-04 - val_loss: 4.6359e-04\n",
      "Epoch 65/125\n",
      "55/55 [==============================] - 0s 134us/step - loss: 8.4514e-04 - val_loss: 4.6678e-04\n",
      "Epoch 66/125\n",
      "55/55 [==============================] - 0s 167us/step - loss: 8.4488e-04 - val_loss: 4.7076e-04\n",
      "Epoch 67/125\n",
      "55/55 [==============================] - 0s 132us/step - loss: 8.4466e-04 - val_loss: 4.7463e-04\n",
      "Epoch 68/125\n",
      "55/55 [==============================] - 0s 131us/step - loss: 8.4449e-04 - val_loss: 4.7757e-04\n",
      "Epoch 69/125\n",
      "55/55 [==============================] - 0s 125us/step - loss: 8.4435e-04 - val_loss: 4.7899e-04\n",
      "Epoch 70/125\n",
      "55/55 [==============================] - 0s 216us/step - loss: 8.4421e-04 - val_loss: 4.7865e-04\n",
      "Epoch 71/125\n",
      "55/55 [==============================] - 0s 139us/step - loss: 8.4403e-04 - val_loss: 4.7674e-04\n",
      "Epoch 72/125\n",
      "55/55 [==============================] - 0s 140us/step - loss: 8.4383e-04 - val_loss: 4.7372e-04\n",
      "Epoch 73/125\n",
      "55/55 [==============================] - 0s 226us/step - loss: 8.4362e-04 - val_loss: 4.7028e-04\n",
      "Epoch 74/125\n",
      "55/55 [==============================] - 0s 176us/step - loss: 8.4343e-04 - val_loss: 4.6710e-04\n",
      "Epoch 75/125\n",
      "55/55 [==============================] - 0s 181us/step - loss: 8.4327e-04 - val_loss: 4.6475e-04\n"
     ]
    },
    {
     "name": "stdout",
     "output_type": "stream",
     "text": [
      "Epoch 76/125\n",
      "55/55 [==============================] - 0s 139us/step - loss: 8.4312e-04 - val_loss: 4.6359e-04\n",
      "Epoch 77/125\n",
      "55/55 [==============================] - 0s 149us/step - loss: 8.4297e-04 - val_loss: 4.6370e-04\n",
      "Epoch 78/125\n",
      "55/55 [==============================] - 0s 174us/step - loss: 8.4280e-04 - val_loss: 4.6491e-04\n",
      "Epoch 79/125\n",
      "55/55 [==============================] - 0s 173us/step - loss: 8.4262e-04 - val_loss: 4.6686e-04\n",
      "Epoch 80/125\n",
      "55/55 [==============================] - 0s 139us/step - loss: 8.4244e-04 - val_loss: 4.6906e-04\n",
      "Epoch 81/125\n",
      "55/55 [==============================] - 0s 149us/step - loss: 8.4227e-04 - val_loss: 4.7099e-04\n",
      "Epoch 82/125\n",
      "55/55 [==============================] - 0s 160us/step - loss: 8.4212e-04 - val_loss: 4.7224e-04\n",
      "Epoch 83/125\n",
      "55/55 [==============================] - 0s 131us/step - loss: 8.4197e-04 - val_loss: 4.7259e-04\n",
      "Epoch 84/125\n",
      "55/55 [==============================] - 0s 118us/step - loss: 8.4182e-04 - val_loss: 4.7202e-04\n",
      "Epoch 85/125\n",
      "55/55 [==============================] - 0s 138us/step - loss: 8.4165e-04 - val_loss: 4.7073e-04\n",
      "Epoch 86/125\n",
      "55/55 [==============================] - 0s 132us/step - loss: 8.4149e-04 - val_loss: 4.6905e-04\n",
      "Epoch 87/125\n",
      "55/55 [==============================] - 0s 134us/step - loss: 8.4133e-04 - val_loss: 4.6739e-04\n",
      "Epoch 88/125\n",
      "55/55 [==============================] - 0s 113us/step - loss: 8.4117e-04 - val_loss: 4.6608e-04\n",
      "Epoch 89/125\n",
      "55/55 [==============================] - 0s 120us/step - loss: 8.4102e-04 - val_loss: 4.6538e-04\n",
      "Epoch 90/125\n",
      "55/55 [==============================] - 0s 122us/step - loss: 8.4088e-04 - val_loss: 4.6538e-04\n",
      "Epoch 91/125\n",
      "55/55 [==============================] - 0s 152us/step - loss: 8.4072e-04 - val_loss: 4.6600e-04\n",
      "Epoch 92/125\n",
      "55/55 [==============================] - 0s 126us/step - loss: 8.4057e-04 - val_loss: 4.6704e-04\n",
      "Epoch 93/125\n",
      "55/55 [==============================] - 0s 130us/step - loss: 8.4041e-04 - val_loss: 4.6823e-04\n",
      "Epoch 94/125\n",
      "55/55 [==============================] - 0s 144us/step - loss: 8.4026e-04 - val_loss: 4.6928e-04\n",
      "Epoch 95/125\n",
      "55/55 [==============================] - 0s 148us/step - loss: 8.4011e-04 - val_loss: 4.6994e-04\n",
      "Epoch 96/125\n",
      "55/55 [==============================] - 0s 137us/step - loss: 8.3996e-04 - val_loss: 4.7010e-04\n",
      "Epoch 97/125\n",
      "55/55 [==============================] - 0s 129us/step - loss: 8.3982e-04 - val_loss: 4.6974e-04\n",
      "Epoch 98/125\n",
      "55/55 [==============================] - 0s 134us/step - loss: 8.3967e-04 - val_loss: 4.6901e-04\n",
      "Epoch 99/125\n",
      "55/55 [==============================] - 0s 130us/step - loss: 8.3951e-04 - val_loss: 4.6809e-04\n",
      "Epoch 100/125\n",
      "55/55 [==============================] - 0s 131us/step - loss: 8.3936e-04 - val_loss: 4.6722e-04\n",
      "Epoch 101/125\n",
      "55/55 [==============================] - 0s 130us/step - loss: 8.3922e-04 - val_loss: 4.6661e-04\n",
      "Epoch 102/125\n",
      "55/55 [==============================] - 0s 115us/step - loss: 8.3907e-04 - val_loss: 4.6636e-04\n",
      "Epoch 103/125\n",
      "55/55 [==============================] - 0s 128us/step - loss: 8.3892e-04 - val_loss: 4.6651e-04\n",
      "Epoch 104/125\n",
      "55/55 [==============================] - 0s 131us/step - loss: 8.3877e-04 - val_loss: 4.6696e-04\n",
      "Epoch 105/125\n",
      "55/55 [==============================] - 0s 141us/step - loss: 8.3862e-04 - val_loss: 4.6759e-04\n",
      "Epoch 106/125\n",
      "55/55 [==============================] - 0s 116us/step - loss: 8.3847e-04 - val_loss: 4.6821e-04\n",
      "Epoch 107/125\n",
      "55/55 [==============================] - 0s 139us/step - loss: 8.3832e-04 - val_loss: 4.6866e-04\n",
      "Epoch 108/125\n",
      "55/55 [==============================] - 0s 144us/step - loss: 8.3817e-04 - val_loss: 4.6882e-04\n",
      "Epoch 109/125\n",
      "55/55 [==============================] - 0s 147us/step - loss: 8.3802e-04 - val_loss: 4.6869e-04\n",
      "Epoch 110/125\n",
      "55/55 [==============================] - 0s 144us/step - loss: 8.3787e-04 - val_loss: 4.6830e-04\n",
      "Epoch 111/125\n",
      "55/55 [==============================] - 0s 115us/step - loss: 8.3771e-04 - val_loss: 4.6778e-04\n",
      "Epoch 112/125\n",
      "55/55 [==============================] - 0s 129us/step - loss: 8.3756e-04 - val_loss: 4.6726e-04\n",
      "Epoch 113/125\n",
      "55/55 [==============================] - 0s 136us/step - loss: 8.3741e-04 - val_loss: 4.6688e-04\n",
      "Epoch 114/125\n",
      "55/55 [==============================] - 0s 130us/step - loss: 8.3725e-04 - val_loss: 4.6673e-04\n",
      "Epoch 115/125\n",
      "55/55 [==============================] - 0s 143us/step - loss: 8.3710e-04 - val_loss: 4.6680e-04\n",
      "Epoch 116/125\n",
      "55/55 [==============================] - 0s 121us/step - loss: 8.3694e-04 - val_loss: 4.6707e-04\n",
      "Epoch 117/125\n",
      "55/55 [==============================] - 0s 149us/step - loss: 8.3678e-04 - val_loss: 4.6742e-04\n",
      "Epoch 118/125\n",
      "55/55 [==============================] - 0s 133us/step - loss: 8.3662e-04 - val_loss: 4.6775e-04\n",
      "Epoch 119/125\n",
      "55/55 [==============================] - 0s 161us/step - loss: 8.3646e-04 - val_loss: 4.6796e-04\n",
      "Epoch 120/125\n",
      "55/55 [==============================] - 0s 129us/step - loss: 8.3629e-04 - val_loss: 4.6799e-04\n",
      "Epoch 121/125\n",
      "55/55 [==============================] - 0s 147us/step - loss: 8.3613e-04 - val_loss: 4.6783e-04\n",
      "Epoch 122/125\n",
      "55/55 [==============================] - 0s 138us/step - loss: 8.3596e-04 - val_loss: 4.6755e-04\n",
      "Epoch 123/125\n",
      "55/55 [==============================] - 0s 143us/step - loss: 8.3579e-04 - val_loss: 4.6723e-04\n",
      "Epoch 124/125\n",
      "55/55 [==============================] - 0s 155us/step - loss: 8.3562e-04 - val_loss: 4.6696e-04\n",
      "Epoch 125/125\n",
      "55/55 [==============================] - 0s 134us/step - loss: 8.3545e-04 - val_loss: 4.6682e-04\n",
      "\n",
      "\n",
      "Baseline MSE: 0.00034579529657941427\n",
      "Baseline RMSE: 0.018595571961609953\n",
      "\n",
      "\n"
     ]
    },
    {
     "data": {
      "image/png": "[encoded data removed]",
      "text/plain": [
       "<Figure size 432x288 with 1 Axes>"
      ]
     },
     "metadata": {
      "needs_background": "light"
     },
     "output_type": "display_data"
    }
   ],
   "source": [
    "appmodel = Sequential()\n",
    "appmodel.add(LSTM(50, activation='linear', input_shape=(n_steps, n_features)))\n",
    "appmodel.add(Dense(1))\n",
    "appmodel.compile(optimizer='adam', loss='mse')\n",
    "\n",
    "appmodelresult = appmodel.fit(X_train, y_train, batch_size=100, epochs=125, validation_split=(0.15))\n",
    "\n",
    "yhat5 = appmodel.predict(X_test)\n",
    "print('\\n')\n",
    "rmse = np.sqrt(mean_squared_error(y_test, yhat5))\n",
    "print('Baseline MSE:', mean_squared_error(y_test, yhat5))\n",
    "print('Baseline RMSE:', rmse)\n",
    "print('\\n')\n",
    "visualize_training_results(appmodelresult)"
   ]
  },
  {
   "cell_type": "markdown",
   "metadata": {
    "ExecuteTime": {
     "end_time": "2021-01-27T22:45:58.831915Z",
     "start_time": "2021-01-27T22:45:58.828100Z"
    }
   },
   "source": [
    "We now have decent convergence from both validation and training sets. We should still note that our testing set is possibly doing better because the testing set sequence is more simple than the training set, even with a wide range of values in comparison to the testing set (~30%). "
   ]
  }
 ],
 "metadata": {
  "kernelspec": {
   "display_name": "Python [conda env:learn-env] *",
   "language": "python",
   "name": "conda-env-learn-env-py"
  },
  "language_info": {
   "codemirror_mode": {
    "name": "ipython",
    "version": 3
   },
   "file_extension": ".py",
   "mimetype": "text/x-python",
   "name": "python",
   "nbconvert_exporter": "python",
   "pygments_lexer": "ipython3",
   "version": "3.6.9"
  },
  "toc": {
   "base_numbering": 1,
   "nav_menu": {},
   "number_sections": true,
   "sideBar": true,
   "skip_h1_title": false,
   "title_cell": "Table of Contents",
   "title_sidebar": "Contents",
   "toc_cell": false,
   "toc_position": {
    "height": "calc(100% - 180px)",
    "left": "10px",
    "top": "150px",
    "width": "279.797px"
   },
   "toc_section_display": true,
   "toc_window_display": true
  },
  "varInspector": {
   "cols": {
    "lenName": 16,
    "lenType": 16,
    "lenVar": 40
   },
   "kernels_config": {
    "python": {
     "delete_cmd_postfix": "",
     "delete_cmd_prefix": "del ",
     "library": "var_list.py",
     "varRefreshCmd": "print(var_dic_list())"
    },
    "r": {
     "delete_cmd_postfix": ") ",
     "delete_cmd_prefix": "rm(",
     "library": "var_list.r",
     "varRefreshCmd": "cat(var_dic_list()) "
    }
   },
   "types_to_exclude": [
    "module",
    "function",
    "builtin_function_or_method",
    "instance",
    "_Feature"
   ],
   "window_display": false
  }
 },
 "nbformat": 4,
 "nbformat_minor": 2
}
